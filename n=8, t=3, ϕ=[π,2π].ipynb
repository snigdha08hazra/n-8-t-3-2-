{
 "cells": [
  {
   "cell_type": "code",
   "execution_count": 22,
   "id": "4ca46443",
   "metadata": {},
   "outputs": [],
   "source": [
    "from qiskit.quantum_info import Statevector, Operator\n",
    "from qiskit import QuantumCircuit, Aer, execute\n",
    "import numpy as np\n",
    "import math\n",
    "import matplotlib.pyplot as pl\n",
    "import random"
   ]
  },
  {
   "cell_type": "code",
   "execution_count": 29,
   "id": "d60de374",
   "metadata": {},
   "outputs": [
    {
     "name": "stdout",
     "output_type": "stream",
     "text": [
      "noi =  7\n",
      "target =  [ 55. 252. 146.]\n",
      "phi =  [3.159045946109736, 3.420845333908886, 3.6826447217080354, 3.9444441095071845, 4.2062434973063345, 4.468042885105484, 4.729842272904633, 4.991641660703783, 5.253441048502932, 5.515240436302081, 5.777039824101231, 6.03883921190038]\n",
      "phi_m =  [181.0, 196.0, 211.0, 226.0, 241.00000000000003, 256.0, 271.0, 286.0, 301.0, 316.0, 331.0, 346.0]\n",
      "len(phi) =  12\n",
      "x =  [(-0.9998476951563913-0.017452406437283192j), (-0.9612616959383189-0.275637355816999j), (-0.8571673007021123-0.5150380749100542j), (-0.6946583704589975-0.7193398003386509j), (-0.48480962024633684-0.8746197071393959j), (-0.24192189559966779-0.9702957262759965j), (0.01745240643728313-0.9998476951563913j), (0.2756373558169994-0.9612616959383188j), (0.5150380749100542-0.8571673007021123j), (0.7193398003386509-0.6946583704589976j), (0.8746197071393959-0.4848096202463369j), (0.9702957262759965-0.24192189559966787j)]\n"
     ]
    }
   ],
   "source": [
    "n = 8      #no. of qubits\n",
    "N = 2**n   #dimension of matrix\n",
    "t = 3      #no. of target states\n",
    "length = list(range(n))\n",
    "noi = math.floor(math.sqrt(N/t) * np.pi / 4)   #No of iterations\n",
    "print(\"noi = \", noi)\n",
    "\n",
    "#to set target states\n",
    "target = np.zeros(t)\n",
    "count = 0\n",
    "flag = 0\n",
    "i = 0\n",
    "while(True):\n",
    "    #to generate a random integer for target position\n",
    "    a = random.randint(0,N-1)\n",
    "    \n",
    "    #checking if that number has already been chosen previously as target state\n",
    "    for j in range(count):\n",
    "        if(target[j] == a):\n",
    "            flag = 1  #value is present in the target array\n",
    "            \n",
    "    #to store new value in target array\n",
    "    if(flag == 0):\n",
    "        #to store in count position of target array\n",
    "        target[count] = a\n",
    "        #updating count (position) value\n",
    "        count += 1\n",
    "        #checking for further iteration of i loop\n",
    "        if(count == t):\n",
    "            break\n",
    "print(\"target = \",target)\n",
    "\n",
    "phi = [a*np.pi/180 for a in range(181,361,15)]\n",
    "print(\"phi = \",phi)\n",
    "\n",
    "phi_m = [a*180/np.pi for a in phi]\n",
    "print(\"phi_m = \",phi_m)\n",
    "print(\"len(phi) = \",len(phi))\n",
    "\n",
    "x = [complex(np.cos(a), np.sin(a)) for a in phi]\n",
    "print(\"x = \",x)\n",
    "\n",
    "#array to store coherence values after each suboperation in every grover's iteration\n",
    "data = np.zeros((len(phi),noi * 4))   #to store coherence values\n",
    "x_axis = list(range(noi * 4))        #to store iteration number\n",
    "#print(data)"
   ]
  },
  {
   "cell_type": "code",
   "execution_count": 30,
   "id": "81a3263b",
   "metadata": {},
   "outputs": [
    {
     "name": "stdout",
     "output_type": "stream",
     "text": [
      "======================================== FOR ϕ =  181.0 ========================================\n"
     ]
    },
    {
     "data": {
      "text/plain": [
       "'initialised |ψ0⟩'"
      ]
     },
     "metadata": {},
     "output_type": "display_data"
    },
    {
     "data": {
      "text/latex": [
       "$$ |00000000\\rangle$$"
      ],
      "text/plain": [
       "<IPython.core.display.Latex object>"
      ]
     },
     "metadata": {},
     "output_type": "display_data"
    },
    {
     "name": "stdout",
     "output_type": "stream",
     "text": [
      "coherence of |ψ0⟩ =  0.0\n"
     ]
    },
    {
     "data": {
      "text/plain": [
       "'applied Hadamard to all |ψ1⟩'"
      ]
     },
     "metadata": {},
     "output_type": "display_data"
    },
    {
     "data": {
      "text/latex": [
       "$$\\frac{1}{16} |00000000\\rangle+\\frac{1}{16} |00000001\\rangle+\\frac{1}{16} |00000010\\rangle+\\frac{1}{16} |00000011\\rangle+\\frac{1}{16} |00000100\\rangle+\\frac{1}{16} |00000101\\rangle + \\ldots +\\frac{1}{16} |11111011\\rangle+\\frac{1}{16} |11111100\\rangle+\\frac{1}{16} |11111101\\rangle+\\frac{1}{16} |11111110\\rangle+\\frac{1}{16} |11111111\\rangle$$"
      ],
      "text/plain": [
       "<IPython.core.display.Latex object>"
      ]
     },
     "metadata": {},
     "output_type": "display_data"
    },
    {
     "name": "stdout",
     "output_type": "stream",
     "text": [
      "coherence of |ψ1⟩ =  255.00000000000003\n",
      "-------- 1  ITERATION--------\n"
     ]
    },
    {
     "data": {
      "text/plain": [
       "'applied O operator to |ψ2⟩'"
      ]
     },
     "metadata": {},
     "output_type": "display_data"
    },
    {
     "data": {
      "text/latex": [
       "$$\\frac{1}{16} |00000000\\rangle+\\frac{1}{16} |00000001\\rangle+\\frac{1}{16} |00000010\\rangle+\\frac{1}{16} |00000011\\rangle+\\frac{1}{16} |00000100\\rangle+\\frac{1}{16} |00000101\\rangle + \\ldots +\\frac{1}{16} |11111011\\rangle+ (-0.062490480947 - 0.001090775402 i) |11111100\\rangle+\\frac{1}{16} |11111101\\rangle+\\frac{1}{16} |11111110\\rangle+\\frac{1}{16} |11111111\\rangle$$"
      ],
      "text/plain": [
       "<IPython.core.display.Latex object>"
      ]
     },
     "metadata": {},
     "output_type": "display_data"
    },
    {
     "name": "stdout",
     "output_type": "stream",
     "text": [
      "coherence of |ψ2⟩ =  255.00000000000003\n"
     ]
    },
    {
     "data": {
      "text/plain": [
       "'applied Hadamard to all |ψ1⟩'"
      ]
     },
     "metadata": {},
     "output_type": "display_data"
    },
    {
     "data": {
      "text/latex": [
       "$$(0.976564284822 - 0.000204520388 i) |00000000\\rangle+ (-0.007811905059 - 6.8173463 \\cdot 10^{-5} i) |00000001\\rangle+ (0.007811905059 + 6.8173463 \\cdot 10^{-5} i) |00000010\\rangle+ (-0.007811905059 - 6.8173463 \\cdot 10^{-5} i) |00000011\\rangle+ (0.007811905059 + 6.8173463 \\cdot 10^{-5} i) |00000100\\rangle+ (-0.007811905059 - 6.8173463 \\cdot 10^{-5} i) |00000101\\rangle + \\ldots + (0.007811905059 + 6.8173463 \\cdot 10^{-5} i) |11111011\\rangle+ (-0.007811905059 - 6.8173463 \\cdot 10^{-5} i) |11111100\\rangle+ (-0.023435715178 - 0.000204520388 i) |11111101\\rangle+ (-0.007811905059 - 6.8173463 \\cdot 10^{-5} i) |11111110\\rangle+ (0.007811905059 + 6.8173463 \\cdot 10^{-5} i) |11111111\\rangle$$"
      ],
      "text/plain": [
       "<IPython.core.display.Latex object>"
      ]
     },
     "metadata": {},
     "output_type": "display_data"
    },
    {
     "name": "stdout",
     "output_type": "stream",
     "text": [
      "coherence of |ψ1⟩ =  14.62631547707716\n"
     ]
    },
    {
     "data": {
      "text/plain": [
       "'applied P operator to |ψ4⟩'"
      ]
     },
     "metadata": {},
     "output_type": "display_data"
    },
    {
     "data": {
      "text/latex": [
       "$$(0.976564284822 - 0.000204520388 i) |00000000\\rangle+ (0.007811905059 + 6.8173463 \\cdot 10^{-5} i) |00000001\\rangle+ (-0.007811905059 - 6.8173463 \\cdot 10^{-5} i) |00000010\\rangle+ (0.007811905059 + 6.8173463 \\cdot 10^{-5} i) |00000011\\rangle+ (-0.007811905059 - 6.8173463 \\cdot 10^{-5} i) |00000100\\rangle+ (0.007811905059 + 6.8173463 \\cdot 10^{-5} i) |00000101\\rangle + \\ldots + (-0.007811905059 - 6.8173463 \\cdot 10^{-5} i) |11111011\\rangle+ (0.007811905059 + 6.8173463 \\cdot 10^{-5} i) |11111100\\rangle+ (0.023435715178 + 0.000204520388 i) |11111101\\rangle+ (0.007811905059 + 6.8173463 \\cdot 10^{-5} i) |11111110\\rangle+ (-0.007811905059 - 6.8173463 \\cdot 10^{-5} i) |11111111\\rangle$$"
      ],
      "text/plain": [
       "<IPython.core.display.Latex object>"
      ]
     },
     "metadata": {},
     "output_type": "display_data"
    },
    {
     "name": "stdout",
     "output_type": "stream",
     "text": [
      "coherence of |ψ4⟩ =  14.62631547707716\n"
     ]
    },
    {
     "data": {
      "text/plain": [
       "'applied Hadamard to all |ψ5⟩'"
      ]
     },
     "metadata": {},
     "output_type": "display_data"
    },
    {
     "data": {
      "text/latex": [
       "$$(0.059570535603 - 2.5565048 \\cdot 10^{-5} i) |00000000\\rangle+ (0.059570535603 - 2.5565048 \\cdot 10^{-5} i) |00000001\\rangle+ (0.059570535603 - 2.5565048 \\cdot 10^{-5} i) |00000010\\rangle+ (0.059570535603 - 2.5565048 \\cdot 10^{-5} i) |00000011\\rangle+ (0.059570535603 - 2.5565048 \\cdot 10^{-5} i) |00000100\\rangle+ (0.059570535603 - 2.5565048 \\cdot 10^{-5} i) |00000101\\rangle + \\ldots + (0.059570535603 - 2.5565048 \\cdot 10^{-5} i) |11111011\\rangle+ (0.18456101655 + 0.001065210354 i) |11111100\\rangle+ (0.059570535603 - 2.5565048 \\cdot 10^{-5} i) |11111101\\rangle+ (0.059570535603 - 2.5565048 \\cdot 10^{-5} i) |11111110\\rangle+ (0.059570535603 - 2.5565048 \\cdot 10^{-5} i) |11111111\\rangle$$"
      ],
      "text/plain": [
       "<IPython.core.display.Latex object>"
      ]
     },
     "metadata": {},
     "output_type": "display_data"
    },
    {
     "name": "stdout",
     "output_type": "stream",
     "text": [
      "coherence of |ψ5⟩ =  243.1418489667748\n",
      "-------- 2  ITERATION--------\n"
     ]
    },
    {
     "data": {
      "text/plain": [
       "'applied O operator to |ψ2⟩'"
      ]
     },
     "metadata": {},
     "output_type": "display_data"
    },
    {
     "data": {
      "text/latex": [
       "$$(0.059570535603 - 2.5565048 \\cdot 10^{-5} i) |00000000\\rangle+ (0.059570535603 - 2.5565048 \\cdot 10^{-5} i) |00000001\\rangle+ (0.059570535603 - 2.5565048 \\cdot 10^{-5} i) |00000010\\rangle+ (0.059570535603 - 2.5565048 \\cdot 10^{-5} i) |00000011\\rangle+ (0.059570535603 - 2.5565048 \\cdot 10^{-5} i) |00000100\\rangle+ (0.059570535603 - 2.5565048 \\cdot 10^{-5} i) |00000101\\rangle + \\ldots + (0.059570535603 - 2.5565048 \\cdot 10^{-5} i) |11111011\\rangle+ (-0.184514316529 - 0.00428608199 i) |11111100\\rangle+ (0.059570535603 - 2.5565048 \\cdot 10^{-5} i) |11111101\\rangle+ (0.059570535603 - 2.5565048 \\cdot 10^{-5} i) |11111110\\rangle+ (0.059570535603 - 2.5565048 \\cdot 10^{-5} i) |11111111\\rangle$$"
      ],
      "text/plain": [
       "<IPython.core.display.Latex object>"
      ]
     },
     "metadata": {},
     "output_type": "display_data"
    },
    {
     "name": "stdout",
     "output_type": "stream",
     "text": [
      "coherence of |ψ2⟩ =  243.1418489667748\n"
     ]
    },
    {
     "data": {
      "text/plain": [
       "'applied Hadamard to all |ψ1⟩'"
      ]
     },
     "metadata": {},
     "output_type": "display_data"
    },
    {
     "data": {
      "text/latex": [
       "$$(0.90736265987 - 0.001207887702 i) |00000000\\rangle+ (-0.015255303258 - 0.000266282309 i) |00000001\\rangle+ (0.015255303258 + 0.000266282309 i) |00000010\\rangle+ (-0.015255303258 - 0.000266282309 i) |00000011\\rangle+ (0.015255303258 + 0.000266282309 i) |00000100\\rangle+ (-0.015255303258 - 0.000266282309 i) |00000101\\rangle + \\ldots + (0.015255303258 + 0.000266282309 i) |11111011\\rangle+ (-0.015255303258 - 0.000266282309 i) |11111100\\rangle+ (-0.045765909775 - 0.000798846927 i) |11111101\\rangle+ (-0.015255303258 - 0.000266282309 i) |11111110\\rangle+ (0.015255303258 + 0.000266282309 i) |11111111\\rangle$$"
      ],
      "text/plain": [
       "<IPython.core.display.Latex object>"
      ]
     },
     "metadata": {},
     "output_type": "display_data"
    },
    {
     "name": "stdout",
     "output_type": "stream",
     "text": [
      "coherence of |ψ1⟩ =  44.16538069720118\n"
     ]
    },
    {
     "data": {
      "text/plain": [
       "'applied P operator to |ψ4⟩'"
      ]
     },
     "metadata": {},
     "output_type": "display_data"
    },
    {
     "data": {
      "text/latex": [
       "$$(0.90736265987 - 0.001207887702 i) |00000000\\rangle+ (0.015255303258 + 0.000266282309 i) |00000001\\rangle+ (-0.015255303258 - 0.000266282309 i) |00000010\\rangle+ (0.015255303258 + 0.000266282309 i) |00000011\\rangle+ (-0.015255303258 - 0.000266282309 i) |00000100\\rangle+ (0.015255303258 + 0.000266282309 i) |00000101\\rangle + \\ldots + (-0.015255303258 - 0.000266282309 i) |11111011\\rangle+ (0.015255303258 + 0.000266282309 i) |11111100\\rangle+ (0.045765909775 + 0.000798846927 i) |11111101\\rangle+ (0.015255303258 + 0.000266282309 i) |11111110\\rangle+ (-0.015255303258 - 0.000266282309 i) |11111111\\rangle$$"
      ],
      "text/plain": [
       "<IPython.core.display.Latex object>"
      ]
     },
     "metadata": {},
     "output_type": "display_data"
    },
    {
     "name": "stdout",
     "output_type": "stream",
     "text": [
      "coherence of |ψ4⟩ =  44.16538069720118\n"
     ]
    },
    {
     "data": {
      "text/plain": [
       "'applied Hadamard to all |ψ5⟩'"
      ]
     },
     "metadata": {},
     "output_type": "display_data"
    },
    {
     "data": {
      "text/latex": [
       "$$(0.053849796881 - 0.000125420914 i) |00000000\\rangle+ (0.053849796881 - 0.000125420914 i) |00000001\\rangle+ (0.053849796881 - 0.000125420914 i) |00000010\\rangle+ (0.053849796881 - 0.000125420914 i) |00000011\\rangle+ (0.053849796881 - 0.000125420914 i) |00000100\\rangle+ (0.053849796881 - 0.000125420914 i) |00000101\\rangle + \\ldots + (0.053849796881 - 0.000125420914 i) |11111011\\rangle+ (0.297934649013 + 0.004135096028 i) |11111100\\rangle+ (0.053849796881 - 0.000125420914 i) |11111101\\rangle+ (0.053849796881 - 0.000125420914 i) |11111110\\rangle+ (0.053849796881 - 0.000125420914 i) |11111111\\rangle$$"
      ],
      "text/plain": [
       "<IPython.core.display.Latex object>"
      ]
     },
     "metadata": {},
     "output_type": "display_data"
    },
    {
     "name": "stdout",
     "output_type": "stream",
     "text": [
      "coherence of |ψ5⟩ =  209.77016355912866\n",
      "-------- 3  ITERATION--------\n"
     ]
    },
    {
     "data": {
      "text/plain": [
       "'applied O operator to |ψ2⟩'"
      ]
     },
     "metadata": {},
     "output_type": "display_data"
    },
    {
     "data": {
      "text/latex": [
       "$$(0.053849796881 - 0.000125420914 i) |00000000\\rangle+ (0.053849796881 - 0.000125420914 i) |00000001\\rangle+ (0.053849796881 - 0.000125420914 i) |00000010\\rangle+ (0.053849796881 - 0.000125420914 i) |00000011\\rangle+ (0.053849796881 - 0.000125420914 i) |00000100\\rangle+ (0.053849796881 - 0.000125420914 i) |00000101\\rangle + \\ldots + (0.053849796881 - 0.000125420914 i) |11111011\\rangle+ (-0.297817104746 - 0.009334142819 i) |11111100\\rangle+ (0.053849796881 - 0.000125420914 i) |11111101\\rangle+ (0.053849796881 - 0.000125420914 i) |11111110\\rangle+ (0.053849796881 - 0.000125420914 i) |11111111\\rangle$$"
      ],
      "text/plain": [
       "<IPython.core.display.Latex object>"
      ]
     },
     "metadata": {},
     "output_type": "display_data"
    },
    {
     "name": "stdout",
     "output_type": "stream",
     "text": [
      "coherence of |ψ2⟩ =  209.77016355912866\n"
     ]
    },
    {
     "data": {
      "text/plain": [
       "'applied Hadamard to all |ψ1⟩'"
      ]
     },
     "metadata": {},
     "output_type": "display_data"
    },
    {
     "data": {
      "text/latex": [
       "$$(0.79565920604 - 0.003733369986 i) |00000000\\rangle+ (-0.021979181352 - 0.000575545119 i) |00000001\\rangle+ (0.021979181352 + 0.000575545119 i) |00000010\\rangle+ (-0.021979181352 - 0.000575545119 i) |00000011\\rangle+ (0.021979181352 + 0.000575545119 i) |00000100\\rangle+ (-0.021979181352 - 0.000575545119 i) |00000101\\rangle + \\ldots + (0.021979181352 + 0.000575545119 i) |11111011\\rangle+ (-0.021979181352 - 0.000575545119 i) |11111100\\rangle+ (-0.065937544055 - 0.001726635357 i) |11111101\\rangle+ (-0.021979181352 - 0.000575545119 i) |11111110\\rangle+ (0.021979181352 + 0.000575545119 i) |11111111\\rangle$$"
      ],
      "text/plain": [
       "<IPython.core.display.Latex object>"
      ]
     },
     "metadata": {},
     "output_type": "display_data"
    },
    {
     "name": "stdout",
     "output_type": "stream",
     "text": [
      "coherence of |ψ1⟩ =  83.13671234205397\n"
     ]
    },
    {
     "data": {
      "text/plain": [
       "'applied P operator to |ψ4⟩'"
      ]
     },
     "metadata": {},
     "output_type": "display_data"
    },
    {
     "data": {
      "text/latex": [
       "$$(0.79565920604 - 0.003733369986 i) |00000000\\rangle+ (0.021979181352 + 0.000575545119 i) |00000001\\rangle+ (-0.021979181352 - 0.000575545119 i) |00000010\\rangle+ (0.021979181352 + 0.000575545119 i) |00000011\\rangle+ (-0.021979181352 - 0.000575545119 i) |00000100\\rangle+ (0.021979181352 + 0.000575545119 i) |00000101\\rangle + \\ldots + (-0.021979181352 - 0.000575545119 i) |11111011\\rangle+ (0.021979181352 + 0.000575545119 i) |11111100\\rangle+ (0.065937544055 + 0.001726635357 i) |11111101\\rangle+ (0.021979181352 + 0.000575545119 i) |11111110\\rangle+ (-0.021979181352 - 0.000575545119 i) |11111111\\rangle$$"
      ],
      "text/plain": [
       "<IPython.core.display.Latex object>"
      ]
     },
     "metadata": {},
     "output_type": "display_data"
    },
    {
     "name": "stdout",
     "output_type": "stream",
     "text": [
      "coherence of |ψ4⟩ =  83.13671234205397\n"
     ]
    },
    {
     "data": {
      "text/plain": [
       "'applied Hadamard to all |ψ5⟩'"
      ]
     },
     "metadata": {},
     "output_type": "display_data"
    },
    {
     "data": {
      "text/latex": [
       "$$(0.045607603874 - 0.000341250334 i) |00000000\\rangle+ (0.045607603874 - 0.000341250334 i) |00000001\\rangle+ (0.045607603874 - 0.000341250334 i) |00000010\\rangle+ (0.045607603874 - 0.000341250334 i) |00000011\\rangle+ (0.045607603874 - 0.000341250334 i) |00000100\\rangle+ (0.045607603874 - 0.000341250334 i) |00000101\\rangle + \\ldots + (0.045607603874 - 0.000341250334 i) |11111011\\rangle+ (0.397274505501 + 0.008867471571 i) |11111100\\rangle+ (0.045607603874 - 0.000341250334 i) |11111101\\rangle+ (0.045607603874 - 0.000341250334 i) |11111110\\rangle+ (0.045607603874 - 0.000341250334 i) |11111111\\rangle$$"
      ],
      "text/plain": [
       "<IPython.core.display.Latex object>"
      ]
     },
     "metadata": {},
     "output_type": "display_data"
    },
    {
     "name": "stdout",
     "output_type": "stream",
     "text": [
      "coherence of |ψ5⟩ =  161.08261689931382\n",
      "-------- 4  ITERATION--------\n"
     ]
    },
    {
     "data": {
      "text/plain": [
       "'applied O operator to |ψ2⟩'"
      ]
     },
     "metadata": {},
     "output_type": "display_data"
    },
    {
     "data": {
      "text/latex": [
       "$$(0.045607603874 - 0.000341250334 i) |00000000\\rangle+ (0.045607603874 - 0.000341250334 i) |00000001\\rangle+ (0.045607603874 - 0.000341250334 i) |00000010\\rangle+ (0.045607603874 - 0.000341250334 i) |00000011\\rangle+ (0.045607603874 - 0.000341250334 i) |00000100\\rangle+ (0.045607603874 - 0.000341250334 i) |00000101\\rangle + \\ldots + (0.045607603874 - 0.000341250334 i) |11111011\\rangle+ (-0.397059239952 - 0.015799517149 i) |11111100\\rangle+ (0.045607603874 - 0.000341250334 i) |11111101\\rangle+ (0.045607603874 - 0.000341250334 i) |11111110\\rangle+ (0.045607603874 - 0.000341250334 i) |11111111\\rangle$$"
      ],
      "text/plain": [
       "<IPython.core.display.Latex object>"
      ]
     },
     "metadata": {},
     "output_type": "display_data"
    },
    {
     "name": "stdout",
     "output_type": "stream",
     "text": [
      "coherence of |ψ2⟩ =  161.08261689931382\n"
     ]
    },
    {
     "data": {
      "text/plain": [
       "'applied Hadamard to all |ψ1⟩'"
      ]
     },
     "metadata": {},
     "output_type": "display_data"
    },
    {
     "data": {
      "text/latex": [
       "$$(0.646721628768 - 0.008358430371 i) |00000000\\rangle+ (-0.027666677739 - 0.000966141676 i) |00000001\\rangle+ (0.027666677739 + 0.000966141676 i) |00000010\\rangle+ (-0.027666677739 - 0.000966141676 i) |00000011\\rangle+ (0.027666677739 + 0.000966141676 i) |00000100\\rangle+ (-0.027666677739 - 0.000966141676 i) |00000101\\rangle + \\ldots + (0.027666677739 + 0.000966141676 i) |11111011\\rangle+ (-0.027666677739 - 0.000966141676 i) |11111100\\rangle+ (-0.083000033217 - 0.002898425028 i) |11111101\\rangle+ (-0.027666677739 - 0.000966141676 i) |11111110\\rangle+ (0.027666677739 + 0.000966141676 i) |11111111\\rangle$$"
      ],
      "text/plain": [
       "<IPython.core.display.Latex object>"
      ]
     },
     "metadata": {},
     "output_type": "display_data"
    },
    {
     "name": "stdout",
     "output_type": "stream",
     "text": [
      "coherence of |ψ1⟩ =  124.3102270957797\n"
     ]
    },
    {
     "data": {
      "text/plain": [
       "'applied P operator to |ψ4⟩'"
      ]
     },
     "metadata": {},
     "output_type": "display_data"
    },
    {
     "data": {
      "text/latex": [
       "$$(0.646721628768 - 0.008358430371 i) |00000000\\rangle+ (0.027666677739 + 0.000966141676 i) |00000001\\rangle+ (-0.027666677739 - 0.000966141676 i) |00000010\\rangle+ (0.027666677739 + 0.000966141676 i) |00000011\\rangle+ (-0.027666677739 - 0.000966141676 i) |00000100\\rangle+ (0.027666677739 + 0.000966141676 i) |00000101\\rangle + \\ldots + (-0.027666677739 - 0.000966141676 i) |11111011\\rangle+ (0.027666677739 + 0.000966141676 i) |11111100\\rangle+ (0.083000033217 + 0.002898425028 i) |11111101\\rangle+ (0.027666677739 + 0.000966141676 i) |11111110\\rangle+ (-0.027666677739 - 0.000966141676 i) |11111111\\rangle$$"
      ],
      "text/plain": [
       "<IPython.core.display.Latex object>"
      ]
     },
     "metadata": {},
     "output_type": "display_data"
    },
    {
     "name": "stdout",
     "output_type": "stream",
     "text": [
      "coherence of |ψ4⟩ =  124.3102270957797\n"
     ]
    },
    {
     "data": {
      "text/plain": [
       "'applied Hadamard to all |ψ5⟩'"
      ]
     },
     "metadata": {},
     "output_type": "display_data"
    },
    {
     "data": {
      "text/latex": [
       "$$(0.035232599722 - 0.000703553462 i) |00000000\\rangle+ (0.035232599722 - 0.000703553462 i) |00000001\\rangle+ (0.035232599722 - 0.000703553462 i) |00000010\\rangle+ (0.035232599722 - 0.000703553462 i) |00000011\\rangle+ (0.035232599722 - 0.000703553462 i) |00000100\\rangle+ (0.035232599722 - 0.000703553462 i) |00000101\\rangle + \\ldots + (0.035232599722 - 0.000703553462 i) |11111011\\rangle+ (0.477899443548 + 0.014754713352 i) |11111100\\rangle+ (0.035232599722 - 0.000703553462 i) |11111101\\rangle+ (0.035232599722 - 0.000703553462 i) |11111110\\rangle+ (0.035232599722 - 0.000703553462 i) |11111111\\rangle$$"
      ],
      "text/plain": [
       "<IPython.core.display.Latex object>"
      ]
     },
     "metadata": {},
     "output_type": "display_data"
    },
    {
     "name": "stdout",
     "output_type": "stream",
     "text": [
      "coherence of |ψ5⟩ =  106.12262923767219\n",
      "-------- 5  ITERATION--------\n"
     ]
    },
    {
     "data": {
      "text/plain": [
       "'applied O operator to |ψ2⟩'"
      ]
     },
     "metadata": {},
     "output_type": "display_data"
    },
    {
     "data": {
      "text/latex": [
       "$$(0.035232599722 - 0.000703553462 i) |00000000\\rangle+ (0.035232599722 - 0.000703553462 i) |00000001\\rangle+ (0.035232599722 - 0.000703553462 i) |00000010\\rangle+ (0.035232599722 - 0.000703553462 i) |00000011\\rangle+ (0.035232599722 - 0.000703553462 i) |00000100\\rangle+ (0.035232599722 - 0.000703553462 i) |00000101\\rangle + \\ldots + (0.035232599722 - 0.000703553462 i) |11111011\\rangle+ (-0.477569151894 - 0.023092961463 i) |11111100\\rangle+ (0.035232599722 - 0.000703553462 i) |11111101\\rangle+ (0.035232599722 - 0.000703553462 i) |11111110\\rangle+ (0.035232599722 - 0.000703553462 i) |11111111\\rangle$$"
      ],
      "text/plain": [
       "<IPython.core.display.Latex object>"
      ]
     },
     "metadata": {},
     "output_type": "display_data"
    },
    {
     "name": "stdout",
     "output_type": "stream",
     "text": [
      "coherence of |ψ2⟩ =  106.12262923767219\n"
     ]
    },
    {
     "data": {
      "text/plain": [
       "'applied Hadamard to all |ψ1⟩'"
      ]
     },
     "metadata": {},
     "output_type": "display_data"
    },
    {
     "data": {
      "text/latex": [
       "$$(0.467571267122 - 0.015454869399 i) |00000000\\rangle+ (-0.032050109476 - 0.001399338 i) |00000001\\rangle+ (0.032050109476 + 0.001399338 i) |00000010\\rangle+ (-0.032050109476 - 0.001399338 i) |00000011\\rangle+ (0.032050109476 + 0.001399338 i) |00000100\\rangle+ (-0.032050109476 - 0.001399338 i) |00000101\\rangle + \\ldots + (0.032050109476 + 0.001399338 i) |11111011\\rangle+ (-0.032050109476 - 0.001399338 i) |11111100\\rangle+ (-0.096150328428 - 0.004198014 i) |11111101\\rangle+ (-0.032050109476 - 0.001399338 i) |11111110\\rangle+ (0.032050109476 + 0.001399338 i) |11111111\\rangle$$"
      ],
      "text/plain": [
       "<IPython.core.display.Latex object>"
      ]
     },
     "metadata": {},
     "output_type": "display_data"
    },
    {
     "name": "stdout",
     "output_type": "stream",
     "text": [
      "coherence of |ψ1⟩ =  160.05010124337684\n"
     ]
    },
    {
     "data": {
      "text/plain": [
       "'applied P operator to |ψ4⟩'"
      ]
     },
     "metadata": {},
     "output_type": "display_data"
    },
    {
     "data": {
      "text/latex": [
       "$$(0.467571267122 - 0.015454869399 i) |00000000\\rangle+ (0.032050109476 + 0.001399338 i) |00000001\\rangle+ (-0.032050109476 - 0.001399338 i) |00000010\\rangle+ (0.032050109476 + 0.001399338 i) |00000011\\rangle+ (-0.032050109476 - 0.001399338 i) |00000100\\rangle+ (0.032050109476 + 0.001399338 i) |00000101\\rangle + \\ldots + (-0.032050109476 - 0.001399338 i) |11111011\\rangle+ (0.032050109476 + 0.001399338 i) |11111100\\rangle+ (0.096150328428 + 0.004198014 i) |11111101\\rangle+ (0.032050109476 + 0.001399338 i) |11111110\\rangle+ (-0.032050109476 - 0.001399338 i) |11111111\\rangle$$"
      ],
      "text/plain": [
       "<IPython.core.display.Latex object>"
      ]
     },
     "metadata": {},
     "output_type": "display_data"
    },
    {
     "name": "stdout",
     "output_type": "stream",
     "text": [
      "coherence of |ψ4⟩ =  160.05010124337684\n"
     ]
    },
    {
     "data": {
      "text/plain": [
       "'applied Hadamard to all |ψ5⟩'"
      ]
     },
     "metadata": {},
     "output_type": "display_data"
    },
    {
     "data": {
      "text/latex": [
       "$$(0.023213808668 - 0.001228305212 i) |00000000\\rangle+ (0.023213808668 - 0.001228305212 i) |00000001\\rangle+ (0.023213808668 - 0.001228305212 i) |00000010\\rangle+ (0.023213808668 - 0.001228305212 i) |00000011\\rangle+ (0.023213808668 - 0.001228305212 i) |00000100\\rangle+ (0.023213808668 - 0.001228305212 i) |00000101\\rangle + \\ldots + (0.023213808668 - 0.001228305212 i) |11111011\\rangle+ (0.536015560284 + 0.021161102788 i) |11111100\\rangle+ (0.023213808668 - 0.001228305212 i) |11111101\\rangle+ (0.023213808668 - 0.001228305212 i) |11111110\\rangle+ (0.023213808668 - 0.001228305212 i) |11111111\\rangle$$"
      ],
      "text/plain": [
       "<IPython.core.display.Latex object>"
      ]
     },
     "metadata": {},
     "output_type": "display_data"
    },
    {
     "name": "stdout",
     "output_type": "stream",
     "text": [
      "coherence of |ψ5⟩ =  55.109219597749444\n",
      "-------- 6  ITERATION--------\n"
     ]
    },
    {
     "data": {
      "text/plain": [
       "'applied O operator to |ψ2⟩'"
      ]
     },
     "metadata": {},
     "output_type": "display_data"
    },
    {
     "data": {
      "text/latex": [
       "$$(0.023213808668 - 0.001228305212 i) |00000000\\rangle+ (0.023213808668 - 0.001228305212 i) |00000001\\rangle+ (0.023213808668 - 0.001228305212 i) |00000010\\rangle+ (0.023213808668 - 0.001228305212 i) |00000011\\rangle+ (0.023213808668 - 0.001228305212 i) |00000100\\rangle+ (0.023213808668 - 0.001228305212 i) |00000101\\rangle + \\ldots + (0.023213808668 - 0.001228305212 i) |11111011\\rangle+ (-0.535564610351 - 0.030512641265 i) |11111100\\rangle+ (0.023213808668 - 0.001228305212 i) |11111101\\rangle+ (0.023213808668 - 0.001228305212 i) |11111110\\rangle+ (0.023213808668 - 0.001228305212 i) |11111111\\rangle$$"
      ],
      "text/plain": [
       "<IPython.core.display.Latex object>"
      ]
     },
     "metadata": {},
     "output_type": "display_data"
    },
    {
     "name": "stdout",
     "output_type": "stream",
     "text": [
      "coherence of |ψ2⟩ =  55.109219597749444\n"
     ]
    },
    {
     "data": {
      "text/plain": [
       "'applied Hadamard to all |ψ1⟩'"
      ]
     },
     "metadata": {},
     "output_type": "display_data"
    },
    {
     "data": {
      "text/latex": [
       "$$(0.266649985128 - 0.025143696409 i) |00000000\\rangle+ (-0.034923651189 - 0.001830271003 i) |00000001\\rangle+ (0.034923651189 + 0.001830271003 i) |00000010\\rangle+ (-0.034923651189 - 0.001830271003 i) |00000011\\rangle+ (0.034923651189 + 0.001830271003 i) |00000100\\rangle+ (-0.034923651189 - 0.001830271003 i) |00000101\\rangle + \\ldots + (0.034923651189 + 0.001830271003 i) |11111011\\rangle+ (-0.034923651189 - 0.001830271003 i) |11111100\\rangle+ (-0.104770953566 - 0.00549081301 i) |11111101\\rangle+ (-0.034923651189 - 0.001830271003 i) |11111110\\rangle+ (0.034923651189 + 0.001830271003 i) |11111111\\rangle$$"
      ],
      "text/plain": [
       "<IPython.core.display.Latex object>"
      ]
     },
     "metadata": {},
     "output_type": "display_data"
    },
    {
     "name": "stdout",
     "output_type": "stream",
     "text": [
      "coherence of |ψ1⟩ =  183.74257920102363\n"
     ]
    },
    {
     "data": {
      "text/plain": [
       "'applied P operator to |ψ4⟩'"
      ]
     },
     "metadata": {},
     "output_type": "display_data"
    },
    {
     "data": {
      "text/latex": [
       "$$(0.266649985128 - 0.025143696409 i) |00000000\\rangle+ (0.034923651189 + 0.001830271003 i) |00000001\\rangle+ (-0.034923651189 - 0.001830271003 i) |00000010\\rangle+ (0.034923651189 + 0.001830271003 i) |00000011\\rangle+ (-0.034923651189 - 0.001830271003 i) |00000100\\rangle+ (0.034923651189 + 0.001830271003 i) |00000101\\rangle + \\ldots + (-0.034923651189 - 0.001830271003 i) |11111011\\rangle+ (0.034923651189 + 0.001830271003 i) |11111100\\rangle+ (0.104770953566 + 0.00549081301 i) |11111101\\rangle+ (0.034923651189 + 0.001830271003 i) |11111110\\rangle+ (-0.034923651189 - 0.001830271003 i) |11111111\\rangle$$"
      ],
      "text/plain": [
       "<IPython.core.display.Latex object>"
      ]
     },
     "metadata": {},
     "output_type": "display_data"
    },
    {
     "name": "stdout",
     "output_type": "stream",
     "text": [
      "coherence of |ψ4⟩ =  183.74257920102363\n"
     ]
    },
    {
     "data": {
      "text/plain": [
       "'applied Hadamard to all |ψ5⟩'"
      ]
     },
     "metadata": {},
     "output_type": "display_data"
    },
    {
     "data": {
      "text/latex": [
       "$$(0.010117439473 - 0.001914656839 i) |00000000\\rangle+ (0.010117439473 - 0.001914656839 i) |00000001\\rangle+ (0.010117439473 - 0.001914656839 i) |00000010\\rangle+ (0.010117439473 - 0.001914656839 i) |00000011\\rangle+ (0.010117439473 - 0.001914656839 i) |00000100\\rangle+ (0.010117439473 - 0.001914656839 i) |00000101\\rangle + \\ldots + (0.010117439473 - 0.001914656839 i) |11111011\\rangle+ (0.568895858492 + 0.027369679213 i) |11111100\\rangle+ (0.010117439473 - 0.001914656839 i) |11111101\\rangle+ (0.010117439473 - 0.001914656839 i) |11111110\\rangle+ (0.010117439473 - 0.001914656839 i) |11111111\\rangle$$"
      ],
      "text/plain": [
       "<IPython.core.display.Latex object>"
      ]
     },
     "metadata": {},
     "output_type": "display_data"
    },
    {
     "name": "stdout",
     "output_type": "stream",
     "text": [
      "coherence of |ψ5⟩ =  17.60892267362469\n",
      "-------- 7  ITERATION--------\n"
     ]
    },
    {
     "data": {
      "text/plain": [
       "'applied O operator to |ψ2⟩'"
      ]
     },
     "metadata": {},
     "output_type": "display_data"
    },
    {
     "data": {
      "text/latex": [
       "$$(0.010117439473 - 0.001914656839 i) |00000000\\rangle+ (0.010117439473 - 0.001914656839 i) |00000001\\rangle+ (0.010117439473 - 0.001914656839 i) |00000010\\rangle+ (0.010117439473 - 0.001914656839 i) |00000011\\rangle+ (0.010117439473 - 0.001914656839 i) |00000100\\rangle+ (0.010117439473 - 0.001914656839 i) |00000101\\rangle + \\ldots + (0.010117439473 - 0.001914656839 i) |11111011\\rangle+ (-0.568331546132 - 0.037294112422 i) |11111100\\rangle+ (0.010117439473 - 0.001914656839 i) |11111101\\rangle+ (0.010117439473 - 0.001914656839 i) |11111110\\rangle+ (0.010117439473 - 0.001914656839 i) |11111111\\rangle$$"
      ],
      "text/plain": [
       "<IPython.core.display.Latex object>"
      ]
     },
     "metadata": {},
     "output_type": "display_data"
    },
    {
     "name": "stdout",
     "output_type": "stream",
     "text": [
      "coherence of |ψ2⟩ =  17.60892267362469\n"
     ]
    },
    {
     "data": {
      "text/plain": [
       "'applied Hadamard to all |ψ1⟩'"
      ]
     },
     "metadata": {},
     "output_type": "display_data"
    },
    {
     "data": {
      "text/latex": [
       "$$(0.053419846761 - 0.03726815734 i) |00000000\\rangle+ (-0.0361530616 - 0.002211215974 i) |00000001\\rangle+ (0.0361530616 + 0.002211215974 i) |00000010\\rangle+ (-0.0361530616 - 0.002211215974 i) |00000011\\rangle+ (0.0361530616 + 0.002211215974 i) |00000100\\rangle+ (-0.0361530616 - 0.002211215974 i) |00000101\\rangle + \\ldots + (0.0361530616 + 0.002211215974 i) |11111011\\rangle+ (-0.0361530616 - 0.002211215974 i) |11111100\\rangle+ (-0.108459184801 - 0.006633647922 i) |11111101\\rangle+ (-0.0361530616 - 0.002211215974 i) |11111110\\rangle+ (0.0361530616 + 0.002211215974 i) |11111111\\rangle$$"
      ],
      "text/plain": [
       "<IPython.core.display.Latex object>"
      ]
     },
     "metadata": {},
     "output_type": "display_data"
    },
    {
     "name": "stdout",
     "output_type": "stream",
     "text": [
      "coherence of |ψ1⟩ =  191.24353717823894\n"
     ]
    },
    {
     "data": {
      "text/plain": [
       "'applied P operator to |ψ4⟩'"
      ]
     },
     "metadata": {},
     "output_type": "display_data"
    },
    {
     "data": {
      "text/latex": [
       "$$(0.053419846761 - 0.03726815734 i) |00000000\\rangle+ (0.0361530616 + 0.002211215974 i) |00000001\\rangle+ (-0.0361530616 - 0.002211215974 i) |00000010\\rangle+ (0.0361530616 + 0.002211215974 i) |00000011\\rangle+ (-0.0361530616 - 0.002211215974 i) |00000100\\rangle+ (0.0361530616 + 0.002211215974 i) |00000101\\rangle + \\ldots + (-0.0361530616 - 0.002211215974 i) |11111011\\rangle+ (0.0361530616 + 0.002211215974 i) |11111100\\rangle+ (0.108459184801 + 0.006633647922 i) |11111101\\rangle+ (0.0361530616 + 0.002211215974 i) |11111110\\rangle+ (-0.0361530616 - 0.002211215974 i) |11111111\\rangle$$"
      ],
      "text/plain": [
       "<IPython.core.display.Latex object>"
      ]
     },
     "metadata": {},
     "output_type": "display_data"
    },
    {
     "name": "stdout",
     "output_type": "stream",
     "text": [
      "coherence of |ψ4⟩ =  191.24353717823894\n"
     ]
    },
    {
     "data": {
      "text/plain": [
       "'applied Hadamard to all |ψ5⟩'"
      ]
     },
     "metadata": {},
     "output_type": "display_data"
    },
    {
     "data": {
      "text/latex": [
       "$$(-0.003439958627 - 0.002743862829 i) |00000000\\rangle+ (-0.003439958627 - 0.002743862829 i) |00000001\\rangle+ (-0.003439958627 - 0.002743862829 i) |00000010\\rangle+ (-0.003439958627 - 0.002743862829 i) |00000011\\rangle+ (-0.003439958627 - 0.002743862829 i) |00000100\\rangle+ (-0.003439958627 - 0.002743862829 i) |00000101\\rangle + \\ldots + (-0.003439958627 - 0.002743862829 i) |11111011\\rangle+ (0.575009026977 + 0.032635592754 i) |11111100\\rangle+ (-0.003439958627 - 0.002743862829 i) |11111101\\rangle+ (-0.003439958627 - 0.002743862829 i) |11111110\\rangle+ (-0.003439958627 - 0.002743862829 i) |11111111\\rangle$$"
      ],
      "text/plain": [
       "<IPython.core.display.Latex object>"
      ]
     },
     "metadata": {},
     "output_type": "display_data"
    },
    {
     "name": "stdout",
     "output_type": "stream",
     "text": [
      "coherence of |ψ5⟩ =  7.071642439069082\n",
      "======================================== FOR ϕ =  196.0 ========================================\n"
     ]
    },
    {
     "data": {
      "text/plain": [
       "'initialised |ψ0⟩'"
      ]
     },
     "metadata": {},
     "output_type": "display_data"
    },
    {
     "data": {
      "text/latex": [
       "$$ |00000000\\rangle$$"
      ],
      "text/plain": [
       "<IPython.core.display.Latex object>"
      ]
     },
     "metadata": {},
     "output_type": "display_data"
    },
    {
     "name": "stdout",
     "output_type": "stream",
     "text": [
      "coherence of |ψ0⟩ =  0.0\n"
     ]
    },
    {
     "data": {
      "text/plain": [
       "'applied Hadamard to all |ψ1⟩'"
      ]
     },
     "metadata": {},
     "output_type": "display_data"
    },
    {
     "data": {
      "text/latex": [
       "$$\\frac{1}{16} |00000000\\rangle+\\frac{1}{16} |00000001\\rangle+\\frac{1}{16} |00000010\\rangle+\\frac{1}{16} |00000011\\rangle+\\frac{1}{16} |00000100\\rangle+\\frac{1}{16} |00000101\\rangle + \\ldots +\\frac{1}{16} |11111011\\rangle+\\frac{1}{16} |11111100\\rangle+\\frac{1}{16} |11111101\\rangle+\\frac{1}{16} |11111110\\rangle+\\frac{1}{16} |11111111\\rangle$$"
      ],
      "text/plain": [
       "<IPython.core.display.Latex object>"
      ]
     },
     "metadata": {},
     "output_type": "display_data"
    },
    {
     "name": "stdout",
     "output_type": "stream",
     "text": [
      "coherence of |ψ1⟩ =  255.00000000000003\n",
      "-------- 1  ITERATION--------\n"
     ]
    },
    {
     "data": {
      "text/plain": [
       "'applied O operator to |ψ2⟩'"
      ]
     },
     "metadata": {},
     "output_type": "display_data"
    },
    {
     "data": {
      "text/latex": [
       "$$\\frac{1}{16} |00000000\\rangle+\\frac{1}{16} |00000001\\rangle+\\frac{1}{16} |00000010\\rangle+\\frac{1}{16} |00000011\\rangle+\\frac{1}{16} |00000100\\rangle+\\frac{1}{16} |00000101\\rangle + \\ldots +\\frac{1}{16} |11111011\\rangle+ (-0.060078855996 - 0.017227334739 i) |11111100\\rangle+\\frac{1}{16} |11111101\\rangle+\\frac{1}{16} |11111110\\rangle+\\frac{1}{16} |11111111\\rangle$$"
      ],
      "text/plain": [
       "<IPython.core.display.Latex object>"
      ]
     },
     "metadata": {},
     "output_type": "display_data"
    },
    {
     "name": "stdout",
     "output_type": "stream",
     "text": [
      "coherence of |ψ2⟩ =  255.00000000000003\n"
     ]
    },
    {
     "data": {
      "text/plain": [
       "'applied Hadamard to all |ψ1⟩'"
      ]
     },
     "metadata": {},
     "output_type": "display_data"
    },
    {
     "data": {
      "text/latex": [
       "$$(0.977016464501 - 0.003230125263 i) |00000000\\rangle+ (-0.0076611785 - 0.001076708421 i) |00000001\\rangle+ (0.0076611785 + 0.001076708421 i) |00000010\\rangle+ (-0.0076611785 - 0.001076708421 i) |00000011\\rangle+ (0.0076611785 + 0.001076708421 i) |00000100\\rangle+ (-0.0076611785 - 0.001076708421 i) |00000101\\rangle + \\ldots + (0.0076611785 + 0.001076708421 i) |11111011\\rangle+ (-0.0076611785 - 0.001076708421 i) |11111100\\rangle+ (-0.022983535499 - 0.003230125263 i) |11111101\\rangle+ (-0.0076611785 - 0.001076708421 i) |11111110\\rangle+ (0.0076611785 + 0.001076708421 i) |11111111\\rangle$$"
      ],
      "text/plain": [
       "<IPython.core.display.Latex object>"
      ]
     },
     "metadata": {},
     "output_type": "display_data"
    },
    {
     "name": "stdout",
     "output_type": "stream",
     "text": [
      "coherence of |ψ1⟩ =  14.402615476044195\n"
     ]
    },
    {
     "data": {
      "text/plain": [
       "'applied P operator to |ψ4⟩'"
      ]
     },
     "metadata": {},
     "output_type": "display_data"
    },
    {
     "data": {
      "text/latex": [
       "$$(0.977016464501 - 0.003230125263 i) |00000000\\rangle+ (0.0076611785 + 0.001076708421 i) |00000001\\rangle+ (-0.0076611785 - 0.001076708421 i) |00000010\\rangle+ (0.0076611785 + 0.001076708421 i) |00000011\\rangle+ (-0.0076611785 - 0.001076708421 i) |00000100\\rangle+ (0.0076611785 + 0.001076708421 i) |00000101\\rangle + \\ldots + (-0.0076611785 - 0.001076708421 i) |11111011\\rangle+ (0.0076611785 + 0.001076708421 i) |11111100\\rangle+ (0.022983535499 + 0.003230125263 i) |11111101\\rangle+ (0.0076611785 + 0.001076708421 i) |11111110\\rangle+ (-0.0076611785 - 0.001076708421 i) |11111111\\rangle$$"
      ],
      "text/plain": [
       "<IPython.core.display.Latex object>"
      ]
     },
     "metadata": {},
     "output_type": "display_data"
    },
    {
     "name": "stdout",
     "output_type": "stream",
     "text": [
      "coherence of |ψ4⟩ =  14.402615476044195\n"
     ]
    },
    {
     "data": {
      "text/plain": [
       "'applied Hadamard to all |ψ5⟩'"
      ]
     },
     "metadata": {},
     "output_type": "display_data"
    },
    {
     "data": {
      "text/latex": [
       "$$(0.059627058063 - 0.000403765658 i) |00000000\\rangle+ (0.059627058063 - 0.000403765658 i) |00000001\\rangle+ (0.059627058063 - 0.000403765658 i) |00000010\\rangle+ (0.059627058063 - 0.000403765658 i) |00000011\\rangle+ (0.059627058063 - 0.000403765658 i) |00000100\\rangle+ (0.059627058063 - 0.000403765658 i) |00000101\\rangle + \\ldots + (0.059627058063 - 0.000403765658 i) |11111011\\rangle+ (0.182205914059 + 0.016823569081 i) |11111100\\rangle+ (0.059627058063 - 0.000403765658 i) |11111101\\rangle+ (0.059627058063 - 0.000403765658 i) |11111110\\rangle+ (0.059627058063 - 0.000403765658 i) |11111111\\rangle$$"
      ],
      "text/plain": [
       "<IPython.core.display.Latex object>"
      ]
     },
     "metadata": {},
     "output_type": "display_data"
    },
    {
     "name": "stdout",
     "output_type": "stream",
     "text": [
      "coherence of |ψ5⟩ =  243.45117358200986\n",
      "-------- 2  ITERATION--------\n"
     ]
    },
    {
     "data": {
      "text/plain": [
       "'applied O operator to |ψ2⟩'"
      ]
     },
     "metadata": {},
     "output_type": "display_data"
    },
    {
     "data": {
      "text/latex": [
       "$$(0.059627058063 - 0.000403765658 i) |00000000\\rangle+ (0.059627058063 - 0.000403765658 i) |00000001\\rangle+ (0.059627058063 - 0.000403765658 i) |00000010\\rangle+ (0.059627058063 - 0.000403765658 i) |00000011\\rangle+ (0.059627058063 - 0.000403765658 i) |00000100\\rangle+ (0.059627058063 - 0.000403765658 i) |00000101\\rangle + \\ldots + (0.059627058063 - 0.000403765658 i) |11111011\\rangle+ (-0.170510361861 - 0.066394608912 i) |11111100\\rangle+ (0.059627058063 - 0.000403765658 i) |11111101\\rangle+ (0.059627058063 - 0.000403765658 i) |11111110\\rangle+ (0.059627058063 - 0.000403765658 i) |11111111\\rangle$$"
      ],
      "text/plain": [
       "<IPython.core.display.Latex object>"
      ]
     },
     "metadata": {},
     "output_type": "display_data"
    },
    {
     "name": "stdout",
     "output_type": "stream",
     "text": [
      "coherence of |ψ2⟩ =  243.45117358200986\n"
     ]
    },
    {
     "data": {
      "text/plain": [
       "'applied Hadamard to all |ψ1⟩'"
      ]
     },
     "metadata": {},
     "output_type": "display_data"
    },
    {
     "data": {
      "text/latex": [
       "$$(0.910882162766 - 0.018833533637 i) |00000000\\rangle+ (-0.014383588745 - 0.004124427703 i) |00000001\\rangle+ (0.014383588745 + 0.004124427703 i) |00000010\\rangle+ (-0.014383588745 - 0.004124427703 i) |00000011\\rangle+ (0.014383588745 + 0.004124427703 i) |00000100\\rangle+ (-0.014383588745 - 0.004124427703 i) |00000101\\rangle + \\ldots + (0.014383588745 + 0.004124427703 i) |11111011\\rangle+ (-0.014383588745 - 0.004124427703 i) |11111100\\rangle+ (-0.043150766236 - 0.01237328311 i) |11111101\\rangle+ (-0.014383588745 - 0.004124427703 i) |11111110\\rangle+ (0.014383588745 + 0.004124427703 i) |11111111\\rangle$$"
      ],
      "text/plain": [
       "<IPython.core.display.Latex object>"
      ]
     },
     "metadata": {},
     "output_type": "display_data"
    },
    {
     "name": "stdout",
     "output_type": "stream",
     "text": [
      "coherence of |ψ1⟩ =  42.7194829283812\n"
     ]
    },
    {
     "data": {
      "text/plain": [
       "'applied P operator to |ψ4⟩'"
      ]
     },
     "metadata": {},
     "output_type": "display_data"
    },
    {
     "data": {
      "text/latex": [
       "$$(0.910882162766 - 0.018833533637 i) |00000000\\rangle+ (0.014383588745 + 0.004124427703 i) |00000001\\rangle+ (-0.014383588745 - 0.004124427703 i) |00000010\\rangle+ (0.014383588745 + 0.004124427703 i) |00000011\\rangle+ (-0.014383588745 - 0.004124427703 i) |00000100\\rangle+ (0.014383588745 + 0.004124427703 i) |00000101\\rangle + \\ldots + (-0.014383588745 - 0.004124427703 i) |11111011\\rangle+ (0.014383588745 + 0.004124427703 i) |11111100\\rangle+ (0.043150766236 + 0.01237328311 i) |11111101\\rangle+ (0.014383588745 + 0.004124427703 i) |11111110\\rangle+ (-0.014383588745 - 0.004124427703 i) |11111111\\rangle$$"
      ],
      "text/plain": [
       "<IPython.core.display.Latex object>"
      ]
     },
     "metadata": {},
     "output_type": "display_data"
    },
    {
     "name": "stdout",
     "output_type": "stream",
     "text": [
      "coherence of |ψ4⟩ =  42.7194829283812\n"
     ]
    },
    {
     "data": {
      "text/plain": [
       "'applied Hadamard to all |ψ5⟩'"
      ]
     },
     "metadata": {},
     "output_type": "display_data"
    },
    {
     "data": {
      "text/latex": [
       "$$(0.054233212283 - 0.001950426047 i) |00000000\\rangle+ (0.054233212283 - 0.001950426047 i) |00000001\\rangle+ (0.054233212283 - 0.001950426047 i) |00000010\\rangle+ (0.054233212283 - 0.001950426047 i) |00000011\\rangle+ (0.054233212283 - 0.001950426047 i) |00000100\\rangle+ (0.054233212283 - 0.001950426047 i) |00000101\\rangle + \\ldots + (0.054233212283 - 0.001950426047 i) |11111011\\rangle+ (0.284370632207 + 0.064040417207 i) |11111100\\rangle+ (0.054233212283 - 0.001950426047 i) |11111101\\rangle+ (0.054233212283 - 0.001950426047 i) |11111110\\rangle+ (0.054233212283 - 0.001950426047 i) |11111111\\rangle$$"
      ],
      "text/plain": [
       "<IPython.core.display.Latex object>"
      ]
     },
     "metadata": {},
     "output_type": "display_data"
    },
    {
     "name": "stdout",
     "output_type": "stream",
     "text": [
      "coherence of |ψ5⟩ =  212.287050110943\n",
      "-------- 3  ITERATION--------\n"
     ]
    },
    {
     "data": {
      "text/plain": [
       "'applied O operator to |ψ2⟩'"
      ]
     },
     "metadata": {},
     "output_type": "display_data"
    },
    {
     "data": {
      "text/latex": [
       "$$(0.054233212283 - 0.001950426047 i) |00000000\\rangle+ (0.054233212283 - 0.001950426047 i) |00000001\\rangle+ (0.054233212283 - 0.001950426047 i) |00000010\\rangle+ (0.054233212283 - 0.001950426047 i) |00000011\\rangle+ (0.054233212283 - 0.001950426047 i) |00000100\\rangle+ (0.054233212283 - 0.001950426047 i) |00000101\\rangle + \\ldots + (0.054233212283 - 0.001950426047 i) |11111011\\rangle+ (-0.255702664926 - 0.139942769186 i) |11111100\\rangle+ (0.054233212283 - 0.001950426047 i) |11111101\\rangle+ (0.054233212283 - 0.001950426047 i) |11111110\\rangle+ (0.054233212283 - 0.001950426047 i) |11111111\\rangle$$"
      ],
      "text/plain": [
       "<IPython.core.display.Latex object>"
      ]
     },
     "metadata": {},
     "output_type": "display_data"
    },
    {
     "name": "stdout",
     "output_type": "stream",
     "text": [
      "coherence of |ψ2⟩ =  212.287050110943\n"
     ]
    },
    {
     "data": {
      "text/plain": [
       "'applied Hadamard to all |ψ1⟩'"
      ]
     },
     "metadata": {},
     "output_type": "display_data"
    },
    {
     "data": {
      "text/latex": [
       "$$(0.809618419553 - 0.057080381086 i) |00000000\\rangle+ (-0.019370992326 - 0.008624521446 i) |00000001\\rangle+ (0.019370992326 + 0.008624521446 i) |00000010\\rangle+ (-0.019370992326 - 0.008624521446 i) |00000011\\rangle+ (0.019370992326 + 0.008624521446 i) |00000100\\rangle+ (-0.019370992326 - 0.008624521446 i) |00000101\\rangle + \\ldots + (0.019370992326 + 0.008624521446 i) |11111011\\rangle+ (-0.019370992326 - 0.008624521446 i) |11111100\\rangle+ (-0.058112976977 - 0.025873564339 i) |11111101\\rangle+ (-0.019370992326 - 0.008624521446 i) |11111110\\rangle+ (0.019370992326 + 0.008624521446 i) |11111111\\rangle$$"
      ],
      "text/plain": [
       "<IPython.core.display.Latex object>"
      ]
     },
     "metadata": {},
     "output_type": "display_data"
    },
    {
     "name": "stdout",
     "output_type": "stream",
     "text": [
      "coherence of |ψ1⟩ =  78.03965385784834\n"
     ]
    },
    {
     "data": {
      "text/plain": [
       "'applied P operator to |ψ4⟩'"
      ]
     },
     "metadata": {},
     "output_type": "display_data"
    },
    {
     "data": {
      "text/latex": [
       "$$(0.809618419553 - 0.057080381086 i) |00000000\\rangle+ (0.019370992326 + 0.008624521446 i) |00000001\\rangle+ (-0.019370992326 - 0.008624521446 i) |00000010\\rangle+ (0.019370992326 + 0.008624521446 i) |00000011\\rangle+ (-0.019370992326 - 0.008624521446 i) |00000100\\rangle+ (0.019370992326 + 0.008624521446 i) |00000101\\rangle + \\ldots + (-0.019370992326 - 0.008624521446 i) |11111011\\rangle+ (0.019370992326 + 0.008624521446 i) |11111100\\rangle+ (0.058112976977 + 0.025873564339 i) |11111101\\rangle+ (0.019370992326 + 0.008624521446 i) |11111110\\rangle+ (-0.019370992326 - 0.008624521446 i) |11111111\\rangle$$"
      ],
      "text/plain": [
       "<IPython.core.display.Latex object>"
      ]
     },
     "metadata": {},
     "output_type": "display_data"
    },
    {
     "name": "stdout",
     "output_type": "stream",
     "text": [
      "coherence of |ψ4⟩ =  78.03965385784834\n"
     ]
    },
    {
     "data": {
      "text/plain": [
       "'applied Hadamard to all |ψ5⟩'"
      ]
     },
     "metadata": {},
     "output_type": "display_data"
    },
    {
     "data": {
      "text/latex": [
       "$$(0.046969090161 - 0.005184621589 i) |00000000\\rangle+ (0.046969090161 - 0.005184621589 i) |00000001\\rangle+ (0.046969090161 - 0.005184621589 i) |00000010\\rangle+ (0.046969090161 - 0.005184621589 i) |00000011\\rangle+ (0.046969090161 - 0.005184621589 i) |00000100\\rangle+ (0.046969090161 - 0.005184621589 i) |00000101\\rangle + \\ldots + (0.046969090161 - 0.005184621589 i) |11111011\\rangle+ (0.35690496737 + 0.132807721551 i) |11111100\\rangle+ (0.046969090161 - 0.005184621589 i) |11111101\\rangle+ (0.046969090161 - 0.005184621589 i) |11111110\\rangle+ (0.046969090161 - 0.005184621589 i) |11111111\\rangle$$"
      ],
      "text/plain": [
       "<IPython.core.display.Latex object>"
      ]
     },
     "metadata": {},
     "output_type": "display_data"
    },
    {
     "name": "stdout",
     "output_type": "stream",
     "text": [
      "coherence of |ψ5⟩ =  170.55229317656907\n",
      "-------- 4  ITERATION--------\n"
     ]
    },
    {
     "data": {
      "text/plain": [
       "'applied O operator to |ψ2⟩'"
      ]
     },
     "metadata": {},
     "output_type": "display_data"
    },
    {
     "data": {
      "text/latex": [
       "$$(0.046969090161 - 0.005184621589 i) |00000000\\rangle+ (0.046969090161 - 0.005184621589 i) |00000001\\rangle+ (0.046969090161 - 0.005184621589 i) |00000010\\rangle+ (0.046969090161 - 0.005184621589 i) |00000011\\rangle+ (0.046969090161 - 0.005184621589 i) |00000100\\rangle+ (0.046969090161 - 0.005184621589 i) |00000101\\rangle + \\ldots + (0.046969090161 - 0.005184621589 i) |11111011\\rangle+ (-0.306472305023 - 0.226039317135 i) |11111100\\rangle+ (0.046969090161 - 0.005184621589 i) |11111101\\rangle+ (0.046969090161 - 0.005184621589 i) |11111110\\rangle+ (0.046969090161 - 0.005184621589 i) |11111111\\rangle$$"
      ],
      "text/plain": [
       "<IPython.core.display.Latex object>"
      ]
     },
     "metadata": {},
     "output_type": "display_data"
    },
    {
     "name": "stdout",
     "output_type": "stream",
     "text": [
      "coherence of |ψ2⟩ =  170.55229317656907\n"
     ]
    },
    {
     "data": {
      "text/plain": [
       "'applied Hadamard to all |ψ1⟩'"
      ]
     },
     "metadata": {},
     "output_type": "display_data"
    },
    {
     "data": {
      "text/latex": [
       "$$(0.68523518098 - 0.124364200839 i) |00000000\\rangle+ (-0.022090087199 - 0.013803418472 i) |00000001\\rangle+ (0.022090087199 + 0.013803418472 i) |00000010\\rangle+ (-0.022090087199 - 0.013803418472 i) |00000011\\rangle+ (0.022090087199 + 0.013803418472 i) |00000100\\rangle+ (-0.022090087199 - 0.013803418472 i) |00000101\\rangle + \\ldots + (0.022090087199 + 0.013803418472 i) |11111011\\rangle+ (-0.022090087199 - 0.013803418472 i) |11111100\\rangle+ (-0.066270261597 - 0.041410255415 i) |11111101\\rangle+ (-0.022090087199 - 0.013803418472 i) |11111110\\rangle+ (0.022090087199 + 0.013803418472 i) |11111111\\rangle$$"
      ],
      "text/plain": [
       "<IPython.core.display.Latex object>"
      ]
     },
     "metadata": {},
     "output_type": "display_data"
    },
    {
     "name": "stdout",
     "output_type": "stream",
     "text": [
      "coherence of |ψ1⟩ =  111.80087934577824\n"
     ]
    },
    {
     "data": {
      "text/plain": [
       "'applied P operator to |ψ4⟩'"
      ]
     },
     "metadata": {},
     "output_type": "display_data"
    },
    {
     "data": {
      "text/latex": [
       "$$(0.68523518098 - 0.124364200839 i) |00000000\\rangle+ (0.022090087199 + 0.013803418472 i) |00000001\\rangle+ (-0.022090087199 - 0.013803418472 i) |00000010\\rangle+ (0.022090087199 + 0.013803418472 i) |00000011\\rangle+ (-0.022090087199 - 0.013803418472 i) |00000100\\rangle+ (0.022090087199 + 0.013803418472 i) |00000101\\rangle + \\ldots + (-0.022090087199 - 0.013803418472 i) |11111011\\rangle+ (0.022090087199 + 0.013803418472 i) |11111100\\rangle+ (0.066270261597 + 0.041410255415 i) |11111101\\rangle+ (0.022090087199 + 0.013803418472 i) |11111110\\rangle+ (-0.022090087199 - 0.013803418472 i) |11111111\\rangle$$"
      ],
      "text/plain": [
       "<IPython.core.display.Latex object>"
      ]
     },
     "metadata": {},
     "output_type": "display_data"
    },
    {
     "name": "stdout",
     "output_type": "stream",
     "text": [
      "coherence of |ψ4⟩ =  111.80087934577824\n"
     ]
    },
    {
     "data": {
      "text/plain": [
       "'applied Hadamard to all |ψ5⟩'"
      ]
     },
     "metadata": {},
     "output_type": "display_data"
    },
    {
     "data": {
      "text/latex": [
       "$$(0.038685307461 - 0.010360903516 i) |00000000\\rangle+ (0.038685307461 - 0.010360903516 i) |00000001\\rangle+ (0.038685307461 - 0.010360903516 i) |00000010\\rangle+ (0.038685307461 - 0.010360903516 i) |00000011\\rangle+ (0.038685307461 - 0.010360903516 i) |00000100\\rangle+ (0.038685307461 - 0.010360903516 i) |00000101\\rangle + \\ldots + (0.038685307461 - 0.010360903516 i) |11111011\\rangle+ (0.392126702645 + 0.210493792031 i) |11111100\\rangle+ (0.038685307461 - 0.010360903516 i) |11111101\\rangle+ (0.038685307461 - 0.010360903516 i) |11111110\\rangle+ (0.038685307461 - 0.010360903516 i) |11111111\\rangle$$"
      ],
      "text/plain": [
       "<IPython.core.display.Latex object>"
      ]
     },
     "metadata": {},
     "output_type": "display_data"
    },
    {
     "name": "stdout",
     "output_type": "stream",
     "text": [
      "coherence of |ψ5⟩ =  130.5032228892006\n",
      "-------- 5  ITERATION--------\n"
     ]
    },
    {
     "data": {
      "text/plain": [
       "'applied O operator to |ψ2⟩'"
      ]
     },
     "metadata": {},
     "output_type": "display_data"
    },
    {
     "data": {
      "text/latex": [
       "$$(0.038685307461 - 0.010360903516 i) |00000000\\rangle+ (0.038685307461 - 0.010360903516 i) |00000001\\rangle+ (0.038685307461 - 0.010360903516 i) |00000010\\rangle+ (0.038685307461 - 0.010360903516 i) |00000011\\rangle+ (0.038685307461 - 0.010360903516 i) |00000100\\rangle+ (0.038685307461 - 0.010360903516 i) |00000101\\rangle + \\ldots + (0.038685307461 - 0.010360903516 i) |11111011\\rangle+ (-0.318916426956 - 0.310424386974 i) |11111100\\rangle+ (0.038685307461 - 0.010360903516 i) |11111101\\rangle+ (0.038685307461 - 0.010360903516 i) |11111110\\rangle+ (0.038685307461 - 0.010360903516 i) |11111111\\rangle$$"
      ],
      "text/plain": [
       "<IPython.core.display.Latex object>"
      ]
     },
     "metadata": {},
     "output_type": "display_data"
    },
    {
     "name": "stdout",
     "output_type": "stream",
     "text": [
      "coherence of |ψ2⟩ =  130.5032228892006\n"
     ]
    },
    {
     "data": {
      "text/plain": [
       "'applied Hadamard to all |ψ1⟩'"
      ]
     },
     "metadata": {},
     "output_type": "display_data"
    },
    {
     "data": {
      "text/latex": [
       "$$(0.551914594179 - 0.222036359403 i) |00000000\\rangle+ (-0.022350108401 - 0.018753967716 i) |00000001\\rangle+ (0.022350108401 + 0.018753967716 i) |00000010\\rangle+ (-0.022350108401 - 0.018753967716 i) |00000011\\rangle+ (0.022350108401 + 0.018753967716 i) |00000100\\rangle+ (-0.022350108401 - 0.018753967716 i) |00000101\\rangle + \\ldots + (0.022350108401 + 0.018753967716 i) |11111011\\rangle+ (-0.022350108401 - 0.018753967716 i) |11111100\\rangle+ (-0.067050325203 - 0.056261903148 i) |11111101\\rangle+ (-0.022350108401 - 0.018753967716 i) |11111110\\rangle+ (0.022350108401 + 0.018753967716 i) |11111111\\rangle$$"
      ],
      "text/plain": [
       "<IPython.core.display.Latex object>"
      ]
     },
     "metadata": {},
     "output_type": "display_data"
    },
    {
     "name": "stdout",
     "output_type": "stream",
     "text": [
      "coherence of |ψ1⟩ =  136.14651654791663\n"
     ]
    },
    {
     "data": {
      "text/plain": [
       "'applied P operator to |ψ4⟩'"
      ]
     },
     "metadata": {},
     "output_type": "display_data"
    },
    {
     "data": {
      "text/latex": [
       "$$(0.551914594179 - 0.222036359403 i) |00000000\\rangle+ (0.022350108401 + 0.018753967716 i) |00000001\\rangle+ (-0.022350108401 - 0.018753967716 i) |00000010\\rangle+ (0.022350108401 + 0.018753967716 i) |00000011\\rangle+ (-0.022350108401 - 0.018753967716 i) |00000100\\rangle+ (0.022350108401 + 0.018753967716 i) |00000101\\rangle + \\ldots + (-0.022350108401 - 0.018753967716 i) |11111011\\rangle+ (0.022350108401 + 0.018753967716 i) |11111100\\rangle+ (0.067050325203 + 0.056261903148 i) |11111101\\rangle+ (0.022350108401 + 0.018753967716 i) |11111110\\rangle+ (-0.022350108401 - 0.018753967716 i) |11111111\\rangle$$"
      ],
      "text/plain": [
       "<IPython.core.display.Latex object>"
      ]
     },
     "metadata": {},
     "output_type": "display_data"
    },
    {
     "name": "stdout",
     "output_type": "stream",
     "text": [
      "coherence of |ψ4⟩ =  136.14651654791663\n"
     ]
    },
    {
     "data": {
      "text/plain": [
       "'applied Hadamard to all |ψ5⟩'"
      ]
     },
     "metadata": {},
     "output_type": "display_data"
    },
    {
     "data": {
      "text/latex": [
       "$$(0.030304016811 - 0.017393641409 i) |00000000\\rangle+ (0.030304016811 - 0.017393641409 i) |00000001\\rangle+ (0.030304016811 - 0.017393641409 i) |00000010\\rangle+ (0.030304016811 - 0.017393641409 i) |00000011\\rangle+ (0.030304016811 - 0.017393641409 i) |00000100\\rangle+ (0.030304016811 - 0.017393641409 i) |00000101\\rangle + \\ldots + (0.030304016811 - 0.017393641409 i) |11111011\\rangle+ (0.387905751229 + 0.282669842049 i) |11111100\\rangle+ (0.030304016811 - 0.017393641409 i) |11111101\\rangle+ (0.030304016811 - 0.017393641409 i) |11111110\\rangle+ (0.030304016811 - 0.017393641409 i) |11111111\\rangle$$"
      ],
      "text/plain": [
       "<IPython.core.display.Latex object>"
      ]
     },
     "metadata": {},
     "output_type": "display_data"
    },
    {
     "name": "stdout",
     "output_type": "stream",
     "text": [
      "coherence of |ψ5⟩ =  104.67807761744074\n",
      "-------- 6  ITERATION--------\n"
     ]
    },
    {
     "data": {
      "text/plain": [
       "'applied O operator to |ψ2⟩'"
      ]
     },
     "metadata": {},
     "output_type": "display_data"
    },
    {
     "data": {
      "text/latex": [
       "$$(0.030304016811 - 0.017393641409 i) |00000000\\rangle+ (0.030304016811 - 0.017393641409 i) |00000001\\rangle+ (0.030304016811 - 0.017393641409 i) |00000010\\rangle+ (0.030304016811 - 0.017393641409 i) |00000011\\rangle+ (0.030304016811 - 0.017393641409 i) |00000100\\rangle+ (0.030304016811 - 0.017393641409 i) |00000101\\rangle + \\ldots + (0.030304016811 - 0.017393641409 i) |11111011\\rangle+ (-0.294964572459 - 0.378641007333 i) |11111100\\rangle+ (0.030304016811 - 0.017393641409 i) |11111101\\rangle+ (0.030304016811 - 0.017393641409 i) |11111110\\rangle+ (0.030304016811 - 0.017393641409 i) |11111111\\rangle$$"
      ],
      "text/plain": [
       "<IPython.core.display.Latex object>"
      ]
     },
     "metadata": {},
     "output_type": "display_data"
    },
    {
     "name": "stdout",
     "output_type": "stream",
     "text": [
      "coherence of |ψ2⟩ =  104.67807761744074\n"
     ]
    },
    {
     "data": {
      "text/plain": [
       "'applied Hadamard to all |ψ1⟩'"
      ]
     },
     "metadata": {},
     "output_type": "display_data"
    },
    {
     "data": {
      "text/latex": [
       "$$(0.423876408488 - 0.346032143662 i) |00000000\\rangle+ (-0.020329286829 - 0.02257796037 i) |00000001\\rangle+ (0.020329286829 + 0.02257796037 i) |00000010\\rangle+ (-0.020329286829 - 0.02257796037 i) |00000011\\rangle+ (0.020329286829 + 0.02257796037 i) |00000100\\rangle+ (-0.020329286829 - 0.02257796037 i) |00000101\\rangle + \\ldots + (0.020329286829 + 0.02257796037 i) |11111011\\rangle+ (-0.020329286829 - 0.02257796037 i) |11111100\\rangle+ (-0.060987860488 - 0.067733881111 i) |11111101\\rangle+ (-0.020329286829 - 0.02257796037 i) |11111110\\rangle+ (0.020329286829 + 0.02257796037 i) |11111111\\rangle$$"
      ],
      "text/plain": [
       "<IPython.core.display.Latex object>"
      ]
     },
     "metadata": {},
     "output_type": "display_data"
    },
    {
     "name": "stdout",
     "output_type": "stream",
     "text": [
      "coherence of |ψ1⟩ =  145.95716333929633\n"
     ]
    },
    {
     "data": {
      "text/plain": [
       "'applied P operator to |ψ4⟩'"
      ]
     },
     "metadata": {},
     "output_type": "display_data"
    },
    {
     "data": {
      "text/latex": [
       "$$(0.423876408488 - 0.346032143662 i) |00000000\\rangle+ (0.020329286829 + 0.02257796037 i) |00000001\\rangle+ (-0.020329286829 - 0.02257796037 i) |00000010\\rangle+ (0.020329286829 + 0.02257796037 i) |00000011\\rangle+ (-0.020329286829 - 0.02257796037 i) |00000100\\rangle+ (0.020329286829 + 0.02257796037 i) |00000101\\rangle + \\ldots + (-0.020329286829 - 0.02257796037 i) |11111011\\rangle+ (0.020329286829 + 0.02257796037 i) |11111100\\rangle+ (0.060987860488 + 0.067733881111 i) |11111101\\rangle+ (0.020329286829 + 0.02257796037 i) |11111110\\rangle+ (-0.020329286829 - 0.02257796037 i) |11111111\\rangle$$"
      ],
      "text/plain": [
       "<IPython.core.display.Latex object>"
      ]
     },
     "metadata": {},
     "output_type": "display_data"
    },
    {
     "name": "stdout",
     "output_type": "stream",
     "text": [
      "coherence of |ψ4⟩ =  145.95716333929633\n"
     ]
    },
    {
     "data": {
      "text/plain": [
       "'applied Hadamard to all |ψ5⟩'"
      ]
     },
     "metadata": {},
     "output_type": "display_data"
    },
    {
     "data": {
      "text/latex": [
       "$$(0.02268053425 - 0.025860376548 i) |00000000\\rangle+ (0.02268053425 - 0.025860376548 i) |00000001\\rangle+ (0.02268053425 - 0.025860376548 i) |00000010\\rangle+ (0.02268053425 - 0.025860376548 i) |00000011\\rangle+ (0.02268053425 - 0.025860376548 i) |00000100\\rangle+ (0.02268053425 - 0.025860376548 i) |00000101\\rangle + \\ldots + (0.02268053425 - 0.025860376548 i) |11111011\\rangle+ (0.34794912352 + 0.335386989376 i) |11111100\\rangle+ (0.02268053425 - 0.025860376548 i) |11111101\\rangle+ (0.02268053425 - 0.025860376548 i) |11111110\\rangle+ (0.02268053425 - 0.025860376548 i) |11111111\\rangle$$"
      ],
      "text/plain": [
       "<IPython.core.display.Latex object>"
      ]
     },
     "metadata": {},
     "output_type": "display_data"
    },
    {
     "name": "stdout",
     "output_type": "stream",
     "text": [
      "coherence of |ψ5⟩ =  102.06930131835202\n",
      "-------- 7  ITERATION--------\n"
     ]
    },
    {
     "data": {
      "text/plain": [
       "'applied O operator to |ψ2⟩'"
      ]
     },
     "metadata": {},
     "output_type": "display_data"
    },
    {
     "data": {
      "text/latex": [
       "$$(0.02268053425 - 0.025860376548 i) |00000000\\rangle+ (0.02268053425 - 0.025860376548 i) |00000001\\rangle+ (0.02268053425 - 0.025860376548 i) |00000010\\rangle+ (0.02268053425 - 0.025860376548 i) |00000011\\rangle+ (0.02268053425 - 0.025860376548 i) |00000100\\rangle+ (0.02268053425 - 0.025860376548 i) |00000101\\rangle + \\ldots + (0.02268053425 - 0.025860376548 i) |11111011\\rangle+ (-0.242024981648 - 0.418302442569 i) |11111100\\rangle+ (0.02268053425 - 0.025860376548 i) |11111101\\rangle+ (0.02268053425 - 0.025860376548 i) |11111110\\rangle+ (0.02268053425 - 0.025860376548 i) |11111111\\rangle$$"
      ],
      "text/plain": [
       "<IPython.core.display.Latex object>"
      ]
     },
     "metadata": {},
     "output_type": "display_data"
    },
    {
     "name": "stdout",
     "output_type": "stream",
     "text": [
      "coherence of |ψ2⟩ =  102.06930131835202\n"
     ]
    },
    {
     "data": {
      "text/plain": [
       "'applied Hadamard to all |ψ1⟩'"
      ]
     },
     "metadata": {},
     "output_type": "display_data"
    },
    {
     "data": {
      "text/latex": [
       "$$(0.313256263769 - 0.487348912151 i) |00000000\\rangle+ (-0.016544094744 - 0.024527629126 i) |00000001\\rangle+ (0.016544094744 + 0.024527629126 i) |00000010\\rangle+ (-0.016544094744 - 0.024527629126 i) |00000011\\rangle+ (0.016544094744 + 0.024527629126 i) |00000100\\rangle+ (-0.016544094744 - 0.024527629126 i) |00000101\\rangle + \\ldots + (0.016544094744 + 0.024527629126 i) |11111011\\rangle+ (-0.016544094744 - 0.024527629126 i) |11111100\\rangle+ (-0.049632284231 - 0.073582887379 i) |11111101\\rangle+ (-0.016544094744 - 0.024527629126 i) |11111110\\rangle+ (0.016544094744 + 0.024527629126 i) |11111111\\rangle$$"
      ],
      "text/plain": [
       "<IPython.core.display.Latex object>"
      ]
     },
     "metadata": {},
     "output_type": "display_data"
    },
    {
     "name": "stdout",
     "output_type": "stream",
     "text": [
      "coherence of |ψ1⟩ =  139.4576267770388\n"
     ]
    },
    {
     "data": {
      "text/plain": [
       "'applied P operator to |ψ4⟩'"
      ]
     },
     "metadata": {},
     "output_type": "display_data"
    },
    {
     "data": {
      "text/latex": [
       "$$(0.313256263769 - 0.487348912151 i) |00000000\\rangle+ (0.016544094744 + 0.024527629126 i) |00000001\\rangle+ (-0.016544094744 - 0.024527629126 i) |00000010\\rangle+ (0.016544094744 + 0.024527629126 i) |00000011\\rangle+ (-0.016544094744 - 0.024527629126 i) |00000100\\rangle+ (0.016544094744 + 0.024527629126 i) |00000101\\rangle + \\ldots + (-0.016544094744 - 0.024527629126 i) |11111011\\rangle+ (0.016544094744 + 0.024527629126 i) |11111100\\rangle+ (0.049632284231 + 0.073582887379 i) |11111101\\rangle+ (0.016544094744 + 0.024527629126 i) |11111110\\rangle+ (-0.016544094744 - 0.024527629126 i) |11111111\\rangle$$"
      ],
      "text/plain": [
       "<IPython.core.display.Latex object>"
      ]
     },
     "metadata": {},
     "output_type": "display_data"
    },
    {
     "name": "stdout",
     "output_type": "stream",
     "text": [
      "coherence of |ψ4⟩ =  139.4576267770388\n"
     ]
    },
    {
     "data": {
      "text/plain": [
       "'applied Hadamard to all |ψ5⟩'"
      ]
     },
     "metadata": {},
     "output_type": "display_data"
    },
    {
     "data": {
      "text/latex": [
       "$$(0.016476498721 - 0.035058237471 i) |00000000\\rangle+ (0.016476498721 - 0.035058237471 i) |00000001\\rangle+ (0.016476498721 - 0.035058237471 i) |00000010\\rangle+ (0.016476498721 - 0.035058237471 i) |00000011\\rangle+ (0.016476498721 - 0.035058237471 i) |00000100\\rangle+ (0.016476498721 - 0.035058237471 i) |00000101\\rangle + \\ldots + (0.016476498721 - 0.035058237471 i) |11111011\\rangle+ (0.281182014619 + 0.35738382855 i) |11111100\\rangle+ (0.016476498721 - 0.035058237471 i) |11111101\\rangle+ (0.016476498721 - 0.035058237471 i) |11111110\\rangle+ (0.016476498721 - 0.035058237471 i) |11111111\\rangle$$"
      ],
      "text/plain": [
       "<IPython.core.display.Latex object>"
      ]
     },
     "metadata": {},
     "output_type": "display_data"
    },
    {
     "name": "stdout",
     "output_type": "stream",
     "text": [
      "coherence of |ψ5⟩ =  123.64994831525773\n",
      "======================================== FOR ϕ =  211.0 ========================================\n"
     ]
    },
    {
     "data": {
      "text/plain": [
       "'initialised |ψ0⟩'"
      ]
     },
     "metadata": {},
     "output_type": "display_data"
    },
    {
     "data": {
      "text/latex": [
       "$$ |00000000\\rangle$$"
      ],
      "text/plain": [
       "<IPython.core.display.Latex object>"
      ]
     },
     "metadata": {},
     "output_type": "display_data"
    },
    {
     "name": "stdout",
     "output_type": "stream",
     "text": [
      "coherence of |ψ0⟩ =  0.0\n"
     ]
    },
    {
     "data": {
      "text/plain": [
       "'applied Hadamard to all |ψ1⟩'"
      ]
     },
     "metadata": {},
     "output_type": "display_data"
    },
    {
     "data": {
      "text/latex": [
       "$$\\frac{1}{16} |00000000\\rangle+\\frac{1}{16} |00000001\\rangle+\\frac{1}{16} |00000010\\rangle+\\frac{1}{16} |00000011\\rangle+\\frac{1}{16} |00000100\\rangle+\\frac{1}{16} |00000101\\rangle + \\ldots +\\frac{1}{16} |11111011\\rangle+\\frac{1}{16} |11111100\\rangle+\\frac{1}{16} |11111101\\rangle+\\frac{1}{16} |11111110\\rangle+\\frac{1}{16} |11111111\\rangle$$"
      ],
      "text/plain": [
       "<IPython.core.display.Latex object>"
      ]
     },
     "metadata": {},
     "output_type": "display_data"
    },
    {
     "name": "stdout",
     "output_type": "stream",
     "text": [
      "coherence of |ψ1⟩ =  255.00000000000003\n",
      "-------- 1  ITERATION--------\n"
     ]
    },
    {
     "data": {
      "text/plain": [
       "'applied O operator to |ψ2⟩'"
      ]
     },
     "metadata": {},
     "output_type": "display_data"
    },
    {
     "data": {
      "text/latex": [
       "$$\\frac{1}{16} |00000000\\rangle+\\frac{1}{16} |00000001\\rangle+\\frac{1}{16} |00000010\\rangle+\\frac{1}{16} |00000011\\rangle+\\frac{1}{16} |00000100\\rangle+\\frac{1}{16} |00000101\\rangle + \\ldots +\\frac{1}{16} |11111011\\rangle+ (-0.053572956294 - 0.032189879682 i) |11111100\\rangle+\\frac{1}{16} |11111101\\rangle+\\frac{1}{16} |11111110\\rangle+\\frac{1}{16} |11111111\\rangle$$"
      ],
      "text/plain": [
       "<IPython.core.display.Latex object>"
      ]
     },
     "metadata": {},
     "output_type": "display_data"
    },
    {
     "name": "stdout",
     "output_type": "stream",
     "text": [
      "coherence of |ψ2⟩ =  255.00000000000003\n"
     ]
    },
    {
     "data": {
      "text/plain": [
       "'applied Hadamard to all |ψ1⟩'"
      ]
     },
     "metadata": {},
     "output_type": "display_data"
    },
    {
     "data": {
      "text/latex": [
       "$$(0.978236320695 - 0.00603560244 i) |00000000\\rangle+ (-0.007254559768 - 0.00201186748 i) |00000001\\rangle+ (0.007254559768 + 0.00201186748 i) |00000010\\rangle+ (-0.007254559768 - 0.00201186748 i) |00000011\\rangle+ (0.007254559768 + 0.00201186748 i) |00000100\\rangle+ (-0.007254559768 - 0.00201186748 i) |00000101\\rangle + \\ldots + (0.007254559768 + 0.00201186748 i) |11111011\\rangle+ (-0.007254559768 - 0.00201186748 i) |11111100\\rangle+ (-0.021763679305 - 0.00603560244 i) |11111101\\rangle+ (-0.007254559768 - 0.00201186748 i) |11111110\\rangle+ (0.007254559768 + 0.00201186748 i) |11111111\\rangle$$"
      ],
      "text/plain": [
       "<IPython.core.display.Latex object>"
      ]
     },
     "metadata": {},
     "output_type": "display_data"
    },
    {
     "name": "stdout",
     "output_type": "stream",
     "text": [
      "coherence of |ψ1⟩ =  13.796033149010134\n"
     ]
    },
    {
     "data": {
      "text/plain": [
       "'applied P operator to |ψ4⟩'"
      ]
     },
     "metadata": {},
     "output_type": "display_data"
    },
    {
     "data": {
      "text/latex": [
       "$$(0.978236320695 - 0.00603560244 i) |00000000\\rangle+ (0.007254559768 + 0.00201186748 i) |00000001\\rangle+ (-0.007254559768 - 0.00201186748 i) |00000010\\rangle+ (0.007254559768 + 0.00201186748 i) |00000011\\rangle+ (-0.007254559768 - 0.00201186748 i) |00000100\\rangle+ (0.007254559768 + 0.00201186748 i) |00000101\\rangle + \\ldots + (-0.007254559768 - 0.00201186748 i) |11111011\\rangle+ (0.007254559768 + 0.00201186748 i) |11111100\\rangle+ (0.021763679305 + 0.00603560244 i) |11111101\\rangle+ (0.007254559768 + 0.00201186748 i) |11111110\\rangle+ (-0.007254559768 - 0.00201186748 i) |11111111\\rangle$$"
      ],
      "text/plain": [
       "<IPython.core.display.Latex object>"
      ]
     },
     "metadata": {},
     "output_type": "display_data"
    },
    {
     "name": "stdout",
     "output_type": "stream",
     "text": [
      "coherence of |ψ4⟩ =  13.796033149010134\n"
     ]
    },
    {
     "data": {
      "text/plain": [
       "'applied Hadamard to all |ψ5⟩'"
      ]
     },
     "metadata": {},
     "output_type": "display_data"
    },
    {
     "data": {
      "text/latex": [
       "$$(0.059779540087 - 0.000754450305 i) |00000000\\rangle+ (0.059779540087 - 0.000754450305 i) |00000001\\rangle+ (0.059779540087 - 0.000754450305 i) |00000010\\rangle+ (0.059779540087 - 0.000754450305 i) |00000011\\rangle+ (0.059779540087 - 0.000754450305 i) |00000100\\rangle+ (0.059779540087 - 0.000754450305 i) |00000101\\rangle + \\ldots + (0.059779540087 - 0.000754450305 i) |11111011\\rangle+ (0.175852496381 + 0.031435429377 i) |11111100\\rangle+ (0.059779540087 - 0.000754450305 i) |11111101\\rangle+ (0.059779540087 - 0.000754450305 i) |11111110\\rangle+ (0.059779540087 - 0.000754450305 i) |11111111\\rangle$$"
      ],
      "text/plain": [
       "<IPython.core.display.Latex object>"
      ]
     },
     "metadata": {},
     "output_type": "display_data"
    },
    {
     "name": "stdout",
     "output_type": "stream",
     "text": [
      "coherence of |ψ5⟩ =  244.27783322285208\n",
      "-------- 2  ITERATION--------\n"
     ]
    },
    {
     "data": {
      "text/plain": [
       "'applied O operator to |ψ2⟩'"
      ]
     },
     "metadata": {},
     "output_type": "display_data"
    },
    {
     "data": {
      "text/latex": [
       "$$(0.059779540087 - 0.000754450305 i) |00000000\\rangle+ (0.059779540087 - 0.000754450305 i) |00000001\\rangle+ (0.059779540087 - 0.000754450305 i) |00000010\\rangle+ (0.059779540087 - 0.000754450305 i) |00000011\\rangle+ (0.059779540087 - 0.000754450305 i) |00000100\\rangle+ (0.059779540087 - 0.000754450305 i) |00000101\\rangle + \\ldots + (0.059779540087 - 0.000754450305 i) |11111011\\rangle+ (-0.134544566614 - 0.117516153349 i) |11111100\\rangle+ (0.059779540087 - 0.000754450305 i) |11111101\\rangle+ (0.059779540087 - 0.000754450305 i) |11111110\\rangle+ (0.059779540087 - 0.000754450305 i) |11111111\\rangle$$"
      ],
      "text/plain": [
       "<IPython.core.display.Latex object>"
      ]
     },
     "metadata": {},
     "output_type": "display_data"
    },
    {
     "name": "stdout",
     "output_type": "stream",
     "text": [
      "coherence of |ψ2⟩ =  244.27783322285208\n"
     ]
    },
    {
     "data": {
      "text/plain": [
       "'applied Hadamard to all |ψ1⟩'"
      ]
     },
     "metadata": {},
     "output_type": "display_data"
    },
    {
     "data": {
      "text/latex": [
       "$$(0.920036871383 - 0.033964024202 i) |00000000\\rangle+ (-0.012145256669 - 0.00729760644 i) |00000001\\rangle+ (0.012145256669 + 0.00729760644 i) |00000010\\rangle+ (-0.012145256669 - 0.00729760644 i) |00000011\\rangle+ (0.012145256669 + 0.00729760644 i) |00000100\\rangle+ (-0.012145256669 - 0.00729760644 i) |00000101\\rangle + \\ldots + (0.012145256669 + 0.00729760644 i) |11111011\\rangle+ (-0.012145256669 - 0.00729760644 i) |11111100\\rangle+ (-0.036435770006 - 0.021892819321 i) |11111101\\rangle+ (-0.012145256669 - 0.00729760644 i) |11111110\\rangle+ (0.012145256669 + 0.00729760644 i) |11111111\\rangle$$"
      ],
      "text/plain": [
       "<IPython.core.display.Latex object>"
      ]
     },
     "metadata": {},
     "output_type": "display_data"
    },
    {
     "name": "stdout",
     "output_type": "stream",
     "text": [
      "coherence of |ψ1⟩ =  38.930724084413235\n"
     ]
    },
    {
     "data": {
      "text/plain": [
       "'applied P operator to |ψ4⟩'"
      ]
     },
     "metadata": {},
     "output_type": "display_data"
    },
    {
     "data": {
      "text/latex": [
       "$$(0.920036871383 - 0.033964024202 i) |00000000\\rangle+ (0.012145256669 + 0.00729760644 i) |00000001\\rangle+ (-0.012145256669 - 0.00729760644 i) |00000010\\rangle+ (0.012145256669 + 0.00729760644 i) |00000011\\rangle+ (-0.012145256669 - 0.00729760644 i) |00000100\\rangle+ (0.012145256669 + 0.00729760644 i) |00000101\\rangle + \\ldots + (-0.012145256669 - 0.00729760644 i) |11111011\\rangle+ (0.012145256669 + 0.00729760644 i) |11111100\\rangle+ (0.036435770006 + 0.021892819321 i) |11111101\\rangle+ (0.012145256669 + 0.00729760644 i) |11111110\\rangle+ (-0.012145256669 - 0.00729760644 i) |11111111\\rangle$$"
      ],
      "text/plain": [
       "<IPython.core.display.Latex object>"
      ]
     },
     "metadata": {},
     "output_type": "display_data"
    },
    {
     "name": "stdout",
     "output_type": "stream",
     "text": [
      "coherence of |ψ4⟩ =  38.930724084413235\n"
     ]
    },
    {
     "data": {
      "text/plain": [
       "'applied Hadamard to all |ψ5⟩'"
      ]
     },
     "metadata": {},
     "output_type": "display_data"
    },
    {
     "data": {
      "text/latex": [
       "$$(0.055225068836 - 0.00349105272 i) |00000000\\rangle+ (0.055225068836 - 0.00349105272 i) |00000001\\rangle+ (0.055225068836 - 0.00349105272 i) |00000010\\rangle+ (0.055225068836 - 0.00349105272 i) |00000011\\rangle+ (0.055225068836 - 0.00349105272 i) |00000100\\rangle+ (0.055225068836 - 0.00349105272 i) |00000101\\rangle + \\ldots + (0.055225068836 - 0.00349105272 i) |11111011\\rangle+ (0.249549175537 + 0.113270650324 i) |11111100\\rangle+ (0.055225068836 - 0.00349105272 i) |11111101\\rangle+ (0.055225068836 - 0.00349105272 i) |11111110\\rangle+ (0.055225068836 - 0.00349105272 i) |11111111\\rangle$$"
      ],
      "text/plain": [
       "<IPython.core.display.Latex object>"
      ]
     },
     "metadata": {},
     "output_type": "display_data"
    },
    {
     "name": "stdout",
     "output_type": "stream",
     "text": [
      "coherence of |ψ5⟩ =  218.6913990751949\n",
      "-------- 3  ITERATION--------\n"
     ]
    },
    {
     "data": {
      "text/plain": [
       "'applied O operator to |ψ2⟩'"
      ]
     },
     "metadata": {},
     "output_type": "display_data"
    },
    {
     "data": {
      "text/latex": [
       "$$(0.055225068836 - 0.00349105272 i) |00000000\\rangle+ (0.055225068836 - 0.00349105272 i) |00000001\\rangle+ (0.055225068836 - 0.00349105272 i) |00000010\\rangle+ (0.055225068836 - 0.00349105272 i) |00000011\\rangle+ (0.055225068836 - 0.00349105272 i) |00000100\\rangle+ (0.055225068836 - 0.00349105272 i) |00000101\\rangle + \\ldots + (0.055225068836 - 0.00349105272 i) |11111011\\rangle+ (-0.155566695501 - 0.225619224551 i) |11111100\\rangle+ (0.055225068836 - 0.00349105272 i) |11111101\\rangle+ (0.055225068836 - 0.00349105272 i) |11111110\\rangle+ (0.055225068836 - 0.00349105272 i) |11111111\\rangle$$"
      ],
      "text/plain": [
       "<IPython.core.display.Latex object>"
      ]
     },
     "metadata": {},
     "output_type": "display_data"
    },
    {
     "name": "stdout",
     "output_type": "stream",
     "text": [
      "coherence of |ψ2⟩ =  218.6913990751949\n"
     ]
    },
    {
     "data": {
      "text/plain": [
       "'applied Hadamard to all |ψ1⟩'"
      ]
     },
     "metadata": {},
     "output_type": "display_data"
    },
    {
     "data": {
      "text/latex": [
       "$$(0.844077645564 - 0.097505875741 i) |00000000\\rangle+ (-0.013174485271 - 0.013883010739 i) |00000001\\rangle+ (0.013174485271 + 0.013883010739 i) |00000010\\rangle+ (-0.013174485271 - 0.013883010739 i) |00000011\\rangle+ (0.013174485271 + 0.013883010739 i) |00000100\\rangle+ (-0.013174485271 - 0.013883010739 i) |00000101\\rangle + \\ldots + (0.013174485271 + 0.013883010739 i) |11111011\\rangle+ (-0.013174485271 - 0.013883010739 i) |11111100\\rangle+ (-0.039523455813 - 0.041649032218 i) |11111101\\rangle+ (-0.013174485271 - 0.013883010739 i) |11111110\\rangle+ (0.013174485271 + 0.013883010739 i) |11111111\\rangle$$"
      ],
      "text/plain": [
       "<IPython.core.display.Latex object>"
      ]
     },
     "metadata": {},
     "output_type": "display_data"
    },
    {
     "name": "stdout",
     "output_type": "stream",
     "text": [
      "coherence of |ψ1⟩ =  65.28706585514108\n"
     ]
    },
    {
     "data": {
      "text/plain": [
       "'applied P operator to |ψ4⟩'"
      ]
     },
     "metadata": {},
     "output_type": "display_data"
    },
    {
     "data": {
      "text/latex": [
       "$$(0.844077645564 - 0.097505875741 i) |00000000\\rangle+ (0.013174485271 + 0.013883010739 i) |00000001\\rangle+ (-0.013174485271 - 0.013883010739 i) |00000010\\rangle+ (0.013174485271 + 0.013883010739 i) |00000011\\rangle+ (-0.013174485271 - 0.013883010739 i) |00000100\\rangle+ (0.013174485271 + 0.013883010739 i) |00000101\\rangle + \\ldots + (-0.013174485271 - 0.013883010739 i) |11111011\\rangle+ (0.013174485271 + 0.013883010739 i) |11111100\\rangle+ (0.039523455813 + 0.041649032218 i) |11111101\\rangle+ (0.013174485271 + 0.013883010739 i) |11111110\\rangle+ (-0.013174485271 - 0.013883010739 i) |11111111\\rangle$$"
      ],
      "text/plain": [
       "<IPython.core.display.Latex object>"
      ]
     },
     "metadata": {},
     "output_type": "display_data"
    },
    {
     "name": "stdout",
     "output_type": "stream",
     "text": [
      "coherence of |ψ4⟩ =  65.28706585514108\n"
     ]
    },
    {
     "data": {
      "text/plain": [
       "'applied Hadamard to all |ψ5⟩'"
      ]
     },
     "metadata": {},
     "output_type": "display_data"
    },
    {
     "data": {
      "text/latex": [
       "$$(0.050284636859 - 0.008697181747 i) |00000000\\rangle+ (0.050284636859 - 0.008697181747 i) |00000001\\rangle+ (0.050284636859 - 0.008697181747 i) |00000010\\rangle+ (0.050284636859 - 0.008697181747 i) |00000011\\rangle+ (0.050284636859 - 0.008697181747 i) |00000100\\rangle+ (0.050284636859 - 0.008697181747 i) |00000101\\rangle + \\ldots + (0.050284636859 - 0.008697181747 i) |11111011\\rangle+ (0.261076401196 + 0.213430990084 i) |11111100\\rangle+ (0.050284636859 - 0.008697181747 i) |11111101\\rangle+ (0.050284636859 - 0.008697181747 i) |11111110\\rangle+ (0.050284636859 - 0.008697181747 i) |11111111\\rangle$$"
      ],
      "text/plain": [
       "<IPython.core.display.Latex object>"
      ]
     },
     "metadata": {},
     "output_type": "display_data"
    },
    {
     "name": "stdout",
     "output_type": "stream",
     "text": [
      "coherence of |ψ5⟩ =  192.8372050346265\n",
      "-------- 4  ITERATION--------\n"
     ]
    },
    {
     "data": {
      "text/plain": [
       "'applied O operator to |ψ2⟩'"
      ]
     },
     "metadata": {},
     "output_type": "display_data"
    },
    {
     "data": {
      "text/latex": [
       "$$(0.050284636859 - 0.008697181747 i) |00000000\\rangle+ (0.050284636859 - 0.008697181747 i) |00000001\\rangle+ (0.050284636859 - 0.008697181747 i) |00000010\\rangle+ (0.050284636859 - 0.008697181747 i) |00000011\\rangle+ (0.050284636859 - 0.008697181747 i) |00000100\\rangle+ (0.050284636859 - 0.008697181747 i) |00000101\\rangle + \\ldots + (0.050284636859 - 0.008697181747 i) |11111011\\rangle+ (-0.113861067832 - 0.317410352733 i) |11111100\\rangle+ (0.050284636859 - 0.008697181747 i) |11111101\\rangle+ (0.050284636859 - 0.008697181747 i) |11111110\\rangle+ (0.050284636859 - 0.008697181747 i) |11111111\\rangle$$"
      ],
      "text/plain": [
       "<IPython.core.display.Latex object>"
      ]
     },
     "metadata": {},
     "output_type": "display_data"
    },
    {
     "name": "stdout",
     "output_type": "stream",
     "text": [
      "coherence of |ψ2⟩ =  192.8372050346265\n"
     ]
    },
    {
     "data": {
      "text/plain": [
       "'applied Hadamard to all |ψ1⟩'"
      ]
     },
     "metadata": {},
     "output_type": "display_data"
    },
    {
     "data": {
      "text/latex": [
       "$$(0.773776870121 - 0.197038627519 i) |00000000\\rangle+ (-0.010259106543 - 0.019294573187 i) |00000001\\rangle+ (0.010259106543 + 0.019294573187 i) |00000010\\rangle+ (-0.010259106543 - 0.019294573187 i) |00000011\\rangle+ (0.010259106543 + 0.019294573187 i) |00000100\\rangle+ (-0.010259106543 - 0.019294573187 i) |00000101\\rangle + \\ldots + (0.010259106543 + 0.019294573187 i) |11111011\\rangle+ (-0.010259106543 - 0.019294573187 i) |11111100\\rangle+ (- \\frac{2^{\\frac{101}{132}} \\cdot 3^{\\frac{15}{22}} \\cdot 5^{\\frac{119}{264}} \\cdot 7^{\\frac{91}{132}}}{49 \\pi^{\\frac{677}{264}}} - \\frac{2 \\cdot \\sqrt[415]{2} \\cdot 3^{\\frac{188}{415}} \\cdot 5^{\\frac{258}{415}} \\cdot 7^{\\frac{401}{415}} i}{525 \\pi^{\\frac{239}{415}}}) |11111101\\rangle+ (-0.010259106543 - 0.019294573187 i) |11111110\\rangle+ (0.010259106543 + 0.019294573187 i) |11111111\\rangle$$"
      ],
      "text/plain": [
       "<IPython.core.display.Latex object>"
      ]
     },
     "metadata": {},
     "output_type": "display_data"
    },
    {
     "name": "stdout",
     "output_type": "stream",
     "text": [
      "coherence of |ψ1⟩ =  82.25204686666957\n"
     ]
    },
    {
     "data": {
      "text/plain": [
       "'applied P operator to |ψ4⟩'"
      ]
     },
     "metadata": {},
     "output_type": "display_data"
    },
    {
     "data": {
      "text/latex": [
       "$$(0.773776870121 - 0.197038627519 i) |00000000\\rangle+ (0.010259106543 + 0.019294573187 i) |00000001\\rangle+ (-0.010259106543 - 0.019294573187 i) |00000010\\rangle+ (0.010259106543 + 0.019294573187 i) |00000011\\rangle+ (-0.010259106543 - 0.019294573187 i) |00000100\\rangle+ (0.010259106543 + 0.019294573187 i) |00000101\\rangle + \\ldots + (-0.010259106543 - 0.019294573187 i) |11111011\\rangle+ (0.010259106543 + 0.019294573187 i) |11111100\\rangle+ (\\frac{2^{\\frac{101}{132}} \\cdot 3^{\\frac{15}{22}} \\cdot 5^{\\frac{119}{264}} \\cdot 7^{\\frac{91}{132}}}{49 \\pi^{\\frac{677}{264}}} + \\frac{2 \\cdot \\sqrt[415]{2} \\cdot 3^{\\frac{188}{415}} \\cdot 5^{\\frac{258}{415}} \\cdot 7^{\\frac{401}{415}} i}{525 \\pi^{\\frac{239}{415}}}) |11111101\\rangle+ (0.010259106543 + 0.019294573187 i) |11111110\\rangle+ (-0.010259106543 - 0.019294573187 i) |11111111\\rangle$$"
      ],
      "text/plain": [
       "<IPython.core.display.Latex object>"
      ]
     },
     "metadata": {},
     "output_type": "display_data"
    },
    {
     "name": "stdout",
     "output_type": "stream",
     "text": [
      "coherence of |ψ4⟩ =  82.25204686666957\n"
     ]
    },
    {
     "data": {
      "text/plain": [
       "'applied Hadamard to all |ψ5⟩'"
      ]
     },
     "metadata": {},
     "output_type": "display_data"
    },
    {
     "data": {
      "text/latex": [
       "$$(0.046437471906 - 0.015932646692 i) |00000000\\rangle+ (0.046437471906 - 0.015932646692 i) |00000001\\rangle+ (0.046437471906 - 0.015932646692 i) |00000010\\rangle+ (0.046437471906 - 0.015932646692 i) |00000011\\rangle+ (0.046437471906 - 0.015932646692 i) |00000100\\rangle+ (0.046437471906 - 0.015932646692 i) |00000101\\rangle + \\ldots + (0.046437471906 - 0.015932646692 i) |11111011\\rangle+ (0.210583176597 + 0.292780524293 i) |11111100\\rangle+ (0.046437471906 - 0.015932646692 i) |11111101\\rangle+ (0.046437471906 - 0.015932646692 i) |11111110\\rangle+ (0.046437471906 - 0.015932646692 i) |11111111\\rangle$$"
      ],
      "text/plain": [
       "<IPython.core.display.Latex object>"
      ]
     },
     "metadata": {},
     "output_type": "display_data"
    },
    {
     "name": "stdout",
     "output_type": "stream",
     "text": [
      "coherence of |ψ5⟩ =  181.32814225951586\n",
      "-------- 5  ITERATION--------\n"
     ]
    },
    {
     "data": {
      "text/plain": [
       "'applied O operator to |ψ2⟩'"
      ]
     },
     "metadata": {},
     "output_type": "display_data"
    },
    {
     "data": {
      "text/latex": [
       "$$(0.046437471906 - 0.015932646692 i) |00000000\\rangle+ (0.046437471906 - 0.015932646692 i) |00000001\\rangle+ (0.046437471906 - 0.015932646692 i) |00000010\\rangle+ (0.046437471906 - 0.015932646692 i) |00000011\\rangle+ (0.046437471906 - 0.015932646692 i) |00000100\\rangle+ (0.046437471906 - 0.015932646692 i) |00000101\\rangle + \\ldots + (0.046437471906 - 0.015932646692 i) |11111011\\rangle+ (-0.029711895454 - 0.359420245589 i) |11111100\\rangle+ (0.046437471906 - 0.015932646692 i) |11111101\\rangle+ (0.046437471906 - 0.015932646692 i) |11111110\\rangle+ (0.046437471906 - 0.015932646692 i) |11111111\\rangle$$"
      ],
      "text/plain": [
       "<IPython.core.display.Latex object>"
      ]
     },
     "metadata": {},
     "output_type": "display_data"
    },
    {
     "name": "stdout",
     "output_type": "stream",
     "text": [
      "coherence of |ψ2⟩ =  181.32814225951586\n"
     ]
    },
    {
     "data": {
      "text/plain": [
       "'applied Hadamard to all |ψ1⟩'"
      ]
     },
     "metadata": {},
     "output_type": "display_data"
    },
    {
     "data": {
      "text/latex": [
       "$$(0.728721544112 - 0.319326271872 i) |00000000\\rangle+ (-0.00475933546 - 0.021467974931 i) |00000001\\rangle+ (0.00475933546 + 0.021467974931 i) |00000010\\rangle+ (-0.00475933546 - 0.021467974931 i) |00000011\\rangle+ (0.00475933546 + 0.021467974931 i) |00000100\\rangle+ (-0.00475933546 - 0.021467974931 i) |00000101\\rangle + \\ldots + (0.00475933546 + 0.021467974931 i) |11111011\\rangle+ (-0.00475933546 - 0.021467974931 i) |11111100\\rangle+ (-0.01427800638 - 0.064403924793 i) |11111101\\rangle+ (-0.00475933546 - 0.021467974931 i) |11111110\\rangle+ (0.00475933546 + 0.021467974931 i) |11111111\\rangle$$"
      ],
      "text/plain": [
       "<IPython.core.display.Latex object>"
      ]
     },
     "metadata": {},
     "output_type": "display_data"
    },
    {
     "name": "stdout",
     "output_type": "stream",
     "text": [
      "coherence of |ψ1⟩ =  83.15316741330192\n"
     ]
    },
    {
     "data": {
      "text/plain": [
       "'applied P operator to |ψ4⟩'"
      ]
     },
     "metadata": {},
     "output_type": "display_data"
    },
    {
     "data": {
      "text/latex": [
       "$$(0.728721544112 - 0.319326271872 i) |00000000\\rangle+ (0.00475933546 + 0.021467974931 i) |00000001\\rangle+ (-0.00475933546 - 0.021467974931 i) |00000010\\rangle+ (0.00475933546 + 0.021467974931 i) |00000011\\rangle+ (-0.00475933546 - 0.021467974931 i) |00000100\\rangle+ (0.00475933546 + 0.021467974931 i) |00000101\\rangle + \\ldots + (-0.00475933546 - 0.021467974931 i) |11111011\\rangle+ (0.00475933546 + 0.021467974931 i) |11111100\\rangle+ (0.01427800638 + 0.064403924793 i) |11111101\\rangle+ (0.00475933546 + 0.021467974931 i) |11111110\\rangle+ (-0.00475933546 - 0.021467974931 i) |11111111\\rangle$$"
      ],
      "text/plain": [
       "<IPython.core.display.Latex object>"
      ]
     },
     "metadata": {},
     "output_type": "display_data"
    },
    {
     "name": "stdout",
     "output_type": "stream",
     "text": [
      "coherence of |ψ4⟩ =  83.15316741330192\n"
     ]
    },
    {
     "data": {
      "text/plain": [
       "'applied Hadamard to all |ψ5⟩'"
      ]
     },
     "metadata": {},
     "output_type": "display_data"
    },
    {
     "data": {
      "text/latex": [
       "$$(0.044652721108 - 0.023983137292 i) |00000000\\rangle+ (0.044652721108 - 0.023983137292 i) |00000001\\rangle+ (0.044652721108 - 0.023983137292 i) |00000010\\rangle+ (0.044652721108 - 0.023983137292 i) |00000011\\rangle+ (0.044652721108 - 0.023983137292 i) |00000100\\rangle+ (0.044652721108 - 0.023983137292 i) |00000101\\rangle + \\ldots + (0.044652721108 - 0.023983137292 i) |11111011\\rangle+ (0.120802088468 + 0.319504461605 i) |11111100\\rangle+ (0.044652721108 - 0.023983137292 i) |11111101\\rangle+ (0.044652721108 - 0.023983137292 i) |11111110\\rangle+ (0.044652721108 - 0.023983137292 i) |11111111\\rangle$$"
      ],
      "text/plain": [
       "<IPython.core.display.Latex object>"
      ]
     },
     "metadata": {},
     "output_type": "display_data"
    },
    {
     "name": "stdout",
     "output_type": "stream",
     "text": [
      "coherence of |ψ5⟩ =  190.77429544471582\n",
      "-------- 6  ITERATION--------\n"
     ]
    },
    {
     "data": {
      "text/plain": [
       "'applied O operator to |ψ2⟩'"
      ]
     },
     "metadata": {},
     "output_type": "display_data"
    },
    {
     "data": {
      "text/latex": [
       "$$(0.044652721108 - 0.023983137292 i) |00000000\\rangle+ (0.044652721108 - 0.023983137292 i) |00000001\\rangle+ (0.044652721108 - 0.023983137292 i) |00000010\\rangle+ (0.044652721108 - 0.023983137292 i) |00000011\\rangle+ (0.044652721108 - 0.023983137292 i) |00000100\\rangle+ (0.044652721108 - 0.023983137292 i) |00000101\\rangle + \\ldots + (0.044652721108 - 0.023983137292 i) |11111011\\rangle+ (0.061009362739 - 0.336086452006 i) |11111100\\rangle+ (0.044652721108 - 0.023983137292 i) |11111101\\rangle+ (0.044652721108 - 0.023983137292 i) |11111110\\rangle+ (0.044652721108 - 0.023983137292 i) |11111111\\rangle$$"
      ],
      "text/plain": [
       "<IPython.core.display.Latex object>"
      ]
     },
     "metadata": {},
     "output_type": "display_data"
    },
    {
     "name": "stdout",
     "output_type": "stream",
     "text": [
      "coherence of |ψ2⟩ =  190.77429544471582\n"
     ]
    },
    {
     "data": {
      "text/plain": [
       "'applied Hadamard to all |ψ1⟩'"
      ]
     },
     "metadata": {},
     "output_type": "display_data"
    },
    {
     "data": {
      "text/latex": [
       "$$(0.717510408037 - 0.442249568174 i) |00000000\\rangle+ (0.001022290102 - 0.01950645717 i) |00000001\\rangle+ (-0.001022290102 + 0.01950645717 i) |00000010\\rangle+ (0.001022290102 - 0.01950645717 i) |00000011\\rangle+ (-0.001022290102 + 0.01950645717 i) |00000100\\rangle+ (0.001022290102 - 0.01950645717 i) |00000101\\rangle + \\ldots + (-0.001022290102 + 0.01950645717 i) |11111011\\rangle+ (0.001022290102 - 0.01950645717 i) |11111100\\rangle+ (0.003066870306 - 0.058519371509 i) |11111101\\rangle+ (0.001022290102 - 0.01950645717 i) |11111110\\rangle+ (-0.001022290102 + 0.01950645717 i) |11111111\\rangle$$"
      ],
      "text/plain": [
       "<IPython.core.display.Latex object>"
      ]
     },
     "metadata": {},
     "output_type": "display_data"
    },
    {
     "name": "stdout",
     "output_type": "stream",
     "text": [
      "coherence of |ψ1⟩ =  67.64147657639963\n"
     ]
    },
    {
     "data": {
      "text/plain": [
       "'applied P operator to |ψ4⟩'"
      ]
     },
     "metadata": {},
     "output_type": "display_data"
    },
    {
     "data": {
      "text/latex": [
       "$$(0.717510408037 - 0.442249568174 i) |00000000\\rangle+ (-0.001022290102 + 0.01950645717 i) |00000001\\rangle+ (0.001022290102 - 0.01950645717 i) |00000010\\rangle+ (-0.001022290102 + 0.01950645717 i) |00000011\\rangle+ (0.001022290102 - 0.01950645717 i) |00000100\\rangle+ (-0.001022290102 + 0.01950645717 i) |00000101\\rangle + \\ldots + (0.001022290102 - 0.01950645717 i) |11111011\\rangle+ (-0.001022290102 + 0.01950645717 i) |11111100\\rangle+ (-0.003066870306 + 0.058519371509 i) |11111101\\rangle+ (-0.001022290102 + 0.01950645717 i) |11111110\\rangle+ (0.001022290102 - 0.01950645717 i) |11111111\\rangle$$"
      ],
      "text/plain": [
       "<IPython.core.display.Latex object>"
      ]
     },
     "metadata": {},
     "output_type": "display_data"
    },
    {
     "name": "stdout",
     "output_type": "stream",
     "text": [
      "coherence of |ψ4⟩ =  67.64147657639963\n"
     ]
    },
    {
     "data": {
      "text/plain": [
       "'applied Hadamard to all |ψ5⟩'"
      ]
     },
     "metadata": {},
     "output_type": "display_data"
    },
    {
     "data": {
      "text/latex": [
       "$$(0.045036079896 - 0.03129805873 i) |00000000\\rangle+ (0.045036079896 - 0.03129805873 i) |00000001\\rangle+ (0.045036079896 - 0.03129805873 i) |00000010\\rangle+ (0.045036079896 - 0.03129805873 i) |00000011\\rangle+ (0.045036079896 - 0.03129805873 i) |00000100\\rangle+ (0.045036079896 - 0.03129805873 i) |00000101\\rangle + \\ldots + (0.045036079896 - 0.03129805873 i) |11111011\\rangle+ (0.028679438265 + 0.280805255984 i) |11111100\\rangle+ (0.045036079896 - 0.03129805873 i) |11111101\\rangle+ (0.045036079896 - 0.03129805873 i) |11111110\\rangle+ (0.045036079896 - 0.03129805873 i) |11111111\\rangle$$"
      ],
      "text/plain": [
       "<IPython.core.display.Latex object>"
      ]
     },
     "metadata": {},
     "output_type": "display_data"
    },
    {
     "name": "stdout",
     "output_type": "stream",
     "text": [
      "coherence of |ψ5⟩ =  215.74378506238966\n",
      "-------- 7  ITERATION--------\n"
     ]
    },
    {
     "data": {
      "text/plain": [
       "'applied O operator to |ψ2⟩'"
      ]
     },
     "metadata": {},
     "output_type": "display_data"
    },
    {
     "data": {
      "text/latex": [
       "$$(0.045036079896 - 0.03129805873 i) |00000000\\rangle+ (0.045036079896 - 0.03129805873 i) |00000001\\rangle+ (0.045036079896 - 0.03129805873 i) |00000010\\rangle+ (0.045036079896 - 0.03129805873 i) |00000011\\rangle+ (0.045036079896 - 0.03129805873 i) |00000100\\rangle+ (0.045036079896 - 0.03129805873 i) |00000101\\rangle + \\ldots + (0.045036079896 - 0.03129805873 i) |11111011\\rangle+ (0.120042321783 - 0.255468085969 i) |11111100\\rangle+ (0.045036079896 - 0.03129805873 i) |11111101\\rangle+ (0.045036079896 - 0.03129805873 i) |11111110\\rangle+ (0.045036079896 - 0.03129805873 i) |11111111\\rangle$$"
      ],
      "text/plain": [
       "<IPython.core.display.Latex object>"
      ]
     },
     "metadata": {},
     "output_type": "display_data"
    },
    {
     "name": "stdout",
     "output_type": "stream",
     "text": [
      "coherence of |ψ2⟩ =  215.74378506238966\n"
     ]
    },
    {
     "data": {
      "text/plain": [
       "'applied Hadamard to all |ψ1⟩'"
      ]
     },
     "metadata": {},
     "output_type": "display_data"
    },
    {
     "data": {
      "text/latex": [
       "$$(0.734640948697 - 0.54280081979 i) |00000000\\rangle+ (0.004687890118 - 0.014010626702 i) |00000001\\rangle+ (-0.004687890118 + 0.014010626702 i) |00000010\\rangle+ (0.004687890118 - 0.014010626702 i) |00000011\\rangle+ (-0.004687890118 + 0.014010626702 i) |00000100\\rangle+ (0.004687890118 - 0.014010626702 i) |00000101\\rangle + \\ldots + (-0.004687890118 + 0.014010626702 i) |11111011\\rangle+ (0.004687890118 - 0.014010626702 i) |11111100\\rangle+ (0.014063670354 - 0.042031880107 i) |11111101\\rangle+ (0.004687890118 - 0.014010626702 i) |11111110\\rangle+ (-0.004687890118 + 0.014010626702 i) |11111111\\rangle$$"
      ],
      "text/plain": [
       "<IPython.core.display.Latex object>"
      ]
     },
     "metadata": {},
     "output_type": "display_data"
    },
    {
     "name": "stdout",
     "output_type": "stream",
     "text": [
      "coherence of |ψ1⟩ =  41.802318192514576\n"
     ]
    },
    {
     "data": {
      "text/plain": [
       "'applied P operator to |ψ4⟩'"
      ]
     },
     "metadata": {},
     "output_type": "display_data"
    },
    {
     "data": {
      "text/latex": [
       "$$(0.734640948697 - 0.54280081979 i) |00000000\\rangle+ (-0.004687890118 + 0.014010626702 i) |00000001\\rangle+ (0.004687890118 - 0.014010626702 i) |00000010\\rangle+ (-0.004687890118 + 0.014010626702 i) |00000011\\rangle+ (0.004687890118 - 0.014010626702 i) |00000100\\rangle+ (-0.004687890118 + 0.014010626702 i) |00000101\\rangle + \\ldots + (0.004687890118 - 0.014010626702 i) |11111011\\rangle+ (-0.004687890118 + 0.014010626702 i) |11111100\\rangle+ (-0.014063670354 + 0.042031880107 i) |11111101\\rangle+ (-0.004687890118 + 0.014010626702 i) |11111110\\rangle+ (0.004687890118 - 0.014010626702 i) |11111111\\rangle$$"
      ],
      "text/plain": [
       "<IPython.core.display.Latex object>"
      ]
     },
     "metadata": {},
     "output_type": "display_data"
    },
    {
     "name": "stdout",
     "output_type": "stream",
     "text": [
      "coherence of |ψ4⟩ =  41.802318192514576\n"
     ]
    },
    {
     "data": {
      "text/plain": [
       "'applied Hadamard to all |ψ5⟩'"
      ]
     },
     "metadata": {},
     "output_type": "display_data"
    },
    {
     "data": {
      "text/latex": [
       "$$(0.046794038691 - 0.036552043744 i) |00000000\\rangle+ (0.046794038691 - 0.036552043744 i) |00000001\\rangle+ (0.046794038691 - 0.036552043744 i) |00000010\\rangle+ (0.046794038691 - 0.036552043744 i) |00000011\\rangle+ (0.046794038691 - 0.036552043744 i) |00000100\\rangle+ (0.046794038691 - 0.036552043744 i) |00000101\\rangle + \\ldots + (0.046794038691 - 0.036552043744 i) |11111011\\rangle+ (-0.028212203196 + 0.187617983495 i) |11111100\\rangle+ (0.046794038691 - 0.036552043744 i) |11111101\\rangle+ (0.046794038691 - 0.036552043744 i) |11111110\\rangle+ (0.046794038691 - 0.036552043744 i) |11111111\\rangle$$"
      ],
      "text/plain": [
       "<IPython.core.display.Latex object>"
      ]
     },
     "metadata": {},
     "output_type": "display_data"
    },
    {
     "name": "stdout",
     "output_type": "stream",
     "text": [
      "coherence of |ψ5⟩ =  242.1038613709967\n",
      "======================================== FOR ϕ =  226.0 ========================================\n"
     ]
    },
    {
     "data": {
      "text/plain": [
       "'initialised |ψ0⟩'"
      ]
     },
     "metadata": {},
     "output_type": "display_data"
    },
    {
     "data": {
      "text/latex": [
       "$$ |00000000\\rangle$$"
      ],
      "text/plain": [
       "<IPython.core.display.Latex object>"
      ]
     },
     "metadata": {},
     "output_type": "display_data"
    },
    {
     "name": "stdout",
     "output_type": "stream",
     "text": [
      "coherence of |ψ0⟩ =  0.0\n"
     ]
    },
    {
     "data": {
      "text/plain": [
       "'applied Hadamard to all |ψ1⟩'"
      ]
     },
     "metadata": {},
     "output_type": "display_data"
    },
    {
     "data": {
      "text/latex": [
       "$$\\frac{1}{16} |00000000\\rangle+\\frac{1}{16} |00000001\\rangle+\\frac{1}{16} |00000010\\rangle+\\frac{1}{16} |00000011\\rangle+\\frac{1}{16} |00000100\\rangle+\\frac{1}{16} |00000101\\rangle + \\ldots +\\frac{1}{16} |11111011\\rangle+\\frac{1}{16} |11111100\\rangle+\\frac{1}{16} |11111101\\rangle+\\frac{1}{16} |11111110\\rangle+\\frac{1}{16} |11111111\\rangle$$"
      ],
      "text/plain": [
       "<IPython.core.display.Latex object>"
      ]
     },
     "metadata": {},
     "output_type": "display_data"
    },
    {
     "name": "stdout",
     "output_type": "stream",
     "text": [
      "coherence of |ψ1⟩ =  255.00000000000003\n",
      "-------- 1  ITERATION--------\n"
     ]
    },
    {
     "data": {
      "text/plain": [
       "'applied O operator to |ψ2⟩'"
      ]
     },
     "metadata": {},
     "output_type": "display_data"
    },
    {
     "data": {
      "text/latex": [
       "$$\\frac{1}{16} |00000000\\rangle+\\frac{1}{16} |00000001\\rangle+\\frac{1}{16} |00000010\\rangle+\\frac{1}{16} |00000011\\rangle+\\frac{1}{16} |00000100\\rangle+\\frac{1}{16} |00000101\\rangle + \\ldots +\\frac{1}{16} |11111011\\rangle+ (-0.043416148154 - 0.044958737521 i) |11111100\\rangle+\\frac{1}{16} |11111101\\rangle+\\frac{1}{16} |11111110\\rangle+\\frac{1}{16} |11111111\\rangle$$"
      ],
      "text/plain": [
       "<IPython.core.display.Latex object>"
      ]
     },
     "metadata": {},
     "output_type": "display_data"
    },
    {
     "name": "stdout",
     "output_type": "stream",
     "text": [
      "coherence of |ψ2⟩ =  255.00000000000003\n"
     ]
    },
    {
     "data": {
      "text/plain": [
       "'applied Hadamard to all |ψ1⟩'"
      ]
     },
     "metadata": {},
     "output_type": "display_data"
    },
    {
     "data": {
      "text/latex": [
       "$$(0.980140722221 - 0.008429763285 i) |00000000\\rangle+ (-0.00661975926 - 0.002809921095 i) |00000001\\rangle+ (0.00661975926 + 0.002809921095 i) |00000010\\rangle+ (-0.00661975926 - 0.002809921095 i) |00000011\\rangle+ (0.00661975926 + 0.002809921095 i) |00000100\\rangle+ (-0.00661975926 - 0.002809921095 i) |00000101\\rangle + \\ldots + (0.00661975926 + 0.002809921095 i) |11111011\\rangle+ (-0.00661975926 - 0.002809921095 i) |11111100\\rangle+ (-0.019859277779 - 0.008429763285 i) |11111101\\rangle+ (-0.00661975926 - 0.002809921095 i) |11111110\\rangle+ (0.00661975926 + 0.002809921095 i) |11111111\\rangle$$"
      ],
      "text/plain": [
       "<IPython.core.display.Latex object>"
      ]
     },
     "metadata": {},
     "output_type": "display_data"
    },
    {
     "name": "stdout",
     "output_type": "stream",
     "text": [
      "coherence of |ψ1⟩ =  12.839271979986115\n"
     ]
    },
    {
     "data": {
      "text/plain": [
       "'applied P operator to |ψ4⟩'"
      ]
     },
     "metadata": {},
     "output_type": "display_data"
    },
    {
     "data": {
      "text/latex": [
       "$$(0.980140722221 - 0.008429763285 i) |00000000\\rangle+ (0.00661975926 + 0.002809921095 i) |00000001\\rangle+ (-0.00661975926 - 0.002809921095 i) |00000010\\rangle+ (0.00661975926 + 0.002809921095 i) |00000011\\rangle+ (-0.00661975926 - 0.002809921095 i) |00000100\\rangle+ (0.00661975926 + 0.002809921095 i) |00000101\\rangle + \\ldots + (-0.00661975926 - 0.002809921095 i) |11111011\\rangle+ (0.00661975926 + 0.002809921095 i) |11111100\\rangle+ (0.019859277779 + 0.008429763285 i) |11111101\\rangle+ (0.00661975926 + 0.002809921095 i) |11111110\\rangle+ (-0.00661975926 - 0.002809921095 i) |11111111\\rangle$$"
      ],
      "text/plain": [
       "<IPython.core.display.Latex object>"
      ]
     },
     "metadata": {},
     "output_type": "display_data"
    },
    {
     "name": "stdout",
     "output_type": "stream",
     "text": [
      "coherence of |ψ4⟩ =  12.839271979986115\n"
     ]
    },
    {
     "data": {
      "text/plain": [
       "'applied Hadamard to all |ψ5⟩'"
      ]
     },
     "metadata": {},
     "output_type": "display_data"
    },
    {
     "data": {
      "text/latex": [
       "$$(0.060017590278 - 0.001053720411 i) |00000000\\rangle+ (0.060017590278 - 0.001053720411 i) |00000001\\rangle+ (0.060017590278 - 0.001053720411 i) |00000010\\rangle+ (0.060017590278 - 0.001053720411 i) |00000011\\rangle+ (0.060017590278 - 0.001053720411 i) |00000100\\rangle+ (0.060017590278 - 0.001053720411 i) |00000101\\rangle + \\ldots + (0.060017590278 - 0.001053720411 i) |11111011\\rangle+ (0.165933738431 + 0.043905017111 i) |11111100\\rangle+ (0.060017590278 - 0.001053720411 i) |11111101\\rangle+ (0.060017590278 - 0.001053720411 i) |11111110\\rangle+ (0.060017590278 - 0.001053720411 i) |11111111\\rangle$$"
      ],
      "text/plain": [
       "<IPython.core.display.Latex object>"
      ]
     },
     "metadata": {},
     "output_type": "display_data"
    },
    {
     "name": "stdout",
     "output_type": "stream",
     "text": [
      "coherence of |ψ5⟩ =  245.54408489581678\n",
      "-------- 2  ITERATION--------\n"
     ]
    },
    {
     "data": {
      "text/plain": [
       "'applied O operator to |ψ2⟩'"
      ]
     },
     "metadata": {},
     "output_type": "display_data"
    },
    {
     "data": {
      "text/latex": [
       "$$(0.060017590278 - 0.001053720411 i) |00000000\\rangle+ (0.060017590278 - 0.001053720411 i) |00000001\\rangle+ (0.060017590278 - 0.001053720411 i) |00000010\\rangle+ (0.060017590278 - 0.001053720411 i) |00000011\\rangle+ (0.060017590278 - 0.001053720411 i) |00000100\\rangle+ (0.060017590278 - 0.001053720411 i) |00000101\\rangle + \\ldots + (0.060017590278 - 0.001053720411 i) |11111011\\rangle+ (-0.083684634101 - 0.149861729914 i) |11111100\\rangle+ (0.060017590278 - 0.001053720411 i) |11111101\\rangle+ (0.060017590278 - 0.001053720411 i) |11111110\\rangle+ (0.060017590278 - 0.001053720411 i) |11111111\\rangle$$"
      ],
      "text/plain": [
       "<IPython.core.display.Latex object>"
      ]
     },
     "metadata": {},
     "output_type": "display_data"
    },
    {
     "name": "stdout",
     "output_type": "stream",
     "text": [
      "coherence of |ψ2⟩ =  245.54408489581678\n"
     ]
    },
    {
     "data": {
      "text/plain": [
       "'applied Hadamard to all |ψ1⟩'"
      ]
     },
     "metadata": {},
     "output_type": "display_data"
    },
    {
     "data": {
      "text/latex": [
       "$$(0.933337277371 - 0.044761028352 i) |00000000\\rangle+ (-0.008981389024 - 0.009300500594 i) |00000001\\rangle+ (0.008981389024 + 0.009300500594 i) |00000010\\rangle+ (-0.008981389024 - 0.009300500594 i) |00000011\\rangle+ (0.008981389024 + 0.009300500594 i) |00000100\\rangle+ (-0.008981389024 - 0.009300500594 i) |00000101\\rangle + \\ldots + (0.008981389024 + 0.009300500594 i) |11111011\\rangle+ (-0.008981389024 - 0.009300500594 i) |11111100\\rangle+ (-0.026944167071 - 0.027901501782 i) |11111101\\rangle+ (-0.008981389024 - 0.009300500594 i) |11111110\\rangle+ (0.008981389024 + 0.009300500594 i) |11111111\\rangle$$"
      ],
      "text/plain": [
       "<IPython.core.display.Latex object>"
      ]
     },
     "metadata": {},
     "output_type": "display_data"
    },
    {
     "name": "stdout",
     "output_type": "stream",
     "text": [
      "coherence of |ψ1⟩ =  33.34477784921317\n"
     ]
    },
    {
     "data": {
      "text/plain": [
       "'applied P operator to |ψ4⟩'"
      ]
     },
     "metadata": {},
     "output_type": "display_data"
    },
    {
     "data": {
      "text/latex": [
       "$$(0.933337277371 - 0.044761028352 i) |00000000\\rangle+ (0.008981389024 + 0.009300500594 i) |00000001\\rangle+ (-0.008981389024 - 0.009300500594 i) |00000010\\rangle+ (0.008981389024 + 0.009300500594 i) |00000011\\rangle+ (-0.008981389024 - 0.009300500594 i) |00000100\\rangle+ (0.008981389024 + 0.009300500594 i) |00000101\\rangle + \\ldots + (-0.008981389024 - 0.009300500594 i) |11111011\\rangle+ (0.008981389024 + 0.009300500594 i) |11111100\\rangle+ (0.026944167071 + 0.027901501782 i) |11111101\\rangle+ (0.008981389024 + 0.009300500594 i) |11111110\\rangle+ (-0.008981389024 - 0.009300500594 i) |11111111\\rangle$$"
      ],
      "text/plain": [
       "<IPython.core.display.Latex object>"
      ]
     },
     "metadata": {},
     "output_type": "display_data"
    },
    {
     "name": "stdout",
     "output_type": "stream",
     "text": [
      "coherence of |ψ4⟩ =  33.34477784921317\n"
     ]
    },
    {
     "data": {
      "text/plain": [
       "'applied Hadamard to all |ψ5⟩'"
      ]
     },
     "metadata": {},
     "output_type": "display_data"
    },
    {
     "data": {
      "text/latex": [
       "$$(0.056649569394 - 0.004541408133 i) |00000000\\rangle+ (0.056649569394 - 0.004541408133 i) |00000001\\rangle+ (0.056649569394 - 0.004541408133 i) |00000010\\rangle+ (0.056649569394 - 0.004541408133 i) |00000011\\rangle+ (0.056649569394 - 0.004541408133 i) |00000100\\rangle+ (0.056649569394 - 0.004541408133 i) |00000101\\rangle + \\ldots + (0.056649569394 - 0.004541408133 i) |11111011\\rangle+ (0.200351793772 + 0.14426660137 i) |11111100\\rangle+ (0.056649569394 - 0.004541408133 i) |11111101\\rangle+ (0.056649569394 - 0.004541408133 i) |11111110\\rangle+ (0.056649569394 - 0.004541408133 i) |11111111\\rangle$$"
      ],
      "text/plain": [
       "<IPython.core.display.Latex object>"
      ]
     },
     "metadata": {},
     "output_type": "display_data"
    },
    {
     "name": "stdout",
     "output_type": "stream",
     "text": [
      "coherence of |ψ5⟩ =  227.58374254736498\n",
      "-------- 3  ITERATION--------\n"
     ]
    },
    {
     "data": {
      "text/plain": [
       "'applied O operator to |ψ2⟩'"
      ]
     },
     "metadata": {},
     "output_type": "display_data"
    },
    {
     "data": {
      "text/latex": [
       "$$(0.056649569394 - 0.004541408133 i) |00000000\\rangle+ (0.056649569394 - 0.004541408133 i) |00000001\\rangle+ (0.056649569394 - 0.004541408133 i) |00000010\\rangle+ (0.056649569394 - 0.004541408133 i) |00000011\\rangle+ (0.056649569394 - 0.004541408133 i) |00000100\\rangle+ (0.056649569394 - 0.004541408133 i) |00000101\\rangle + \\ldots + (0.056649569394 - 0.004541408133 i) |11111011\\rangle+ (-0.035399342356 - 0.244337021549 i) |11111100\\rangle+ (0.056649569394 - 0.004541408133 i) |11111101\\rangle+ (0.056649569394 - 0.004541408133 i) |11111110\\rangle+ (0.056649569394 - 0.004541408133 i) |11111111\\rangle$$"
      ],
      "text/plain": [
       "<IPython.core.display.Latex object>"
      ]
     },
     "metadata": {},
     "output_type": "display_data"
    },
    {
     "name": "stdout",
     "output_type": "stream",
     "text": [
      "coherence of |ψ2⟩ =  227.58374254736498\n"
     ]
    },
    {
     "data": {
      "text/plain": [
       "'applied Hadamard to all |ψ1⟩'"
      ]
     },
     "metadata": {},
     "output_type": "display_data"
    },
    {
     "data": {
      "text/latex": [
       "$$(0.889133939347 - 0.117624207649 i) |00000000\\rangle+ (-0.005753056984 - 0.014987225838 i) |00000001\\rangle+ (0.005753056984 + 0.014987225838 i) |00000010\\rangle+ (-0.005753056984 - 0.014987225838 i) |00000011\\rangle+ (0.005753056984 + 0.014987225838 i) |00000100\\rangle+ (-0.005753056984 - 0.014987225838 i) |00000101\\rangle + \\ldots + (0.005753056984 + 0.014987225838 i) |11111011\\rangle+ (-0.005753056984 - 0.014987225838 i) |11111100\\rangle+ (-0.017259170953 - 0.044961677515 i) |11111101\\rangle+ (-0.005753056984 - 0.014987225838 i) |11111110\\rangle+ (0.005753056984 + 0.014987225838 i) |11111111\\rangle$$"
      ],
      "text/plain": [
       "<IPython.core.display.Latex object>"
      ]
     },
     "metadata": {},
     "output_type": "display_data"
    },
    {
     "name": "stdout",
     "output_type": "stream",
     "text": [
      "coherence of |ψ1⟩ =  48.18582866500318\n"
     ]
    },
    {
     "data": {
      "text/plain": [
       "'applied P operator to |ψ4⟩'"
      ]
     },
     "metadata": {},
     "output_type": "display_data"
    },
    {
     "data": {
      "text/latex": [
       "$$(0.889133939347 - 0.117624207649 i) |00000000\\rangle+ (0.005753056984 + 0.014987225838 i) |00000001\\rangle+ (-0.005753056984 - 0.014987225838 i) |00000010\\rangle+ (0.005753056984 + 0.014987225838 i) |00000011\\rangle+ (-0.005753056984 - 0.014987225838 i) |00000100\\rangle+ (0.005753056984 + 0.014987225838 i) |00000101\\rangle + \\ldots + (-0.005753056984 - 0.014987225838 i) |11111011\\rangle+ (0.005753056984 + 0.014987225838 i) |11111100\\rangle+ (0.017259170953 + 0.044961677515 i) |11111101\\rangle+ (0.005753056984 + 0.014987225838 i) |11111110\\rangle+ (-0.005753056984 - 0.014987225838 i) |11111111\\rangle$$"
      ],
      "text/plain": [
       "<IPython.core.display.Latex object>"
      ]
     },
     "metadata": {},
     "output_type": "display_data"
    },
    {
     "name": "stdout",
     "output_type": "stream",
     "text": [
      "coherence of |ψ4⟩ =  48.18582866500318\n"
     ]
    },
    {
     "data": {
      "text/plain": [
       "'applied Hadamard to all |ψ5⟩'"
      ]
     },
     "metadata": {},
     "output_type": "display_data"
    },
    {
     "data": {
      "text/latex": [
       "$$(0.054492173025 - 0.010161617823 i) |00000000\\rangle+ (0.054492173025 - 0.010161617823 i) |00000001\\rangle+ (0.054492173025 - 0.010161617823 i) |00000010\\rangle+ (0.054492173025 - 0.010161617823 i) |00000011\\rangle+ (0.054492173025 - 0.010161617823 i) |00000100\\rangle+ (0.054492173025 - 0.010161617823 i) |00000101\\rangle + \\ldots + (0.054492173025 - 0.010161617823 i) |11111011\\rangle+ (0.146541084774 + 0.229633995592 i) |11111100\\rangle+ (0.054492173025 - 0.010161617823 i) |11111101\\rangle+ (0.054492173025 - 0.010161617823 i) |11111110\\rangle+ (0.054492173025 - 0.010161617823 i) |11111111\\rangle$$"
      ],
      "text/plain": [
       "<IPython.core.display.Latex object>"
      ]
     },
     "metadata": {},
     "output_type": "display_data"
    },
    {
     "name": "stdout",
     "output_type": "stream",
     "text": [
      "coherence of |ψ5⟩ =  219.267236578858\n",
      "-------- 4  ITERATION--------\n"
     ]
    },
    {
     "data": {
      "text/plain": [
       "'applied O operator to |ψ2⟩'"
      ]
     },
     "metadata": {},
     "output_type": "display_data"
    },
    {
     "data": {
      "text/latex": [
       "$$(0.054492173025 - 0.010161617823 i) |00000000\\rangle+ (0.054492173025 - 0.010161617823 i) |00000001\\rangle+ (0.054492173025 - 0.010161617823 i) |00000010\\rangle+ (0.054492173025 - 0.010161617823 i) |00000011\\rangle+ (0.054492173025 - 0.010161617823 i) |00000100\\rangle+ (0.054492173025 - 0.010161617823 i) |00000101\\rangle + \\ldots + (0.054492173025 - 0.010161617823 i) |11111011\\rangle+ (0.063388881386 - 0.264930011843 i) |11111100\\rangle+ (0.054492173025 - 0.010161617823 i) |11111101\\rangle+ (0.054492173025 - 0.010161617823 i) |11111110\\rangle+ (0.054492173025 - 0.010161617823 i) |11111111\\rangle$$"
      ],
      "text/plain": [
       "<IPython.core.display.Latex object>"
      ]
     },
     "metadata": {},
     "output_type": "display_data"
    },
    {
     "name": "stdout",
     "output_type": "stream",
     "text": [
      "coherence of |ψ2⟩ =  219.267236578858\n"
     ]
    },
    {
     "data": {
      "text/plain": [
       "'applied Hadamard to all |ψ1⟩'"
      ]
     },
     "metadata": {},
     "output_type": "display_data"
    },
    {
     "data": {
      "text/latex": [
       "$$(0.873542901212 - 0.210354959044 i) |00000000\\rangle+ (0.000556044273 - 0.015923024626 i) |00000001\\rangle+ (-0.000556044273 + 0.015923024626 i) |00000010\\rangle+ (0.000556044273 - 0.015923024626 i) |00000011\\rangle+ (-0.000556044273 + 0.015923024626 i) |00000100\\rangle+ (0.000556044273 - 0.015923024626 i) |00000101\\rangle + \\ldots + (-0.000556044273 + 0.015923024626 i) |11111011\\rangle+ (0.000556044273 - 0.015923024626 i) |11111100\\rangle+ (0.001668132818 - 0.047769073879 i) |11111101\\rangle+ (0.000556044273 - 0.015923024626 i) |11111110\\rangle+ (-0.000556044273 + 0.015923024626 i) |11111111\\rangle$$"
      ],
      "text/plain": [
       "<IPython.core.display.Latex object>"
      ]
     },
     "metadata": {},
     "output_type": "display_data"
    },
    {
     "name": "stdout",
     "output_type": "stream",
     "text": [
      "coherence of |ψ1⟩ =  47.56534047258143\n"
     ]
    },
    {
     "data": {
      "text/plain": [
       "'applied P operator to |ψ4⟩'"
      ]
     },
     "metadata": {},
     "output_type": "display_data"
    },
    {
     "data": {
      "text/latex": [
       "$$(0.873542901212 - 0.210354959044 i) |00000000\\rangle+ (-0.000556044273 + 0.015923024626 i) |00000001\\rangle+ (0.000556044273 - 0.015923024626 i) |00000010\\rangle+ (-0.000556044273 + 0.015923024626 i) |00000011\\rangle+ (0.000556044273 - 0.015923024626 i) |00000100\\rangle+ (-0.000556044273 + 0.015923024626 i) |00000101\\rangle + \\ldots + (0.000556044273 - 0.015923024626 i) |11111011\\rangle+ (-0.000556044273 + 0.015923024626 i) |11111100\\rangle+ (-0.001668132818 + 0.047769073879 i) |11111101\\rangle+ (-0.000556044273 + 0.015923024626 i) |11111110\\rangle+ (0.000556044273 - 0.015923024626 i) |11111111\\rangle$$"
      ],
      "text/plain": [
       "<IPython.core.display.Latex object>"
      ]
     },
     "metadata": {},
     "output_type": "display_data"
    },
    {
     "name": "stdout",
     "output_type": "stream",
     "text": [
      "coherence of |ψ4⟩ =  47.56534047258143\n"
     ]
    },
    {
     "data": {
      "text/plain": [
       "'applied Hadamard to all |ψ5⟩'"
      ]
     },
     "metadata": {},
     "output_type": "display_data"
    },
    {
     "data": {
      "text/latex": [
       "$$(0.054700689627 - 0.016132752058 i) |00000000\\rangle+ (0.054700689627 - 0.016132752058 i) |00000001\\rangle+ (0.054700689627 - 0.016132752058 i) |00000010\\rangle+ (0.054700689627 - 0.016132752058 i) |00000011\\rangle+ (0.054700689627 - 0.016132752058 i) |00000100\\rangle+ (0.054700689627 - 0.016132752058 i) |00000101\\rangle + \\ldots + (0.054700689627 - 0.016132752058 i) |11111011\\rangle+ (0.045803981266 + 0.238635641963 i) |11111100\\rangle+ (0.054700689627 - 0.016132752058 i) |11111101\\rangle+ (0.054700689627 - 0.016132752058 i) |11111110\\rangle+ (0.054700689627 - 0.016132752058 i) |11111111\\rangle$$"
      ],
      "text/plain": [
       "<IPython.core.display.Latex object>"
      ]
     },
     "metadata": {},
     "output_type": "display_data"
    },
    {
     "name": "stdout",
     "output_type": "stream",
     "text": [
      "coherence of |ψ5⟩ =  228.75246947119876\n",
      "-------- 5  ITERATION--------\n"
     ]
    },
    {
     "data": {
      "text/plain": [
       "'applied O operator to |ψ2⟩'"
      ]
     },
     "metadata": {},
     "output_type": "display_data"
    },
    {
     "data": {
      "text/latex": [
       "$$(0.054700689627 - 0.016132752058 i) |00000000\\rangle+ (0.054700689627 - 0.016132752058 i) |00000001\\rangle+ (0.054700689627 - 0.016132752058 i) |00000010\\rangle+ (0.054700689627 - 0.016132752058 i) |00000011\\rangle+ (0.054700689627 - 0.016132752058 i) |00000100\\rangle+ (0.054700689627 - 0.016132752058 i) |00000101\\rangle + \\ldots + (0.054700689627 - 0.016132752058 i) |11111011\\rangle+ (0.139841996057 - 0.198718872917 i) |11111100\\rangle+ (0.054700689627 - 0.016132752058 i) |11111101\\rangle+ (0.054700689627 - 0.016132752058 i) |11111110\\rangle+ (0.054700689627 - 0.016132752058 i) |11111111\\rangle$$"
      ],
      "text/plain": [
       "<IPython.core.display.Latex object>"
      ]
     },
     "metadata": {},
     "output_type": "display_data"
    },
    {
     "name": "stdout",
     "output_type": "stream",
     "text": [
      "coherence of |ψ2⟩ =  228.75246947119876\n"
     ]
    },
    {
     "data": {
      "text/plain": [
       "'applied Hadamard to all |ψ1⟩'"
      ]
     },
     "metadata": {},
     "output_type": "display_data"
    },
    {
     "data": {
      "text/latex": [
       "$$(0.891175028986 - 0.292358930584 i) |00000000\\rangle+ (0.005321331652 - 0.011411632554 i) |00000001\\rangle+ (-0.005321331652 + 0.011411632554 i) |00000010\\rangle+ (0.005321331652 - 0.011411632554 i) |00000011\\rangle+ (-0.005321331652 + 0.011411632554 i) |00000100\\rangle+ (0.005321331652 - 0.011411632554 i) |00000101\\rangle + \\ldots + (-0.005321331652 + 0.011411632554 i) |11111011\\rangle+ (0.005321331652 - 0.011411632554 i) |11111100\\rangle+ (0.015963994956 - 0.034234897661 i) |11111101\\rangle+ (0.005321331652 - 0.011411632554 i) |11111110\\rangle+ (-0.005321331652 + 0.011411632554 i) |11111111\\rangle$$"
      ],
      "text/plain": [
       "<IPython.core.display.Latex object>"
      ]
     },
     "metadata": {},
     "output_type": "display_data"
    },
    {
     "name": "stdout",
     "output_type": "stream",
     "text": [
      "coherence of |ψ1⟩ =  31.8926027808319\n"
     ]
    },
    {
     "data": {
      "text/plain": [
       "'applied P operator to |ψ4⟩'"
      ]
     },
     "metadata": {},
     "output_type": "display_data"
    },
    {
     "data": {
      "text/latex": [
       "$$(0.891175028986 - 0.292358930584 i) |00000000\\rangle+ (-0.005321331652 + 0.011411632554 i) |00000001\\rangle+ (0.005321331652 - 0.011411632554 i) |00000010\\rangle+ (-0.005321331652 + 0.011411632554 i) |00000011\\rangle+ (0.005321331652 - 0.011411632554 i) |00000100\\rangle+ (-0.005321331652 + 0.011411632554 i) |00000101\\rangle + \\ldots + (0.005321331652 - 0.011411632554 i) |11111011\\rangle+ (-0.005321331652 + 0.011411632554 i) |11111100\\rangle+ (-0.015963994956 + 0.034234897661 i) |11111101\\rangle+ (-0.005321331652 + 0.011411632554 i) |11111110\\rangle+ (0.005321331652 - 0.011411632554 i) |11111111\\rangle$$"
      ],
      "text/plain": [
       "<IPython.core.display.Latex object>"
      ]
     },
     "metadata": {},
     "output_type": "display_data"
    },
    {
     "name": "stdout",
     "output_type": "stream",
     "text": [
      "coherence of |ψ4⟩ =  31.8926027808319\n"
     ]
    },
    {
     "data": {
      "text/plain": [
       "'applied Hadamard to all |ψ5⟩'"
      ]
     },
     "metadata": {},
     "output_type": "display_data"
    },
    {
     "data": {
      "text/latex": [
       "$$(0.056696188996 - 0.020412114265 i) |00000000\\rangle+ (0.056696188996 - 0.020412114265 i) |00000001\\rangle+ (0.056696188996 - 0.020412114265 i) |00000010\\rangle+ (0.056696188996 - 0.020412114265 i) |00000011\\rangle+ (0.056696188996 - 0.020412114265 i) |00000100\\rangle+ (0.056696188996 - 0.020412114265 i) |00000101\\rangle + \\ldots + (0.056696188996 - 0.020412114265 i) |11111011\\rangle+ (-0.028445117433 + 0.162174006594 i) |11111100\\rangle+ (0.056696188996 - 0.020412114265 i) |11111101\\rangle+ (0.056696188996 - 0.020412114265 i) |11111110\\rangle+ (0.056696188996 - 0.020412114265 i) |11111111\\rangle$$"
      ],
      "text/plain": [
       "<IPython.core.display.Latex object>"
      ]
     },
     "metadata": {},
     "output_type": "display_data"
    },
    {
     "name": "stdout",
     "output_type": "stream",
     "text": [
      "coherence of |ψ5⟩ =  246.72880923105342\n",
      "-------- 6  ITERATION--------\n"
     ]
    },
    {
     "data": {
      "text/plain": [
       "'applied O operator to |ψ2⟩'"
      ]
     },
     "metadata": {},
     "output_type": "display_data"
    },
    {
     "data": {
      "text/latex": [
       "$$(0.056696188996 - 0.020412114265 i) |00000000\\rangle+ (0.056696188996 - 0.020412114265 i) |00000001\\rangle+ (0.056696188996 - 0.020412114265 i) |00000010\\rangle+ (0.056696188996 - 0.020412114265 i) |00000011\\rangle+ (0.056696188996 - 0.020412114265 i) |00000100\\rangle+ (0.056696188996 - 0.020412114265 i) |00000101\\rangle + \\ldots + (0.056696188996 - 0.020412114265 i) |11111011\\rangle+ (0.136417856448 - 0.092193826057 i) |11111100\\rangle+ (0.056696188996 - 0.020412114265 i) |11111101\\rangle+ (0.056696188996 - 0.020412114265 i) |11111110\\rangle+ (0.056696188996 - 0.020412114265 i) |11111111\\rangle$$"
      ],
      "text/plain": [
       "<IPython.core.display.Latex object>"
      ]
     },
     "metadata": {},
     "output_type": "display_data"
    },
    {
     "name": "stdout",
     "output_type": "stream",
     "text": [
      "coherence of |ψ2⟩ =  246.72880923105342\n"
     ]
    },
    {
     "data": {
      "text/plain": [
       "'applied Hadamard to all |ψ1⟩'"
      ]
     },
     "metadata": {},
     "output_type": "display_data"
    },
    {
     "data": {
      "text/latex": [
       "$$(0.922086836588 - 0.340052899206 i) |00000000\\rangle+ (0.004982604216 - 0.004486356987 i) |00000001\\rangle+ (-0.004982604216 + 0.004486356987 i) |00000010\\rangle+ (0.004982604216 - 0.004486356987 i) |00000011\\rangle+ (-0.004982604216 + 0.004486356987 i) |00000100\\rangle+ (0.004982604216 - 0.004486356987 i) |00000101\\rangle + \\ldots + (-0.004982604216 + 0.004486356987 i) |11111011\\rangle+ (0.004982604216 - 0.004486356987 i) |11111100\\rangle+ (0.014947812647 - 0.013459070961 i) |11111101\\rangle+ (0.004982604216 - 0.004486356987 i) |11111110\\rangle+ (-0.004982604216 + 0.004486356987 i) |11111111\\rangle$$"
      ],
      "text/plain": [
       "<IPython.core.display.Latex object>"
      ]
     },
     "metadata": {},
     "output_type": "display_data"
    },
    {
     "name": "stdout",
     "output_type": "stream",
     "text": [
      "coherence of |ψ1⟩ =  11.512517962360409\n"
     ]
    },
    {
     "data": {
      "text/plain": [
       "'applied P operator to |ψ4⟩'"
      ]
     },
     "metadata": {},
     "output_type": "display_data"
    },
    {
     "data": {
      "text/latex": [
       "$$(0.922086836588 - 0.340052899206 i) |00000000\\rangle+ (-0.004982604216 + 0.004486356987 i) |00000001\\rangle+ (0.004982604216 - 0.004486356987 i) |00000010\\rangle+ (-0.004982604216 + 0.004486356987 i) |00000011\\rangle+ (0.004982604216 - 0.004486356987 i) |00000100\\rangle+ (-0.004982604216 + 0.004486356987 i) |00000101\\rangle + \\ldots + (0.004982604216 - 0.004486356987 i) |11111011\\rangle+ (-0.004982604216 + 0.004486356987 i) |11111100\\rangle+ (-0.014947812647 + 0.013459070961 i) |11111101\\rangle+ (-0.004982604216 + 0.004486356987 i) |11111110\\rangle+ (0.004982604216 - 0.004486356987 i) |11111111\\rangle$$"
      ],
      "text/plain": [
       "<IPython.core.display.Latex object>"
      ]
     },
     "metadata": {},
     "output_type": "display_data"
    },
    {
     "name": "stdout",
     "output_type": "stream",
     "text": [
      "coherence of |ψ4⟩ =  11.512517962360409\n"
     ]
    },
    {
     "data": {
      "text/plain": [
       "'applied Hadamard to all |ψ5⟩'"
      ]
     },
     "metadata": {},
     "output_type": "display_data"
    },
    {
     "data": {
      "text/latex": [
       "$$(0.058564665577 - 0.022094498135 i) |00000000\\rangle+ (0.058564665577 - 0.022094498135 i) |00000001\\rangle+ (0.058564665577 - 0.022094498135 i) |00000010\\rangle+ (0.058564665577 - 0.022094498135 i) |00000011\\rangle+ (0.058564665577 - 0.022094498135 i) |00000100\\rangle+ (0.058564665577 - 0.022094498135 i) |00000101\\rangle + \\ldots + (0.058564665577 - 0.022094498135 i) |11111011\\rangle+ (-0.021157001874 + 0.049687213656 i) |11111100\\rangle+ (0.058564665577 - 0.022094498135 i) |11111101\\rangle+ (0.058564665577 - 0.022094498135 i) |11111110\\rangle+ (0.058564665577 - 0.022094498135 i) |11111111\\rangle$$"
      ],
      "text/plain": [
       "<IPython.core.display.Latex object>"
      ]
     },
     "metadata": {},
     "output_type": "display_data"
    },
    {
     "name": "stdout",
     "output_type": "stream",
     "text": [
      "coherence of |ψ5⟩ =  254.94399783054843\n",
      "-------- 7  ITERATION--------\n"
     ]
    },
    {
     "data": {
      "text/plain": [
       "'applied O operator to |ψ2⟩'"
      ]
     },
     "metadata": {},
     "output_type": "display_data"
    },
    {
     "data": {
      "text/latex": [
       "$$(0.058564665577 - 0.022094498135 i) |00000000\\rangle+ (0.058564665577 - 0.022094498135 i) |00000001\\rangle+ (0.058564665577 - 0.022094498135 i) |00000010\\rangle+ (0.058564665577 - 0.022094498135 i) |00000011\\rangle+ (0.058564665577 - 0.022094498135 i) |00000100\\rangle+ (0.058564665577 - 0.022094498135 i) |00000101\\rangle + \\ldots + (0.058564665577 - 0.022094498135 i) |11111011\\rangle+ (0.050438878796 - 0.019296565367 i) |11111100\\rangle+ (0.058564665577 - 0.022094498135 i) |11111101\\rangle+ (0.058564665577 - 0.022094498135 i) |11111110\\rangle+ (0.058564665577 - 0.022094498135 i) |11111111\\rangle$$"
      ],
      "text/plain": [
       "<IPython.core.display.Latex object>"
      ]
     },
     "metadata": {},
     "output_type": "display_data"
    },
    {
     "name": "stdout",
     "output_type": "stream",
     "text": [
      "coherence of |ψ2⟩ =  254.94399783054843\n"
     ]
    },
    {
     "data": {
      "text/plain": [
       "'applied Hadamard to all |ψ1⟩'"
      ]
     },
     "metadata": {},
     "output_type": "display_data"
    },
    {
     "data": {
      "text/latex": [
       "$$(0.935511064214 - 0.352987357772 i) |00000000\\rangle+ (-0.000507861674 + 0.000174870798 i) |00000001\\rangle+ (0.000507861674 - 0.000174870798 i) |00000010\\rangle+ (-0.000507861674 + 0.000174870798 i) |00000011\\rangle+ (0.000507861674 - 0.000174870798 i) |00000100\\rangle+ (-0.000507861674 + 0.000174870798 i) |00000101\\rangle + \\ldots + (0.000507861674 - 0.000174870798 i) |11111011\\rangle+ (-0.000507861674 + 0.000174870798 i) |11111100\\rangle+ (-0.001523585021 + 0.000524612394 i) |11111101\\rangle+ (-0.000507861674 + 0.000174870798 i) |11111110\\rangle+ (0.000507861674 - 0.000174870798 i) |11111111\\rangle$$"
      ],
      "text/plain": [
       "<IPython.core.display.Latex object>"
      ]
     },
     "metadata": {},
     "output_type": "display_data"
    },
    {
     "name": "stdout",
     "output_type": "stream",
     "text": [
      "coherence of |ψ1⟩ =  0.45090489288615115\n"
     ]
    },
    {
     "data": {
      "text/plain": [
       "'applied P operator to |ψ4⟩'"
      ]
     },
     "metadata": {},
     "output_type": "display_data"
    },
    {
     "data": {
      "text/latex": [
       "$$(0.935511064214 - 0.352987357772 i) |00000000\\rangle+ (0.000507861674 - 0.000174870798 i) |00000001\\rangle+ (-0.000507861674 + 0.000174870798 i) |00000010\\rangle+ (0.000507861674 - 0.000174870798 i) |00000011\\rangle+ (-0.000507861674 + 0.000174870798 i) |00000100\\rangle+ (0.000507861674 - 0.000174870798 i) |00000101\\rangle + \\ldots + (-0.000507861674 + 0.000174870798 i) |11111011\\rangle+ (0.000507861674 - 0.000174870798 i) |11111100\\rangle+ (0.001523585021 - 0.000524612394 i) |11111101\\rangle+ (0.000507861674 - 0.000174870798 i) |11111110\\rangle+ (-0.000507861674 + 0.000174870798 i) |11111111\\rangle$$"
      ],
      "text/plain": [
       "<IPython.core.display.Latex object>"
      ]
     },
     "metadata": {},
     "output_type": "display_data"
    },
    {
     "name": "stdout",
     "output_type": "stream",
     "text": [
      "coherence of |ψ4⟩ =  0.45090489288615115\n"
     ]
    },
    {
     "data": {
      "text/plain": [
       "'applied Hadamard to all |ψ5⟩'"
      ]
     },
     "metadata": {},
     "output_type": "display_data"
    },
    {
     "data": {
      "text/latex": [
       "$$(0.05837421745 - 0.022028921586 i) |00000000\\rangle+ (0.05837421745 - 0.022028921586 i) |00000001\\rangle+ (0.05837421745 - 0.022028921586 i) |00000010\\rangle+ (0.05837421745 - 0.022028921586 i) |00000011\\rangle+ (0.05837421745 - 0.022028921586 i) |00000100\\rangle+ (0.05837421745 - 0.022028921586 i) |00000101\\rangle + \\ldots + (0.05837421745 - 0.022028921586 i) |11111011\\rangle+ (0.066500004231 - 0.024826854355 i) |11111100\\rangle+ (0.05837421745 - 0.022028921586 i) |11111101\\rangle+ (0.05837421745 - 0.022028921586 i) |11111110\\rangle+ (0.05837421745 - 0.022028921586 i) |11111111\\rangle$$"
      ],
      "text/plain": [
       "<IPython.core.display.Latex object>"
      ]
     },
     "metadata": {},
     "output_type": "display_data"
    },
    {
     "name": "stdout",
     "output_type": "stream",
     "text": [
      "coherence of |ψ5⟩ =  254.94398476942843\n",
      "======================================== FOR ϕ =  241.00000000000003 ========================================\n"
     ]
    },
    {
     "data": {
      "text/plain": [
       "'initialised |ψ0⟩'"
      ]
     },
     "metadata": {},
     "output_type": "display_data"
    },
    {
     "data": {
      "text/latex": [
       "$$ |00000000\\rangle$$"
      ],
      "text/plain": [
       "<IPython.core.display.Latex object>"
      ]
     },
     "metadata": {},
     "output_type": "display_data"
    },
    {
     "name": "stdout",
     "output_type": "stream",
     "text": [
      "coherence of |ψ0⟩ =  0.0\n"
     ]
    },
    {
     "data": {
      "text/plain": [
       "'applied Hadamard to all |ψ1⟩'"
      ]
     },
     "metadata": {},
     "output_type": "display_data"
    },
    {
     "data": {
      "text/latex": [
       "$$\\frac{1}{16} |00000000\\rangle+\\frac{1}{16} |00000001\\rangle+\\frac{1}{16} |00000010\\rangle+\\frac{1}{16} |00000011\\rangle+\\frac{1}{16} |00000100\\rangle+\\frac{1}{16} |00000101\\rangle + \\ldots +\\frac{1}{16} |11111011\\rangle+\\frac{1}{16} |11111100\\rangle+\\frac{1}{16} |11111101\\rangle+\\frac{1}{16} |11111110\\rangle+\\frac{1}{16} |11111111\\rangle$$"
      ],
      "text/plain": [
       "<IPython.core.display.Latex object>"
      ]
     },
     "metadata": {},
     "output_type": "display_data"
    },
    {
     "name": "stdout",
     "output_type": "stream",
     "text": [
      "coherence of |ψ1⟩ =  255.00000000000003\n",
      "-------- 1  ITERATION--------\n"
     ]
    },
    {
     "data": {
      "text/plain": [
       "'applied O operator to |ψ2⟩'"
      ]
     },
     "metadata": {},
     "output_type": "display_data"
    },
    {
     "data": {
      "text/latex": [
       "$$\\frac{1}{16} |00000000\\rangle+\\frac{1}{16} |00000001\\rangle+\\frac{1}{16} |00000010\\rangle+\\frac{1}{16} |00000011\\rangle+\\frac{1}{16} |00000100\\rangle+\\frac{1}{16} |00000101\\rangle + \\ldots +\\frac{1}{16} |11111011\\rangle+ (-0.030300601265 - 0.054663731696 i) |11111100\\rangle+\\frac{1}{16} |11111101\\rangle+\\frac{1}{16} |11111110\\rangle+\\frac{1}{16} |11111111\\rangle$$"
      ],
      "text/plain": [
       "<IPython.core.display.Latex object>"
      ]
     },
     "metadata": {},
     "output_type": "display_data"
    },
    {
     "name": "stdout",
     "output_type": "stream",
     "text": [
      "coherence of |ψ2⟩ =  255.00000000000003\n"
     ]
    },
    {
     "data": {
      "text/plain": [
       "'applied Hadamard to all |ψ1⟩'"
      ]
     },
     "metadata": {},
     "output_type": "display_data"
    },
    {
     "data": {
      "text/latex": [
       "$$(0.982599887263 - 0.010249449693 i) |00000000\\rangle+ (-0.005800037579 - 0.003416483231 i) |00000001\\rangle+ (0.005800037579 + 0.003416483231 i) |00000010\\rangle+ (-0.005800037579 - 0.003416483231 i) |00000011\\rangle+ (0.005800037579 + 0.003416483231 i) |00000100\\rangle+ (-0.005800037579 - 0.003416483231 i) |00000101\\rangle + \\ldots + (0.005800037579 + 0.003416483231 i) |11111011\\rangle+ (-0.005800037579 - 0.003416483231 i) |11111100\\rangle+ (-0.017400112737 - 0.010249449693 i) |11111101\\rangle+ (-0.005800037579 - 0.003416483231 i) |11111110\\rangle+ (0.005800037579 + 0.003416483231 i) |11111111\\rangle$$"
      ],
      "text/plain": [
       "<IPython.core.display.Latex object>"
      ]
     },
     "metadata": {},
     "output_type": "display_data"
    },
    {
     "name": "stdout",
     "output_type": "stream",
     "text": [
      "coherence of |ψ1⟩ =  11.583666406614734\n"
     ]
    },
    {
     "data": {
      "text/plain": [
       "'applied P operator to |ψ4⟩'"
      ]
     },
     "metadata": {},
     "output_type": "display_data"
    },
    {
     "data": {
      "text/latex": [
       "$$(0.982599887263 - 0.010249449693 i) |00000000\\rangle+ (0.005800037579 + 0.003416483231 i) |00000001\\rangle+ (-0.005800037579 - 0.003416483231 i) |00000010\\rangle+ (0.005800037579 + 0.003416483231 i) |00000011\\rangle+ (-0.005800037579 - 0.003416483231 i) |00000100\\rangle+ (0.005800037579 + 0.003416483231 i) |00000101\\rangle + \\ldots + (-0.005800037579 - 0.003416483231 i) |11111011\\rangle+ (0.005800037579 + 0.003416483231 i) |11111100\\rangle+ (0.017400112737 + 0.010249449693 i) |11111101\\rangle+ (0.005800037579 + 0.003416483231 i) |11111110\\rangle+ (-0.005800037579 - 0.003416483231 i) |11111111\\rangle$$"
      ],
      "text/plain": [
       "<IPython.core.display.Latex object>"
      ]
     },
     "metadata": {},
     "output_type": "display_data"
    },
    {
     "name": "stdout",
     "output_type": "stream",
     "text": [
      "coherence of |ψ4⟩ =  11.583666406614734\n"
     ]
    },
    {
     "data": {
      "text/plain": [
       "'applied Hadamard to all |ψ5⟩'"
      ]
     },
     "metadata": {},
     "output_type": "display_data"
    },
    {
     "data": {
      "text/latex": [
       "$$(0.060324985908 - 0.001281181212 i) |00000000\\rangle+ (0.060324985908 - 0.001281181212 i) |00000001\\rangle+ (0.060324985908 - 0.001281181212 i) |00000010\\rangle+ (0.060324985908 - 0.001281181212 i) |00000011\\rangle+ (0.060324985908 - 0.001281181212 i) |00000100\\rangle+ (0.060324985908 - 0.001281181212 i) |00000101\\rangle + \\ldots + (0.060324985908 - 0.001281181212 i) |11111011\\rangle+ (0.153125587173 + 0.053382550485 i) |11111100\\rangle+ (0.060324985908 - 0.001281181212 i) |11111101\\rangle+ (0.060324985908 - 0.001281181212 i) |11111110\\rangle+ (0.060324985908 - 0.001281181212 i) |11111111\\rangle$$"
      ],
      "text/plain": [
       "<IPython.core.display.Latex object>"
      ]
     },
     "metadata": {},
     "output_type": "display_data"
    },
    {
     "name": "stdout",
     "output_type": "stream",
     "text": [
      "coherence of |ψ5⟩ =  247.1303834530479\n",
      "-------- 2  ITERATION--------\n"
     ]
    },
    {
     "data": {
      "text/plain": [
       "'applied O operator to |ψ2⟩'"
      ]
     },
     "metadata": {},
     "output_type": "display_data"
    },
    {
     "data": {
      "text/latex": [
       "$$(0.060324985908 - 0.001281181212 i) |00000000\\rangle+ (0.060324985908 - 0.001281181212 i) |00000001\\rangle+ (0.060324985908 - 0.001281181212 i) |00000010\\rangle+ (0.060324985908 - 0.001281181212 i) |00000011\\rangle+ (0.060324985908 - 0.001281181212 i) |00000100\\rangle+ (0.060324985908 - 0.001281181212 i) |00000101\\rangle + \\ldots + (0.060324985908 - 0.001281181212 i) |11111011\\rangle+ (-0.027547327096 - 0.159807030237 i) |11111100\\rangle+ (0.060324985908 - 0.001281181212 i) |11111101\\rangle+ (0.060324985908 - 0.001281181212 i) |11111110\\rangle+ (0.060324985908 - 0.001281181212 i) |11111111\\rangle$$"
      ],
      "text/plain": [
       "<IPython.core.display.Latex object>"
      ]
     },
     "metadata": {},
     "output_type": "display_data"
    },
    {
     "name": "stdout",
     "output_type": "stream",
     "text": [
      "coherence of |ψ2⟩ =  247.1303834530479\n"
     ]
    },
    {
     "data": {
      "text/plain": [
       "'applied Hadamard to all |ψ1⟩'"
      ]
     },
     "metadata": {},
     "output_type": "display_data"
    },
    {
     "data": {
      "text/latex": [
       "$$(0.948723715837 - 0.050222496078 i) |00000000\\rangle+ (-0.005492019563 - 0.009907865564 i) |00000001\\rangle+ (0.005492019563 + 0.009907865564 i) |00000010\\rangle+ (-0.005492019563 - 0.009907865564 i) |00000011\\rangle+ (0.005492019563 + 0.009907865564 i) |00000100\\rangle+ (-0.005492019563 - 0.009907865564 i) |00000101\\rangle + \\ldots + (0.005492019563 + 0.009907865564 i) |11111011\\rangle+ (-0.005492019563 - 0.009907865564 i) |11111100\\rangle+ (-0.016476058688 - 0.029723596692 i) |11111101\\rangle+ (-0.005492019563 - 0.009907865564 i) |11111110\\rangle+ (0.005492019563 + 0.009907865564 i) |11111111\\rangle$$"
      ],
      "text/plain": [
       "<IPython.core.display.Latex object>"
      ]
     },
     "metadata": {},
     "output_type": "display_data"
    },
    {
     "name": "stdout",
     "output_type": "stream",
     "text": [
      "coherence of |ψ1⟩ =  26.731763781501115\n"
     ]
    },
    {
     "data": {
      "text/plain": [
       "'applied P operator to |ψ4⟩'"
      ]
     },
     "metadata": {},
     "output_type": "display_data"
    },
    {
     "data": {
      "text/latex": [
       "$$(0.948723715837 - 0.050222496078 i) |00000000\\rangle+ (0.005492019563 + 0.009907865564 i) |00000001\\rangle+ (-0.005492019563 - 0.009907865564 i) |00000010\\rangle+ (0.005492019563 + 0.009907865564 i) |00000011\\rangle+ (-0.005492019563 - 0.009907865564 i) |00000100\\rangle+ (0.005492019563 + 0.009907865564 i) |00000101\\rangle + \\ldots + (-0.005492019563 - 0.009907865564 i) |11111011\\rangle+ (0.005492019563 + 0.009907865564 i) |11111100\\rangle+ (0.016476058688 + 0.029723596692 i) |11111101\\rangle+ (0.005492019563 + 0.009907865564 i) |11111110\\rangle+ (-0.005492019563 - 0.009907865564 i) |11111111\\rangle$$"
      ],
      "text/plain": [
       "<IPython.core.display.Latex object>"
      ]
     },
     "metadata": {},
     "output_type": "display_data"
    },
    {
     "name": "stdout",
     "output_type": "stream",
     "text": [
      "coherence of |ψ4⟩ =  26.731763781501115\n"
     ]
    },
    {
     "data": {
      "text/plain": [
       "'applied Hadamard to all |ψ5⟩'"
      ]
     },
     "metadata": {},
     "output_type": "display_data"
    },
    {
     "data": {
      "text/latex": [
       "$$(0.058265478572 - 0.004996630798 i) |00000000\\rangle+ (0.058265478572 - 0.004996630798 i) |00000001\\rangle+ (0.058265478572 - 0.004996630798 i) |00000010\\rangle+ (0.058265478572 - 0.004996630798 i) |00000011\\rangle+ (0.058265478572 - 0.004996630798 i) |00000100\\rangle+ (0.058265478572 - 0.004996630798 i) |00000101\\rangle + \\ldots + (0.058265478572 - 0.004996630798 i) |11111011\\rangle+ (0.146137791576 + 0.153529218227 i) |11111100\\rangle+ (0.058265478572 - 0.004996630798 i) |11111101\\rangle+ (0.058265478572 - 0.004996630798 i) |11111110\\rangle+ (0.058265478572 - 0.004996630798 i) |11111111\\rangle$$"
      ],
      "text/plain": [
       "<IPython.core.display.Latex object>"
      ]
     },
     "metadata": {},
     "output_type": "display_data"
    },
    {
     "name": "stdout",
     "output_type": "stream",
     "text": [
      "coherence of |ψ5⟩ =  237.12051847535247\n",
      "-------- 3  ITERATION--------\n"
     ]
    },
    {
     "data": {
      "text/plain": [
       "'applied O operator to |ψ2⟩'"
      ]
     },
     "metadata": {},
     "output_type": "display_data"
    },
    {
     "data": {
      "text/latex": [
       "$$(0.058265478572 - 0.004996630798 i) |00000000\\rangle+ (0.058265478572 - 0.004996630798 i) |00000001\\rangle+ (0.058265478572 - 0.004996630798 i) |00000010\\rangle+ (0.058265478572 - 0.004996630798 i) |00000011\\rangle+ (0.058265478572 - 0.004996630798 i) |00000100\\rangle+ (0.058265478572 - 0.004996630798 i) |00000101\\rangle + \\ldots + (0.058265478572 - 0.004996630798 i) |11111011\\rangle+ (0.063430672646 - 0.202247434456 i) |11111100\\rangle+ (0.058265478572 - 0.004996630798 i) |11111101\\rangle+ (0.058265478572 - 0.004996630798 i) |11111110\\rangle+ (0.058265478572 - 0.004996630798 i) |11111111\\rangle$$"
      ],
      "text/plain": [
       "<IPython.core.display.Latex object>"
      ]
     },
     "metadata": {},
     "output_type": "display_data"
    },
    {
     "name": "stdout",
     "output_type": "stream",
     "text": [
      "coherence of |ψ2⟩ =  237.12051847535247\n"
     ]
    },
    {
     "data": {
      "text/plain": [
       "'applied Hadamard to all |ψ1⟩'"
      ]
     },
     "metadata": {},
     "output_type": "display_data"
    },
    {
     "data": {
      "text/latex": [
       "$$(0.933216131038 - 0.116930618456 i) |00000000\\rangle+ (0.00032282463 - 0.012328175229 i) |00000001\\rangle+ (-0.00032282463 + 0.012328175229 i) |00000010\\rangle+ (0.00032282463 - 0.012328175229 i) |00000011\\rangle+ (-0.00032282463 + 0.012328175229 i) |00000100\\rangle+ (0.00032282463 - 0.012328175229 i) |00000101\\rangle + \\ldots + (-0.00032282463 + 0.012328175229 i) |11111011\\rangle+ (0.00032282463 - 0.012328175229 i) |11111100\\rangle+ (0.000968473889 - 0.036984525686 i) |11111101\\rangle+ (0.00032282463 - 0.012328175229 i) |11111110\\rangle+ (-0.00032282463 + 0.012328175229 i) |11111111\\rangle$$"
      ],
      "text/plain": [
       "<IPython.core.display.Latex object>"
      ]
     },
     "metadata": {},
     "output_type": "display_data"
    },
    {
     "name": "stdout",
     "output_type": "stream",
     "text": [
      "coherence of |ψ1⟩ =  30.800103966487367\n"
     ]
    },
    {
     "data": {
      "text/plain": [
       "'applied P operator to |ψ4⟩'"
      ]
     },
     "metadata": {},
     "output_type": "display_data"
    },
    {
     "data": {
      "text/latex": [
       "$$(0.933216131038 - 0.116930618456 i) |00000000\\rangle+ (-0.00032282463 + 0.012328175229 i) |00000001\\rangle+ (0.00032282463 - 0.012328175229 i) |00000010\\rangle+ (-0.00032282463 + 0.012328175229 i) |00000011\\rangle+ (0.00032282463 - 0.012328175229 i) |00000100\\rangle+ (-0.00032282463 + 0.012328175229 i) |00000101\\rangle + \\ldots + (0.00032282463 - 0.012328175229 i) |11111011\\rangle+ (-0.00032282463 + 0.012328175229 i) |11111100\\rangle+ (-0.000968473889 + 0.036984525686 i) |11111101\\rangle+ (-0.00032282463 + 0.012328175229 i) |11111110\\rangle+ (0.00032282463 - 0.012328175229 i) |11111111\\rangle$$"
      ],
      "text/plain": [
       "<IPython.core.display.Latex object>"
      ]
     },
     "metadata": {},
     "output_type": "display_data"
    },
    {
     "name": "stdout",
     "output_type": "stream",
     "text": [
      "coherence of |ψ4⟩ =  30.800103966487367\n"
     ]
    },
    {
     "data": {
      "text/plain": [
       "'applied Hadamard to all |ψ5⟩'"
      ]
     },
     "metadata": {},
     "output_type": "display_data"
    },
    {
     "data": {
      "text/latex": [
       "$$(0.058386537808 - 0.009619696509 i) |00000000\\rangle+ (0.058386537808 - 0.009619696509 i) |00000001\\rangle+ (0.058386537808 - 0.009619696509 i) |00000010\\rangle+ (0.058386537808 - 0.009619696509 i) |00000011\\rangle+ (0.058386537808 - 0.009619696509 i) |00000100\\rangle+ (0.058386537808 - 0.009619696509 i) |00000101\\rangle + \\ldots + (0.058386537808 - 0.009619696509 i) |11111011\\rangle+ (0.053221343734 + 0.187631107149 i) |11111100\\rangle+ (0.058386537808 - 0.009619696509 i) |11111101\\rangle+ (0.058386537808 - 0.009619696509 i) |11111110\\rangle+ (0.058386537808 - 0.009619696509 i) |11111111\\rangle$$"
      ],
      "text/plain": [
       "<IPython.core.display.Latex object>"
      ]
     },
     "metadata": {},
     "output_type": "display_data"
    },
    {
     "name": "stdout",
     "output_type": "stream",
     "text": [
      "coherence of |ψ5⟩ =  240.99052904470003\n",
      "-------- 4  ITERATION--------\n"
     ]
    },
    {
     "data": {
      "text/plain": [
       "'applied O operator to |ψ2⟩'"
      ]
     },
     "metadata": {},
     "output_type": "display_data"
    },
    {
     "data": {
      "text/latex": [
       "$$(0.058386537808 - 0.009619696509 i) |00000000\\rangle+ (0.058386537808 - 0.009619696509 i) |00000001\\rangle+ (0.058386537808 - 0.009619696509 i) |00000010\\rangle+ (0.058386537808 - 0.009619696509 i) |00000011\\rangle+ (0.058386537808 - 0.009619696509 i) |00000100\\rangle+ (0.058386537808 - 0.009619696509 i) |00000101\\rangle + \\ldots + (0.058386537808 - 0.009619696509 i) |11111011\\rangle+ (0.13830364454 - 0.137513801873 i) |11111100\\rangle+ (0.058386537808 - 0.009619696509 i) |11111101\\rangle+ (0.058386537808 - 0.009619696509 i) |11111110\\rangle+ (0.058386537808 - 0.009619696509 i) |11111111\\rangle$$"
      ],
      "text/plain": [
       "<IPython.core.display.Latex object>"
      ]
     },
     "metadata": {},
     "output_type": "display_data"
    },
    {
     "name": "stdout",
     "output_type": "stream",
     "text": [
      "coherence of |ψ2⟩ =  240.99052904470003\n"
     ]
    },
    {
     "data": {
      "text/plain": [
       "'applied Hadamard to all |ψ1⟩'"
      ]
     },
     "metadata": {},
     "output_type": "display_data"
    },
    {
     "data": {
      "text/latex": [
       "$$(0.949169062439 - 0.177895288898 i) |00000000\\rangle+ (0.004994819171 - 0.007993381585 i) |00000001\\rangle+ (-0.004994819171 + 0.007993381585 i) |00000010\\rangle+ (0.004994819171 - 0.007993381585 i) |00000011\\rangle+ (-0.004994819171 + 0.007993381585 i) |00000100\\rangle+ (0.004994819171 - 0.007993381585 i) |00000101\\rangle + \\ldots + (-0.004994819171 + 0.007993381585 i) |11111011\\rangle+ (0.004994819171 - 0.007993381585 i) |11111100\\rangle+ (0.014984457512 - 0.023980144756 i) |11111101\\rangle+ (0.004994819171 - 0.007993381585 i) |11111110\\rangle+ (-0.004994819171 + 0.007993381585 i) |11111111\\rangle$$"
      ],
      "text/plain": [
       "<IPython.core.display.Latex object>"
      ]
     },
     "metadata": {},
     "output_type": "display_data"
    },
    {
     "name": "stdout",
     "output_type": "stream",
     "text": [
      "coherence of |ψ1⟩ =  19.764957342009314\n"
     ]
    },
    {
     "data": {
      "text/plain": [
       "'applied P operator to |ψ4⟩'"
      ]
     },
     "metadata": {},
     "output_type": "display_data"
    },
    {
     "data": {
      "text/latex": [
       "$$(0.949169062439 - 0.177895288898 i) |00000000\\rangle+ (-0.004994819171 + 0.007993381585 i) |00000001\\rangle+ (0.004994819171 - 0.007993381585 i) |00000010\\rangle+ (-0.004994819171 + 0.007993381585 i) |00000011\\rangle+ (0.004994819171 - 0.007993381585 i) |00000100\\rangle+ (-0.004994819171 + 0.007993381585 i) |00000101\\rangle + \\ldots + (0.004994819171 - 0.007993381585 i) |11111011\\rangle+ (-0.004994819171 + 0.007993381585 i) |11111100\\rangle+ (-0.014984457512 + 0.023980144756 i) |11111101\\rangle+ (-0.004994819171 + 0.007993381585 i) |11111110\\rangle+ (0.004994819171 - 0.007993381585 i) |11111111\\rangle$$"
      ],
      "text/plain": [
       "<IPython.core.display.Latex object>"
      ]
     },
     "metadata": {},
     "output_type": "display_data"
    },
    {
     "name": "stdout",
     "output_type": "stream",
     "text": [
      "coherence of |ψ4⟩ =  19.764957342009314\n"
     ]
    },
    {
     "data": {
      "text/plain": [
       "'applied Hadamard to all |ψ5⟩'"
      ]
     },
     "metadata": {},
     "output_type": "display_data"
    },
    {
     "data": {
      "text/latex": [
       "$$(0.060259594997 - 0.012617214603 i) |00000000\\rangle+ (0.060259594997 - 0.012617214603 i) |00000001\\rangle+ (0.060259594997 - 0.012617214603 i) |00000010\\rangle+ (0.060259594997 - 0.012617214603 i) |00000011\\rangle+ (0.060259594997 - 0.012617214603 i) |00000100\\rangle+ (0.060259594997 - 0.012617214603 i) |00000101\\rangle + \\ldots + (0.060259594997 - 0.012617214603 i) |11111011\\rangle+ (-0.019657511735 + 0.115276890761 i) |11111100\\rangle+ (0.060259594997 - 0.012617214603 i) |11111101\\rangle+ (0.060259594997 - 0.012617214603 i) |11111110\\rangle+ (0.060259594997 - 0.012617214603 i) |11111111\\rangle$$"
      ],
      "text/plain": [
       "<IPython.core.display.Latex object>"
      ]
     },
     "metadata": {},
     "output_type": "display_data"
    },
    {
     "name": "stdout",
     "output_type": "stream",
     "text": [
      "coherence of |ψ5⟩ =  252.67264372017706\n",
      "-------- 5  ITERATION--------\n"
     ]
    },
    {
     "data": {
      "text/plain": [
       "'applied O operator to |ψ2⟩'"
      ]
     },
     "metadata": {},
     "output_type": "display_data"
    },
    {
     "data": {
      "text/latex": [
       "$$(0.060259594997 - 0.012617214603 i) |00000000\\rangle+ (0.060259594997 - 0.012617214603 i) |00000001\\rangle+ (0.060259594997 - 0.012617214603 i) |00000010\\rangle+ (0.060259594997 - 0.012617214603 i) |00000011\\rangle+ (0.060259594997 - 0.012617214603 i) |00000100\\rangle+ (0.060259594997 - 0.012617214603 i) |00000101\\rangle + \\ldots + (0.060259594997 - 0.012617214603 i) |11111011\\rangle+ (0.110353591237 - 0.038694498476 i) |11111100\\rangle+ (0.060259594997 - 0.012617214603 i) |11111101\\rangle+ (0.060259594997 - 0.012617214603 i) |11111110\\rangle+ (0.060259594997 - 0.012617214603 i) |11111111\\rangle$$"
      ],
      "text/plain": [
       "<IPython.core.display.Latex object>"
      ]
     },
     "metadata": {},
     "output_type": "display_data"
    },
    {
     "name": "stdout",
     "output_type": "stream",
     "text": [
      "coherence of |ψ2⟩ =  252.67264372017706\n"
     ]
    },
    {
     "data": {
      "text/plain": [
       "'applied Hadamard to all |ψ1⟩'"
      ]
     },
     "metadata": {},
     "output_type": "display_data"
    },
    {
     "data": {
      "text/latex": [
       "$$(0.973546144246 - 0.20676492438 i) |00000000\\rangle+ (0.003130874765 - 0.001629830242 i) |00000001\\rangle+ (-0.003130874765 + 0.001629830242 i) |00000010\\rangle+ (0.003130874765 - 0.001629830242 i) |00000011\\rangle+ (-0.003130874765 + 0.001629830242 i) |00000100\\rangle+ (0.003130874765 - 0.001629830242 i) |00000101\\rangle + \\ldots + (-0.003130874765 + 0.001629830242 i) |11111011\\rangle+ (0.003130874765 - 0.001629830242 i) |11111100\\rangle+ (0.009392624295 - 0.004889490726 i) |11111101\\rangle+ (0.003130874765 - 0.001629830242 i) |11111110\\rangle+ (-0.003130874765 + 0.001629830242 i) |11111111\\rangle$$"
      ],
      "text/plain": [
       "<IPython.core.display.Latex object>"
      ]
     },
     "metadata": {},
     "output_type": "display_data"
    },
    {
     "name": "stdout",
     "output_type": "stream",
     "text": [
      "coherence of |ψ1⟩ =  4.475942660969341\n"
     ]
    },
    {
     "data": {
      "text/plain": [
       "'applied P operator to |ψ4⟩'"
      ]
     },
     "metadata": {},
     "output_type": "display_data"
    },
    {
     "data": {
      "text/latex": [
       "$$(0.973546144246 - 0.20676492438 i) |00000000\\rangle+ (-0.003130874765 + 0.001629830242 i) |00000001\\rangle+ (0.003130874765 - 0.001629830242 i) |00000010\\rangle+ (-0.003130874765 + 0.001629830242 i) |00000011\\rangle+ (0.003130874765 - 0.001629830242 i) |00000100\\rangle+ (-0.003130874765 + 0.001629830242 i) |00000101\\rangle + \\ldots + (0.003130874765 - 0.001629830242 i) |11111011\\rangle+ (-0.003130874765 + 0.001629830242 i) |11111100\\rangle+ (-0.009392624295 + 0.004889490726 i) |11111101\\rangle+ (-0.003130874765 + 0.001629830242 i) |11111110\\rangle+ (0.003130874765 - 0.001629830242 i) |11111111\\rangle$$"
      ],
      "text/plain": [
       "<IPython.core.display.Latex object>"
      ]
     },
     "metadata": {},
     "output_type": "display_data"
    },
    {
     "name": "stdout",
     "output_type": "stream",
     "text": [
      "coherence of |ψ4⟩ =  4.475942660969341\n"
     ]
    },
    {
     "data": {
      "text/plain": [
       "'applied Hadamard to all |ψ5⟩'"
      ]
     },
     "metadata": {},
     "output_type": "display_data"
    },
    {
     "data": {
      "text/latex": [
       "$$(0.061433673034 - 0.013228400944 i) |00000000\\rangle+ (0.061433673034 - 0.013228400944 i) |00000001\\rangle+ (0.061433673034 - 0.013228400944 i) |00000010\\rangle+ (0.061433673034 - 0.013228400944 i) |00000011\\rangle+ (0.061433673034 - 0.013228400944 i) |00000100\\rangle+ (0.061433673034 - 0.013228400944 i) |00000101\\rangle + \\ldots + (0.061433673034 - 0.013228400944 i) |11111011\\rangle+ (0.011339676794 + 0.012848882929 i) |11111100\\rangle+ (0.061433673034 - 0.013228400944 i) |11111101\\rangle+ (0.061433673034 - 0.013228400944 i) |11111110\\rangle+ (0.061433673034 - 0.013228400944 i) |11111111\\rangle$$"
      ],
      "text/plain": [
       "<IPython.core.display.Latex object>"
      ]
     },
     "metadata": {},
     "output_type": "display_data"
    },
    {
     "name": "stdout",
     "output_type": "stream",
     "text": [
      "coherence of |ψ5⟩ =  253.41451658844835\n",
      "-------- 6  ITERATION--------\n"
     ]
    },
    {
     "data": {
      "text/plain": [
       "'applied O operator to |ψ2⟩'"
      ]
     },
     "metadata": {},
     "output_type": "display_data"
    },
    {
     "data": {
      "text/latex": [
       "$$(0.061433673034 - 0.013228400944 i) |00000000\\rangle+ (0.061433673034 - 0.013228400944 i) |00000001\\rangle+ (0.061433673034 - 0.013228400944 i) |00000010\\rangle+ (0.061433673034 - 0.013228400944 i) |00000011\\rangle+ (0.061433673034 - 0.013228400944 i) |00000100\\rangle+ (0.061433673034 - 0.013228400944 i) |00000101\\rangle + \\ldots + (0.061433673034 - 0.013228400944 i) |11111011\\rangle+ (0.005740301824 - 0.01614716685 i) |11111100\\rangle+ (0.061433673034 - 0.013228400944 i) |11111101\\rangle+ (0.061433673034 - 0.013228400944 i) |11111110\\rangle+ (0.061433673034 - 0.013228400944 i) |11111111\\rangle$$"
      ],
      "text/plain": [
       "<IPython.core.display.Latex object>"
      ]
     },
     "metadata": {},
     "output_type": "display_data"
    },
    {
     "name": "stdout",
     "output_type": "stream",
     "text": [
      "coherence of |ψ2⟩ =  253.41451658844835\n"
     ]
    },
    {
     "data": {
      "text/plain": [
       "'applied Hadamard to all |ψ1⟩'"
      ]
     },
     "metadata": {},
     "output_type": "display_data"
    },
    {
     "data": {
      "text/latex": [
       "$$(0.972496261439 - 0.212201683714 i) |00000000\\rangle+ (-0.003480835701 - 0.000182422869 i) |00000001\\rangle+ (0.003480835701 + 0.000182422869 i) |00000010\\rangle+ (-0.003480835701 - 0.000182422869 i) |00000011\\rangle+ (0.003480835701 + 0.000182422869 i) |00000100\\rangle+ (-0.003480835701 - 0.000182422869 i) |00000101\\rangle + \\ldots + (0.003480835701 + 0.000182422869 i) |11111011\\rangle+ (-0.003480835701 - 0.000182422869 i) |11111100\\rangle+ (-0.010442507102 - 0.000547268607 i) |11111101\\rangle+ (-0.003480835701 - 0.000182422869 i) |11111110\\rangle+ (0.003480835701 + 0.000182422869 i) |11111111\\rangle$$"
      ],
      "text/plain": [
       "<IPython.core.display.Latex object>"
      ]
     },
     "metadata": {},
     "output_type": "display_data"
    },
    {
     "name": "stdout",
     "output_type": "stream",
     "text": [
      "coherence of |ψ1⟩ =  4.398173586266043\n"
     ]
    },
    {
     "data": {
      "text/plain": [
       "'applied P operator to |ψ4⟩'"
      ]
     },
     "metadata": {},
     "output_type": "display_data"
    },
    {
     "data": {
      "text/latex": [
       "$$(0.972496261439 - 0.212201683714 i) |00000000\\rangle+ (0.003480835701 + 0.000182422869 i) |00000001\\rangle+ (-0.003480835701 - 0.000182422869 i) |00000010\\rangle+ (0.003480835701 + 0.000182422869 i) |00000011\\rangle+ (-0.003480835701 - 0.000182422869 i) |00000100\\rangle+ (0.003480835701 + 0.000182422869 i) |00000101\\rangle + \\ldots + (-0.003480835701 - 0.000182422869 i) |11111011\\rangle+ (0.003480835701 + 0.000182422869 i) |11111100\\rangle+ (0.010442507102 + 0.000547268607 i) |11111101\\rangle+ (0.003480835701 + 0.000182422869 i) |11111110\\rangle+ (-0.003480835701 - 0.000182422869 i) |11111111\\rangle$$"
      ],
      "text/plain": [
       "<IPython.core.display.Latex object>"
      ]
     },
     "metadata": {},
     "output_type": "display_data"
    },
    {
     "name": "stdout",
     "output_type": "stream",
     "text": [
      "coherence of |ψ4⟩ =  4.398173586266043\n"
     ]
    },
    {
     "data": {
      "text/plain": [
       "'applied Hadamard to all |ψ5⟩'"
      ]
     },
     "metadata": {},
     "output_type": "display_data"
    },
    {
     "data": {
      "text/latex": [
       "$$(0.060128359646 - 0.01329680952 i) |00000000\\rangle+ (0.060128359646 - 0.01329680952 i) |00000001\\rangle+ (0.060128359646 - 0.01329680952 i) |00000010\\rangle+ (0.060128359646 - 0.01329680952 i) |00000011\\rangle+ (0.060128359646 - 0.01329680952 i) |00000100\\rangle+ (0.060128359646 - 0.01329680952 i) |00000101\\rangle + \\ldots + (0.060128359646 - 0.01329680952 i) |11111011\\rangle+ (0.115821730856 - 0.010378043614 i) |11111100\\rangle+ (0.060128359646 - 0.01329680952 i) |11111101\\rangle+ (0.060128359646 - 0.01329680952 i) |11111110\\rangle+ (0.060128359646 - 0.01329680952 i) |11111111\\rangle$$"
      ],
      "text/plain": [
       "<IPython.core.display.Latex object>"
      ]
     },
     "metadata": {},
     "output_type": "display_data"
    },
    {
     "name": "stdout",
     "output_type": "stream",
     "text": [
      "coherence of |ψ5⟩ =  252.7286122486091\n",
      "-------- 7  ITERATION--------\n"
     ]
    },
    {
     "data": {
      "text/plain": [
       "'applied O operator to |ψ2⟩'"
      ]
     },
     "metadata": {},
     "output_type": "display_data"
    },
    {
     "data": {
      "text/latex": [
       "$$(0.060128359646 - 0.01329680952 i) |00000000\\rangle+ (0.060128359646 - 0.01329680952 i) |00000001\\rangle+ (0.060128359646 - 0.01329680952 i) |00000010\\rangle+ (0.060128359646 - 0.01329680952 i) |00000011\\rangle+ (0.060128359646 - 0.01329680952 i) |00000100\\rangle+ (0.060128359646 - 0.01329680952 i) |00000101\\rangle + \\ldots + (0.060128359646 - 0.01329680952 i) |11111011\\rangle+ (-0.065228330819 - 0.096268592938 i) |11111100\\rangle+ (0.060128359646 - 0.01329680952 i) |11111101\\rangle+ (0.060128359646 - 0.01329680952 i) |11111110\\rangle+ (0.060128359646 - 0.01329680952 i) |11111111\\rangle$$"
      ],
      "text/plain": [
       "<IPython.core.display.Latex object>"
      ]
     },
     "metadata": {},
     "output_type": "display_data"
    },
    {
     "name": "stdout",
     "output_type": "stream",
     "text": [
      "coherence of |ψ2⟩ =  252.7286122486091\n"
     ]
    },
    {
     "data": {
      "text/plain": [
       "'applied Hadamard to all |ψ1⟩'"
      ]
     },
     "metadata": {},
     "output_type": "display_data"
    },
    {
     "data": {
      "text/latex": [
       "$$(0.938549374875 - 0.228306161712 i) |00000000\\rangle+ (-0.007834793154 - 0.005185736464 i) |00000001\\rangle+ (0.007834793154 + 0.005185736464 i) |00000010\\rangle+ (-0.007834793154 - 0.005185736464 i) |00000011\\rangle+ (0.007834793154 + 0.005185736464 i) |00000100\\rangle+ (-0.007834793154 - 0.005185736464 i) |00000101\\rangle + \\ldots + (0.007834793154 + 0.005185736464 i) |11111011\\rangle+ (-0.007834793154 - 0.005185736464 i) |11111100\\rangle+ (-0.023504379462 - 0.015557209391 i) |11111101\\rangle+ (-0.007834793154 - 0.005185736464 i) |11111110\\rangle+ (0.007834793154 + 0.005185736464 i) |11111111\\rangle$$"
      ],
      "text/plain": [
       "<IPython.core.display.Latex object>"
      ]
     },
     "metadata": {},
     "output_type": "display_data"
    },
    {
     "name": "stdout",
     "output_type": "stream",
     "text": [
      "coherence of |ψ1⟩ =  19.662594678901407\n"
     ]
    },
    {
     "data": {
      "text/plain": [
       "'applied P operator to |ψ4⟩'"
      ]
     },
     "metadata": {},
     "output_type": "display_data"
    },
    {
     "data": {
      "text/latex": [
       "$$(0.938549374875 - 0.228306161712 i) |00000000\\rangle+ (0.007834793154 + 0.005185736464 i) |00000001\\rangle+ (-0.007834793154 - 0.005185736464 i) |00000010\\rangle+ (0.007834793154 + 0.005185736464 i) |00000011\\rangle+ (-0.007834793154 - 0.005185736464 i) |00000100\\rangle+ (0.007834793154 + 0.005185736464 i) |00000101\\rangle + \\ldots + (-0.007834793154 - 0.005185736464 i) |11111011\\rangle+ (0.007834793154 + 0.005185736464 i) |11111100\\rangle+ (0.023504379462 + 0.015557209391 i) |11111101\\rangle+ (0.007834793154 + 0.005185736464 i) |11111110\\rangle+ (-0.007834793154 - 0.005185736464 i) |11111111\\rangle$$"
      ],
      "text/plain": [
       "<IPython.core.display.Latex object>"
      ]
     },
     "metadata": {},
     "output_type": "display_data"
    },
    {
     "name": "stdout",
     "output_type": "stream",
     "text": [
      "coherence of |ψ4⟩ =  19.662594678901407\n"
     ]
    },
    {
     "data": {
      "text/plain": [
       "'applied Hadamard to all |ψ5⟩'"
      ]
     },
     "metadata": {},
     "output_type": "display_data"
    },
    {
     "data": {
      "text/latex": [
       "$$(0.057190312213 - 0.015241460694 i) |00000000\\rangle+ (0.057190312213 - 0.015241460694 i) |00000001\\rangle+ (0.057190312213 - 0.015241460694 i) |00000010\\rangle+ (0.057190312213 - 0.015241460694 i) |00000011\\rangle+ (0.057190312213 - 0.015241460694 i) |00000100\\rangle+ (0.057190312213 - 0.015241460694 i) |00000101\\rangle + \\ldots + (0.057190312213 - 0.015241460694 i) |11111011\\rangle+ (0.182547002678 + 0.067730322724 i) |11111100\\rangle+ (0.057190312213 - 0.015241460694 i) |11111101\\rangle+ (0.057190312213 - 0.015241460694 i) |11111110\\rangle+ (0.057190312213 - 0.015241460694 i) |11111111\\rangle$$"
      ],
      "text/plain": [
       "<IPython.core.display.Latex object>"
      ]
     },
     "metadata": {},
     "output_type": "display_data"
    },
    {
     "name": "stdout",
     "output_type": "stream",
     "text": [
      "coherence of |ψ5⟩ =  241.0603455046532\n",
      "======================================== FOR ϕ =  256.0 ========================================\n"
     ]
    },
    {
     "data": {
      "text/plain": [
       "'initialised |ψ0⟩'"
      ]
     },
     "metadata": {},
     "output_type": "display_data"
    },
    {
     "data": {
      "text/latex": [
       "$$ |00000000\\rangle$$"
      ],
      "text/plain": [
       "<IPython.core.display.Latex object>"
      ]
     },
     "metadata": {},
     "output_type": "display_data"
    },
    {
     "name": "stdout",
     "output_type": "stream",
     "text": [
      "coherence of |ψ0⟩ =  0.0\n"
     ]
    },
    {
     "data": {
      "text/plain": [
       "'applied Hadamard to all |ψ1⟩'"
      ]
     },
     "metadata": {},
     "output_type": "display_data"
    },
    {
     "data": {
      "text/latex": [
       "$$\\frac{1}{16} |00000000\\rangle+\\frac{1}{16} |00000001\\rangle+\\frac{1}{16} |00000010\\rangle+\\frac{1}{16} |00000011\\rangle+\\frac{1}{16} |00000100\\rangle+\\frac{1}{16} |00000101\\rangle + \\ldots +\\frac{1}{16} |11111011\\rangle+\\frac{1}{16} |11111100\\rangle+\\frac{1}{16} |11111101\\rangle+\\frac{1}{16} |11111110\\rangle+\\frac{1}{16} |11111111\\rangle$$"
      ],
      "text/plain": [
       "<IPython.core.display.Latex object>"
      ]
     },
     "metadata": {},
     "output_type": "display_data"
    },
    {
     "name": "stdout",
     "output_type": "stream",
     "text": [
      "coherence of |ψ1⟩ =  255.00000000000003\n",
      "-------- 1  ITERATION--------\n"
     ]
    },
    {
     "data": {
      "text/plain": [
       "'applied O operator to |ψ2⟩'"
      ]
     },
     "metadata": {},
     "output_type": "display_data"
    },
    {
     "data": {
      "text/latex": [
       "$$\\frac{1}{16} |00000000\\rangle+\\frac{1}{16} |00000001\\rangle+\\frac{1}{16} |00000010\\rangle+\\frac{1}{16} |00000011\\rangle+\\frac{1}{16} |00000100\\rangle+\\frac{1}{16} |00000101\\rangle + \\ldots +\\frac{1}{16} |11111011\\rangle+ (-0.015120118475 - 0.060643482892 i) |11111100\\rangle+\\frac{1}{16} |11111101\\rangle+\\frac{1}{16} |11111110\\rangle+\\frac{1}{16} |11111111\\rangle$$"
      ],
      "text/plain": [
       "<IPython.core.display.Latex object>"
      ]
     },
     "metadata": {},
     "output_type": "display_data"
    },
    {
     "name": "stdout",
     "output_type": "stream",
     "text": [
      "coherence of |ψ2⟩ =  255.00000000000003\n"
     ]
    },
    {
     "data": {
      "text/plain": [
       "'applied Hadamard to all |ψ1⟩'"
      ]
     },
     "metadata": {},
     "output_type": "display_data"
    },
    {
     "data": {
      "text/latex": [
       "$$(0.985446227786 - 0.011370653042 i) |00000000\\rangle+ (-0.004851257405 - 0.003790217681 i) |00000001\\rangle+ (0.004851257405 + 0.003790217681 i) |00000010\\rangle+ (-0.004851257405 - 0.003790217681 i) |00000011\\rangle+ (0.004851257405 + 0.003790217681 i) |00000100\\rangle+ (-0.004851257405 - 0.003790217681 i) |00000101\\rangle + \\ldots + (0.004851257405 + 0.003790217681 i) |11111011\\rangle+ (-0.004851257405 - 0.003790217681 i) |11111100\\rangle+ (-0.014553772214 - 0.011370653042 i) |11111101\\rangle+ (-0.004851257405 - 0.003790217681 i) |11111110\\rangle+ (0.004851257405 + 0.003790217681 i) |11111111\\rangle$$"
      ],
      "text/plain": [
       "<IPython.core.display.Latex object>"
      ]
     },
     "metadata": {},
     "output_type": "display_data"
    },
    {
     "name": "stdout",
     "output_type": "stream",
     "text": [
      "coherence of |ψ1⟩ =  10.096061221876804\n"
     ]
    },
    {
     "data": {
      "text/plain": [
       "'applied P operator to |ψ4⟩'"
      ]
     },
     "metadata": {},
     "output_type": "display_data"
    },
    {
     "data": {
      "text/latex": [
       "$$(0.985446227786 - 0.011370653042 i) |00000000\\rangle+ (0.004851257405 + 0.003790217681 i) |00000001\\rangle+ (-0.004851257405 - 0.003790217681 i) |00000010\\rangle+ (0.004851257405 + 0.003790217681 i) |00000011\\rangle+ (-0.004851257405 - 0.003790217681 i) |00000100\\rangle+ (0.004851257405 + 0.003790217681 i) |00000101\\rangle + \\ldots + (-0.004851257405 - 0.003790217681 i) |11111011\\rangle+ (0.004851257405 + 0.003790217681 i) |11111100\\rangle+ (0.014553772214 + 0.011370653042 i) |11111101\\rangle+ (0.004851257405 + 0.003790217681 i) |11111110\\rangle+ (-0.004851257405 - 0.003790217681 i) |11111111\\rangle$$"
      ],
      "text/plain": [
       "<IPython.core.display.Latex object>"
      ]
     },
     "metadata": {},
     "output_type": "display_data"
    },
    {
     "name": "stdout",
     "output_type": "stream",
     "text": [
      "coherence of |ψ4⟩ =  10.096061221876804\n"
     ]
    },
    {
     "data": {
      "text/plain": [
       "'applied Hadamard to all |ψ5⟩'"
      ]
     },
     "metadata": {},
     "output_type": "display_data"
    },
    {
     "data": {
      "text/latex": [
       "$$(0.060680778473 - 0.00142133163 i) |00000000\\rangle+ (0.060680778473 - 0.00142133163 i) |00000001\\rangle+ (0.060680778473 - 0.00142133163 i) |00000010\\rangle+ (0.060680778473 - 0.00142133163 i) |00000011\\rangle+ (0.060680778473 - 0.00142133163 i) |00000100\\rangle+ (0.060680778473 - 0.00142133163 i) |00000101\\rangle + \\ldots + (0.060680778473 - 0.00142133163 i) |11111011\\rangle+ (0.138300896948 + 0.059222151262 i) |11111100\\rangle+ (0.060680778473 - 0.00142133163 i) |11111101\\rangle+ (0.060680778473 - 0.00142133163 i) |11111110\\rangle+ (0.060680778473 - 0.00142133163 i) |11111111\\rangle$$"
      ],
      "text/plain": [
       "<IPython.core.display.Latex object>"
      ]
     },
     "metadata": {},
     "output_type": "display_data"
    },
    {
     "name": "stdout",
     "output_type": "stream",
     "text": [
      "coherence of |ψ5⟩ =  248.88621912853858\n",
      "-------- 2  ITERATION--------\n"
     ]
    },
    {
     "data": {
      "text/plain": [
       "'applied O operator to |ψ2⟩'"
      ]
     },
     "metadata": {},
     "output_type": "display_data"
    },
    {
     "data": {
      "text/latex": [
       "$$(0.060680778473 - 0.00142133163 i) |00000000\\rangle+ (0.060680778473 - 0.00142133163 i) |00000001\\rangle+ (0.060680778473 - 0.00142133163 i) |00000010\\rangle+ (0.060680778473 - 0.00142133163 i) |00000011\\rangle+ (0.060680778473 - 0.00142133163 i) |00000100\\rangle+ (0.060680778473 - 0.00142133163 i) |00000101\\rangle + \\ldots + (0.060680778473 - 0.00142133163 i) |11111011\\rangle+ (0.024004985118 - 0.148519904344 i) |11111100\\rangle+ (0.060680778473 - 0.00142133163 i) |11111101\\rangle+ (0.060680778473 - 0.00142133163 i) |11111110\\rangle+ (0.060680778473 - 0.00142133163 i) |11111111\\rangle$$"
      ],
      "text/plain": [
       "<IPython.core.display.Latex object>"
      ]
     },
     "metadata": {},
     "output_type": "display_data"
    },
    {
     "name": "stdout",
     "output_type": "stream",
     "text": [
      "coherence of |ψ2⟩ =  248.88621912853858\n"
     ]
    },
    {
     "data": {
      "text/plain": [
       "'applied Hadamard to all |ψ1⟩'"
      ]
     },
     "metadata": {},
     "output_type": "display_data"
    },
    {
     "data": {
      "text/latex": [
       "$$(0.964015744318 - 0.050322288468 i) |00000000\\rangle+ (-0.002292237085 - 0.009193660795 i) |00000001\\rangle+ (0.002292237085 + 0.009193660795 i) |00000010\\rangle+ (-0.002292237085 - 0.009193660795 i) |00000011\\rangle+ (0.002292237085 + 0.009193660795 i) |00000100\\rangle+ (-0.002292237085 - 0.009193660795 i) |00000101\\rangle + \\ldots + (0.002292237085 + 0.009193660795 i) |11111011\\rangle+ (-0.002292237085 - 0.009193660795 i) |11111100\\rangle+ (-0.006876711254 - 0.027580982384 i) |11111101\\rangle+ (-0.002292237085 - 0.009193660795 i) |11111110\\rangle+ (0.002292237085 + 0.009193660795 i) |11111111\\rangle$$"
      ],
      "text/plain": [
       "<IPython.core.display.Latex object>"
      ]
     },
     "metadata": {},
     "output_type": "display_data"
    },
    {
     "name": "stdout",
     "output_type": "stream",
     "text": [
      "coherence of |ψ1⟩ =  19.933790992975823\n"
     ]
    },
    {
     "data": {
      "text/plain": [
       "'applied P operator to |ψ4⟩'"
      ]
     },
     "metadata": {},
     "output_type": "display_data"
    },
    {
     "data": {
      "text/latex": [
       "$$(0.964015744318 - 0.050322288468 i) |00000000\\rangle+ (0.002292237085 + 0.009193660795 i) |00000001\\rangle+ (-0.002292237085 - 0.009193660795 i) |00000010\\rangle+ (0.002292237085 + 0.009193660795 i) |00000011\\rangle+ (-0.002292237085 - 0.009193660795 i) |00000100\\rangle+ (0.002292237085 + 0.009193660795 i) |00000101\\rangle + \\ldots + (-0.002292237085 - 0.009193660795 i) |11111011\\rangle+ (0.002292237085 + 0.009193660795 i) |11111100\\rangle+ (0.006876711254 + 0.027580982384 i) |11111101\\rangle+ (0.002292237085 + 0.009193660795 i) |11111110\\rangle+ (-0.002292237085 - 0.009193660795 i) |11111111\\rangle$$"
      ],
      "text/plain": [
       "<IPython.core.display.Latex object>"
      ]
     },
     "metadata": {},
     "output_type": "display_data"
    },
    {
     "name": "stdout",
     "output_type": "stream",
     "text": [
      "coherence of |ψ4⟩ =  19.933790992975823\n"
     ]
    },
    {
     "data": {
      "text/plain": [
       "'applied Hadamard to all |ψ5⟩'"
      ]
     },
     "metadata": {},
     "output_type": "display_data"
    },
    {
     "data": {
      "text/latex": [
       "$$(0.059821189566 - 0.004868954428 i) |00000000\\rangle+ (0.059821189566 - 0.004868954428 i) |00000001\\rangle+ (0.059821189566 - 0.004868954428 i) |00000010\\rangle+ (0.059821189566 - 0.004868954428 i) |00000011\\rangle+ (0.059821189566 - 0.004868954428 i) |00000100\\rangle+ (0.059821189566 - 0.004868954428 i) |00000101\\rangle + \\ldots + (0.059821189566 - 0.004868954428 i) |11111011\\rangle+ (0.096496982922 + 0.142229618285 i) |11111100\\rangle+ (0.059821189566 - 0.004868954428 i) |11111101\\rangle+ (0.059821189566 - 0.004868954428 i) |11111110\\rangle+ (0.059821189566 - 0.004868954428 i) |11111111\\rangle$$"
      ],
      "text/plain": [
       "<IPython.core.display.Latex object>"
      ]
     },
     "metadata": {},
     "output_type": "display_data"
    },
    {
     "name": "stdout",
     "output_type": "stream",
     "text": [
      "coherence of |ψ5⟩ =  245.50361338100888\n",
      "-------- 3  ITERATION--------\n"
     ]
    },
    {
     "data": {
      "text/plain": [
       "'applied O operator to |ψ2⟩'"
      ]
     },
     "metadata": {},
     "output_type": "display_data"
    },
    {
     "data": {
      "text/latex": [
       "$$(0.059821189566 - 0.004868954428 i) |00000000\\rangle+ (0.059821189566 - 0.004868954428 i) |00000001\\rangle+ (0.059821189566 - 0.004868954428 i) |00000010\\rangle+ (0.059821189566 - 0.004868954428 i) |00000011\\rangle+ (0.059821189566 - 0.004868954428 i) |00000100\\rangle+ (0.059821189566 - 0.004868954428 i) |00000101\\rangle + \\ldots + (0.059821189566 - 0.004868954428 i) |11111011\\rangle+ (0.114660057744 - 0.128039068994 i) |11111100\\rangle+ (0.059821189566 - 0.004868954428 i) |11111101\\rangle+ (0.059821189566 - 0.004868954428 i) |11111110\\rangle+ (0.059821189566 - 0.004868954428 i) |11111111\\rangle$$"
      ],
      "text/plain": [
       "<IPython.core.display.Latex object>"
      ]
     },
     "metadata": {},
     "output_type": "display_data"
    },
    {
     "name": "stdout",
     "output_type": "stream",
     "text": [
      "coherence of |ψ2⟩ =  245.50361338100888\n"
     ]
    },
    {
     "data": {
      "text/plain": [
       "'applied Hadamard to all |ψ1⟩'"
      ]
     },
     "metadata": {},
     "output_type": "display_data"
    },
    {
     "data": {
      "text/latex": [
       "$$(0.967421320847 - 0.100997667333 i) |00000000\\rangle+ (0.003427429261 - 0.00769813216 i) |00000001\\rangle+ (-0.003427429261 + 0.00769813216 i) |00000010\\rangle+ (0.003427429261 - 0.00769813216 i) |00000011\\rangle+ (-0.003427429261 + 0.00769813216 i) |00000100\\rangle+ (0.003427429261 - 0.00769813216 i) |00000101\\rangle + \\ldots + (-0.003427429261 + 0.00769813216 i) |11111011\\rangle+ (0.003427429261 - 0.00769813216 i) |11111100\\rangle+ (0.010282287783 - 0.023094396481 i) |11111101\\rangle+ (0.003427429261 - 0.00769813216 i) |11111110\\rangle+ (-0.003427429261 + 0.00769813216 i) |11111111\\rangle$$"
      ],
      "text/plain": [
       "<IPython.core.display.Latex object>"
      ]
     },
     "metadata": {},
     "output_type": "display_data"
    },
    {
     "name": "stdout",
     "output_type": "stream",
     "text": [
      "coherence of |ψ1⟩ =  16.499450958025108\n"
     ]
    },
    {
     "data": {
      "text/plain": [
       "'applied P operator to |ψ4⟩'"
      ]
     },
     "metadata": {},
     "output_type": "display_data"
    },
    {
     "data": {
      "text/latex": [
       "$$(0.967421320847 - 0.100997667333 i) |00000000\\rangle+ (-0.003427429261 + 0.00769813216 i) |00000001\\rangle+ (0.003427429261 - 0.00769813216 i) |00000010\\rangle+ (-0.003427429261 + 0.00769813216 i) |00000011\\rangle+ (0.003427429261 - 0.00769813216 i) |00000100\\rangle+ (-0.003427429261 + 0.00769813216 i) |00000101\\rangle + \\ldots + (0.003427429261 - 0.00769813216 i) |11111011\\rangle+ (-0.003427429261 + 0.00769813216 i) |11111100\\rangle+ (-0.010282287783 + 0.023094396481 i) |11111101\\rangle+ (-0.003427429261 + 0.00769813216 i) |11111110\\rangle+ (0.003427429261 - 0.00769813216 i) |11111111\\rangle$$"
      ],
      "text/plain": [
       "<IPython.core.display.Latex object>"
      ]
     },
     "metadata": {},
     "output_type": "display_data"
    },
    {
     "name": "stdout",
     "output_type": "stream",
     "text": [
      "coherence of |ψ4⟩ =  16.499450958025108\n"
     ]
    },
    {
     "data": {
      "text/plain": [
       "'applied Hadamard to all |ψ5⟩'"
      ]
     },
     "metadata": {},
     "output_type": "display_data"
    },
    {
     "data": {
      "text/latex": [
       "$$(0.061106475539 - 0.007755753988 i) |00000000\\rangle+ (0.061106475539 - 0.007755753988 i) |00000001\\rangle+ (0.061106475539 - 0.007755753988 i) |00000010\\rangle+ (0.061106475539 - 0.007755753988 i) |00000011\\rangle+ (0.061106475539 - 0.007755753988 i) |00000100\\rangle+ (0.061106475539 - 0.007755753988 i) |00000101\\rangle + \\ldots + (0.061106475539 - 0.007755753988 i) |11111011\\rangle+ (0.006267607362 + 0.115414360577 i) |11111100\\rangle+ (0.061106475539 - 0.007755753988 i) |11111101\\rangle+ (0.061106475539 - 0.007755753988 i) |11111110\\rangle+ (0.061106475539 - 0.007755753988 i) |11111111\\rangle$$"
      ],
      "text/plain": [
       "<IPython.core.display.Latex object>"
      ]
     },
     "metadata": {},
     "output_type": "display_data"
    },
    {
     "name": "stdout",
     "output_type": "stream",
     "text": [
      "coherence of |ψ5⟩ =  252.78776246867287\n",
      "-------- 4  ITERATION--------\n"
     ]
    },
    {
     "data": {
      "text/plain": [
       "'applied O operator to |ψ2⟩'"
      ]
     },
     "metadata": {},
     "output_type": "display_data"
    },
    {
     "data": {
      "text/latex": [
       "$$(0.061106475539 - 0.007755753988 i) |00000000\\rangle+ (0.061106475539 - 0.007755753988 i) |00000001\\rangle+ (0.061106475539 - 0.007755753988 i) |00000010\\rangle+ (0.061106475539 - 0.007755753988 i) |00000011\\rangle+ (0.061106475539 - 0.007755753988 i) |00000100\\rangle+ (0.061106475539 - 0.007755753988 i) |00000101\\rangle + \\ldots + (0.061106475539 - 0.007755753988 i) |11111011\\rangle+ (0.110469789365 - 0.034002693528 i) |11111100\\rangle+ (0.061106475539 - 0.007755753988 i) |11111101\\rangle+ (0.061106475539 - 0.007755753988 i) |11111110\\rangle+ (0.061106475539 - 0.007755753988 i) |11111111\\rangle$$"
      ],
      "text/plain": [
       "<IPython.core.display.Latex object>"
      ]
     },
     "metadata": {},
     "output_type": "display_data"
    },
    {
     "name": "stdout",
     "output_type": "stream",
     "text": [
      "coherence of |ψ2⟩ =  252.78776246867287\n"
     ]
    },
    {
     "data": {
      "text/plain": [
       "'applied Hadamard to all |ψ1⟩'"
      ]
     },
     "metadata": {},
     "output_type": "display_data"
    },
    {
     "data": {
      "text/latex": [
       "$$(0.986959229972 - 0.129013364978 i) |00000000\\rangle+ (0.003085207114 - 0.001640433721 i) |00000001\\rangle+ (-0.003085207114 + 0.001640433721 i) |00000010\\rangle+ (0.003085207114 - 0.001640433721 i) |00000011\\rangle+ (-0.003085207114 + 0.001640433721 i) |00000100\\rangle+ (0.003085207114 - 0.001640433721 i) |00000101\\rangle + \\ldots + (-0.003085207114 + 0.001640433721 i) |11111011\\rangle+ (0.003085207114 - 0.001640433721 i) |11111100\\rangle+ (0.009255621342 - 0.004921301164 i) |11111101\\rangle+ (0.003085207114 - 0.001640433721 i) |11111110\\rangle+ (-0.003085207114 + 0.001640433721 i) |11111111\\rangle$$"
      ],
      "text/plain": [
       "<IPython.core.display.Latex object>"
      ]
     },
     "metadata": {},
     "output_type": "display_data"
    },
    {
     "name": "stdout",
     "output_type": "stream",
     "text": [
      "coherence of |ψ1⟩ =  4.413304507700625\n"
     ]
    },
    {
     "data": {
      "text/plain": [
       "'applied P operator to |ψ4⟩'"
      ]
     },
     "metadata": {},
     "output_type": "display_data"
    },
    {
     "data": {
      "text/latex": [
       "$$(0.986959229972 - 0.129013364978 i) |00000000\\rangle+ (-0.003085207114 + 0.001640433721 i) |00000001\\rangle+ (0.003085207114 - 0.001640433721 i) |00000010\\rangle+ (-0.003085207114 + 0.001640433721 i) |00000011\\rangle+ (0.003085207114 - 0.001640433721 i) |00000100\\rangle+ (-0.003085207114 + 0.001640433721 i) |00000101\\rangle + \\ldots + (0.003085207114 - 0.001640433721 i) |11111011\\rangle+ (-0.003085207114 + 0.001640433721 i) |11111100\\rangle+ (-0.009255621342 + 0.004921301164 i) |11111101\\rangle+ (-0.003085207114 + 0.001640433721 i) |11111110\\rangle+ (0.003085207114 - 0.001640433721 i) |11111111\\rangle$$"
      ],
      "text/plain": [
       "<IPython.core.display.Latex object>"
      ]
     },
     "metadata": {},
     "output_type": "display_data"
    },
    {
     "name": "stdout",
     "output_type": "stream",
     "text": [
      "coherence of |ψ4⟩ =  4.413304507700625\n"
     ]
    },
    {
     "data": {
      "text/plain": [
       "'applied Hadamard to all |ψ5⟩'"
      ]
     },
     "metadata": {},
     "output_type": "display_data"
    },
    {
     "data": {
      "text/latex": [
       "$$(0.062263428207 - 0.008370916634 i) |00000000\\rangle+ (0.062263428207 - 0.008370916634 i) |00000001\\rangle+ (0.062263428207 - 0.008370916634 i) |00000010\\rangle+ (0.062263428207 - 0.008370916634 i) |00000011\\rangle+ (0.062263428207 - 0.008370916634 i) |00000100\\rangle+ (0.062263428207 - 0.008370916634 i) |00000101\\rangle + \\ldots + (0.062263428207 - 0.008370916634 i) |11111011\\rangle+ (0.012900114381 + 0.017876022905 i) |11111100\\rangle+ (0.062263428207 - 0.008370916634 i) |11111101\\rangle+ (0.062263428207 - 0.008370916634 i) |11111110\\rangle+ (0.062263428207 - 0.008370916634 i) |11111111\\rangle$$"
      ],
      "text/plain": [
       "<IPython.core.display.Latex object>"
      ]
     },
     "metadata": {},
     "output_type": "display_data"
    },
    {
     "name": "stdout",
     "output_type": "stream",
     "text": [
      "coherence of |ψ5⟩ =  253.7378385945895\n",
      "-------- 5  ITERATION--------\n"
     ]
    },
    {
     "data": {
      "text/plain": [
       "'applied O operator to |ψ2⟩'"
      ]
     },
     "metadata": {},
     "output_type": "display_data"
    },
    {
     "data": {
      "text/latex": [
       "$$(0.062263428207 - 0.008370916634 i) |00000000\\rangle+ (0.062263428207 - 0.008370916634 i) |00000001\\rangle+ (0.062263428207 - 0.008370916634 i) |00000010\\rangle+ (0.062263428207 - 0.008370916634 i) |00000011\\rangle+ (0.062263428207 - 0.008370916634 i) |00000100\\rangle+ (0.062263428207 - 0.008370916634 i) |00000101\\rangle + \\ldots + (0.062263428207 - 0.008370916634 i) |11111011\\rangle+ (0.014224208503 - 0.0168415272 i) |11111100\\rangle+ (0.062263428207 - 0.008370916634 i) |11111101\\rangle+ (0.062263428207 - 0.008370916634 i) |11111110\\rangle+ (0.062263428207 - 0.008370916634 i) |11111111\\rangle$$"
      ],
      "text/plain": [
       "<IPython.core.display.Latex object>"
      ]
     },
     "metadata": {},
     "output_type": "display_data"
    },
    {
     "name": "stdout",
     "output_type": "stream",
     "text": [
      "coherence of |ψ2⟩ =  253.7378385945895\n"
     ]
    },
    {
     "data": {
      "text/plain": [
       "'applied Hadamard to all |ψ1⟩'"
      ]
     },
     "metadata": {},
     "output_type": "display_data"
    },
    {
     "data": {
      "text/latex": [
       "$$(0.98720749762 - 0.135522905623 i) |00000000\\rangle+ (-0.003002451231 - 0.00052941316 i) |00000001\\rangle+ (0.003002451231 + 0.00052941316 i) |00000010\\rangle+ (-0.003002451231 - 0.00052941316 i) |00000011\\rangle+ (0.003002451231 + 0.00052941316 i) |00000100\\rangle+ (-0.003002451231 - 0.00052941316 i) |00000101\\rangle + \\ldots + (0.003002451231 + 0.00052941316 i) |11111011\\rangle+ (-0.003002451231 - 0.00052941316 i) |11111100\\rangle+ (-0.009007353694 - 0.001588239481 i) |11111101\\rangle+ (-0.003002451231 - 0.00052941316 i) |11111110\\rangle+ (0.003002451231 + 0.00052941316 i) |11111111\\rangle$$"
      ],
      "text/plain": [
       "<IPython.core.display.Latex object>"
      ]
     },
     "metadata": {},
     "output_type": "display_data"
    },
    {
     "name": "stdout",
     "output_type": "stream",
     "text": [
      "coherence of |ψ1⟩ =  3.657167937350582\n"
     ]
    },
    {
     "data": {
      "text/plain": [
       "'applied P operator to |ψ4⟩'"
      ]
     },
     "metadata": {},
     "output_type": "display_data"
    },
    {
     "data": {
      "text/latex": [
       "$$(0.98720749762 - 0.135522905623 i) |00000000\\rangle+ (0.003002451231 + 0.00052941316 i) |00000001\\rangle+ (-0.003002451231 - 0.00052941316 i) |00000010\\rangle+ (0.003002451231 + 0.00052941316 i) |00000011\\rangle+ (-0.003002451231 - 0.00052941316 i) |00000100\\rangle+ (0.003002451231 + 0.00052941316 i) |00000101\\rangle + \\ldots + (-0.003002451231 - 0.00052941316 i) |11111011\\rangle+ (0.003002451231 + 0.00052941316 i) |11111100\\rangle+ (0.009007353694 + 0.001588239481 i) |11111101\\rangle+ (0.003002451231 + 0.00052941316 i) |11111110\\rangle+ (-0.003002451231 - 0.00052941316 i) |11111111\\rangle$$"
      ],
      "text/plain": [
       "<IPython.core.display.Latex object>"
      ]
     },
     "metadata": {},
     "output_type": "display_data"
    },
    {
     "name": "stdout",
     "output_type": "stream",
     "text": [
      "coherence of |ψ4⟩ =  3.657167937350582\n"
     ]
    },
    {
     "data": {
      "text/plain": [
       "'applied Hadamard to all |ψ5⟩'"
      ]
     },
     "metadata": {},
     "output_type": "display_data"
    },
    {
     "data": {
      "text/latex": [
       "$$(0.061137508995 - 0.008569446569 i) |00000000\\rangle+ (0.061137508995 - 0.008569446569 i) |00000001\\rangle+ (0.061137508995 - 0.008569446569 i) |00000010\\rangle+ (0.061137508995 - 0.008569446569 i) |00000011\\rangle+ (0.061137508995 - 0.008569446569 i) |00000100\\rangle+ (0.061137508995 - 0.008569446569 i) |00000101\\rangle + \\ldots + (0.061137508995 - 0.008569446569 i) |11111011\\rangle+ (0.109176728699 - 9.8836003 \\cdot 10^{-5} i) |11111100\\rangle+ (0.061137508995 - 0.008569446569 i) |11111101\\rangle+ (0.061137508995 - 0.008569446569 i) |11111110\\rangle+ (0.061137508995 - 0.008569446569 i) |11111111\\rangle$$"
      ],
      "text/plain": [
       "<IPython.core.display.Latex object>"
      ]
     },
     "metadata": {},
     "output_type": "display_data"
    },
    {
     "name": "stdout",
     "output_type": "stream",
     "text": [
      "coherence of |ψ5⟩ =  253.291713882919\n",
      "-------- 6  ITERATION--------\n"
     ]
    },
    {
     "data": {
      "text/plain": [
       "'applied O operator to |ψ2⟩'"
      ]
     },
     "metadata": {},
     "output_type": "display_data"
    },
    {
     "data": {
      "text/latex": [
       "$$(0.061137508995 - 0.008569446569 i) |00000000\\rangle+ (0.061137508995 - 0.008569446569 i) |00000001\\rangle+ (0.061137508995 - 0.008569446569 i) |00000010\\rangle+ (0.061137508995 - 0.008569446569 i) |00000011\\rangle+ (0.061137508995 - 0.008569446569 i) |00000100\\rangle+ (0.061137508995 - 0.008569446569 i) |00000101\\rangle + \\ldots + (0.061137508995 - 0.008569446569 i) |11111011\\rangle+ (-0.026508141314 - 0.105909802672 i) |11111100\\rangle+ (0.061137508995 - 0.008569446569 i) |11111101\\rangle+ (0.061137508995 - 0.008569446569 i) |11111110\\rangle+ (0.061137508995 - 0.008569446569 i) |11111111\\rangle$$"
      ],
      "text/plain": [
       "<IPython.core.display.Latex object>"
      ]
     },
     "metadata": {},
     "output_type": "display_data"
    },
    {
     "name": "stdout",
     "output_type": "stream",
     "text": [
      "coherence of |ψ2⟩ =  253.291713882919\n"
     ]
    },
    {
     "data": {
      "text/plain": [
       "'applied Hadamard to all |ψ1⟩'"
      ]
     },
     "metadata": {},
     "output_type": "display_data"
    },
    {
     "data": {
      "text/latex": [
       "$$(0.961766584493 - 0.155362461873 i) |00000000\\rangle+ (-0.005477853144 - 0.006083772256 i) |00000001\\rangle+ (0.005477853144 + 0.006083772256 i) |00000010\\rangle+ (-0.005477853144 - 0.006083772256 i) |00000011\\rangle+ (0.005477853144 + 0.006083772256 i) |00000100\\rangle+ (-0.005477853144 - 0.006083772256 i) |00000101\\rangle + \\ldots + (0.005477853144 + 0.006083772256 i) |11111011\\rangle+ (-0.005477853144 - 0.006083772256 i) |11111100\\rangle+ (-0.016433559433 - 0.018251316769 i) |11111101\\rangle+ (-0.005477853144 - 0.006083772256 i) |11111110\\rangle+ (0.005477853144 + 0.006083772256 i) |11111111\\rangle$$"
      ],
      "text/plain": [
       "<IPython.core.display.Latex object>"
      ]
     },
     "metadata": {},
     "output_type": "display_data"
    },
    {
     "name": "stdout",
     "output_type": "stream",
     "text": [
      "coherence of |ψ1⟩ =  15.755101466316091\n"
     ]
    },
    {
     "data": {
      "text/plain": [
       "'applied P operator to |ψ4⟩'"
      ]
     },
     "metadata": {},
     "output_type": "display_data"
    },
    {
     "data": {
      "text/latex": [
       "$$(0.961766584493 - 0.155362461873 i) |00000000\\rangle+ (0.005477853144 + 0.006083772256 i) |00000001\\rangle+ (-0.005477853144 - 0.006083772256 i) |00000010\\rangle+ (0.005477853144 + 0.006083772256 i) |00000011\\rangle+ (-0.005477853144 - 0.006083772256 i) |00000100\\rangle+ (0.005477853144 + 0.006083772256 i) |00000101\\rangle + \\ldots + (-0.005477853144 - 0.006083772256 i) |11111011\\rangle+ (0.005477853144 + 0.006083772256 i) |11111100\\rangle+ (0.016433559433 + 0.018251316769 i) |11111101\\rangle+ (0.005477853144 + 0.006083772256 i) |11111110\\rangle+ (-0.005477853144 - 0.006083772256 i) |11111111\\rangle$$"
      ],
      "text/plain": [
       "<IPython.core.display.Latex object>"
      ]
     },
     "metadata": {},
     "output_type": "display_data"
    },
    {
     "name": "stdout",
     "output_type": "stream",
     "text": [
      "coherence of |ψ4⟩ =  15.755101466316091\n"
     ]
    },
    {
     "data": {
      "text/plain": [
       "'applied Hadamard to all |ψ5⟩'"
      ]
     },
     "metadata": {},
     "output_type": "display_data"
    },
    {
     "data": {
      "text/latex": [
       "$$(0.059083314066 - 0.010850861165 i) |00000000\\rangle+ (0.059083314066 - 0.010850861165 i) |00000001\\rangle+ (0.059083314066 - 0.010850861165 i) |00000010\\rangle+ (0.059083314066 - 0.010850861165 i) |00000011\\rangle+ (0.059083314066 - 0.010850861165 i) |00000100\\rangle+ (0.059083314066 - 0.010850861165 i) |00000101\\rangle + \\ldots + (0.059083314066 - 0.010850861165 i) |11111011\\rangle+ (0.146728964375 + 0.086489494938 i) |11111100\\rangle+ (0.059083314066 - 0.010850861165 i) |11111101\\rangle+ (0.059083314066 - 0.010850861165 i) |11111110\\rangle+ (0.059083314066 - 0.010850861165 i) |11111111\\rangle$$"
      ],
      "text/plain": [
       "<IPython.core.display.Latex object>"
      ]
     },
     "metadata": {},
     "output_type": "display_data"
    },
    {
     "name": "stdout",
     "output_type": "stream",
     "text": [
      "coherence of |ψ5⟩ =  245.77409868196924\n",
      "-------- 7  ITERATION--------\n"
     ]
    },
    {
     "data": {
      "text/plain": [
       "'applied O operator to |ψ2⟩'"
      ]
     },
     "metadata": {},
     "output_type": "display_data"
    },
    {
     "data": {
      "text/latex": [
       "$$(0.059083314066 - 0.010850861165 i) |00000000\\rangle+ (0.059083314066 - 0.010850861165 i) |00000001\\rangle+ (0.059083314066 - 0.010850861165 i) |00000010\\rangle+ (0.059083314066 - 0.010850861165 i) |00000011\\rangle+ (0.059083314066 - 0.010850861165 i) |00000100\\rangle+ (0.059083314066 - 0.010850861165 i) |00000101\\rangle + \\ldots + (0.059083314066 - 0.010850861165 i) |11111011\\rangle+ (0.048423438105 - 0.163294189619 i) |11111100\\rangle+ (0.059083314066 - 0.010850861165 i) |11111101\\rangle+ (0.059083314066 - 0.010850861165 i) |11111110\\rangle+ (0.059083314066 - 0.010850861165 i) |11111111\\rangle$$"
      ],
      "text/plain": [
       "<IPython.core.display.Latex object>"
      ]
     },
     "metadata": {},
     "output_type": "display_data"
    },
    {
     "name": "stdout",
     "output_type": "stream",
     "text": [
      "coherence of |ψ2⟩ =  245.77409868196924\n"
     ]
    },
    {
     "data": {
      "text/plain": [
       "'applied Hadamard to all |ψ1⟩'"
      ]
     },
     "metadata": {},
     "output_type": "display_data"
    },
    {
     "data": {
      "text/latex": [
       "$$(0.943334298317 - 0.202196902728 i) |00000000\\rangle+ (-0.000666242248 - 0.009527708028 i) |00000001\\rangle+ (0.000666242248 + 0.009527708028 i) |00000010\\rangle+ (-0.000666242248 - 0.009527708028 i) |00000011\\rangle+ (0.000666242248 + 0.009527708028 i) |00000100\\rangle+ (-0.000666242248 - 0.009527708028 i) |00000101\\rangle + \\ldots + (0.000666242248 + 0.009527708028 i) |11111011\\rangle+ (-0.000666242248 - 0.009527708028 i) |11111100\\rangle+ (-0.001998726743 - 0.028583124085 i) |11111101\\rangle+ (-0.000666242248 - 0.009527708028 i) |11111110\\rangle+ (0.000666242248 + 0.009527708028 i) |11111111\\rangle$$"
      ],
      "text/plain": [
       "<IPython.core.display.Latex object>"
      ]
     },
     "metadata": {},
     "output_type": "display_data"
    },
    {
     "name": "stdout",
     "output_type": "stream",
     "text": [
      "coherence of |ψ1⟩ =  20.193884972365723\n"
     ]
    },
    {
     "data": {
      "text/plain": [
       "'applied P operator to |ψ4⟩'"
      ]
     },
     "metadata": {},
     "output_type": "display_data"
    },
    {
     "data": {
      "text/latex": [
       "$$(0.943334298317 - 0.202196902728 i) |00000000\\rangle+ (0.000666242248 + 0.009527708028 i) |00000001\\rangle+ (-0.000666242248 - 0.009527708028 i) |00000010\\rangle+ (0.000666242248 + 0.009527708028 i) |00000011\\rangle+ (-0.000666242248 - 0.009527708028 i) |00000100\\rangle+ (0.000666242248 + 0.009527708028 i) |00000101\\rangle + \\ldots + (-0.000666242248 - 0.009527708028 i) |11111011\\rangle+ (0.000666242248 + 0.009527708028 i) |11111100\\rangle+ (0.001998726743 + 0.028583124085 i) |11111101\\rangle+ (0.000666242248 + 0.009527708028 i) |11111110\\rangle+ (-0.000666242248 - 0.009527708028 i) |11111111\\rangle$$"
      ],
      "text/plain": [
       "<IPython.core.display.Latex object>"
      ]
     },
     "metadata": {},
     "output_type": "display_data"
    },
    {
     "name": "stdout",
     "output_type": "stream",
     "text": [
      "coherence of |ψ4⟩ =  20.193884972365723\n"
     ]
    },
    {
     "data": {
      "text/plain": [
       "'applied Hadamard to all |ψ5⟩'"
      ]
     },
     "metadata": {},
     "output_type": "display_data"
    },
    {
     "data": {
      "text/latex": [
       "$$(0.058833473223 - 0.014423751676 i) |00000000\\rangle+ (0.058833473223 - 0.014423751676 i) |00000001\\rangle+ (0.058833473223 - 0.014423751676 i) |00000010\\rangle+ (0.058833473223 - 0.014423751676 i) |00000011\\rangle+ (0.058833473223 - 0.014423751676 i) |00000100\\rangle+ (0.058833473223 - 0.014423751676 i) |00000101\\rangle + \\ldots + (0.058833473223 - 0.014423751676 i) |11111011\\rangle+ (0.069493349184 + 0.138019576778 i) |11111100\\rangle+ (0.058833473223 - 0.014423751676 i) |11111101\\rangle+ (0.058833473223 - 0.014423751676 i) |11111110\\rangle+ (0.058833473223 - 0.014423751676 i) |11111111\\rangle$$"
      ],
      "text/plain": [
       "<IPython.core.display.Latex object>"
      ]
     },
     "metadata": {},
     "output_type": "display_data"
    },
    {
     "name": "stdout",
     "output_type": "stream",
     "text": [
      "coherence of |ψ5⟩ =  248.3003687561694\n",
      "======================================== FOR ϕ =  271.0 ========================================\n"
     ]
    },
    {
     "data": {
      "text/plain": [
       "'initialised |ψ0⟩'"
      ]
     },
     "metadata": {},
     "output_type": "display_data"
    },
    {
     "data": {
      "text/latex": [
       "$$ |00000000\\rangle$$"
      ],
      "text/plain": [
       "<IPython.core.display.Latex object>"
      ]
     },
     "metadata": {},
     "output_type": "display_data"
    },
    {
     "name": "stdout",
     "output_type": "stream",
     "text": [
      "coherence of |ψ0⟩ =  0.0\n"
     ]
    },
    {
     "data": {
      "text/plain": [
       "'applied Hadamard to all |ψ1⟩'"
      ]
     },
     "metadata": {},
     "output_type": "display_data"
    },
    {
     "data": {
      "text/latex": [
       "$$\\frac{1}{16} |00000000\\rangle+\\frac{1}{16} |00000001\\rangle+\\frac{1}{16} |00000010\\rangle+\\frac{1}{16} |00000011\\rangle+\\frac{1}{16} |00000100\\rangle+\\frac{1}{16} |00000101\\rangle + \\ldots +\\frac{1}{16} |11111011\\rangle+\\frac{1}{16} |11111100\\rangle+\\frac{1}{16} |11111101\\rangle+\\frac{1}{16} |11111110\\rangle+\\frac{1}{16} |11111111\\rangle$$"
      ],
      "text/plain": [
       "<IPython.core.display.Latex object>"
      ]
     },
     "metadata": {},
     "output_type": "display_data"
    },
    {
     "name": "stdout",
     "output_type": "stream",
     "text": [
      "coherence of |ψ1⟩ =  255.00000000000003\n",
      "-------- 1  ITERATION--------\n"
     ]
    },
    {
     "data": {
      "text/plain": [
       "'applied O operator to |ψ2⟩'"
      ]
     },
     "metadata": {},
     "output_type": "display_data"
    },
    {
     "data": {
      "text/latex": [
       "$$\\frac{1}{16} |00000000\\rangle+\\frac{1}{16} |00000001\\rangle+\\frac{1}{16} |00000010\\rangle+\\frac{1}{16} |00000011\\rangle+\\frac{1}{16} |00000100\\rangle+\\frac{1}{16} |00000101\\rangle + \\ldots +\\frac{1}{16} |11111011\\rangle+ (0.001090775402 - 0.062490480947 i) |11111100\\rangle+\\frac{1}{16} |11111101\\rangle+\\frac{1}{16} |11111110\\rangle+\\frac{1}{16} |11111111\\rangle$$"
      ],
      "text/plain": [
       "<IPython.core.display.Latex object>"
      ]
     },
     "metadata": {},
     "output_type": "display_data"
    },
    {
     "name": "stdout",
     "output_type": "stream",
     "text": [
      "coherence of |ψ2⟩ =  255.00000000000003\n"
     ]
    },
    {
     "data": {
      "text/plain": [
       "'applied Hadamard to all |ψ1⟩'"
      ]
     },
     "metadata": {},
     "output_type": "display_data"
    },
    {
     "data": {
      "text/latex": [
       "$$(0.988485770388 - 0.011716965178 i) |00000000\\rangle+ (-0.003838076537 - 0.003905655059 i) |00000001\\rangle+ (0.003838076537 + 0.003905655059 i) |00000010\\rangle+ (-0.003838076537 - 0.003905655059 i) |00000011\\rangle+ (0.003838076537 + 0.003905655059 i) |00000100\\rangle+ (-0.003838076537 - 0.003905655059 i) |00000101\\rangle + \\ldots + (0.003838076537 + 0.003905655059 i) |11111011\\rangle+ (-0.003838076537 - 0.003905655059 i) |11111100\\rangle+ (-0.011514229612 - 0.011716965178 i) |11111101\\rangle+ (-0.003838076537 - 0.003905655059 i) |11111110\\rangle+ (0.003838076537 + 0.003905655059 i) |11111111\\rangle$$"
      ],
      "text/plain": [
       "<IPython.core.display.Latex object>"
      ]
     },
     "metadata": {},
     "output_type": "display_data"
    },
    {
     "name": "stdout",
     "output_type": "stream",
     "text": [
      "coherence of |ψ1⟩ =  8.454735996506159\n"
     ]
    },
    {
     "data": {
      "text/plain": [
       "'applied P operator to |ψ4⟩'"
      ]
     },
     "metadata": {},
     "output_type": "display_data"
    },
    {
     "data": {
      "text/latex": [
       "$$(0.988485770388 - 0.011716965178 i) |00000000\\rangle+ (0.003838076537 + 0.003905655059 i) |00000001\\rangle+ (-0.003838076537 - 0.003905655059 i) |00000010\\rangle+ (0.003838076537 + 0.003905655059 i) |00000011\\rangle+ (-0.003838076537 - 0.003905655059 i) |00000100\\rangle+ (0.003838076537 + 0.003905655059 i) |00000101\\rangle + \\ldots + (-0.003838076537 - 0.003905655059 i) |11111011\\rangle+ (0.003838076537 + 0.003905655059 i) |11111100\\rangle+ (0.011514229612 + 0.011716965178 i) |11111101\\rangle+ (0.003838076537 + 0.003905655059 i) |11111110\\rangle+ (-0.003838076537 - 0.003905655059 i) |11111111\\rangle$$"
      ],
      "text/plain": [
       "<IPython.core.display.Latex object>"
      ]
     },
     "metadata": {},
     "output_type": "display_data"
    },
    {
     "name": "stdout",
     "output_type": "stream",
     "text": [
      "coherence of |ψ4⟩ =  8.454735996506159\n"
     ]
    },
    {
     "data": {
      "text/plain": [
       "'applied Hadamard to all |ψ5⟩'"
      ]
     },
     "metadata": {},
     "output_type": "display_data"
    },
    {
     "data": {
      "text/latex": [
       "$$(0.061060721298 - 0.001464620647 i) |00000000\\rangle+ (0.061060721298 - 0.001464620647 i) |00000001\\rangle+ (0.061060721298 - 0.001464620647 i) |00000010\\rangle+ (0.061060721298 - 0.001464620647 i) |00000011\\rangle+ (0.061060721298 - 0.001464620647 i) |00000100\\rangle+ (0.061060721298 - 0.001464620647 i) |00000101\\rangle + \\ldots + (0.061060721298 - 0.001464620647 i) |11111011\\rangle+ (0.122469945896 + 0.0610258603 i) |11111100\\rangle+ (0.061060721298 - 0.001464620647 i) |11111101\\rangle+ (0.061060721298 - 0.001464620647 i) |11111110\\rangle+ (0.061060721298 - 0.001464620647 i) |11111111\\rangle$$"
      ],
      "text/plain": [
       "<IPython.core.display.Latex object>"
      ]
     },
     "metadata": {},
     "output_type": "display_data"
    },
    {
     "name": "stdout",
     "output_type": "stream",
     "text": [
      "coherence of |ψ5⟩ =  250.64436350574903\n",
      "-------- 2  ITERATION--------\n"
     ]
    },
    {
     "data": {
      "text/plain": [
       "'applied O operator to |ψ2⟩'"
      ]
     },
     "metadata": {},
     "output_type": "display_data"
    },
    {
     "data": {
      "text/latex": [
       "$$(0.061060721298 - 0.001464620647 i) |00000000\\rangle+ (0.061060721298 - 0.001464620647 i) |00000001\\rangle+ (0.061060721298 - 0.001464620647 i) |00000010\\rangle+ (0.061060721298 - 0.001464620647 i) |00000011\\rangle+ (0.061060721298 - 0.001464620647 i) |00000100\\rangle+ (0.061060721298 - 0.001464620647 i) |00000101\\rangle + \\ldots + (0.061060721298 - 0.001464620647 i) |11111011\\rangle+ (0.063153961038 - 0.121386245013 i) |11111100\\rangle+ (0.061060721298 - 0.001464620647 i) |11111101\\rangle+ (0.061060721298 - 0.001464620647 i) |11111110\\rangle+ (0.061060721298 - 0.001464620647 i) |11111111\\rangle$$"
      ],
      "text/plain": [
       "<IPython.core.display.Latex object>"
      ]
     },
     "metadata": {},
     "output_type": "display_data"
    },
    {
     "name": "stdout",
     "output_type": "stream",
     "text": [
      "coherence of |ψ2⟩ =  250.64436350574903\n"
     ]
    },
    {
     "data": {
      "text/plain": [
       "'applied Hadamard to all |ψ1⟩'"
      ]
     },
     "metadata": {},
     "output_type": "display_data"
    },
    {
     "data": {
      "text/latex": [
       "$$(0.977364023227 - 0.045919234924 i) |00000000\\rangle+ (0.000130827484 - 0.007495101523 i) |00000001\\rangle+ (-0.000130827484 + 0.007495101523 i) |00000010\\rangle+ (0.000130827484 - 0.007495101523 i) |00000011\\rangle+ (-0.000130827484 + 0.007495101523 i) |00000100\\rangle+ (0.000130827484 - 0.007495101523 i) |00000101\\rangle + \\ldots + (-0.000130827484 + 0.007495101523 i) |11111011\\rangle+ (0.000130827484 - 0.007495101523 i) |11111100\\rangle+ (0.000392482451 - 0.022485304569 i) |11111101\\rangle+ (0.000130827484 - 0.007495101523 i) |11111110\\rangle+ (-0.000130827484 + 0.007495101523 i) |11111111\\rangle$$"
      ],
      "text/plain": [
       "<IPython.core.display.Latex object>"
      ]
     },
     "metadata": {},
     "output_type": "display_data"
    },
    {
     "name": "stdout",
     "output_type": "stream",
     "text": [
      "coherence of |ψ1⟩ =  13.703473133111723\n"
     ]
    },
    {
     "data": {
      "text/plain": [
       "'applied P operator to |ψ4⟩'"
      ]
     },
     "metadata": {},
     "output_type": "display_data"
    },
    {
     "data": {
      "text/latex": [
       "$$(0.977364023227 - 0.045919234924 i) |00000000\\rangle+ (-0.000130827484 + 0.007495101523 i) |00000001\\rangle+ (0.000130827484 - 0.007495101523 i) |00000010\\rangle+ (-0.000130827484 + 0.007495101523 i) |00000011\\rangle+ (0.000130827484 - 0.007495101523 i) |00000100\\rangle+ (-0.000130827484 + 0.007495101523 i) |00000101\\rangle + \\ldots + (0.000130827484 - 0.007495101523 i) |11111011\\rangle+ (-0.000130827484 + 0.007495101523 i) |11111100\\rangle+ (-0.000392482451 + 0.022485304569 i) |11111101\\rangle+ (-0.000130827484 + 0.007495101523 i) |11111110\\rangle+ (0.000130827484 - 0.007495101523 i) |11111111\\rangle$$"
      ],
      "text/plain": [
       "<IPython.core.display.Latex object>"
      ]
     },
     "metadata": {},
     "output_type": "display_data"
    },
    {
     "name": "stdout",
     "output_type": "stream",
     "text": [
      "coherence of |ψ4⟩ =  13.703473133111723\n"
     ]
    },
    {
     "data": {
      "text/plain": [
       "'applied Hadamard to all |ψ5⟩'"
      ]
     },
     "metadata": {},
     "output_type": "display_data"
    },
    {
     "data": {
      "text/latex": [
       "$$(0.061109781605 - 0.004275283718 i) |00000000\\rangle+ (0.061109781605 - 0.004275283718 i) |00000001\\rangle+ (0.061109781605 - 0.004275283718 i) |00000010\\rangle+ (0.061109781605 - 0.004275283718 i) |00000011\\rangle+ (0.061109781605 - 0.004275283718 i) |00000100\\rangle+ (0.061109781605 - 0.004275283718 i) |00000101\\rangle + \\ldots + (0.061109781605 - 0.004275283718 i) |11111011\\rangle+ (0.059016541865 + 0.115646340648 i) |11111100\\rangle+ (0.061109781605 - 0.004275283718 i) |11111101\\rangle+ (0.061109781605 - 0.004275283718 i) |11111110\\rangle+ (0.061109781605 - 0.004275283718 i) |11111111\\rangle$$"
      ],
      "text/plain": [
       "<IPython.core.display.Latex object>"
      ]
     },
     "metadata": {},
     "output_type": "display_data"
    },
    {
     "name": "stdout",
     "output_type": "stream",
     "text": [
      "coherence of |ψ5⟩ =  251.4307304224466\n",
      "-------- 3  ITERATION--------\n"
     ]
    },
    {
     "data": {
      "text/plain": [
       "'applied O operator to |ψ2⟩'"
      ]
     },
     "metadata": {},
     "output_type": "display_data"
    },
    {
     "data": {
      "text/latex": [
       "$$(0.061109781605 - 0.004275283718 i) |00000000\\rangle+ (0.061109781605 - 0.004275283718 i) |00000001\\rangle+ (0.061109781605 - 0.004275283718 i) |00000010\\rangle+ (0.061109781605 - 0.004275283718 i) |00000011\\rangle+ (0.061109781605 - 0.004275283718 i) |00000100\\rangle+ (0.061109781605 - 0.004275283718 i) |00000101\\rangle + \\ldots + (0.061109781605 - 0.004275283718 i) |11111011\\rangle+ (0.116658707825 - 0.05698924642 i) |11111100\\rangle+ (0.061109781605 - 0.004275283718 i) |11111101\\rangle+ (0.061109781605 - 0.004275283718 i) |11111110\\rangle+ (0.061109781605 - 0.004275283718 i) |11111111\\rangle$$"
      ],
      "text/plain": [
       "<IPython.core.display.Latex object>"
      ]
     },
     "metadata": {},
     "output_type": "display_data"
    },
    {
     "name": "stdout",
     "output_type": "stream",
     "text": [
      "coherence of |ψ2⟩ =  251.4307304224466\n"
     ]
    },
    {
     "data": {
      "text/plain": [
       "'applied Hadamard to all |ψ1⟩'"
      ]
     },
     "metadata": {},
     "output_type": "display_data"
    },
    {
     "data": {
      "text/latex": [
       "$$(0.988171929344 - 0.078288407499 i) |00000000\\rangle+ (0.003471807889 - 0.003294622669 i) |00000001\\rangle+ (-0.003471807889 + 0.003294622669 i) |00000010\\rangle+ (0.003471807889 - 0.003294622669 i) |00000011\\rangle+ (-0.003471807889 + 0.003294622669 i) |00000100\\rangle+ (0.003471807889 - 0.003294622669 i) |00000101\\rangle + \\ldots + (-0.003471807889 + 0.003294622669 i) |11111011\\rangle+ (0.003471807889 - 0.003294622669 i) |11111100\\rangle+ (0.010415423666 - 0.009883868007 i) |11111101\\rangle+ (0.003471807889 - 0.003294622669 i) |11111110\\rangle+ (-0.003471807889 + 0.003294622669 i) |11111111\\rangle$$"
      ],
      "text/plain": [
       "<IPython.core.display.Latex object>"
      ]
     },
     "metadata": {},
     "output_type": "display_data"
    },
    {
     "name": "stdout",
     "output_type": "stream",
     "text": [
      "coherence of |ψ1⟩ =  6.923220449408249\n"
     ]
    },
    {
     "data": {
      "text/plain": [
       "'applied P operator to |ψ4⟩'"
      ]
     },
     "metadata": {},
     "output_type": "display_data"
    },
    {
     "data": {
      "text/latex": [
       "$$(0.988171929344 - 0.078288407499 i) |00000000\\rangle+ (-0.003471807889 + 0.003294622669 i) |00000001\\rangle+ (0.003471807889 - 0.003294622669 i) |00000010\\rangle+ (-0.003471807889 + 0.003294622669 i) |00000011\\rangle+ (0.003471807889 - 0.003294622669 i) |00000100\\rangle+ (-0.003471807889 + 0.003294622669 i) |00000101\\rangle + \\ldots + (0.003471807889 - 0.003294622669 i) |11111011\\rangle+ (-0.003471807889 + 0.003294622669 i) |11111100\\rangle+ (-0.010415423666 + 0.009883868007 i) |11111101\\rangle+ (-0.003471807889 + 0.003294622669 i) |11111110\\rangle+ (0.003471807889 - 0.003294622669 i) |11111111\\rangle$$"
      ],
      "text/plain": [
       "<IPython.core.display.Latex object>"
      ]
     },
     "metadata": {},
     "output_type": "display_data"
    },
    {
     "name": "stdout",
     "output_type": "stream",
     "text": [
      "coherence of |ψ4⟩ =  6.923220449408249\n"
     ]
    },
    {
     "data": {
      "text/plain": [
       "'applied Hadamard to all |ψ5⟩'"
      ]
     },
     "metadata": {},
     "output_type": "display_data"
    },
    {
     "data": {
      "text/latex": [
       "$$(0.062411709563 - 0.005510767219 i) |00000000\\rangle+ (0.062411709563 - 0.005510767219 i) |00000001\\rangle+ (0.062411709563 - 0.005510767219 i) |00000010\\rangle+ (0.062411709563 - 0.005510767219 i) |00000011\\rangle+ (0.062411709563 - 0.005510767219 i) |00000100\\rangle+ (0.062411709563 - 0.005510767219 i) |00000101\\rangle + \\ldots + (0.062411709563 - 0.005510767219 i) |11111011\\rangle+ (0.006862783343 + 0.047203195483 i) |11111100\\rangle+ (0.062411709563 - 0.005510767219 i) |11111101\\rangle+ (0.062411709563 - 0.005510767219 i) |11111110\\rangle+ (0.062411709563 - 0.005510767219 i) |11111111\\rangle$$"
      ],
      "text/plain": [
       "<IPython.core.display.Latex object>"
      ]
     },
     "metadata": {},
     "output_type": "display_data"
    },
    {
     "name": "stdout",
     "output_type": "stream",
     "text": [
      "coherence of |ψ5⟩ =  254.83024677130464\n",
      "-------- 4  ITERATION--------\n"
     ]
    },
    {
     "data": {
      "text/plain": [
       "'applied O operator to |ψ2⟩'"
      ]
     },
     "metadata": {},
     "output_type": "display_data"
    },
    {
     "data": {
      "text/latex": [
       "$$(0.062411709563 - 0.005510767219 i) |00000000\\rangle+ (0.062411709563 - 0.005510767219 i) |00000001\\rangle+ (0.062411709563 - 0.005510767219 i) |00000010\\rangle+ (0.062411709563 - 0.005510767219 i) |00000011\\rangle+ (0.062411709563 - 0.005510767219 i) |00000100\\rangle+ (0.062411709563 - 0.005510767219 i) |00000101\\rangle + \\ldots + (0.062411709563 - 0.005510767219 i) |11111011\\rangle+ (0.047315778292 - 0.006037928755 i) |11111100\\rangle+ (0.062411709563 - 0.005510767219 i) |11111101\\rangle+ (0.062411709563 - 0.005510767219 i) |11111110\\rangle+ (0.062411709563 - 0.005510767219 i) |11111111\\rangle$$"
      ],
      "text/plain": [
       "<IPython.core.display.Latex object>"
      ]
     },
     "metadata": {},
     "output_type": "display_data"
    },
    {
     "name": "stdout",
     "output_type": "stream",
     "text": [
      "coherence of |ψ2⟩ =  254.83024677130464\n"
     ]
    },
    {
     "data": {
      "text/plain": [
       "'applied Hadamard to all |ψ1⟩'"
      ]
     },
     "metadata": {},
     "output_type": "display_data"
    },
    {
     "data": {
      "text/latex": [
       "$$(0.995756865897 - 0.088271118294 i) |00000000\\rangle+ (-0.000943495704 - 3.2947596 \\cdot 10^{-5} i) |00000001\\rangle+ (0.000943495704 + 3.2947596 \\cdot 10^{-5} i) |00000010\\rangle+ (-0.000943495704 - 3.2947596 \\cdot 10^{-5} i) |00000011\\rangle+ (0.000943495704 + 3.2947596 \\cdot 10^{-5} i) |00000100\\rangle+ (-0.000943495704 - 3.2947596 \\cdot 10^{-5} i) |00000101\\rangle + \\ldots + (0.000943495704 + 3.2947596 \\cdot 10^{-5} i) |11111011\\rangle+ (-0.000943495704 - 3.2947596 \\cdot 10^{-5} i) |11111100\\rangle+ (-0.002830487113 - 9.8842788 \\cdot 10^{-5} i) |11111101\\rangle+ (-0.000943495704 - 3.2947596 \\cdot 10^{-5} i) |11111110\\rangle+ (0.000943495704 + 3.2947596 \\cdot 10^{-5} i) |11111111\\rangle$$"
      ],
      "text/plain": [
       "<IPython.core.display.Latex object>"
      ]
     },
     "metadata": {},
     "output_type": "display_data"
    },
    {
     "name": "stdout",
     "output_type": "stream",
     "text": [
      "coherence of |ψ1⟩ =  0.8478397177554859\n"
     ]
    },
    {
     "data": {
      "text/plain": [
       "'applied P operator to |ψ4⟩'"
      ]
     },
     "metadata": {},
     "output_type": "display_data"
    },
    {
     "data": {
      "text/latex": [
       "$$(0.995756865897 - 0.088271118294 i) |00000000\\rangle+ (0.000943495704 + 3.2947596 \\cdot 10^{-5} i) |00000001\\rangle+ (-0.000943495704 - 3.2947596 \\cdot 10^{-5} i) |00000010\\rangle+ (0.000943495704 + 3.2947596 \\cdot 10^{-5} i) |00000011\\rangle+ (-0.000943495704 - 3.2947596 \\cdot 10^{-5} i) |00000100\\rangle+ (0.000943495704 + 3.2947596 \\cdot 10^{-5} i) |00000101\\rangle + \\ldots + (-0.000943495704 - 3.2947596 \\cdot 10^{-5} i) |11111011\\rangle+ (0.000943495704 + 3.2947596 \\cdot 10^{-5} i) |11111100\\rangle+ (0.002830487113 + 9.8842788 \\cdot 10^{-5} i) |11111101\\rangle+ (0.000943495704 + 3.2947596 \\cdot 10^{-5} i) |11111110\\rangle+ (-0.000943495704 - 3.2947596 \\cdot 10^{-5} i) |11111111\\rangle$$"
      ],
      "text/plain": [
       "<IPython.core.display.Latex object>"
      ]
     },
     "metadata": {},
     "output_type": "display_data"
    },
    {
     "name": "stdout",
     "output_type": "stream",
     "text": [
      "coherence of |ψ4⟩ =  0.8478397177554859\n"
     ]
    },
    {
     "data": {
      "text/plain": [
       "'applied Hadamard to all |ψ5⟩'"
      ]
     },
     "metadata": {},
     "output_type": "display_data"
    },
    {
     "data": {
      "text/latex": [
       "$$(0.062057898674 - 0.005523122568 i) |00000000\\rangle+ (0.062057898674 - 0.005523122568 i) |00000001\\rangle+ (0.062057898674 - 0.005523122568 i) |00000010\\rangle+ (0.062057898674 - 0.005523122568 i) |00000011\\rangle+ (0.062057898674 - 0.005523122568 i) |00000100\\rangle+ (0.062057898674 - 0.005523122568 i) |00000101\\rangle + \\ldots + (0.062057898674 - 0.005523122568 i) |11111011\\rangle+ (0.077153829946 - 0.004995961031 i) |11111100\\rangle+ (0.062057898674 - 0.005523122568 i) |11111101\\rangle+ (0.062057898674 - 0.005523122568 i) |11111110\\rangle+ (0.062057898674 - 0.005523122568 i) |11111111\\rangle$$"
      ],
      "text/plain": [
       "<IPython.core.display.Latex object>"
      ]
     },
     "metadata": {},
     "output_type": "display_data"
    },
    {
     "name": "stdout",
     "output_type": "stream",
     "text": [
      "coherence of |ψ5⟩ =  254.82894660123952\n",
      "-------- 5  ITERATION--------\n"
     ]
    },
    {
     "data": {
      "text/plain": [
       "'applied O operator to |ψ2⟩'"
      ]
     },
     "metadata": {},
     "output_type": "display_data"
    },
    {
     "data": {
      "text/latex": [
       "$$(0.062057898674 - 0.005523122568 i) |00000000\\rangle+ (0.062057898674 - 0.005523122568 i) |00000001\\rangle+ (0.062057898674 - 0.005523122568 i) |00000010\\rangle+ (0.062057898674 - 0.005523122568 i) |00000011\\rangle+ (0.062057898674 - 0.005523122568 i) |00000100\\rangle+ (0.062057898674 - 0.005523122568 i) |00000101\\rangle + \\ldots + (0.062057898674 - 0.005523122568 i) |11111011\\rangle+ (-0.003648680124 - 0.077229270586 i) |11111100\\rangle+ (0.062057898674 - 0.005523122568 i) |11111101\\rangle+ (0.062057898674 - 0.005523122568 i) |11111110\\rangle+ (0.062057898674 - 0.005523122568 i) |11111111\\rangle$$"
      ],
      "text/plain": [
       "<IPython.core.display.Latex object>"
      ]
     },
     "metadata": {},
     "output_type": "display_data"
    },
    {
     "name": "stdout",
     "output_type": "stream",
     "text": [
      "coherence of |ψ2⟩ =  254.82894660123952\n"
     ]
    },
    {
     "data": {
      "text/plain": [
       "'applied Hadamard to all |ψ1⟩'"
      ]
     },
     "metadata": {},
     "output_type": "display_data"
    },
    {
     "data": {
      "text/latex": [
       "$$(0.980606395259 - 0.101814863835 i) |00000000\\rangle+ (-0.004106661175 - 0.004481634251 i) |00000001\\rangle+ (0.004106661175 + 0.004481634251 i) |00000010\\rangle+ (-0.004106661175 - 0.004481634251 i) |00000011\\rangle+ (0.004106661175 + 0.004481634251 i) |00000100\\rangle+ (-0.004106661175 - 0.004481634251 i) |00000101\\rangle + \\ldots + (0.004106661175 + 0.004481634251 i) |11111011\\rangle+ (-0.004106661175 - 0.004481634251 i) |11111100\\rangle+ (-0.012319983525 - 0.013444902753 i) |11111101\\rangle+ (-0.004106661175 - 0.004481634251 i) |11111110\\rangle+ (0.004106661175 + 0.004481634251 i) |11111111\\rangle$$"
      ],
      "text/plain": [
       "<IPython.core.display.Latex object>"
      ]
     },
     "metadata": {},
     "output_type": "display_data"
    },
    {
     "name": "stdout",
     "output_type": "stream",
     "text": [
      "coherence of |ψ1⟩ =  9.902113853161485\n"
     ]
    },
    {
     "data": {
      "text/plain": [
       "'applied P operator to |ψ4⟩'"
      ]
     },
     "metadata": {},
     "output_type": "display_data"
    },
    {
     "data": {
      "text/latex": [
       "$$(0.980606395259 - 0.101814863835 i) |00000000\\rangle+ (0.004106661175 + 0.004481634251 i) |00000001\\rangle+ (-0.004106661175 - 0.004481634251 i) |00000010\\rangle+ (0.004106661175 + 0.004481634251 i) |00000011\\rangle+ (-0.004106661175 - 0.004481634251 i) |00000100\\rangle+ (0.004106661175 + 0.004481634251 i) |00000101\\rangle + \\ldots + (-0.004106661175 - 0.004481634251 i) |11111011\\rangle+ (0.004106661175 + 0.004481634251 i) |11111100\\rangle+ (0.012319983525 + 0.013444902753 i) |11111101\\rangle+ (0.004106661175 + 0.004481634251 i) |11111110\\rangle+ (-0.004106661175 - 0.004481634251 i) |11111111\\rangle$$"
      ],
      "text/plain": [
       "<IPython.core.display.Latex object>"
      ]
     },
     "metadata": {},
     "output_type": "display_data"
    },
    {
     "name": "stdout",
     "output_type": "stream",
     "text": [
      "coherence of |ψ4⟩ =  9.902113853161485\n"
     ]
    },
    {
     "data": {
      "text/plain": [
       "'applied Hadamard to all |ψ5⟩'"
      ]
     },
     "metadata": {},
     "output_type": "display_data"
    },
    {
     "data": {
      "text/latex": [
       "$$(0.060517900733 - 0.007203735412 i) |00000000\\rangle+ (0.060517900733 - 0.007203735412 i) |00000001\\rangle+ (0.060517900733 - 0.007203735412 i) |00000010\\rangle+ (0.060517900733 - 0.007203735412 i) |00000011\\rangle+ (0.060517900733 - 0.007203735412 i) |00000100\\rangle+ (0.060517900733 - 0.007203735412 i) |00000101\\rangle + \\ldots + (0.060517900733 - 0.007203735412 i) |11111011\\rangle+ (0.126224479531 + 0.064502412607 i) |11111100\\rangle+ (0.060517900733 - 0.007203735412 i) |11111101\\rangle+ (0.060517900733 - 0.007203735412 i) |11111110\\rangle+ (0.060517900733 - 0.007203735412 i) |11111111\\rangle$$"
      ],
      "text/plain": [
       "<IPython.core.display.Latex object>"
      ]
     },
     "metadata": {},
     "output_type": "display_data"
    },
    {
     "name": "stdout",
     "output_type": "stream",
     "text": [
      "coherence of |ψ5⟩ =  250.04411510516022\n",
      "-------- 6  ITERATION--------\n"
     ]
    },
    {
     "data": {
      "text/plain": [
       "'applied O operator to |ψ2⟩'"
      ]
     },
     "metadata": {},
     "output_type": "display_data"
    },
    {
     "data": {
      "text/latex": [
       "$$(0.060517900733 - 0.007203735412 i) |00000000\\rangle+ (0.060517900733 - 0.007203735412 i) |00000001\\rangle+ (0.060517900733 - 0.007203735412 i) |00000010\\rangle+ (0.060517900733 - 0.007203735412 i) |00000011\\rangle+ (0.060517900733 - 0.007203735412 i) |00000100\\rangle+ (0.060517900733 - 0.007203735412 i) |00000101\\rangle + \\ldots + (0.060517900733 - 0.007203735412 i) |11111011\\rangle+ (0.066695509496 - 0.125079532611 i) |11111100\\rangle+ (0.060517900733 - 0.007203735412 i) |11111101\\rangle+ (0.060517900733 - 0.007203735412 i) |11111110\\rangle+ (0.060517900733 - 0.007203735412 i) |11111111\\rangle$$"
      ],
      "text/plain": [
       "<IPython.core.display.Latex object>"
      ]
     },
     "metadata": {},
     "output_type": "display_data"
    },
    {
     "name": "stdout",
     "output_type": "stream",
     "text": [
      "coherence of |ψ2⟩ =  250.04411510516022\n"
     ]
    },
    {
     "data": {
      "text/plain": [
       "'applied Hadamard to all |ψ1⟩'"
      ]
     },
     "metadata": {},
     "output_type": "display_data"
    },
    {
     "data": {
      "text/latex": [
       "$$(0.969444713378 - 0.137361478563 i) |00000000\\rangle+ (0.000386100548 - 0.007367237325 i) |00000001\\rangle+ (-0.000386100548 + 0.007367237325 i) |00000010\\rangle+ (0.000386100548 - 0.007367237325 i) |00000011\\rangle+ (-0.000386100548 + 0.007367237325 i) |00000100\\rangle+ (0.000386100548 - 0.007367237325 i) |00000101\\rangle + \\ldots + (-0.000386100548 + 0.007367237325 i) |11111011\\rangle+ (0.000386100548 - 0.007367237325 i) |11111100\\rangle+ (0.001158301643 - 0.022101711975 i) |11111101\\rangle+ (0.000386100548 - 0.007367237325 i) |11111110\\rangle+ (-0.000386100548 + 0.007367237325 i) |11111111\\rangle$$"
      ],
      "text/plain": [
       "<IPython.core.display.Latex object>"
      ]
     },
     "metadata": {},
     "output_type": "display_data"
    },
    {
     "name": "stdout",
     "output_type": "stream",
     "text": [
      "coherence of |ψ1⟩ =  13.36332133343829\n"
     ]
    },
    {
     "data": {
      "text/plain": [
       "'applied P operator to |ψ4⟩'"
      ]
     },
     "metadata": {},
     "output_type": "display_data"
    },
    {
     "data": {
      "text/latex": [
       "$$(0.969444713378 - 0.137361478563 i) |00000000\\rangle+ (-0.000386100548 + 0.007367237325 i) |00000001\\rangle+ (0.000386100548 - 0.007367237325 i) |00000010\\rangle+ (-0.000386100548 + 0.007367237325 i) |00000011\\rangle+ (0.000386100548 - 0.007367237325 i) |00000100\\rangle+ (-0.000386100548 + 0.007367237325 i) |00000101\\rangle + \\ldots + (0.000386100548 - 0.007367237325 i) |11111011\\rangle+ (-0.000386100548 + 0.007367237325 i) |11111100\\rangle+ (-0.001158301643 + 0.022101711975 i) |11111101\\rangle+ (-0.000386100548 + 0.007367237325 i) |11111110\\rangle+ (0.000386100548 - 0.007367237325 i) |11111111\\rangle$$"
      ],
      "text/plain": [
       "<IPython.core.display.Latex object>"
      ]
     },
     "metadata": {},
     "output_type": "display_data"
    },
    {
     "name": "stdout",
     "output_type": "stream",
     "text": [
      "coherence of |ψ4⟩ =  13.36332133343829\n"
     ]
    },
    {
     "data": {
      "text/plain": [
       "'applied Hadamard to all |ψ5⟩'"
      ]
     },
     "metadata": {},
     "output_type": "display_data"
    },
    {
     "data": {
      "text/latex": [
       "$$(0.060662688439 - 0.009966449409 i) |00000000\\rangle+ (0.060662688439 - 0.009966449409 i) |00000001\\rangle+ (0.060662688439 - 0.009966449409 i) |00000010\\rangle+ (0.060662688439 - 0.009966449409 i) |00000011\\rangle+ (0.060662688439 - 0.009966449409 i) |00000100\\rangle+ (0.060662688439 - 0.009966449409 i) |00000101\\rangle + \\ldots + (0.060662688439 - 0.009966449409 i) |11111011\\rangle+ (0.054485079676 + 0.10790934779 i) |11111100\\rangle+ (0.060662688439 - 0.009966449409 i) |11111101\\rangle+ (0.060662688439 - 0.009966449409 i) |11111110\\rangle+ (0.060662688439 - 0.009966449409 i) |11111111\\rangle$$"
      ],
      "text/plain": [
       "<IPython.core.display.Latex object>"
      ]
     },
     "metadata": {},
     "output_type": "display_data"
    },
    {
     "name": "stdout",
     "output_type": "stream",
     "text": [
      "coherence of |ψ5⟩ =  252.32120749507678\n",
      "-------- 7  ITERATION--------\n"
     ]
    },
    {
     "data": {
      "text/plain": [
       "'applied O operator to |ψ2⟩'"
      ]
     },
     "metadata": {},
     "output_type": "display_data"
    },
    {
     "data": {
      "text/latex": [
       "$$(0.060662688439 - 0.009966449409 i) |00000000\\rangle+ (0.060662688439 - 0.009966449409 i) |00000001\\rangle+ (0.060662688439 - 0.009966449409 i) |00000010\\rangle+ (0.060662688439 - 0.009966449409 i) |00000011\\rangle+ (0.060662688439 - 0.009966449409 i) |00000100\\rangle+ (0.060662688439 - 0.009966449409 i) |00000101\\rangle + \\ldots + (0.060662688439 - 0.009966449409 i) |11111011\\rangle+ (0.108843808429 - 0.052593503539 i) |11111100\\rangle+ (0.060662688439 - 0.009966449409 i) |11111101\\rangle+ (0.060662688439 - 0.009966449409 i) |11111110\\rangle+ (0.060662688439 - 0.009966449409 i) |11111111\\rangle$$"
      ],
      "text/plain": [
       "<IPython.core.display.Latex object>"
      ]
     },
     "metadata": {},
     "output_type": "display_data"
    },
    {
     "name": "stdout",
     "output_type": "stream",
     "text": [
      "coherence of |ψ2⟩ =  252.32120749507678\n"
     ]
    },
    {
     "data": {
      "text/plain": [
       "'applied Hadamard to all |ψ1⟩'"
      ]
     },
     "metadata": {},
     "output_type": "display_data"
    },
    {
     "data": {
      "text/latex": [
       "$$(0.979636975019 - 0.167455763188 i) |00000000\\rangle+ (0.003011319999 - 0.002664190883 i) |00000001\\rangle+ (-0.003011319999 + 0.002664190883 i) |00000010\\rangle+ (0.003011319999 - 0.002664190883 i) |00000011\\rangle+ (-0.003011319999 + 0.002664190883 i) |00000100\\rangle+ (0.003011319999 - 0.002664190883 i) |00000101\\rangle + \\ldots + (-0.003011319999 + 0.002664190883 i) |11111011\\rangle+ (0.003011319999 - 0.002664190883 i) |11111100\\rangle+ (0.009033959998 - 0.007992572649 i) |11111101\\rangle+ (0.003011319999 - 0.002664190883 i) |11111110\\rangle+ (-0.003011319999 + 0.002664190883 i) |11111111\\rangle$$"
      ],
      "text/plain": [
       "<IPython.core.display.Latex object>"
      ]
     },
     "metadata": {},
     "output_type": "display_data"
    },
    {
     "name": "stdout",
     "output_type": "stream",
     "text": [
      "coherence of |ψ1⟩ =  5.37930998307878\n"
     ]
    },
    {
     "data": {
      "text/plain": [
       "'applied P operator to |ψ4⟩'"
      ]
     },
     "metadata": {},
     "output_type": "display_data"
    },
    {
     "data": {
      "text/latex": [
       "$$(0.979636975019 - 0.167455763188 i) |00000000\\rangle+ (-0.003011319999 + 0.002664190883 i) |00000001\\rangle+ (0.003011319999 - 0.002664190883 i) |00000010\\rangle+ (-0.003011319999 + 0.002664190883 i) |00000011\\rangle+ (0.003011319999 - 0.002664190883 i) |00000100\\rangle+ (-0.003011319999 + 0.002664190883 i) |00000101\\rangle + \\ldots + (0.003011319999 - 0.002664190883 i) |11111011\\rangle+ (-0.003011319999 + 0.002664190883 i) |11111100\\rangle+ (-0.009033959998 + 0.007992572649 i) |11111101\\rangle+ (-0.003011319999 + 0.002664190883 i) |11111110\\rangle+ (0.003011319999 - 0.002664190883 i) |11111111\\rangle$$"
      ],
      "text/plain": [
       "<IPython.core.display.Latex object>"
      ]
     },
     "metadata": {},
     "output_type": "display_data"
    },
    {
     "name": "stdout",
     "output_type": "stream",
     "text": [
      "coherence of |ψ4⟩ =  5.37930998307878\n"
     ]
    },
    {
     "data": {
      "text/plain": [
       "'applied Hadamard to all |ψ5⟩'"
      ]
     },
     "metadata": {},
     "output_type": "display_data"
    },
    {
     "data": {
      "text/latex": [
       "$$(0.061791933439 - 0.01096552099 i) |00000000\\rangle+ (0.061791933439 - 0.01096552099 i) |00000001\\rangle+ (0.061791933439 - 0.01096552099 i) |00000010\\rangle+ (0.061791933439 - 0.01096552099 i) |00000011\\rangle+ (0.061791933439 - 0.01096552099 i) |00000100\\rangle+ (0.061791933439 - 0.01096552099 i) |00000101\\rangle + \\ldots + (0.061791933439 - 0.01096552099 i) |11111011\\rangle+ (0.013610813448 + 0.03166153314 i) |11111100\\rangle+ (0.061791933439 - 0.01096552099 i) |11111101\\rangle+ (0.061791933439 - 0.01096552099 i) |11111110\\rangle+ (0.061791933439 - 0.01096552099 i) |11111111\\rangle$$"
      ],
      "text/plain": [
       "<IPython.core.display.Latex object>"
      ]
     },
     "metadata": {},
     "output_type": "display_data"
    },
    {
     "name": "stdout",
     "output_type": "stream",
     "text": [
      "coherence of |ψ5⟩ =  254.39237227405818\n",
      "======================================== FOR ϕ =  286.0 ========================================\n"
     ]
    },
    {
     "data": {
      "text/plain": [
       "'initialised |ψ0⟩'"
      ]
     },
     "metadata": {},
     "output_type": "display_data"
    },
    {
     "data": {
      "text/latex": [
       "$$ |00000000\\rangle$$"
      ],
      "text/plain": [
       "<IPython.core.display.Latex object>"
      ]
     },
     "metadata": {},
     "output_type": "display_data"
    },
    {
     "name": "stdout",
     "output_type": "stream",
     "text": [
      "coherence of |ψ0⟩ =  0.0\n"
     ]
    },
    {
     "data": {
      "text/plain": [
       "'applied Hadamard to all |ψ1⟩'"
      ]
     },
     "metadata": {},
     "output_type": "display_data"
    },
    {
     "data": {
      "text/latex": [
       "$$\\frac{1}{16} |00000000\\rangle+\\frac{1}{16} |00000001\\rangle+\\frac{1}{16} |00000010\\rangle+\\frac{1}{16} |00000011\\rangle+\\frac{1}{16} |00000100\\rangle+\\frac{1}{16} |00000101\\rangle + \\ldots +\\frac{1}{16} |11111011\\rangle+\\frac{1}{16} |11111100\\rangle+\\frac{1}{16} |11111101\\rangle+\\frac{1}{16} |11111110\\rangle+\\frac{1}{16} |11111111\\rangle$$"
      ],
      "text/plain": [
       "<IPython.core.display.Latex object>"
      ]
     },
     "metadata": {},
     "output_type": "display_data"
    },
    {
     "name": "stdout",
     "output_type": "stream",
     "text": [
      "coherence of |ψ1⟩ =  255.00000000000003\n",
      "-------- 1  ITERATION--------\n"
     ]
    },
    {
     "data": {
      "text/plain": [
       "'applied O operator to |ψ2⟩'"
      ]
     },
     "metadata": {},
     "output_type": "display_data"
    },
    {
     "data": {
      "text/latex": [
       "$$\\frac{1}{16} |00000000\\rangle+\\frac{1}{16} |00000001\\rangle+\\frac{1}{16} |00000010\\rangle+\\frac{1}{16} |00000011\\rangle+\\frac{1}{16} |00000100\\rangle+\\frac{1}{16} |00000101\\rangle + \\ldots +\\frac{1}{16} |11111011\\rangle+ (0.017227334739 - 0.060078855996 i) |11111100\\rangle+\\frac{1}{16} |11111101\\rangle+\\frac{1}{16} |11111110\\rangle+\\frac{1}{16} |11111111\\rangle$$"
      ],
      "text/plain": [
       "<IPython.core.display.Latex object>"
      ]
     },
     "metadata": {},
     "output_type": "display_data"
    },
    {
     "name": "stdout",
     "output_type": "stream",
     "text": [
      "coherence of |ψ2⟩ =  255.00000000000003\n"
     ]
    },
    {
     "data": {
      "text/plain": [
       "'applied Hadamard to all |ψ1⟩'"
      ]
     },
     "metadata": {},
     "output_type": "display_data"
    },
    {
     "data": {
      "text/latex": [
       "$$(0.991511375263 - 0.011264785499 i) |00000000\\rangle+ (-0.002829541579 - 0.0037549285 i) |00000001\\rangle+ (0.002829541579 + 0.0037549285 i) |00000010\\rangle+ (-0.002829541579 - 0.0037549285 i) |00000011\\rangle+ (0.002829541579 + 0.0037549285 i) |00000100\\rangle+ (-0.002829541579 - 0.0037549285 i) |00000101\\rangle + \\ldots + (0.002829541579 + 0.0037549285 i) |11111011\\rangle+ (-0.002829541579 - 0.0037549285 i) |11111100\\rangle+ (-0.008488624737 - 0.011264785499 i) |11111101\\rangle+ (-0.002829541579 - 0.0037549285 i) |11111110\\rangle+ (0.002829541579 + 0.0037549285 i) |11111111\\rangle$$"
      ],
      "text/plain": [
       "<IPython.core.display.Latex object>"
      ]
     },
     "metadata": {},
     "output_type": "display_data"
    },
    {
     "name": "stdout",
     "output_type": "stream",
     "text": [
      "coherence of |ψ1⟩ =  6.744618089833363\n"
     ]
    },
    {
     "data": {
      "text/plain": [
       "'applied P operator to |ψ4⟩'"
      ]
     },
     "metadata": {},
     "output_type": "display_data"
    },
    {
     "data": {
      "text/latex": [
       "$$(0.991511375263 - 0.011264785499 i) |00000000\\rangle+ (0.002829541579 + 0.0037549285 i) |00000001\\rangle+ (-0.002829541579 - 0.0037549285 i) |00000010\\rangle+ (0.002829541579 + 0.0037549285 i) |00000011\\rangle+ (-0.002829541579 - 0.0037549285 i) |00000100\\rangle+ (0.002829541579 + 0.0037549285 i) |00000101\\rangle + \\ldots + (-0.002829541579 - 0.0037549285 i) |11111011\\rangle+ (0.002829541579 + 0.0037549285 i) |11111100\\rangle+ (0.008488624737 + 0.011264785499 i) |11111101\\rangle+ (0.002829541579 + 0.0037549285 i) |11111110\\rangle+ (-0.002829541579 - 0.0037549285 i) |11111111\\rangle$$"
      ],
      "text/plain": [
       "<IPython.core.display.Latex object>"
      ]
     },
     "metadata": {},
     "output_type": "display_data"
    },
    {
     "name": "stdout",
     "output_type": "stream",
     "text": [
      "coherence of |ψ4⟩ =  6.744618089833363\n"
     ]
    },
    {
     "data": {
      "text/plain": [
       "'applied Hadamard to all |ψ5⟩'"
      ]
     },
     "metadata": {},
     "output_type": "display_data"
    },
    {
     "data": {
      "text/latex": [
       "$$(0.061438921908 - 0.001408098187 i) |00000000\\rangle+ (0.061438921908 - 0.001408098187 i) |00000001\\rangle+ (0.061438921908 - 0.001408098187 i) |00000010\\rangle+ (0.061438921908 - 0.001408098187 i) |00000011\\rangle+ (0.061438921908 - 0.001408098187 i) |00000100\\rangle+ (0.061438921908 - 0.001408098187 i) |00000101\\rangle + \\ldots + (0.061438921908 - 0.001408098187 i) |11111011\\rangle+ (0.106711587169 + 0.058670757809 i) |11111100\\rangle+ (0.061438921908 - 0.001408098187 i) |11111101\\rangle+ (0.061438921908 - 0.001408098187 i) |11111110\\rangle+ (0.061438921908 - 0.001408098187 i) |11111111\\rangle$$"
      ],
      "text/plain": [
       "<IPython.core.display.Latex object>"
      ]
     },
     "metadata": {},
     "output_type": "display_data"
    },
    {
     "name": "stdout",
     "output_type": "stream",
     "text": [
      "coherence of |ψ5⟩ =  252.23820505825006\n",
      "-------- 2  ITERATION--------\n"
     ]
    },
    {
     "data": {
      "text/plain": [
       "'applied O operator to |ψ2⟩'"
      ]
     },
     "metadata": {},
     "output_type": "display_data"
    },
    {
     "data": {
      "text/latex": [
       "$$(0.061438921908 - 0.001408098187 i) |00000000\\rangle+ (0.061438921908 - 0.001408098187 i) |00000001\\rangle+ (0.061438921908 - 0.001408098187 i) |00000010\\rangle+ (0.061438921908 - 0.001408098187 i) |00000011\\rangle+ (0.061438921908 - 0.001408098187 i) |00000100\\rangle+ (0.061438921908 - 0.001408098187 i) |00000101\\rangle + \\ldots + (0.061438921908 - 0.001408098187 i) |11111011\\rangle+ (0.085811651876 - 0.086405908713 i) |11111100\\rangle+ (0.061438921908 - 0.001408098187 i) |11111101\\rangle+ (0.061438921908 - 0.001408098187 i) |11111110\\rangle+ (0.061438921908 - 0.001408098187 i) |11111111\\rangle$$"
      ],
      "text/plain": [
       "<IPython.core.display.Latex object>"
      ]
     },
     "metadata": {},
     "output_type": "display_data"
    },
    {
     "name": "stdout",
     "output_type": "stream",
     "text": [
      "coherence of |ψ2⟩ =  252.23820505825006\n"
     ]
    },
    {
     "data": {
      "text/plain": [
       "'applied Hadamard to all |ψ1⟩'"
      ]
     },
     "metadata": {},
     "output_type": "display_data"
    },
    {
     "data": {
      "text/latex": [
       "$$(0.987592637396 - 0.038466660472 i) |00000000\\rangle+ (\\frac{24 \\cdot 2^{\\frac{5}{29}} \\cdot 3^{\\frac{55}{174}} \\cdot 5^{\\frac{31}{87}} \\cdot 7^{\\frac{5}{87}}}{245 \\pi^{\\frac{404}{87}}} - \\frac{3 \\cdot 2^{\\frac{11}{13}} \\cdot 3^{\\frac{25}{273}} \\cdot 5^{\\frac{244}{273}} \\cdot 7^{\\frac{80}{273}} i}{350 \\pi^{\\frac{757}{273}}}) |00000001\\rangle+ (- \\frac{24 \\cdot 2^{\\frac{5}{29}} \\cdot 3^{\\frac{55}{174}} \\cdot 5^{\\frac{31}{87}} \\cdot 7^{\\frac{5}{87}}}{245 \\pi^{\\frac{404}{87}}} + \\frac{3 \\cdot 2^{\\frac{11}{13}} \\cdot 3^{\\frac{25}{273}} \\cdot 5^{\\frac{244}{273}} \\cdot 7^{\\frac{80}{273}} i}{350 \\pi^{\\frac{757}{273}}}) |00000010\\rangle+ (\\frac{24 \\cdot 2^{\\frac{5}{29}} \\cdot 3^{\\frac{55}{174}} \\cdot 5^{\\frac{31}{87}} \\cdot 7^{\\frac{5}{87}}}{245 \\pi^{\\frac{404}{87}}} - \\frac{3 \\cdot 2^{\\frac{11}{13}} \\cdot 3^{\\frac{25}{273}} \\cdot 5^{\\frac{244}{273}} \\cdot 7^{\\frac{80}{273}} i}{350 \\pi^{\\frac{757}{273}}}) |00000011\\rangle+ (- \\frac{24 \\cdot 2^{\\frac{5}{29}} \\cdot 3^{\\frac{55}{174}} \\cdot 5^{\\frac{31}{87}} \\cdot 7^{\\frac{5}{87}}}{245 \\pi^{\\frac{404}{87}}} + \\frac{3 \\cdot 2^{\\frac{11}{13}} \\cdot 3^{\\frac{25}{273}} \\cdot 5^{\\frac{244}{273}} \\cdot 7^{\\frac{80}{273}} i}{350 \\pi^{\\frac{757}{273}}}) |00000100\\rangle+ (\\frac{24 \\cdot 2^{\\frac{5}{29}} \\cdot 3^{\\frac{55}{174}} \\cdot 5^{\\frac{31}{87}} \\cdot 7^{\\frac{5}{87}}}{245 \\pi^{\\frac{404}{87}}} - \\frac{3 \\cdot 2^{\\frac{11}{13}} \\cdot 3^{\\frac{25}{273}} \\cdot 5^{\\frac{244}{273}} \\cdot 7^{\\frac{80}{273}} i}{350 \\pi^{\\frac{757}{273}}}) |00000101\\rangle + \\ldots + (- \\frac{24 \\cdot 2^{\\frac{5}{29}} \\cdot 3^{\\frac{55}{174}} \\cdot 5^{\\frac{31}{87}} \\cdot 7^{\\frac{5}{87}}}{245 \\pi^{\\frac{404}{87}}} + \\frac{3 \\cdot 2^{\\frac{11}{13}} \\cdot 3^{\\frac{25}{273}} \\cdot 5^{\\frac{244}{273}} \\cdot 7^{\\frac{80}{273}} i}{350 \\pi^{\\frac{757}{273}}}) |11111011\\rangle+ (\\frac{24 \\cdot 2^{\\frac{5}{29}} \\cdot 3^{\\frac{55}{174}} \\cdot 5^{\\frac{31}{87}} \\cdot 7^{\\frac{5}{87}}}{245 \\pi^{\\frac{404}{87}}} - \\frac{3 \\cdot 2^{\\frac{11}{13}} \\cdot 3^{\\frac{25}{273}} \\cdot 5^{\\frac{244}{273}} \\cdot 7^{\\frac{80}{273}} i}{350 \\pi^{\\frac{757}{273}}}) |11111100\\rangle+ (0.004569886869 - 0.015937089473 i) |11111101\\rangle+ (\\frac{24 \\cdot 2^{\\frac{5}{29}} \\cdot 3^{\\frac{55}{174}} \\cdot 5^{\\frac{31}{87}} \\cdot 7^{\\frac{5}{87}}}{245 \\pi^{\\frac{404}{87}}} - \\frac{3 \\cdot 2^{\\frac{11}{13}} \\cdot 3^{\\frac{25}{273}} \\cdot 5^{\\frac{244}{273}} \\cdot 7^{\\frac{80}{273}} i}{350 \\pi^{\\frac{757}{273}}}) |11111110\\rangle+ (- \\frac{24 \\cdot 2^{\\frac{5}{29}} \\cdot 3^{\\frac{55}{174}} \\cdot 5^{\\frac{31}{87}} \\cdot 7^{\\frac{5}{87}}}{245 \\pi^{\\frac{404}{87}}} + \\frac{3 \\cdot 2^{\\frac{11}{13}} \\cdot 3^{\\frac{25}{273}} \\cdot 5^{\\frac{244}{273}} \\cdot 7^{\\frac{80}{273}} i}{350 \\pi^{\\frac{757}{273}}}) |11111111\\rangle$$"
      ],
      "text/plain": [
       "<IPython.core.display.Latex object>"
      ]
     },
     "metadata": {},
     "output_type": "display_data"
    },
    {
     "name": "stdout",
     "output_type": "stream",
     "text": [
      "coherence of |ψ1⟩ =  8.572330627902515\n"
     ]
    },
    {
     "data": {
      "text/plain": [
       "'applied P operator to |ψ4⟩'"
      ]
     },
     "metadata": {},
     "output_type": "display_data"
    },
    {
     "data": {
      "text/latex": [
       "$$(0.987592637396 - 0.038466660472 i) |00000000\\rangle+ (- \\frac{24 \\cdot 2^{\\frac{5}{29}} \\cdot 3^{\\frac{55}{174}} \\cdot 5^{\\frac{31}{87}} \\cdot 7^{\\frac{5}{87}}}{245 \\pi^{\\frac{404}{87}}} + \\frac{3 \\cdot 2^{\\frac{11}{13}} \\cdot 3^{\\frac{25}{273}} \\cdot 5^{\\frac{244}{273}} \\cdot 7^{\\frac{80}{273}} i}{350 \\pi^{\\frac{757}{273}}}) |00000001\\rangle+ (\\frac{24 \\cdot 2^{\\frac{5}{29}} \\cdot 3^{\\frac{55}{174}} \\cdot 5^{\\frac{31}{87}} \\cdot 7^{\\frac{5}{87}}}{245 \\pi^{\\frac{404}{87}}} - \\frac{3 \\cdot 2^{\\frac{11}{13}} \\cdot 3^{\\frac{25}{273}} \\cdot 5^{\\frac{244}{273}} \\cdot 7^{\\frac{80}{273}} i}{350 \\pi^{\\frac{757}{273}}}) |00000010\\rangle+ (- \\frac{24 \\cdot 2^{\\frac{5}{29}} \\cdot 3^{\\frac{55}{174}} \\cdot 5^{\\frac{31}{87}} \\cdot 7^{\\frac{5}{87}}}{245 \\pi^{\\frac{404}{87}}} + \\frac{3 \\cdot 2^{\\frac{11}{13}} \\cdot 3^{\\frac{25}{273}} \\cdot 5^{\\frac{244}{273}} \\cdot 7^{\\frac{80}{273}} i}{350 \\pi^{\\frac{757}{273}}}) |00000011\\rangle+ (\\frac{24 \\cdot 2^{\\frac{5}{29}} \\cdot 3^{\\frac{55}{174}} \\cdot 5^{\\frac{31}{87}} \\cdot 7^{\\frac{5}{87}}}{245 \\pi^{\\frac{404}{87}}} - \\frac{3 \\cdot 2^{\\frac{11}{13}} \\cdot 3^{\\frac{25}{273}} \\cdot 5^{\\frac{244}{273}} \\cdot 7^{\\frac{80}{273}} i}{350 \\pi^{\\frac{757}{273}}}) |00000100\\rangle+ (- \\frac{24 \\cdot 2^{\\frac{5}{29}} \\cdot 3^{\\frac{55}{174}} \\cdot 5^{\\frac{31}{87}} \\cdot 7^{\\frac{5}{87}}}{245 \\pi^{\\frac{404}{87}}} + \\frac{3 \\cdot 2^{\\frac{11}{13}} \\cdot 3^{\\frac{25}{273}} \\cdot 5^{\\frac{244}{273}} \\cdot 7^{\\frac{80}{273}} i}{350 \\pi^{\\frac{757}{273}}}) |00000101\\rangle + \\ldots + (\\frac{24 \\cdot 2^{\\frac{5}{29}} \\cdot 3^{\\frac{55}{174}} \\cdot 5^{\\frac{31}{87}} \\cdot 7^{\\frac{5}{87}}}{245 \\pi^{\\frac{404}{87}}} - \\frac{3 \\cdot 2^{\\frac{11}{13}} \\cdot 3^{\\frac{25}{273}} \\cdot 5^{\\frac{244}{273}} \\cdot 7^{\\frac{80}{273}} i}{350 \\pi^{\\frac{757}{273}}}) |11111011\\rangle+ (- \\frac{24 \\cdot 2^{\\frac{5}{29}} \\cdot 3^{\\frac{55}{174}} \\cdot 5^{\\frac{31}{87}} \\cdot 7^{\\frac{5}{87}}}{245 \\pi^{\\frac{404}{87}}} + \\frac{3 \\cdot 2^{\\frac{11}{13}} \\cdot 3^{\\frac{25}{273}} \\cdot 5^{\\frac{244}{273}} \\cdot 7^{\\frac{80}{273}} i}{350 \\pi^{\\frac{757}{273}}}) |11111100\\rangle+ (-0.004569886869 + 0.015937089473 i) |11111101\\rangle+ (- \\frac{24 \\cdot 2^{\\frac{5}{29}} \\cdot 3^{\\frac{55}{174}} \\cdot 5^{\\frac{31}{87}} \\cdot 7^{\\frac{5}{87}}}{245 \\pi^{\\frac{404}{87}}} + \\frac{3 \\cdot 2^{\\frac{11}{13}} \\cdot 3^{\\frac{25}{273}} \\cdot 5^{\\frac{244}{273}} \\cdot 7^{\\frac{80}{273}} i}{350 \\pi^{\\frac{757}{273}}}) |11111110\\rangle+ (\\frac{24 \\cdot 2^{\\frac{5}{29}} \\cdot 3^{\\frac{55}{174}} \\cdot 5^{\\frac{31}{87}} \\cdot 7^{\\frac{5}{87}}}{245 \\pi^{\\frac{404}{87}}} - \\frac{3 \\cdot 2^{\\frac{11}{13}} \\cdot 3^{\\frac{25}{273}} \\cdot 5^{\\frac{244}{273}} \\cdot 7^{\\frac{80}{273}} i}{350 \\pi^{\\frac{757}{273}}}) |11111111\\rangle$$"
      ],
      "text/plain": [
       "<IPython.core.display.Latex object>"
      ]
     },
     "metadata": {},
     "output_type": "display_data"
    },
    {
     "name": "stdout",
     "output_type": "stream",
     "text": [
      "coherence of |ψ4⟩ =  8.572330627902515\n"
     ]
    },
    {
     "data": {
      "text/plain": [
       "'applied Hadamard to all |ψ5⟩'"
      ]
     },
     "metadata": {},
     "output_type": "display_data"
    },
    {
     "data": {
      "text/latex": [
       "$$(0.062010157767 - 0.003400234372 i) |00000000\\rangle+ (0.062010157767 - 0.003400234372 i) |00000001\\rangle+ (0.062010157767 - 0.003400234372 i) |00000010\\rangle+ (0.062010157767 - 0.003400234372 i) |00000011\\rangle+ (0.062010157767 - 0.003400234372 i) |00000100\\rangle+ (0.062010157767 - 0.003400234372 i) |00000101\\rangle + \\ldots + (0.062010157767 - 0.003400234372 i) |11111011\\rangle+ (0.037637427799 + 0.081597576154 i) |11111100\\rangle+ (0.062010157767 - 0.003400234372 i) |11111101\\rangle+ (0.062010157767 - 0.003400234372 i) |11111110\\rangle+ (0.062010157767 - 0.003400234372 i) |11111111\\rangle$$"
      ],
      "text/plain": [
       "<IPython.core.display.Latex object>"
      ]
     },
     "metadata": {},
     "output_type": "display_data"
    },
    {
     "name": "stdout",
     "output_type": "stream",
     "text": [
      "coherence of |ψ5⟩ =  254.41525933187557\n",
      "-------- 3  ITERATION--------\n"
     ]
    },
    {
     "data": {
      "text/plain": [
       "'applied O operator to |ψ2⟩'"
      ]
     },
     "metadata": {},
     "output_type": "display_data"
    },
    {
     "data": {
      "text/latex": [
       "$$(0.062010157767 - 0.003400234372 i) |00000000\\rangle+ (0.062010157767 - 0.003400234372 i) |00000001\\rangle+ (0.062010157767 - 0.003400234372 i) |00000010\\rangle+ (0.062010157767 - 0.003400234372 i) |00000011\\rangle+ (0.062010157767 - 0.003400234372 i) |00000100\\rangle+ (0.062010157767 - 0.003400234372 i) |00000101\\rangle + \\ldots + (0.062010157767 - 0.003400234372 i) |11111011\\rangle+ (0.088810905516 - 0.013688077545 i) |11111100\\rangle+ (0.062010157767 - 0.003400234372 i) |11111101\\rangle+ (0.062010157767 - 0.003400234372 i) |11111110\\rangle+ (0.062010157767 - 0.003400234372 i) |11111111\\rangle$$"
      ],
      "text/plain": [
       "<IPython.core.display.Latex object>"
      ]
     },
     "metadata": {},
     "output_type": "display_data"
    },
    {
     "name": "stdout",
     "output_type": "stream",
     "text": [
      "coherence of |ψ2⟩ =  254.41525933187557\n"
     ]
    },
    {
     "data": {
      "text/plain": [
       "'applied Hadamard to all |ψ1⟩'"
      ]
     },
     "metadata": {},
     "output_type": "display_data"
    },
    {
     "data": {
      "text/latex": [
       "$$(0.997187664468 - 0.05633272054 i) |00000000\\rangle+ (0.001675046734 - 0.000642990198 i) |00000001\\rangle+ (-0.001675046734 + 0.000642990198 i) |00000010\\rangle+ (0.001675046734 - 0.000642990198 i) |00000011\\rangle+ (-0.001675046734 + 0.000642990198 i) |00000100\\rangle+ (0.001675046734 - 0.000642990198 i) |00000101\\rangle + \\ldots + (-0.001675046734 + 0.000642990198 i) |11111011\\rangle+ (0.001675046734 - 0.000642990198 i) |11111100\\rangle+ (0.005025140203 - 0.001928970595 i) |11111101\\rangle+ (0.001675046734 - 0.000642990198 i) |11111110\\rangle+ (-0.001675046734 + 0.000642990198 i) |11111111\\rangle$$"
      ],
      "text/plain": [
       "<IPython.core.display.Latex object>"
      ]
     },
     "metadata": {},
     "output_type": "display_data"
    },
    {
     "name": "stdout",
     "output_type": "stream",
     "text": [
      "coherence of |ψ1⟩ =  1.8303842560168109\n"
     ]
    },
    {
     "data": {
      "text/plain": [
       "'applied P operator to |ψ4⟩'"
      ]
     },
     "metadata": {},
     "output_type": "display_data"
    },
    {
     "data": {
      "text/latex": [
       "$$(0.997187664468 - 0.05633272054 i) |00000000\\rangle+ (-0.001675046734 + 0.000642990198 i) |00000001\\rangle+ (0.001675046734 - 0.000642990198 i) |00000010\\rangle+ (-0.001675046734 + 0.000642990198 i) |00000011\\rangle+ (0.001675046734 - 0.000642990198 i) |00000100\\rangle+ (-0.001675046734 + 0.000642990198 i) |00000101\\rangle + \\ldots + (0.001675046734 - 0.000642990198 i) |11111011\\rangle+ (-0.001675046734 + 0.000642990198 i) |11111100\\rangle+ (-0.005025140203 + 0.001928970595 i) |11111101\\rangle+ (-0.001675046734 + 0.000642990198 i) |11111110\\rangle+ (0.001675046734 - 0.000642990198 i) |11111111\\rangle$$"
      ],
      "text/plain": [
       "<IPython.core.display.Latex object>"
      ]
     },
     "metadata": {},
     "output_type": "display_data"
    },
    {
     "name": "stdout",
     "output_type": "stream",
     "text": [
      "coherence of |ψ4⟩ =  1.8303842560168109\n"
     ]
    },
    {
     "data": {
      "text/plain": [
       "'applied Hadamard to all |ψ5⟩'"
      ]
     },
     "metadata": {},
     "output_type": "display_data"
    },
    {
     "data": {
      "text/latex": [
       "$$(0.062638300292 - 0.003641355696 i) |00000000\\rangle+ (0.062638300292 - 0.003641355696 i) |00000001\\rangle+ (0.062638300292 - 0.003641355696 i) |00000010\\rangle+ (0.062638300292 - 0.003641355696 i) |00000011\\rangle+ (0.062638300292 - 0.003641355696 i) |00000100\\rangle+ (0.062638300292 - 0.003641355696 i) |00000101\\rangle + \\ldots + (0.062638300292 - 0.003641355696 i) |11111011\\rangle+ (\\frac{314928 \\cdot \\sqrt[14]{2} \\cdot 3^{\\frac{10}{21}} \\cdot 5^{\\frac{3}{7}} \\cdot 7^{\\frac{5}{21}} \\pi^{\\frac{71}{42}}}{341796875} + \\frac{125 \\cdot 2^{\\frac{11}{144}} \\cdot 3^{\\frac{17}{72}} \\cdot 5^{\\frac{7}{16}} \\cdot 7^{\\frac{13}{72}} i \\pi^{\\frac{415}{144}}}{2000376}) |11111100\\rangle+ (0.062638300292 - 0.003641355696 i) |11111101\\rangle+ (0.062638300292 - 0.003641355696 i) |11111110\\rangle+ (0.062638300292 - 0.003641355696 i) |11111111\\rangle$$"
      ],
      "text/plain": [
       "<IPython.core.display.Latex object>"
      ]
     },
     "metadata": {},
     "output_type": "display_data"
    },
    {
     "name": "stdout",
     "output_type": "stream",
     "text": [
      "coherence of |ψ5⟩ =  254.4751918485822\n",
      "-------- 4  ITERATION--------\n"
     ]
    },
    {
     "data": {
      "text/plain": [
       "'applied O operator to |ψ2⟩'"
      ]
     },
     "metadata": {},
     "output_type": "display_data"
    },
    {
     "data": {
      "text/latex": [
       "$$(0.062638300292 - 0.003641355696 i) |00000000\\rangle+ (0.062638300292 - 0.003641355696 i) |00000001\\rangle+ (0.062638300292 - 0.003641355696 i) |00000010\\rangle+ (0.062638300292 - 0.003641355696 i) |00000011\\rangle+ (0.062638300292 - 0.003641355696 i) |00000100\\rangle+ (0.062638300292 - 0.003641355696 i) |00000101\\rangle + \\ldots + (0.062638300292 - 0.003641355696 i) |11111011\\rangle+ (0.016267182046 - 0.032617246302 i) |11111100\\rangle+ (0.062638300292 - 0.003641355696 i) |11111101\\rangle+ (0.062638300292 - 0.003641355696 i) |11111110\\rangle+ (0.062638300292 - 0.003641355696 i) |11111111\\rangle$$"
      ],
      "text/plain": [
       "<IPython.core.display.Latex object>"
      ]
     },
     "metadata": {},
     "output_type": "display_data"
    },
    {
     "name": "stdout",
     "output_type": "stream",
     "text": [
      "coherence of |ψ2⟩ =  254.4751918485822\n"
     ]
    },
    {
     "data": {
      "text/plain": [
       "'applied Hadamard to all |ψ1⟩'"
      ]
     },
     "metadata": {},
     "output_type": "display_data"
    },
    {
     "data": {
      "text/latex": [
       "$$(0.99351822 - 0.063694670624 i) |00000000\\rangle+ (-0.00289819489 - 0.001810993163 i) |00000001\\rangle+ (0.00289819489 + 0.001810993163 i) |00000010\\rangle+ (-0.00289819489 - 0.001810993163 i) |00000011\\rangle+ (0.00289819489 + 0.001810993163 i) |00000100\\rangle+ (-0.00289819489 - 0.001810993163 i) |00000101\\rangle + \\ldots + (0.00289819489 + 0.001810993163 i) |11111011\\rangle+ (-0.00289819489 - 0.001810993163 i) |11111100\\rangle+ (-0.008694584671 - 0.005432979489 i) |11111101\\rangle+ (-0.00289819489 - 0.001810993163 i) |11111110\\rangle+ (0.00289819489 + 0.001810993163 i) |11111111\\rangle$$"
      ],
      "text/plain": [
       "<IPython.core.display.Latex object>"
      ]
     },
     "metadata": {},
     "output_type": "display_data"
    },
    {
     "name": "stdout",
     "output_type": "stream",
     "text": [
      "coherence of |ψ1⟩ =  4.279062754677724\n"
     ]
    },
    {
     "data": {
      "text/plain": [
       "'applied P operator to |ψ4⟩'"
      ]
     },
     "metadata": {},
     "output_type": "display_data"
    },
    {
     "data": {
      "text/latex": [
       "$$(0.99351822 - 0.063694670624 i) |00000000\\rangle+ (0.00289819489 + 0.001810993163 i) |00000001\\rangle+ (-0.00289819489 - 0.001810993163 i) |00000010\\rangle+ (0.00289819489 + 0.001810993163 i) |00000011\\rangle+ (-0.00289819489 - 0.001810993163 i) |00000100\\rangle+ (0.00289819489 + 0.001810993163 i) |00000101\\rangle + \\ldots + (-0.00289819489 - 0.001810993163 i) |11111011\\rangle+ (0.00289819489 + 0.001810993163 i) |11111100\\rangle+ (0.008694584671 + 0.005432979489 i) |11111101\\rangle+ (0.00289819489 + 0.001810993163 i) |11111110\\rangle+ (-0.00289819489 - 0.001810993163 i) |11111111\\rangle$$"
      ],
      "text/plain": [
       "<IPython.core.display.Latex object>"
      ]
     },
     "metadata": {},
     "output_type": "display_data"
    },
    {
     "name": "stdout",
     "output_type": "stream",
     "text": [
      "coherence of |ψ4⟩ =  4.279062754677724\n"
     ]
    },
    {
     "data": {
      "text/plain": [
       "'applied Hadamard to all |ψ5⟩'"
      ]
     },
     "metadata": {},
     "output_type": "display_data"
    },
    {
     "data": {
      "text/latex": [
       "$$(0.061551477208 - 0.004320478132 i) |00000000\\rangle+ (0.061551477208 - 0.004320478132 i) |00000001\\rangle+ (0.061551477208 - 0.004320478132 i) |00000010\\rangle+ (0.061551477208 - 0.004320478132 i) |00000011\\rangle+ (0.061551477208 - 0.004320478132 i) |00000100\\rangle+ (0.061551477208 - 0.004320478132 i) |00000101\\rangle + \\ldots + (0.061551477208 - 0.004320478132 i) |11111011\\rangle+ (0.107922595454 + 0.024655412474 i) |11111100\\rangle+ (0.061551477208 - 0.004320478132 i) |11111101\\rangle+ (0.061551477208 - 0.004320478132 i) |11111110\\rangle+ (0.061551477208 - 0.004320478132 i) |11111111\\rangle$$"
      ],
      "text/plain": [
       "<IPython.core.display.Latex object>"
      ]
     },
     "metadata": {},
     "output_type": "display_data"
    },
    {
     "name": "stdout",
     "output_type": "stream",
     "text": [
      "coherence of |ψ5⟩ =  253.17762806343657\n",
      "-------- 5  ITERATION--------\n"
     ]
    },
    {
     "data": {
      "text/plain": [
       "'applied O operator to |ψ2⟩'"
      ]
     },
     "metadata": {},
     "output_type": "display_data"
    },
    {
     "data": {
      "text/latex": [
       "$$(0.061551477208 - 0.004320478132 i) |00000000\\rangle+ (0.061551477208 - 0.004320478132 i) |00000001\\rangle+ (0.061551477208 - 0.004320478132 i) |00000010\\rangle+ (0.061551477208 - 0.004320478132 i) |00000011\\rangle+ (0.061551477208 - 0.004320478132 i) |00000100\\rangle+ (0.061551477208 - 0.004320478132 i) |00000101\\rangle + \\ldots + (0.061551477208 - 0.004320478132 i) |11111011\\rangle+ (0.053447802452 - 0.096945904435 i) |11111100\\rangle+ (0.061551477208 - 0.004320478132 i) |11111101\\rangle+ (0.061551477208 - 0.004320478132 i) |11111110\\rangle+ (0.061551477208 - 0.004320478132 i) |11111111\\rangle$$"
      ],
      "text/plain": [
       "<IPython.core.display.Latex object>"
      ]
     },
     "metadata": {},
     "output_type": "display_data"
    },
    {
     "name": "stdout",
     "output_type": "stream",
     "text": [
      "coherence of |ψ2⟩ =  253.17762806343657\n"
     ]
    },
    {
     "data": {
      "text/plain": [
       "'applied Hadamard to all |ψ1⟩'"
      ]
     },
     "metadata": {},
     "output_type": "display_data"
    },
    {
     "data": {
      "text/latex": [
       "$$(0.983304196312 - 0.086494917544 i) |00000000\\rangle+ (-0.000506479672 - 0.005789089144 i) |00000001\\rangle+ (0.000506479672 + 0.005789089144 i) |00000010\\rangle+ (-0.000506479672 - 0.005789089144 i) |00000011\\rangle+ (0.000506479672 + 0.005789089144 i) |00000100\\rangle+ (-0.000506479672 - 0.005789089144 i) |00000101\\rangle + \\ldots + (0.000506479672 + 0.005789089144 i) |11111011\\rangle+ (-0.000506479672 - 0.005789089144 i) |11111100\\rangle+ (-0.001519439017 - 0.017367267432 i) |11111101\\rangle+ (-0.000506479672 - 0.005789089144 i) |11111110\\rangle+ (0.000506479672 + 0.005789089144 i) |11111111\\rangle$$"
      ],
      "text/plain": [
       "<IPython.core.display.Latex object>"
      ]
     },
     "metadata": {},
     "output_type": "display_data"
    },
    {
     "name": "stdout",
     "output_type": "stream",
     "text": [
      "coherence of |ψ1⟩ =  9.247484419978123\n"
     ]
    },
    {
     "data": {
      "text/plain": [
       "'applied P operator to |ψ4⟩'"
      ]
     },
     "metadata": {},
     "output_type": "display_data"
    },
    {
     "data": {
      "text/latex": [
       "$$(0.983304196312 - 0.086494917544 i) |00000000\\rangle+ (0.000506479672 + 0.005789089144 i) |00000001\\rangle+ (-0.000506479672 - 0.005789089144 i) |00000010\\rangle+ (0.000506479672 + 0.005789089144 i) |00000011\\rangle+ (-0.000506479672 - 0.005789089144 i) |00000100\\rangle+ (0.000506479672 + 0.005789089144 i) |00000101\\rangle + \\ldots + (-0.000506479672 - 0.005789089144 i) |11111011\\rangle+ (0.000506479672 + 0.005789089144 i) |11111100\\rangle+ (0.001519439017 + 0.017367267432 i) |11111101\\rangle+ (0.000506479672 + 0.005789089144 i) |11111110\\rangle+ (-0.000506479672 - 0.005789089144 i) |11111111\\rangle$$"
      ],
      "text/plain": [
       "<IPython.core.display.Latex object>"
      ]
     },
     "metadata": {},
     "output_type": "display_data"
    },
    {
     "name": "stdout",
     "output_type": "stream",
     "text": [
      "coherence of |ψ4⟩ =  9.247484419978123\n"
     ]
    },
    {
     "data": {
      "text/plain": [
       "'applied Hadamard to all |ψ5⟩'"
      ]
     },
     "metadata": {},
     "output_type": "display_data"
    },
    {
     "data": {
      "text/latex": [
       "$$(0.061361547331 - 0.006491386561 i) |00000000\\rangle+ (0.061361547331 - 0.006491386561 i) |00000001\\rangle+ (0.061361547331 - 0.006491386561 i) |00000010\\rangle+ (0.061361547331 - 0.006491386561 i) |00000011\\rangle+ (0.061361547331 - 0.006491386561 i) |00000100\\rangle+ (0.061361547331 - 0.006491386561 i) |00000101\\rangle + \\ldots + (0.061361547331 - 0.006491386561 i) |11111011\\rangle+ (0.069465222087 + 0.086134039742 i) |11111100\\rangle+ (0.061361547331 - 0.006491386561 i) |11111101\\rangle+ (0.061361547331 - 0.006491386561 i) |11111110\\rangle+ (0.061361547331 - 0.006491386561 i) |11111111\\rangle$$"
      ],
      "text/plain": [
       "<IPython.core.display.Latex object>"
      ]
     },
     "metadata": {},
     "output_type": "display_data"
    },
    {
     "name": "stdout",
     "output_type": "stream",
     "text": [
      "coherence of |ψ5⟩ =  253.18129341025292\n",
      "-------- 6  ITERATION--------\n"
     ]
    },
    {
     "data": {
      "text/plain": [
       "'applied O operator to |ψ2⟩'"
      ]
     },
     "metadata": {},
     "output_type": "display_data"
    },
    {
     "data": {
      "text/latex": [
       "$$(0.061361547331 - 0.006491386561 i) |00000000\\rangle+ (0.061361547331 - 0.006491386561 i) |00000001\\rangle+ (0.061361547331 - 0.006491386561 i) |00000010\\rangle+ (0.061361547331 - 0.006491386561 i) |00000011\\rangle+ (0.061361547331 - 0.006491386561 i) |00000100\\rangle+ (0.061361547331 - 0.006491386561 i) |00000101\\rangle + \\ldots + (0.061361547331 - 0.006491386561 i) |11111011\\rangle+ (0.101944563258 - 0.043032498231 i) |11111100\\rangle+ (0.061361547331 - 0.006491386561 i) |11111101\\rangle+ (0.061361547331 - 0.006491386561 i) |11111110\\rangle+ (0.061361547331 - 0.006491386561 i) |11111111\\rangle$$"
      ],
      "text/plain": [
       "<IPython.core.display.Latex object>"
      ]
     },
     "metadata": {},
     "output_type": "display_data"
    },
    {
     "name": "stdout",
     "output_type": "stream",
     "text": [
      "coherence of |ψ2⟩ =  253.18129341025292\n"
     ]
    },
    {
     "data": {
      "text/plain": [
       "'applied Hadamard to all |ψ1⟩'"
      ]
     },
     "metadata": {},
     "output_type": "display_data"
    },
    {
     "data": {
      "text/latex": [
       "$$(0.989394072782 - 0.110713643414 i) |00000000\\rangle+ (0.002536438495 - 0.002283819479 i) |00000001\\rangle+ (-0.002536438495 + 0.002283819479 i) |00000010\\rangle+ (0.002536438495 - 0.002283819479 i) |00000011\\rangle+ (-0.002536438495 + 0.002283819479 i) |00000100\\rangle+ (0.002536438495 - 0.002283819479 i) |00000101\\rangle + \\ldots + (-0.002536438495 + 0.002283819479 i) |11111011\\rangle+ (0.002536438495 - 0.002283819479 i) |11111100\\rangle+ (0.007609315486 - 0.006851458438 i) |11111101\\rangle+ (0.002536438495 - 0.002283819479 i) |11111110\\rangle+ (-0.002536438495 + 0.002283819479 i) |11111111\\rangle$$"
      ],
      "text/plain": [
       "<IPython.core.display.Latex object>"
      ]
     },
     "metadata": {},
     "output_type": "display_data"
    },
    {
     "name": "stdout",
     "output_type": "stream",
     "text": [
      "coherence of |ψ1⟩ =  4.271459594281697\n"
     ]
    },
    {
     "data": {
      "text/plain": [
       "'applied P operator to |ψ4⟩'"
      ]
     },
     "metadata": {},
     "output_type": "display_data"
    },
    {
     "data": {
      "text/latex": [
       "$$(0.989394072782 - 0.110713643414 i) |00000000\\rangle+ (-0.002536438495 + 0.002283819479 i) |00000001\\rangle+ (0.002536438495 - 0.002283819479 i) |00000010\\rangle+ (-0.002536438495 + 0.002283819479 i) |00000011\\rangle+ (0.002536438495 - 0.002283819479 i) |00000100\\rangle+ (-0.002536438495 + 0.002283819479 i) |00000101\\rangle + \\ldots + (0.002536438495 - 0.002283819479 i) |11111011\\rangle+ (-0.002536438495 + 0.002283819479 i) |11111100\\rangle+ (-0.007609315486 + 0.006851458438 i) |11111101\\rangle+ (-0.002536438495 + 0.002283819479 i) |11111110\\rangle+ (0.002536438495 - 0.002283819479 i) |11111111\\rangle$$"
      ],
      "text/plain": [
       "<IPython.core.display.Latex object>"
      ]
     },
     "metadata": {},
     "output_type": "display_data"
    },
    {
     "name": "stdout",
     "output_type": "stream",
     "text": [
      "coherence of |ψ4⟩ =  4.271459594281697\n"
     ]
    },
    {
     "data": {
      "text/plain": [
       "'applied Hadamard to all |ψ5⟩'"
      ]
     },
     "metadata": {},
     "output_type": "display_data"
    },
    {
     "data": {
      "text/latex": [
       "$$(0.062312711767 - 0.007347818866 i) |00000000\\rangle+ (0.062312711767 - 0.007347818866 i) |00000001\\rangle+ (0.062312711767 - 0.007347818866 i) |00000010\\rangle+ (0.062312711767 - 0.007347818866 i) |00000011\\rangle+ (0.062312711767 - 0.007347818866 i) |00000100\\rangle+ (0.062312711767 - 0.007347818866 i) |00000101\\rangle + \\ldots + (0.062312711767 - 0.007347818866 i) |11111011\\rangle+ (0.02172969584 + 0.029193292805 i) |11111100\\rangle+ (0.062312711767 - 0.007347818866 i) |11111101\\rangle+ (0.062312711767 - 0.007347818866 i) |11111110\\rangle+ (0.062312711767 - 0.007347818866 i) |11111111\\rangle$$"
      ],
      "text/plain": [
       "<IPython.core.display.Latex object>"
      ]
     },
     "metadata": {},
     "output_type": "display_data"
    },
    {
     "name": "stdout",
     "output_type": "stream",
     "text": [
      "coherence of |ψ5⟩ =  254.47293938223592\n",
      "-------- 7  ITERATION--------\n"
     ]
    },
    {
     "data": {
      "text/plain": [
       "'applied O operator to |ψ2⟩'"
      ]
     },
     "metadata": {},
     "output_type": "display_data"
    },
    {
     "data": {
      "text/latex": [
       "$$(0.062312711767 - 0.007347818866 i) |00000000\\rangle+ (0.062312711767 - 0.007347818866 i) |00000001\\rangle+ (0.062312711767 - 0.007347818866 i) |00000010\\rangle+ (0.062312711767 - 0.007347818866 i) |00000011\\rangle+ (0.062312711767 - 0.007347818866 i) |00000100\\rangle+ (0.062312711767 - 0.007347818866 i) |00000101\\rangle + \\ldots + (0.062312711767 - 0.007347818866 i) |11111011\\rangle+ (0.034051910055 - 0.012841162239 i) |11111100\\rangle+ (0.062312711767 - 0.007347818866 i) |11111101\\rangle+ (0.062312711767 - 0.007347818866 i) |11111110\\rangle+ (0.062312711767 - 0.007347818866 i) |11111111\\rangle$$"
      ],
      "text/plain": [
       "<IPython.core.display.Latex object>"
      ]
     },
     "metadata": {},
     "output_type": "display_data"
    },
    {
     "name": "stdout",
     "output_type": "stream",
     "text": [
      "coherence of |ψ2⟩ =  254.47293938223592\n"
     ]
    },
    {
     "data": {
      "text/plain": [
       "'applied Hadamard to all |ψ1⟩'"
      ]
     },
     "metadata": {},
     "output_type": "display_data"
    },
    {
     "data": {
      "text/latex": [
       "$$(0.991704487947 - 0.118595103735 i) |00000000\\rangle+ (-0.001766300107 - 0.000343333961 i) |00000001\\rangle+ (0.001766300107 + 0.000343333961 i) |00000010\\rangle+ (-0.001766300107 - 0.000343333961 i) |00000011\\rangle+ (0.001766300107 + 0.000343333961 i) |00000100\\rangle+ (-0.001766300107 - 0.000343333961 i) |00000101\\rangle + \\ldots + (0.001766300107 + 0.000343333961 i) |11111011\\rangle+ (-0.001766300107 - 0.000343333961 i) |11111100\\rangle+ (-0.005298900321 - 0.001030001882 i) |11111101\\rangle+ (-0.001766300107 - 0.000343333961 i) |11111110\\rangle+ (0.001766300107 + 0.000343333961 i) |11111111\\rangle$$"
      ],
      "text/plain": [
       "<IPython.core.display.Latex object>"
      ]
     },
     "metadata": {},
     "output_type": "display_data"
    },
    {
     "name": "stdout",
     "output_type": "stream",
     "text": [
      "coherence of |ψ1⟩ =  1.836955668996898\n"
     ]
    },
    {
     "data": {
      "text/plain": [
       "'applied P operator to |ψ4⟩'"
      ]
     },
     "metadata": {},
     "output_type": "display_data"
    },
    {
     "data": {
      "text/latex": [
       "$$(0.991704487947 - 0.118595103735 i) |00000000\\rangle+ (0.001766300107 + 0.000343333961 i) |00000001\\rangle+ (-0.001766300107 - 0.000343333961 i) |00000010\\rangle+ (0.001766300107 + 0.000343333961 i) |00000011\\rangle+ (-0.001766300107 - 0.000343333961 i) |00000100\\rangle+ (0.001766300107 + 0.000343333961 i) |00000101\\rangle + \\ldots + (-0.001766300107 - 0.000343333961 i) |11111011\\rangle+ (0.001766300107 + 0.000343333961 i) |11111100\\rangle+ (0.005298900321 + 0.001030001882 i) |11111101\\rangle+ (0.001766300107 + 0.000343333961 i) |11111110\\rangle+ (-0.001766300107 - 0.000343333961 i) |11111111\\rangle$$"
      ],
      "text/plain": [
       "<IPython.core.display.Latex object>"
      ]
     },
     "metadata": {},
     "output_type": "display_data"
    },
    {
     "name": "stdout",
     "output_type": "stream",
     "text": [
      "coherence of |ψ4⟩ =  1.836955668996898\n"
     ]
    },
    {
     "data": {
      "text/plain": [
       "'applied Hadamard to all |ψ5⟩'"
      ]
     },
     "metadata": {},
     "output_type": "display_data"
    },
    {
     "data": {
      "text/latex": [
       "$$(0.061650349227 - 0.007476569101 i) |00000000\\rangle+ (0.061650349227 - 0.007476569101 i) |00000001\\rangle+ (0.061650349227 - 0.007476569101 i) |00000010\\rangle+ (0.061650349227 - 0.007476569101 i) |00000011\\rangle+ (0.061650349227 - 0.007476569101 i) |00000100\\rangle+ (0.061650349227 - 0.007476569101 i) |00000101\\rangle + \\ldots + (0.061650349227 - 0.007476569101 i) |11111011\\rangle+ (0.089911150938 - 0.001983225728 i) |11111100\\rangle+ (0.061650349227 - 0.007476569101 i) |11111101\\rangle+ (0.061650349227 - 0.007476569101 i) |11111110\\rangle+ (0.061650349227 - 0.007476569101 i) |11111111\\rangle$$"
      ],
      "text/plain": [
       "<IPython.core.display.Latex object>"
      ]
     },
     "metadata": {},
     "output_type": "display_data"
    },
    {
     "name": "stdout",
     "output_type": "stream",
     "text": [
      "coherence of |ψ5⟩ =  254.4121067385786\n",
      "======================================== FOR ϕ =  301.0 ========================================\n"
     ]
    },
    {
     "data": {
      "text/plain": [
       "'initialised |ψ0⟩'"
      ]
     },
     "metadata": {},
     "output_type": "display_data"
    },
    {
     "data": {
      "text/latex": [
       "$$ |00000000\\rangle$$"
      ],
      "text/plain": [
       "<IPython.core.display.Latex object>"
      ]
     },
     "metadata": {},
     "output_type": "display_data"
    },
    {
     "name": "stdout",
     "output_type": "stream",
     "text": [
      "coherence of |ψ0⟩ =  0.0\n"
     ]
    },
    {
     "data": {
      "text/plain": [
       "'applied Hadamard to all |ψ1⟩'"
      ]
     },
     "metadata": {},
     "output_type": "display_data"
    },
    {
     "data": {
      "text/latex": [
       "$$\\frac{1}{16} |00000000\\rangle+\\frac{1}{16} |00000001\\rangle+\\frac{1}{16} |00000010\\rangle+\\frac{1}{16} |00000011\\rangle+\\frac{1}{16} |00000100\\rangle+\\frac{1}{16} |00000101\\rangle + \\ldots +\\frac{1}{16} |11111011\\rangle+\\frac{1}{16} |11111100\\rangle+\\frac{1}{16} |11111101\\rangle+\\frac{1}{16} |11111110\\rangle+\\frac{1}{16} |11111111\\rangle$$"
      ],
      "text/plain": [
       "<IPython.core.display.Latex object>"
      ]
     },
     "metadata": {},
     "output_type": "display_data"
    },
    {
     "name": "stdout",
     "output_type": "stream",
     "text": [
      "coherence of |ψ1⟩ =  255.00000000000003\n",
      "-------- 1  ITERATION--------\n"
     ]
    },
    {
     "data": {
      "text/plain": [
       "'applied O operator to |ψ2⟩'"
      ]
     },
     "metadata": {},
     "output_type": "display_data"
    },
    {
     "data": {
      "text/latex": [
       "$$\\frac{1}{16} |00000000\\rangle+\\frac{1}{16} |00000001\\rangle+\\frac{1}{16} |00000010\\rangle+\\frac{1}{16} |00000011\\rangle+\\frac{1}{16} |00000100\\rangle+\\frac{1}{16} |00000101\\rangle + \\ldots +\\frac{1}{16} |11111011\\rangle+ (0.032189879682 - 0.053572956294 i) |11111100\\rangle+\\frac{1}{16} |11111101\\rangle+\\frac{1}{16} |11111110\\rangle+\\frac{1}{16} |11111111\\rangle$$"
      ],
      "text/plain": [
       "<IPython.core.display.Latex object>"
      ]
     },
     "metadata": {},
     "output_type": "display_data"
    },
    {
     "name": "stdout",
     "output_type": "stream",
     "text": [
      "coherence of |ψ2⟩ =  255.00000000000003\n"
     ]
    },
    {
     "data": {
      "text/plain": [
       "'applied Hadamard to all |ψ1⟩'"
      ]
     },
     "metadata": {},
     "output_type": "display_data"
    },
    {
     "data": {
      "text/latex": [
       "$$(0.99431685244 - 0.010044929305 i) |00000000\\rangle+ (-0.00189438252 - 0.003348309768 i) |00000001\\rangle+ (0.00189438252 + 0.003348309768 i) |00000010\\rangle+ (-0.00189438252 - 0.003348309768 i) |00000011\\rangle+ (0.00189438252 + 0.003348309768 i) |00000100\\rangle+ (-0.00189438252 - 0.003348309768 i) |00000101\\rangle + \\ldots + (0.00189438252 + 0.003348309768 i) |11111011\\rangle+ (-0.00189438252 - 0.003348309768 i) |11111100\\rangle+ (-0.00568314756 - 0.010044929305 i) |11111101\\rangle+ (-0.00189438252 - 0.003348309768 i) |11111110\\rangle+ (0.00189438252 + 0.003348309768 i) |11111111\\rangle$$"
      ],
      "text/plain": [
       "<IPython.core.display.Latex object>"
      ]
     },
     "metadata": {},
     "output_type": "display_data"
    },
    {
     "name": "stdout",
     "output_type": "stream",
     "text": [
      "coherence of |ψ1⟩ =  5.05207770661843\n"
     ]
    },
    {
     "data": {
      "text/plain": [
       "'applied P operator to |ψ4⟩'"
      ]
     },
     "metadata": {},
     "output_type": "display_data"
    },
    {
     "data": {
      "text/latex": [
       "$$(0.99431685244 - 0.010044929305 i) |00000000\\rangle+ (0.00189438252 + 0.003348309768 i) |00000001\\rangle+ (-0.00189438252 - 0.003348309768 i) |00000010\\rangle+ (0.00189438252 + 0.003348309768 i) |00000011\\rangle+ (-0.00189438252 - 0.003348309768 i) |00000100\\rangle+ (0.00189438252 + 0.003348309768 i) |00000101\\rangle + \\ldots + (-0.00189438252 - 0.003348309768 i) |11111011\\rangle+ (0.00189438252 + 0.003348309768 i) |11111100\\rangle+ (0.00568314756 + 0.010044929305 i) |11111101\\rangle+ (0.00189438252 + 0.003348309768 i) |11111110\\rangle+ (-0.00189438252 - 0.003348309768 i) |11111111\\rangle$$"
      ],
      "text/plain": [
       "<IPython.core.display.Latex object>"
      ]
     },
     "metadata": {},
     "output_type": "display_data"
    },
    {
     "name": "stdout",
     "output_type": "stream",
     "text": [
      "coherence of |ψ4⟩ =  5.05207770661843\n"
     ]
    },
    {
     "data": {
      "text/plain": [
       "'applied Hadamard to all |ψ5⟩'"
      ]
     },
     "metadata": {},
     "output_type": "display_data"
    },
    {
     "data": {
      "text/latex": [
       "$$(0.061789606555 - 0.001255616163 i) |00000000\\rangle+ (0.061789606555 - 0.001255616163 i) |00000001\\rangle+ (0.061789606555 - 0.001255616163 i) |00000010\\rangle+ (0.061789606555 - 0.001255616163 i) |00000011\\rangle+ (0.061789606555 - 0.001255616163 i) |00000100\\rangle+ (0.061789606555 - 0.001255616163 i) |00000101\\rangle + \\ldots + (0.061789606555 - 0.001255616163 i) |11111011\\rangle+ (0.092099726873 + 0.052317340131 i) |11111100\\rangle+ (0.061789606555 - 0.001255616163 i) |11111101\\rangle+ (0.061789606555 - 0.001255616163 i) |11111110\\rangle+ (0.061789606555 - 0.001255616163 i) |11111111\\rangle$$"
      ],
      "text/plain": [
       "<IPython.core.display.Latex object>"
      ]
     },
     "metadata": {},
     "output_type": "display_data"
    },
    {
     "name": "stdout",
     "output_type": "stream",
     "text": [
      "coherence of |ψ5⟩ =  253.52257632677208\n",
      "-------- 2  ITERATION--------\n"
     ]
    },
    {
     "data": {
      "text/plain": [
       "'applied O operator to |ψ2⟩'"
      ]
     },
     "metadata": {},
     "output_type": "display_data"
    },
    {
     "data": {
      "text/latex": [
       "$$(0.061789606555 - 0.001255616163 i) |00000000\\rangle+ (0.061789606555 - 0.001255616163 i) |00000001\\rangle+ (0.061789606555 - 0.001255616163 i) |00000010\\rangle+ (0.061789606555 - 0.001255616163 i) |00000011\\rangle+ (0.061789606555 - 0.001255616163 i) |00000100\\rangle+ (0.061789606555 - 0.001255616163 i) |00000101\\rangle + \\ldots + (0.061789606555 - 0.001255616163 i) |11111011\\rangle+ (0.092279579248 - 0.051999452134 i) |11111100\\rangle+ (0.061789606555 - 0.001255616163 i) |11111101\\rangle+ (0.061789606555 - 0.001255616163 i) |11111110\\rangle+ (0.061789606555 - 0.001255616163 i) |11111111\\rangle$$"
      ],
      "text/plain": [
       "<IPython.core.display.Latex object>"
      ]
     },
     "metadata": {},
     "output_type": "display_data"
    },
    {
     "name": "stdout",
     "output_type": "stream",
     "text": [
      "coherence of |ψ2⟩ =  253.52257632677208\n"
     ]
    },
    {
     "data": {
      "text/plain": [
       "'applied Hadamard to all |ψ1⟩'"
      ]
     },
     "metadata": {},
     "output_type": "display_data"
    },
    {
     "data": {
      "text/latex": [
       "$$(0.994350574761 - 0.029604327855 i) |00000000\\rangle+ (0.001905623293 - 0.003171489748 i) |00000001\\rangle+ (-0.001905623293 + 0.003171489748 i) |00000010\\rangle+ (0.001905623293 - 0.003171489748 i) |00000011\\rangle+ (-0.001905623293 + 0.003171489748 i) |00000100\\rangle+ (0.001905623293 - 0.003171489748 i) |00000101\\rangle + \\ldots + (-0.001905623293 + 0.003171489748 i) |11111011\\rangle+ (0.001905623293 - 0.003171489748 i) |11111100\\rangle+ (0.00571686988 - 0.009514469245 i) |11111101\\rangle+ (0.001905623293 - 0.003171489748 i) |11111110\\rangle+ (-0.001905623293 + 0.003171489748 i) |11111111\\rangle$$"
      ],
      "text/plain": [
       "<IPython.core.display.Latex object>"
      ]
     },
     "metadata": {},
     "output_type": "display_data"
    },
    {
     "name": "stdout",
     "output_type": "stream",
     "text": [
      "coherence of |ψ1⟩ =  4.781515256936238\n"
     ]
    },
    {
     "data": {
      "text/plain": [
       "'applied P operator to |ψ4⟩'"
      ]
     },
     "metadata": {},
     "output_type": "display_data"
    },
    {
     "data": {
      "text/latex": [
       "$$(0.994350574761 - 0.029604327855 i) |00000000\\rangle+ (-0.001905623293 + 0.003171489748 i) |00000001\\rangle+ (0.001905623293 - 0.003171489748 i) |00000010\\rangle+ (-0.001905623293 + 0.003171489748 i) |00000011\\rangle+ (0.001905623293 - 0.003171489748 i) |00000100\\rangle+ (-0.001905623293 + 0.003171489748 i) |00000101\\rangle + \\ldots + (0.001905623293 - 0.003171489748 i) |11111011\\rangle+ (-0.001905623293 + 0.003171489748 i) |11111100\\rangle+ (-0.00571686988 + 0.009514469245 i) |11111101\\rangle+ (-0.001905623293 + 0.003171489748 i) |11111110\\rangle+ (0.001905623293 - 0.003171489748 i) |11111111\\rangle$$"
      ],
      "text/plain": [
       "<IPython.core.display.Latex object>"
      ]
     },
     "metadata": {},
     "output_type": "display_data"
    },
    {
     "name": "stdout",
     "output_type": "stream",
     "text": [
      "coherence of |ψ4⟩ =  4.781515256936238\n"
     ]
    },
    {
     "data": {
      "text/plain": [
       "'applied Hadamard to all |ψ5⟩'"
      ]
     },
     "metadata": {},
     "output_type": "display_data"
    },
    {
     "data": {
      "text/latex": [
       "$$(0.06250421529 - 0.002444924819 i) |00000000\\rangle+ (0.06250421529 - 0.002444924819 i) |00000001\\rangle+ (0.06250421529 - 0.002444924819 i) |00000010\\rangle+ (0.06250421529 - 0.002444924819 i) |00000011\\rangle+ (0.06250421529 - 0.002444924819 i) |00000100\\rangle+ (0.06250421529 - 0.002444924819 i) |00000101\\rangle + \\ldots + (0.06250421529 - 0.002444924819 i) |11111011\\rangle+ (0.032014242597 + 0.048298911152 i) |11111100\\rangle+ (0.06250421529 - 0.002444924819 i) |11111101\\rangle+ (0.06250421529 - 0.002444924819 i) |11111110\\rangle+ (0.06250421529 - 0.002444924819 i) |11111111\\rangle$$"
      ],
      "text/plain": [
       "<IPython.core.display.Latex object>"
      ]
     },
     "metadata": {},
     "output_type": "display_data"
    },
    {
     "name": "stdout",
     "output_type": "stream",
     "text": [
      "coherence of |ψ5⟩ =  254.98389497450054\n",
      "-------- 3  ITERATION--------\n"
     ]
    },
    {
     "data": {
      "text/plain": [
       "'applied O operator to |ψ2⟩'"
      ]
     },
     "metadata": {},
     "output_type": "display_data"
    },
    {
     "data": {
      "text/latex": [
       "$$(0.06250421529 - 0.002444924819 i) |00000000\\rangle+ (0.06250421529 - 0.002444924819 i) |00000001\\rangle+ (0.06250421529 - 0.002444924819 i) |00000010\\rangle+ (0.06250421529 - 0.002444924819 i) |00000011\\rangle+ (0.06250421529 - 0.002444924819 i) |00000100\\rangle+ (0.06250421529 - 0.002444924819 i) |00000101\\rangle + \\ldots + (0.06250421529 - 0.002444924819 i) |11111011\\rangle+ (\\frac{4 \\cdot \\sqrt[266]{2} \\cdot 3^{\\frac{5}{133}} \\cdot 5^{\\frac{24}{133}} \\cdot 7^{\\frac{233}{266}}}{25 \\pi^{\\frac{355}{133}}} - \\frac{32 \\cdot 2^{\\frac{3}{19}} \\cdot 3^{\\frac{8}{19}} \\cdot \\sqrt[19]{5} \\cdot 7^{\\frac{2}{19}} i \\pi^{\\frac{347}{19}}}{35450825752503}) |11111100\\rangle+ (0.06250421529 - 0.002444924819 i) |11111101\\rangle+ (0.06250421529 - 0.002444924819 i) |11111110\\rangle+ (0.06250421529 - 0.002444924819 i) |11111111\\rangle$$"
      ],
      "text/plain": [
       "<IPython.core.display.Latex object>"
      ]
     },
     "metadata": {},
     "output_type": "display_data"
    },
    {
     "name": "stdout",
     "output_type": "stream",
     "text": [
      "coherence of |ψ2⟩ =  254.98389497450054\n"
     ]
    },
    {
     "data": {
      "text/plain": [
       "'applied Hadamard to all |ψ1⟩'"
      ]
     },
     "metadata": {},
     "output_type": "display_data"
    },
    {
     "data": {
      "text/latex": [
       "$$(0.999202054494 - 0.039141458138 i) |00000000\\rangle+ (-0.000288463382 - 7.55368 \\cdot 10^{-6} i) |00000001\\rangle+ (0.000288463382 + 7.55368 \\cdot 10^{-6} i) |00000010\\rangle+ (-0.000288463382 - 7.55368 \\cdot 10^{-6} i) |00000011\\rangle+ (0.000288463382 + 7.55368 \\cdot 10^{-6} i) |00000100\\rangle+ (-0.000288463382 - 7.55368 \\cdot 10^{-6} i) |00000101\\rangle + \\ldots + (0.000288463382 + 7.55368 \\cdot 10^{-6} i) |11111011\\rangle+ (-0.000288463382 - 7.55368 \\cdot 10^{-6} i) |11111100\\rangle+ (-0.000865390146 - 2.2661039 \\cdot 10^{-5} i) |11111101\\rangle+ (-0.000288463382 - 7.55368 \\cdot 10^{-6} i) |11111110\\rangle+ (0.000288463382 + 7.55368 \\cdot 10^{-6} i) |11111111\\rangle$$"
      ],
      "text/plain": [
       "<IPython.core.display.Latex object>"
      ]
     },
     "metadata": {},
     "output_type": "display_data"
    },
    {
     "name": "stdout",
     "output_type": "stream",
     "text": [
      "coherence of |ψ1⟩ =  0.23190158943738182\n"
     ]
    },
    {
     "data": {
      "text/plain": [
       "'applied P operator to |ψ4⟩'"
      ]
     },
     "metadata": {},
     "output_type": "display_data"
    },
    {
     "data": {
      "text/latex": [
       "$$(0.999202054494 - 0.039141458138 i) |00000000\\rangle+ (0.000288463382 + 7.55368 \\cdot 10^{-6} i) |00000001\\rangle+ (-0.000288463382 - 7.55368 \\cdot 10^{-6} i) |00000010\\rangle+ (0.000288463382 + 7.55368 \\cdot 10^{-6} i) |00000011\\rangle+ (-0.000288463382 - 7.55368 \\cdot 10^{-6} i) |00000100\\rangle+ (0.000288463382 + 7.55368 \\cdot 10^{-6} i) |00000101\\rangle + \\ldots + (-0.000288463382 - 7.55368 \\cdot 10^{-6} i) |11111011\\rangle+ (0.000288463382 + 7.55368 \\cdot 10^{-6} i) |11111100\\rangle+ (0.000865390146 + 2.2661039 \\cdot 10^{-5} i) |11111101\\rangle+ (0.000288463382 + 7.55368 \\cdot 10^{-6} i) |11111110\\rangle+ (-0.000288463382 - 7.55368 \\cdot 10^{-6} i) |11111111\\rangle$$"
      ],
      "text/plain": [
       "<IPython.core.display.Latex object>"
      ]
     },
     "metadata": {},
     "output_type": "display_data"
    },
    {
     "name": "stdout",
     "output_type": "stream",
     "text": [
      "coherence of |ψ4⟩ =  0.23190158943738182\n"
     ]
    },
    {
     "data": {
      "text/plain": [
       "'applied Hadamard to all |ψ5⟩'"
      ]
     },
     "metadata": {},
     "output_type": "display_data"
    },
    {
     "data": {
      "text/latex": [
       "$$(0.062396041522 - 0.002447757449 i) |00000000\\rangle+ (0.062396041522 - 0.002447757449 i) |00000001\\rangle+ (0.062396041522 - 0.002447757449 i) |00000010\\rangle+ (0.062396041522 - 0.002447757449 i) |00000011\\rangle+ (0.062396041522 - 0.002447757449 i) |00000100\\rangle+ (0.062396041522 - 0.002447757449 i) |00000101\\rangle + \\ldots + (0.062396041522 - 0.002447757449 i) |11111011\\rangle+ (0.067011455636 - 0.002326898577 i) |11111100\\rangle+ (0.062396041522 - 0.002447757449 i) |11111101\\rangle+ (0.062396041522 - 0.002447757449 i) |11111110\\rangle+ (0.062396041522 - 0.002447757449 i) |11111111\\rangle$$"
      ],
      "text/plain": [
       "<IPython.core.display.Latex object>"
      ]
     },
     "metadata": {},
     "output_type": "display_data"
    },
    {
     "name": "stdout",
     "output_type": "stream",
     "text": [
      "coherence of |ψ5⟩ =  254.9838849930283\n",
      "-------- 4  ITERATION--------\n"
     ]
    },
    {
     "data": {
      "text/plain": [
       "'applied O operator to |ψ2⟩'"
      ]
     },
     "metadata": {},
     "output_type": "display_data"
    },
    {
     "data": {
      "text/latex": [
       "$$(0.062396041522 - 0.002447757449 i) |00000000\\rangle+ (0.062396041522 - 0.002447757449 i) |00000001\\rangle+ (0.062396041522 - 0.002447757449 i) |00000010\\rangle+ (0.062396041522 - 0.002447757449 i) |00000011\\rangle+ (0.062396041522 - 0.002447757449 i) |00000100\\rangle+ (0.062396041522 - 0.002447757449 i) |00000101\\rangle + \\ldots + (0.062396041522 - 0.002447757449 i) |11111011\\rangle+ (0.032518909736 - 0.058638469907 i) |11111100\\rangle+ (0.062396041522 - 0.002447757449 i) |11111101\\rangle+ (0.062396041522 - 0.002447757449 i) |11111110\\rangle+ (0.062396041522 - 0.002447757449 i) |11111111\\rangle$$"
      ],
      "text/plain": [
       "<IPython.core.display.Latex object>"
      ]
     },
     "metadata": {},
     "output_type": "display_data"
    },
    {
     "name": "stdout",
     "output_type": "stream",
     "text": [
      "coherence of |ψ2⟩ =  254.9838849930283\n"
     ]
    },
    {
     "data": {
      "text/plain": [
       "'applied Hadamard to all |ψ1⟩'"
      ]
     },
     "metadata": {},
     "output_type": "display_data"
    },
    {
     "data": {
      "text/latex": [
       "$$(0.992734702138 - 0.049699877762 i) |00000000\\rangle+ (-0.001867320737 - 0.003511919529 i) |00000001\\rangle+ (0.001867320737 + 0.003511919529 i) |00000010\\rangle+ (-0.001867320737 - 0.003511919529 i) |00000011\\rangle+ (0.001867320737 + 0.003511919529 i) |00000100\\rangle+ (-0.001867320737 - 0.003511919529 i) |00000101\\rangle + \\ldots + (0.001867320737 + 0.003511919529 i) |11111011\\rangle+ (-0.001867320737 - 0.003511919529 i) |11111100\\rangle+ (-0.00560196221 - 0.010535758586 i) |11111101\\rangle+ (-0.001867320737 - 0.003511919529 i) |11111110\\rangle+ (0.001867320737 + 0.003511919529 i) |11111111\\rangle$$"
      ],
      "text/plain": [
       "<IPython.core.display.Latex object>"
      ]
     },
     "metadata": {},
     "output_type": "display_data"
    },
    {
     "name": "stdout",
     "output_type": "stream",
     "text": [
      "coherence of |ψ1⟩ =  5.297106175969679\n"
     ]
    },
    {
     "data": {
      "text/plain": [
       "'applied P operator to |ψ4⟩'"
      ]
     },
     "metadata": {},
     "output_type": "display_data"
    },
    {
     "data": {
      "text/latex": [
       "$$(0.992734702138 - 0.049699877762 i) |00000000\\rangle+ (0.001867320737 + 0.003511919529 i) |00000001\\rangle+ (-0.001867320737 - 0.003511919529 i) |00000010\\rangle+ (0.001867320737 + 0.003511919529 i) |00000011\\rangle+ (-0.001867320737 - 0.003511919529 i) |00000100\\rangle+ (0.001867320737 + 0.003511919529 i) |00000101\\rangle + \\ldots + (-0.001867320737 - 0.003511919529 i) |11111011\\rangle+ (0.001867320737 + 0.003511919529 i) |11111100\\rangle+ (0.00560196221 + 0.010535758586 i) |11111101\\rangle+ (0.001867320737 + 0.003511919529 i) |11111110\\rangle+ (-0.001867320737 - 0.003511919529 i) |11111111\\rangle$$"
      ],
      "text/plain": [
       "<IPython.core.display.Latex object>"
      ]
     },
     "metadata": {},
     "output_type": "display_data"
    },
    {
     "name": "stdout",
     "output_type": "stream",
     "text": [
      "coherence of |ψ4⟩ =  5.297106175969679\n"
     ]
    },
    {
     "data": {
      "text/plain": [
       "'applied Hadamard to all |ψ5⟩'"
      ]
     },
     "metadata": {},
     "output_type": "display_data"
    },
    {
     "data": {
      "text/latex": [
       "$$(0.061695796246 - 0.003764727272 i) |00000000\\rangle+ (0.061695796246 - 0.003764727272 i) |00000001\\rangle+ (0.061695796246 - 0.003764727272 i) |00000010\\rangle+ (0.061695796246 - 0.003764727272 i) |00000011\\rangle+ (0.061695796246 - 0.003764727272 i) |00000100\\rangle+ (0.061695796246 - 0.003764727272 i) |00000101\\rangle + \\ldots + (0.061695796246 - 0.003764727272 i) |11111011\\rangle+ (0.091572928031 + 0.052425985187 i) |11111100\\rangle+ (0.061695796246 - 0.003764727272 i) |11111101\\rangle+ (0.061695796246 - 0.003764727272 i) |11111110\\rangle+ (0.061695796246 - 0.003764727272 i) |11111111\\rangle$$"
      ],
      "text/plain": [
       "<IPython.core.display.Latex object>"
      ]
     },
     "metadata": {},
     "output_type": "display_data"
    },
    {
     "name": "stdout",
     "output_type": "stream",
     "text": [
      "coherence of |ψ5⟩ =  253.55003967769983\n",
      "-------- 5  ITERATION--------\n"
     ]
    },
    {
     "data": {
      "text/plain": [
       "'applied O operator to |ψ2⟩'"
      ]
     },
     "metadata": {},
     "output_type": "display_data"
    },
    {
     "data": {
      "text/latex": [
       "$$(0.061695796246 - 0.003764727272 i) |00000000\\rangle+ (0.061695796246 - 0.003764727272 i) |00000001\\rangle+ (0.061695796246 - 0.003764727272 i) |00000010\\rangle+ (0.061695796246 - 0.003764727272 i) |00000011\\rangle+ (0.061695796246 - 0.003764727272 i) |00000100\\rangle+ (0.061695796246 - 0.003764727272 i) |00000101\\rangle + \\ldots + (0.061695796246 - 0.003764727272 i) |11111011\\rangle+ (0.092101384776 - 0.051491941052 i) |11111100\\rangle+ (0.061695796246 - 0.003764727272 i) |11111101\\rangle+ (0.061695796246 - 0.003764727272 i) |11111110\\rangle+ (0.061695796246 - 0.003764727272 i) |11111111\\rangle$$"
      ],
      "text/plain": [
       "<IPython.core.display.Latex object>"
      ]
     },
     "metadata": {},
     "output_type": "display_data"
    },
    {
     "name": "stdout",
     "output_type": "stream",
     "text": [
      "coherence of |ψ2⟩ =  253.55003967769983\n"
     ]
    },
    {
     "data": {
      "text/plain": [
       "'applied Hadamard to all |ψ1⟩'"
      ]
     },
     "metadata": {},
     "output_type": "display_data"
    },
    {
     "data": {
      "text/latex": [
       "$$(0.992833787778 - 0.069184488932 i) |00000000\\rangle+ (0.001900349283 - 0.002982950861 i) |00000001\\rangle+ (-0.001900349283 + 0.002982950861 i) |00000010\\rangle+ (0.001900349283 - 0.002982950861 i) |00000011\\rangle+ (-0.001900349283 + 0.002982950861 i) |00000100\\rangle+ (0.001900349283 - 0.002982950861 i) |00000101\\rangle + \\ldots + (-0.001900349283 + 0.002982950861 i) |11111011\\rangle+ (0.001900349283 - 0.002982950861 i) |11111100\\rangle+ (0.00570104785 - 0.008948852584 i) |11111101\\rangle+ (0.001900349283 - 0.002982950861 i) |11111110\\rangle+ (-0.001900349283 + 0.002982950861 i) |11111111\\rangle$$"
      ],
      "text/plain": [
       "<IPython.core.display.Latex object>"
      ]
     },
     "metadata": {},
     "output_type": "display_data"
    },
    {
     "name": "stdout",
     "output_type": "stream",
     "text": [
      "coherence of |ψ1⟩ =  4.4886278022495665\n"
     ]
    },
    {
     "data": {
      "text/plain": [
       "'applied P operator to |ψ4⟩'"
      ]
     },
     "metadata": {},
     "output_type": "display_data"
    },
    {
     "data": {
      "text/latex": [
       "$$(0.992833787778 - 0.069184488932 i) |00000000\\rangle+ (-0.001900349283 + 0.002982950861 i) |00000001\\rangle+ (0.001900349283 - 0.002982950861 i) |00000010\\rangle+ (-0.001900349283 + 0.002982950861 i) |00000011\\rangle+ (0.001900349283 - 0.002982950861 i) |00000100\\rangle+ (-0.001900349283 + 0.002982950861 i) |00000101\\rangle + \\ldots + (0.001900349283 - 0.002982950861 i) |11111011\\rangle+ (-0.001900349283 + 0.002982950861 i) |11111100\\rangle+ (-0.00570104785 + 0.008948852584 i) |11111101\\rangle+ (-0.001900349283 + 0.002982950861 i) |11111110\\rangle+ (0.001900349283 - 0.002982950861 i) |11111111\\rangle$$"
      ],
      "text/plain": [
       "<IPython.core.display.Latex object>"
      ]
     },
     "metadata": {},
     "output_type": "display_data"
    },
    {
     "name": "stdout",
     "output_type": "stream",
     "text": [
      "coherence of |ψ4⟩ =  4.4886278022495665\n"
     ]
    },
    {
     "data": {
      "text/plain": [
       "'applied Hadamard to all |ψ5⟩'"
      ]
     },
     "metadata": {},
     "output_type": "display_data"
    },
    {
     "data": {
      "text/latex": [
       "$$(0.062408427227 - 0.004883333845 i) |00000000\\rangle+ (0.062408427227 - 0.004883333845 i) |00000001\\rangle+ (0.062408427227 - 0.004883333845 i) |00000010\\rangle+ (0.062408427227 - 0.004883333845 i) |00000011\\rangle+ (0.062408427227 - 0.004883333845 i) |00000100\\rangle+ (0.062408427227 - 0.004883333845 i) |00000101\\rangle + \\ldots + (0.062408427227 - 0.004883333845 i) |11111011\\rangle+ (0.032002838696 + 0.042843879936 i) |11111100\\rangle+ (0.062408427227 - 0.004883333845 i) |11111101\\rangle+ (0.062408427227 - 0.004883333845 i) |11111110\\rangle+ (0.062408427227 - 0.004883333845 i) |11111111\\rangle$$"
      ],
      "text/plain": [
       "<IPython.core.display.Latex object>"
      ]
     },
     "metadata": {},
     "output_type": "display_data"
    },
    {
     "name": "stdout",
     "output_type": "stream",
     "text": [
      "coherence of |ψ5⟩ =  254.93683902282172\n",
      "-------- 6  ITERATION--------\n"
     ]
    },
    {
     "data": {
      "text/plain": [
       "'applied O operator to |ψ2⟩'"
      ]
     },
     "metadata": {},
     "output_type": "display_data"
    },
    {
     "data": {
      "text/latex": [
       "$$(0.062408427227 - 0.004883333845 i) |00000000\\rangle+ (0.062408427227 - 0.004883333845 i) |00000001\\rangle+ (0.062408427227 - 0.004883333845 i) |00000010\\rangle+ (0.062408427227 - 0.004883333845 i) |00000011\\rangle+ (0.062408427227 - 0.004883333845 i) |00000100\\rangle+ (0.062408427227 - 0.004883333845 i) |00000101\\rangle + \\ldots + (0.062408427227 - 0.004883333845 i) |11111011\\rangle+ (0.05320705335 - 0.005365557416 i) |11111100\\rangle+ (0.062408427227 - 0.004883333845 i) |11111101\\rangle+ (0.062408427227 - 0.004883333845 i) |11111110\\rangle+ (0.062408427227 - 0.004883333845 i) |11111111\\rangle$$"
      ],
      "text/plain": [
       "<IPython.core.display.Latex object>"
      ]
     },
     "metadata": {},
     "output_type": "display_data"
    },
    {
     "name": "stdout",
     "output_type": "stream",
     "text": [
      "coherence of |ψ2⟩ =  254.93683902282172\n"
     ]
    },
    {
     "data": {
      "text/plain": [
       "'applied Hadamard to all |ψ1⟩'"
      ]
     },
     "metadata": {},
     "output_type": "display_data"
    },
    {
     "data": {
      "text/latex": [
       "$$(0.996809578025 - 0.078223758435 i) |00000000\\rangle+ (-0.000575085867 - 3.0138973 \\cdot 10^{-5} i) |00000001\\rangle+ (0.000575085867 + 3.0138973 \\cdot 10^{-5} i) |00000010\\rangle+ (-0.000575085867 - 3.0138973 \\cdot 10^{-5} i) |00000011\\rangle+ (0.000575085867 + 3.0138973 \\cdot 10^{-5} i) |00000100\\rangle+ (-0.000575085867 - 3.0138973 \\cdot 10^{-5} i) |00000101\\rangle + \\ldots + (0.000575085867 + 3.0138973 \\cdot 10^{-5} i) |11111011\\rangle+ (-0.000575085867 - 3.0138973 \\cdot 10^{-5} i) |11111100\\rangle+ (-0.001725257602 - 9.041692 \\cdot 10^{-5} i) |11111101\\rangle+ (-0.000575085867 - 3.0138973 \\cdot 10^{-5} i) |11111110\\rangle+ (0.000575085867 + 3.0138973 \\cdot 10^{-5} i) |11111111\\rangle$$"
      ],
      "text/plain": [
       "<IPython.core.display.Latex object>"
      ]
     },
     "metadata": {},
     "output_type": "display_data"
    },
    {
     "name": "stdout",
     "output_type": "stream",
     "text": [
      "coherence of |ψ1⟩ =  0.48664992389146133\n"
     ]
    },
    {
     "data": {
      "text/plain": [
       "'applied P operator to |ψ4⟩'"
      ]
     },
     "metadata": {},
     "output_type": "display_data"
    },
    {
     "data": {
      "text/latex": [
       "$$(0.996809578025 - 0.078223758435 i) |00000000\\rangle+ (0.000575085867 + 3.0138973 \\cdot 10^{-5} i) |00000001\\rangle+ (-0.000575085867 - 3.0138973 \\cdot 10^{-5} i) |00000010\\rangle+ (0.000575085867 + 3.0138973 \\cdot 10^{-5} i) |00000011\\rangle+ (-0.000575085867 - 3.0138973 \\cdot 10^{-5} i) |00000100\\rangle+ (0.000575085867 + 3.0138973 \\cdot 10^{-5} i) |00000101\\rangle + \\ldots + (-0.000575085867 - 3.0138973 \\cdot 10^{-5} i) |11111011\\rangle+ (0.000575085867 + 3.0138973 \\cdot 10^{-5} i) |11111100\\rangle+ (0.001725257602 + 9.041692 \\cdot 10^{-5} i) |11111101\\rangle+ (0.000575085867 + 3.0138973 \\cdot 10^{-5} i) |11111110\\rangle+ (-0.000575085867 - 3.0138973 \\cdot 10^{-5} i) |11111111\\rangle$$"
      ],
      "text/plain": [
       "<IPython.core.display.Latex object>"
      ]
     },
     "metadata": {},
     "output_type": "display_data"
    },
    {
     "name": "stdout",
     "output_type": "stream",
     "text": [
      "coherence of |ψ4⟩ =  0.48664992389146133\n"
     ]
    },
    {
     "data": {
      "text/plain": [
       "'applied Hadamard to all |ψ5⟩'"
      ]
     },
     "metadata": {},
     "output_type": "display_data"
    },
    {
     "data": {
      "text/latex": [
       "$$(0.062192770026 - 0.00489463596 i) |00000000\\rangle+ (0.062192770026 - 0.00489463596 i) |00000001\\rangle+ (0.062192770026 - 0.00489463596 i) |00000010\\rangle+ (0.062192770026 - 0.00489463596 i) |00000011\\rangle+ (0.062192770026 - 0.00489463596 i) |00000100\\rangle+ (0.062192770026 - 0.00489463596 i) |00000101\\rangle + \\ldots + (0.062192770026 - 0.00489463596 i) |11111011\\rangle+ (0.071394143903 - 0.004412412388 i) |11111100\\rangle+ (0.062192770026 - 0.00489463596 i) |11111101\\rangle+ (0.062192770026 - 0.00489463596 i) |11111110\\rangle+ (0.062192770026 - 0.00489463596 i) |11111111\\rangle$$"
      ],
      "text/plain": [
       "<IPython.core.display.Latex object>"
      ]
     },
     "metadata": {},
     "output_type": "display_data"
    },
    {
     "name": "stdout",
     "output_type": "stream",
     "text": [
      "coherence of |ψ5⟩ =  254.9365200793042\n",
      "-------- 7  ITERATION--------\n"
     ]
    },
    {
     "data": {
      "text/plain": [
       "'applied O operator to |ψ2⟩'"
      ]
     },
     "metadata": {},
     "output_type": "display_data"
    },
    {
     "data": {
      "text/latex": [
       "$$(0.062192770026 - 0.00489463596 i) |00000000\\rangle+ (0.062192770026 - 0.00489463596 i) |00000001\\rangle+ (0.062192770026 - 0.00489463596 i) |00000010\\rangle+ (0.062192770026 - 0.00489463596 i) |00000011\\rangle+ (0.062192770026 - 0.00489463596 i) |00000100\\rangle+ (0.062192770026 - 0.00489463596 i) |00000101\\rangle + \\ldots + (0.062192770026 - 0.00489463596 i) |11111011\\rangle+ (0.032988526819 - 0.063469285998 i) |11111100\\rangle+ (0.062192770026 - 0.00489463596 i) |11111101\\rangle+ (0.062192770026 - 0.00489463596 i) |11111110\\rangle+ (0.062192770026 - 0.00489463596 i) |11111111\\rangle$$"
      ],
      "text/plain": [
       "<IPython.core.display.Latex object>"
      ]
     },
     "metadata": {},
     "output_type": "display_data"
    },
    {
     "name": "stdout",
     "output_type": "stream",
     "text": [
      "coherence of |ψ2⟩ =  254.9365200793042\n"
     ]
    },
    {
     "data": {
      "text/plain": [
       "'applied Hadamard to all |ψ1⟩'"
      ]
     },
     "metadata": {},
     "output_type": "display_data"
    },
    {
     "data": {
      "text/latex": [
       "$$(0.989608524822 - 0.089296922237 i) |00000000\\rangle+ (-0.0018252652 - 0.003660915627 i) |00000001\\rangle+ (0.0018252652 + 0.003660915627 i) |00000010\\rangle+ (-0.0018252652 - 0.003660915627 i) |00000011\\rangle+ (0.0018252652 + 0.003660915627 i) |00000100\\rangle+ (-0.0018252652 - 0.003660915627 i) |00000101\\rangle + \\ldots + (0.0018252652 + 0.003660915627 i) |11111011\\rangle+ (-0.0018252652 - 0.003660915627 i) |11111100\\rangle+ (-0.005475795601 - 0.010982746882 i) |11111101\\rangle+ (-0.0018252652 - 0.003660915627 i) |11111110\\rangle+ (0.0018252652 + 0.003660915627 i) |11111111\\rangle$$"
      ],
      "text/plain": [
       "<IPython.core.display.Latex object>"
      ]
     },
     "metadata": {},
     "output_type": "display_data"
    },
    {
     "name": "stdout",
     "output_type": "stream",
     "text": [
      "coherence of |ψ1⟩ =  5.513669421395276\n"
     ]
    },
    {
     "data": {
      "text/plain": [
       "'applied P operator to |ψ4⟩'"
      ]
     },
     "metadata": {},
     "output_type": "display_data"
    },
    {
     "data": {
      "text/latex": [
       "$$(0.989608524822 - 0.089296922237 i) |00000000\\rangle+ (0.0018252652 + 0.003660915627 i) |00000001\\rangle+ (-0.0018252652 - 0.003660915627 i) |00000010\\rangle+ (0.0018252652 + 0.003660915627 i) |00000011\\rangle+ (-0.0018252652 - 0.003660915627 i) |00000100\\rangle+ (0.0018252652 + 0.003660915627 i) |00000101\\rangle + \\ldots + (-0.0018252652 - 0.003660915627 i) |11111011\\rangle+ (0.0018252652 + 0.003660915627 i) |11111100\\rangle+ (0.005475795601 + 0.010982746882 i) |11111101\\rangle+ (0.0018252652 + 0.003660915627 i) |11111110\\rangle+ (-0.0018252652 - 0.003660915627 i) |11111111\\rangle$$"
      ],
      "text/plain": [
       "<IPython.core.display.Latex object>"
      ]
     },
     "metadata": {},
     "output_type": "display_data"
    },
    {
     "name": "stdout",
     "output_type": "stream",
     "text": [
      "coherence of |ψ4⟩ =  5.513669421395276\n"
     ]
    },
    {
     "data": {
      "text/plain": [
       "'applied Hadamard to all |ψ5⟩'"
      ]
     },
     "metadata": {},
     "output_type": "display_data"
    },
    {
     "data": {
      "text/latex": [
       "$$(0.061508295576 - 0.00626747932 i) |00000000\\rangle+ (0.061508295576 - 0.00626747932 i) |00000001\\rangle+ (0.061508295576 - 0.00626747932 i) |00000010\\rangle+ (0.061508295576 - 0.00626747932 i) |00000011\\rangle+ (0.061508295576 - 0.00626747932 i) |00000100\\rangle+ (0.061508295576 - 0.00626747932 i) |00000101\\rangle + \\ldots + (0.061508295576 - 0.00626747932 i) |11111011\\rangle+ (0.090712538783 + 0.052307170718 i) |11111100\\rangle+ (0.061508295576 - 0.00626747932 i) |11111101\\rangle+ (0.061508295576 - 0.00626747932 i) |11111110\\rangle+ (0.061508295576 - 0.00626747932 i) |11111111\\rangle$$"
      ],
      "text/plain": [
       "<IPython.core.display.Latex object>"
      ]
     },
     "metadata": {},
     "output_type": "display_data"
    },
    {
     "name": "stdout",
     "output_type": "stream",
     "text": [
      "coherence of |ψ5⟩ =  253.6040289269594\n",
      "======================================== FOR ϕ =  316.0 ========================================\n"
     ]
    },
    {
     "data": {
      "text/plain": [
       "'initialised |ψ0⟩'"
      ]
     },
     "metadata": {},
     "output_type": "display_data"
    },
    {
     "data": {
      "text/latex": [
       "$$ |00000000\\rangle$$"
      ],
      "text/plain": [
       "<IPython.core.display.Latex object>"
      ]
     },
     "metadata": {},
     "output_type": "display_data"
    },
    {
     "name": "stdout",
     "output_type": "stream",
     "text": [
      "coherence of |ψ0⟩ =  0.0\n"
     ]
    },
    {
     "data": {
      "text/plain": [
       "'applied Hadamard to all |ψ1⟩'"
      ]
     },
     "metadata": {},
     "output_type": "display_data"
    },
    {
     "data": {
      "text/latex": [
       "$$\\frac{1}{16} |00000000\\rangle+\\frac{1}{16} |00000001\\rangle+\\frac{1}{16} |00000010\\rangle+\\frac{1}{16} |00000011\\rangle+\\frac{1}{16} |00000100\\rangle+\\frac{1}{16} |00000101\\rangle + \\ldots +\\frac{1}{16} |11111011\\rangle+\\frac{1}{16} |11111100\\rangle+\\frac{1}{16} |11111101\\rangle+\\frac{1}{16} |11111110\\rangle+\\frac{1}{16} |11111111\\rangle$$"
      ],
      "text/plain": [
       "<IPython.core.display.Latex object>"
      ]
     },
     "metadata": {},
     "output_type": "display_data"
    },
    {
     "name": "stdout",
     "output_type": "stream",
     "text": [
      "coherence of |ψ1⟩ =  255.00000000000003\n",
      "-------- 1  ITERATION--------\n"
     ]
    },
    {
     "data": {
      "text/plain": [
       "'applied O operator to |ψ2⟩'"
      ]
     },
     "metadata": {},
     "output_type": "display_data"
    },
    {
     "data": {
      "text/latex": [
       "$$\\frac{1}{16} |00000000\\rangle+\\frac{1}{16} |00000001\\rangle+\\frac{1}{16} |00000010\\rangle+\\frac{1}{16} |00000011\\rangle+\\frac{1}{16} |00000100\\rangle+\\frac{1}{16} |00000101\\rangle + \\ldots +\\frac{1}{16} |11111011\\rangle+ (0.044958737521 - 0.043416148154 i) |11111100\\rangle+\\frac{1}{16} |11111101\\rangle+\\frac{1}{16} |11111110\\rangle+\\frac{1}{16} |11111111\\rangle$$"
      ],
      "text/plain": [
       "<IPython.core.display.Latex object>"
      ]
     },
     "metadata": {},
     "output_type": "display_data"
    },
    {
     "name": "stdout",
     "output_type": "stream",
     "text": [
      "coherence of |ψ2⟩ =  255.00000000000003\n"
     ]
    },
    {
     "data": {
      "text/plain": [
       "'applied Hadamard to all |ψ1⟩'"
      ]
     },
     "metadata": {},
     "output_type": "display_data"
    },
    {
     "data": {
      "text/latex": [
       "$$(0.996711013285 - 0.008140527779 i) |00000000\\rangle+ (-0.001096328905 - 0.00271350926 i) |00000001\\rangle+ (0.001096328905 + 0.00271350926 i) |00000010\\rangle+ (-0.001096328905 - 0.00271350926 i) |00000011\\rangle+ (0.001096328905 + 0.00271350926 i) |00000100\\rangle+ (-0.001096328905 - 0.00271350926 i) |00000101\\rangle + \\ldots + (0.001096328905 + 0.00271350926 i) |11111011\\rangle+ (-0.001096328905 - 0.00271350926 i) |11111100\\rangle+ (-0.003288986715 - 0.008140527779 i) |11111101\\rangle+ (-0.001096328905 - 0.00271350926 i) |11111110\\rangle+ (0.001096328905 + 0.00271350926 i) |11111111\\rangle$$"
      ],
      "text/plain": [
       "<IPython.core.display.Latex object>"
      ]
     },
     "metadata": {},
     "output_type": "display_data"
    },
    {
     "name": "stdout",
     "output_type": "stream",
     "text": [
      "coherence of |ψ1⟩ =  3.4596324836250885\n"
     ]
    },
    {
     "data": {
      "text/plain": [
       "'applied P operator to |ψ4⟩'"
      ]
     },
     "metadata": {},
     "output_type": "display_data"
    },
    {
     "data": {
      "text/latex": [
       "$$(0.996711013285 - 0.008140527779 i) |00000000\\rangle+ (0.001096328905 + 0.00271350926 i) |00000001\\rangle+ (-0.001096328905 - 0.00271350926 i) |00000010\\rangle+ (0.001096328905 + 0.00271350926 i) |00000011\\rangle+ (-0.001096328905 - 0.00271350926 i) |00000100\\rangle+ (0.001096328905 + 0.00271350926 i) |00000101\\rangle + \\ldots + (-0.001096328905 - 0.00271350926 i) |11111011\\rangle+ (0.001096328905 + 0.00271350926 i) |11111100\\rangle+ (0.003288986715 + 0.008140527779 i) |11111101\\rangle+ (0.001096328905 + 0.00271350926 i) |11111110\\rangle+ (-0.001096328905 - 0.00271350926 i) |11111111\\rangle$$"
      ],
      "text/plain": [
       "<IPython.core.display.Latex object>"
      ]
     },
     "metadata": {},
     "output_type": "display_data"
    },
    {
     "name": "stdout",
     "output_type": "stream",
     "text": [
      "coherence of |ψ4⟩ =  3.4596324836250885\n"
     ]
    },
    {
     "data": {
      "text/plain": [
       "'applied Hadamard to all |ψ5⟩'"
      ]
     },
     "metadata": {},
     "output_type": "display_data"
    },
    {
     "data": {
      "text/latex": [
       "$$(0.062088876661 - 0.001017565972 i) |00000000\\rangle+ (0.062088876661 - 0.001017565972 i) |00000001\\rangle+ (0.062088876661 - 0.001017565972 i) |00000010\\rangle+ (0.062088876661 - 0.001017565972 i) |00000011\\rangle+ (0.062088876661 - 0.001017565972 i) |00000100\\rangle+ (0.062088876661 - 0.001017565972 i) |00000101\\rangle + \\ldots + (0.062088876661 - 0.001017565972 i) |11111011\\rangle+ (0.079630139139 + 0.042398582181 i) |11111100\\rangle+ (0.062088876661 - 0.001017565972 i) |11111101\\rangle+ (0.062088876661 - 0.001017565972 i) |11111110\\rangle+ (0.062088876661 - 0.001017565972 i) |11111111\\rangle$$"
      ],
      "text/plain": [
       "<IPython.core.display.Latex object>"
      ]
     },
     "metadata": {},
     "output_type": "display_data"
    },
    {
     "name": "stdout",
     "output_type": "stream",
     "text": [
      "coherence of |ψ5⟩ =  254.39996198183016\n",
      "-------- 2  ITERATION--------\n"
     ]
    },
    {
     "data": {
      "text/plain": [
       "'applied O operator to |ψ2⟩'"
      ]
     },
     "metadata": {},
     "output_type": "display_data"
    },
    {
     "data": {
      "text/latex": [
       "$$(0.062088876661 - 0.001017565972 i) |00000000\\rangle+ (0.062088876661 - 0.001017565972 i) |00000001\\rangle+ (0.062088876661 - 0.001017565972 i) |00000010\\rangle+ (0.062088876661 - 0.001017565972 i) |00000011\\rangle+ (0.062088876661 - 0.001017565972 i) |00000100\\rangle+ (0.062088876661 - 0.001017565972 i) |00000101\\rangle + \\ldots + (0.062088876661 - 0.001017565972 i) |11111011\\rangle+ (0.086733658397 - 0.024816755053 i) |11111100\\rangle+ (0.062088876661 - 0.001017565972 i) |11111101\\rangle+ (0.062088876661 - 0.001017565972 i) |11111110\\rangle+ (0.062088876661 - 0.001017565972 i) |11111111\\rangle$$"
      ],
      "text/plain": [
       "<IPython.core.display.Latex object>"
      ]
     },
     "metadata": {},
     "output_type": "display_data"
    },
    {
     "name": "stdout",
     "output_type": "stream",
     "text": [
      "coherence of |ψ2⟩ =  254.39996198183016\n"
     ]
    },
    {
     "data": {
      "text/plain": [
       "'applied Hadamard to all |ψ1⟩'"
      ]
     },
     "metadata": {},
     "output_type": "display_data"
    },
    {
     "data": {
      "text/latex": [
       "$$(0.998042923146 - 0.02074340351 i) |00000000\\rangle+ (0.001540298859 - 0.001487449318 i) |00000001\\rangle+ (-0.001540298859 + 0.001487449318 i) |00000010\\rangle+ (0.001540298859 - 0.001487449318 i) |00000011\\rangle+ (-0.001540298859 + 0.001487449318 i) |00000100\\rangle+ (0.001540298859 - 0.001487449318 i) |00000101\\rangle + \\ldots + (-0.001540298859 + 0.001487449318 i) |11111011\\rangle+ (0.001540298859 - 0.001487449318 i) |11111100\\rangle+ (0.004620896576 - 0.004462347953 i) |11111101\\rangle+ (0.001540298859 - 0.001487449318 i) |11111110\\rangle+ (-0.001540298859 + 0.001487449318 i) |11111111\\rangle$$"
      ],
      "text/plain": [
       "<IPython.core.display.Latex object>"
      ]
     },
     "metadata": {},
     "output_type": "display_data"
    },
    {
     "name": "stdout",
     "output_type": "stream",
     "text": [
      "coherence of |ψ1⟩ =  2.290891117803702\n"
     ]
    },
    {
     "data": {
      "text/plain": [
       "'applied P operator to |ψ4⟩'"
      ]
     },
     "metadata": {},
     "output_type": "display_data"
    },
    {
     "data": {
      "text/latex": [
       "$$(0.998042923146 - 0.02074340351 i) |00000000\\rangle+ (-0.001540298859 + 0.001487449318 i) |00000001\\rangle+ (0.001540298859 - 0.001487449318 i) |00000010\\rangle+ (-0.001540298859 + 0.001487449318 i) |00000011\\rangle+ (0.001540298859 - 0.001487449318 i) |00000100\\rangle+ (-0.001540298859 + 0.001487449318 i) |00000101\\rangle + \\ldots + (0.001540298859 - 0.001487449318 i) |11111011\\rangle+ (-0.001540298859 + 0.001487449318 i) |11111100\\rangle+ (-0.004620896576 + 0.004462347953 i) |11111101\\rangle+ (-0.001540298859 + 0.001487449318 i) |11111110\\rangle+ (0.001540298859 - 0.001487449318 i) |11111111\\rangle$$"
      ],
      "text/plain": [
       "<IPython.core.display.Latex object>"
      ]
     },
     "metadata": {},
     "output_type": "display_data"
    },
    {
     "name": "stdout",
     "output_type": "stream",
     "text": [
      "coherence of |ψ4⟩ =  2.290891117803702\n"
     ]
    },
    {
     "data": {
      "text/plain": [
       "'applied Hadamard to all |ψ5⟩'"
      ]
     },
     "metadata": {},
     "output_type": "display_data"
    },
    {
     "data": {
      "text/latex": [
       "$$(0.062666488733 - 0.001575359466 i) |00000000\\rangle+ (0.062666488733 - 0.001575359466 i) |00000001\\rangle+ (0.062666488733 - 0.001575359466 i) |00000010\\rangle+ (0.062666488733 - 0.001575359466 i) |00000011\\rangle+ (0.062666488733 - 0.001575359466 i) |00000100\\rangle+ (0.062666488733 - 0.001575359466 i) |00000101\\rangle + \\ldots + (0.062666488733 - 0.001575359466 i) |11111011\\rangle+ (0.038021706996 + 0.022223829614 i) |11111100\\rangle+ (0.062666488733 - 0.001575359466 i) |11111101\\rangle+ (0.062666488733 - 0.001575359466 i) |11111110\\rangle+ (0.062666488733 - 0.001575359466 i) |11111111\\rangle$$"
      ],
      "text/plain": [
       "<IPython.core.display.Latex object>"
      ]
     },
     "metadata": {},
     "output_type": "display_data"
    },
    {
     "name": "stdout",
     "output_type": "stream",
     "text": [
      "coherence of |ψ5⟩ =  254.73611657453796\n",
      "-------- 3  ITERATION--------\n"
     ]
    },
    {
     "data": {
      "text/plain": [
       "'applied O operator to |ψ2⟩'"
      ]
     },
     "metadata": {},
     "output_type": "display_data"
    },
    {
     "data": {
      "text/latex": [
       "$$(0.062666488733 - 0.001575359466 i) |00000000\\rangle+ (0.062666488733 - 0.001575359466 i) |00000001\\rangle+ (0.062666488733 - 0.001575359466 i) |00000010\\rangle+ (0.062666488733 - 0.001575359466 i) |00000011\\rangle+ (0.062666488733 - 0.001575359466 i) |00000100\\rangle+ (0.062666488733 - 0.001575359466 i) |00000101\\rangle + \\ldots + (0.062666488733 - 0.001575359466 i) |11111011\\rangle+ (0.042788496384 - 0.010425611866 i) |11111100\\rangle+ (0.062666488733 - 0.001575359466 i) |11111101\\rangle+ (0.062666488733 - 0.001575359466 i) |11111110\\rangle+ (0.062666488733 - 0.001575359466 i) |11111111\\rangle$$"
      ],
      "text/plain": [
       "<IPython.core.display.Latex object>"
      ]
     },
     "metadata": {},
     "output_type": "display_data"
    },
    {
     "name": "stdout",
     "output_type": "stream",
     "text": [
      "coherence of |ψ2⟩ =  254.73611657453796\n"
     ]
    },
    {
     "data": {
      "text/plain": [
       "'applied Hadamard to all |ψ1⟩'"
      ]
     },
     "metadata": {},
     "output_type": "display_data"
    },
    {
     "data": {
      "text/latex": [
       "$$(0.998936696156 - 0.026865173788 i) |00000000\\rangle+ (-0.001242374522 - 0.000553140775 i) |00000001\\rangle+ (0.001242374522 + 0.000553140775 i) |00000010\\rangle+ (-0.001242374522 - 0.000553140775 i) |00000011\\rangle+ (0.001242374522 + 0.000553140775 i) |00000100\\rangle+ (-0.001242374522 - 0.000553140775 i) |00000101\\rangle + \\ldots + (0.001242374522 + 0.000553140775 i) |11111011\\rangle+ (-0.001242374522 - 0.000553140775 i) |11111100\\rangle+ (-0.003727123565 - 0.001659422325 i) |11111101\\rangle+ (-0.001242374522 - 0.000553140775 i) |11111110\\rangle+ (0.001242374522 + 0.000553140775 i) |11111111\\rangle$$"
      ],
      "text/plain": [
       "<IPython.core.display.Latex object>"
      ]
     },
     "metadata": {},
     "output_type": "display_data"
    },
    {
     "name": "stdout",
     "output_type": "stream",
     "text": [
      "coherence of |ψ1⟩ =  1.3026185595185984\n"
     ]
    },
    {
     "data": {
      "text/plain": [
       "'applied P operator to |ψ4⟩'"
      ]
     },
     "metadata": {},
     "output_type": "display_data"
    },
    {
     "data": {
      "text/latex": [
       "$$(0.998936696156 - 0.026865173788 i) |00000000\\rangle+ (0.001242374522 + 0.000553140775 i) |00000001\\rangle+ (-0.001242374522 - 0.000553140775 i) |00000010\\rangle+ (0.001242374522 + 0.000553140775 i) |00000011\\rangle+ (-0.001242374522 - 0.000553140775 i) |00000100\\rangle+ (0.001242374522 + 0.000553140775 i) |00000101\\rangle + \\ldots + (-0.001242374522 - 0.000553140775 i) |11111011\\rangle+ (0.001242374522 + 0.000553140775 i) |11111100\\rangle+ (0.003727123565 + 0.001659422325 i) |11111101\\rangle+ (0.001242374522 + 0.000553140775 i) |11111110\\rangle+ (-0.001242374522 - 0.000553140775 i) |11111111\\rangle$$"
      ],
      "text/plain": [
       "<IPython.core.display.Latex object>"
      ]
     },
     "metadata": {},
     "output_type": "display_data"
    },
    {
     "name": "stdout",
     "output_type": "stream",
     "text": [
      "coherence of |ψ4⟩ =  1.3026185595185984\n"
     ]
    },
    {
     "data": {
      "text/plain": [
       "'applied Hadamard to all |ψ5⟩'"
      ]
     },
     "metadata": {},
     "output_type": "display_data"
    },
    {
     "data": {
      "text/latex": [
       "$$(0.062200598287 - 0.001782787257 i) |00000000\\rangle+ (0.062200598287 - 0.001782787257 i) |00000001\\rangle+ (0.062200598287 - 0.001782787257 i) |00000010\\rangle+ (0.062200598287 - 0.001782787257 i) |00000011\\rangle+ (0.062200598287 - 0.001782787257 i) |00000100\\rangle+ (0.062200598287 - 0.001782787257 i) |00000101\\rangle + \\ldots + (0.062200598287 - 0.001782787257 i) |11111011\\rangle+ (0.082078590635 + 0.007067465143 i) |11111100\\rangle+ (0.062200598287 - 0.001782787257 i) |11111101\\rangle+ (0.062200598287 - 0.001782787257 i) |11111110\\rangle+ (0.062200598287 - 0.001782787257 i) |11111111\\rangle$$"
      ],
      "text/plain": [
       "<IPython.core.display.Latex object>"
      ]
     },
     "metadata": {},
     "output_type": "display_data"
    },
    {
     "name": "stdout",
     "output_type": "stream",
     "text": [
      "coherence of |ψ5⟩ =  254.6916403977041\n",
      "-------- 4  ITERATION--------\n"
     ]
    },
    {
     "data": {
      "text/plain": [
       "'applied O operator to |ψ2⟩'"
      ]
     },
     "metadata": {},
     "output_type": "display_data"
    },
    {
     "data": {
      "text/latex": [
       "$$(0.062200598287 - 0.001782787257 i) |00000000\\rangle+ (0.062200598287 - 0.001782787257 i) |00000001\\rangle+ (0.062200598287 - 0.001782787257 i) |00000010\\rangle+ (0.062200598287 - 0.001782787257 i) |00000011\\rangle+ (0.062200598287 - 0.001782787257 i) |00000100\\rangle+ (0.062200598287 - 0.001782787257 i) |00000101\\rangle + \\ldots + (0.062200598287 - 0.001782787257 i) |11111011\\rangle+ (0.063951870819 - 0.051932671056 i) |11111100\\rangle+ (0.062200598287 - 0.001782787257 i) |11111101\\rangle+ (0.062200598287 - 0.001782787257 i) |11111110\\rangle+ (0.062200598287 - 0.001782787257 i) |11111111\\rangle$$"
      ],
      "text/plain": [
       "<IPython.core.display.Latex object>"
      ]
     },
     "metadata": {},
     "output_type": "display_data"
    },
    {
     "name": "stdout",
     "output_type": "stream",
     "text": [
      "coherence of |ψ2⟩ =  254.6916403977041\n"
     ]
    },
    {
     "data": {
      "text/plain": [
       "'applied Hadamard to all |ψ1⟩'"
      ]
     },
     "metadata": {},
     "output_type": "display_data"
    },
    {
     "data": {
      "text/latex": [
       "$$(0.995537936191 - 0.037927699325 i) |00000000\\rangle+ (0.000109454533 - 0.003134367737 i) |00000001\\rangle+ (-0.000109454533 + 0.003134367737 i) |00000010\\rangle+ (0.000109454533 - 0.003134367737 i) |00000011\\rangle+ (-0.000109454533 + 0.003134367737 i) |00000100\\rangle+ (0.000109454533 - 0.003134367737 i) |00000101\\rangle + \\ldots + (-0.000109454533 + 0.003134367737 i) |11111011\\rangle+ (0.000109454533 - 0.003134367737 i) |11111100\\rangle+ (0.0003283636 - 0.009403103212 i) |11111101\\rangle+ (0.000109454533 - 0.003134367737 i) |11111110\\rangle+ (-0.000109454533 + 0.003134367737 i) |11111111\\rangle$$"
      ],
      "text/plain": [
       "<IPython.core.display.Latex object>"
      ]
     },
     "metadata": {},
     "output_type": "display_data"
    },
    {
     "name": "stdout",
     "output_type": "stream",
     "text": [
      "coherence of |ψ1⟩ =  3.8012793254471253\n"
     ]
    },
    {
     "data": {
      "text/plain": [
       "'applied P operator to |ψ4⟩'"
      ]
     },
     "metadata": {},
     "output_type": "display_data"
    },
    {
     "data": {
      "text/latex": [
       "$$(0.995537936191 - 0.037927699325 i) |00000000\\rangle+ (-0.000109454533 + 0.003134367737 i) |00000001\\rangle+ (0.000109454533 - 0.003134367737 i) |00000010\\rangle+ (-0.000109454533 + 0.003134367737 i) |00000011\\rangle+ (0.000109454533 - 0.003134367737 i) |00000100\\rangle+ (-0.000109454533 + 0.003134367737 i) |00000101\\rangle + \\ldots + (0.000109454533 - 0.003134367737 i) |11111011\\rangle+ (-0.000109454533 + 0.003134367737 i) |11111100\\rangle+ (-0.0003283636 + 0.009403103212 i) |11111101\\rangle+ (-0.000109454533 + 0.003134367737 i) |11111110\\rangle+ (0.000109454533 - 0.003134367737 i) |11111111\\rangle$$"
      ],
      "text/plain": [
       "<IPython.core.display.Latex object>"
      ]
     },
     "metadata": {},
     "output_type": "display_data"
    },
    {
     "name": "stdout",
     "output_type": "stream",
     "text": [
      "coherence of |ψ4⟩ =  3.8012793254471253\n"
     ]
    },
    {
     "data": {
      "text/plain": [
       "'applied Hadamard to all |ψ5⟩'"
      ]
     },
     "metadata": {},
     "output_type": "display_data"
    },
    {
     "data": {
      "text/latex": [
       "$$(0.062241643737 - 0.002958175159 i) |00000000\\rangle+ (0.062241643737 - 0.002958175159 i) |00000001\\rangle+ (0.062241643737 - 0.002958175159 i) |00000010\\rangle+ (0.062241643737 - 0.002958175159 i) |00000011\\rangle+ (0.062241643737 - 0.002958175159 i) |00000100\\rangle+ (0.062241643737 - 0.002958175159 i) |00000101\\rangle + \\ldots + (0.062241643737 - 0.002958175159 i) |11111011\\rangle+ (0.060490371205 + 0.04719170864 i) |11111100\\rangle+ (0.062241643737 - 0.002958175159 i) |11111101\\rangle+ (0.062241643737 - 0.002958175159 i) |11111110\\rangle+ (0.062241643737 - 0.002958175159 i) |11111111\\rangle$$"
      ],
      "text/plain": [
       "<IPython.core.display.Latex object>"
      ]
     },
     "metadata": {},
     "output_type": "display_data"
    },
    {
     "name": "stdout",
     "output_type": "stream",
     "text": [
      "coherence of |ψ5⟩ =  254.84241044946882\n",
      "-------- 5  ITERATION--------\n"
     ]
    },
    {
     "data": {
      "text/plain": [
       "'applied O operator to |ψ2⟩'"
      ]
     },
     "metadata": {},
     "output_type": "display_data"
    },
    {
     "data": {
      "text/latex": [
       "$$(0.062241643737 - 0.002958175159 i) |00000000\\rangle+ (0.062241643737 - 0.002958175159 i) |00000001\\rangle+ (0.062241643737 - 0.002958175159 i) |00000010\\rangle+ (0.062241643737 - 0.002958175159 i) |00000011\\rangle+ (0.062241643737 - 0.002958175159 i) |00000100\\rangle+ (0.062241643737 - 0.002958175159 i) |00000101\\rangle + \\ldots + (0.062241643737 - 0.002958175159 i) |11111011\\rangle+ (0.076295246968 - 0.008073268419 i) |11111100\\rangle+ (0.062241643737 - 0.002958175159 i) |11111101\\rangle+ (0.062241643737 - 0.002958175159 i) |11111110\\rangle+ (0.062241643737 - 0.002958175159 i) |11111111\\rangle$$"
      ],
      "text/plain": [
       "<IPython.core.display.Latex object>"
      ]
     },
     "metadata": {},
     "output_type": "display_data"
    },
    {
     "name": "stdout",
     "output_type": "stream",
     "text": [
      "coherence of |ψ2⟩ =  254.84241044946882\n"
     ]
    },
    {
     "data": {
      "text/plain": [
       "'applied Hadamard to all |ψ1⟩'"
      ]
     },
     "metadata": {},
     "output_type": "display_data"
    },
    {
     "data": {
      "text/latex": [
       "$$(0.998501350396 - 0.048289882524 i) |00000000\\rangle+ (0.000878350202 - 0.000319693329 i) |00000001\\rangle+ (-0.000878350202 + 0.000319693329 i) |00000010\\rangle+ (0.000878350202 - 0.000319693329 i) |00000011\\rangle+ (-0.000878350202 + 0.000319693329 i) |00000100\\rangle+ (0.000878350202 - 0.000319693329 i) |00000101\\rangle + \\ldots + (-0.000878350202 + 0.000319693329 i) |11111011\\rangle+ (0.000878350202 - 0.000319693329 i) |11111100\\rangle+ (0.002635050606 - 0.000959079986 i) |11111101\\rangle+ (0.000878350202 - 0.000319693329 i) |11111110\\rangle+ (-0.000878350202 + 0.000319693329 i) |11111111\\rangle$$"
      ],
      "text/plain": [
       "<IPython.core.display.Latex object>"
      ]
     },
     "metadata": {},
     "output_type": "display_data"
    },
    {
     "name": "stdout",
     "output_type": "stream",
     "text": [
      "coherence of |ψ1⟩ =  0.8381854640864461\n"
     ]
    },
    {
     "data": {
      "text/plain": [
       "'applied P operator to |ψ4⟩'"
      ]
     },
     "metadata": {},
     "output_type": "display_data"
    },
    {
     "data": {
      "text/latex": [
       "$$(0.998501350396 - 0.048289882524 i) |00000000\\rangle+ (-0.000878350202 + 0.000319693329 i) |00000001\\rangle+ (0.000878350202 - 0.000319693329 i) |00000010\\rangle+ (-0.000878350202 + 0.000319693329 i) |00000011\\rangle+ (0.000878350202 - 0.000319693329 i) |00000100\\rangle+ (-0.000878350202 + 0.000319693329 i) |00000101\\rangle + \\ldots + (0.000878350202 - 0.000319693329 i) |11111011\\rangle+ (-0.000878350202 + 0.000319693329 i) |11111100\\rangle+ (-0.002635050606 + 0.000959079986 i) |11111101\\rangle+ (-0.000878350202 + 0.000319693329 i) |11111110\\rangle+ (0.000878350202 - 0.000319693329 i) |11111111\\rangle$$"
      ],
      "text/plain": [
       "<IPython.core.display.Latex object>"
      ]
     },
     "metadata": {},
     "output_type": "display_data"
    },
    {
     "name": "stdout",
     "output_type": "stream",
     "text": [
      "coherence of |ψ4⟩ =  0.8381854640864461\n"
     ]
    },
    {
     "data": {
      "text/plain": [
       "'applied Hadamard to all |ψ5⟩'"
      ]
     },
     "metadata": {},
     "output_type": "display_data"
    },
    {
     "data": {
      "text/latex": [
       "$$(0.062571025063 - 0.003078060157 i) |00000000\\rangle+ (0.062571025063 - 0.003078060157 i) |00000001\\rangle+ (0.062571025063 - 0.003078060157 i) |00000010\\rangle+ (0.062571025063 - 0.003078060157 i) |00000011\\rangle+ (0.062571025063 - 0.003078060157 i) |00000100\\rangle+ (0.062571025063 - 0.003078060157 i) |00000101\\rangle + \\ldots + (0.062571025063 - 0.003078060157 i) |11111011\\rangle+ (0.048517421832 + 0.002037033103 i) |11111100\\rangle+ (0.062571025063 - 0.003078060157 i) |11111101\\rangle+ (0.062571025063 - 0.003078060157 i) |11111110\\rangle+ (0.062571025063 - 0.003078060157 i) |11111111\\rangle$$"
      ],
      "text/plain": [
       "<IPython.core.display.Latex object>"
      ]
     },
     "metadata": {},
     "output_type": "display_data"
    },
    {
     "name": "stdout",
     "output_type": "stream",
     "text": [
      "coherence of |ψ5⟩ =  254.84939153361879\n",
      "-------- 6  ITERATION--------\n"
     ]
    },
    {
     "data": {
      "text/plain": [
       "'applied O operator to |ψ2⟩'"
      ]
     },
     "metadata": {},
     "output_type": "display_data"
    },
    {
     "data": {
      "text/latex": [
       "$$(0.062571025063 - 0.003078060157 i) |00000000\\rangle+ (0.062571025063 - 0.003078060157 i) |00000001\\rangle+ (0.062571025063 - 0.003078060157 i) |00000010\\rangle+ (0.062571025063 - 0.003078060157 i) |00000011\\rangle+ (0.062571025063 - 0.003078060157 i) |00000100\\rangle+ (0.062571025063 - 0.003078060157 i) |00000101\\rangle + \\ldots + (0.062571025063 - 0.003078060157 i) |11111011\\rangle+ (0.03631555463 - 0.032237714203 i) |11111100\\rangle+ (0.062571025063 - 0.003078060157 i) |11111101\\rangle+ (0.062571025063 - 0.003078060157 i) |11111110\\rangle+ (0.062571025063 - 0.003078060157 i) |11111111\\rangle$$"
      ],
      "text/plain": [
       "<IPython.core.display.Latex object>"
      ]
     },
     "metadata": {},
     "output_type": "display_data"
    },
    {
     "name": "stdout",
     "output_type": "stream",
     "text": [
      "coherence of |ψ2⟩ =  254.84939153361879\n"
     ]
    },
    {
     "data": {
      "text/plain": [
       "'applied Hadamard to all |ψ1⟩'"
      ]
     },
     "metadata": {},
     "output_type": "display_data"
    },
    {
     "data": {
      "text/latex": [
       "$$(0.996213500296 - 0.054716397643 i) |00000000\\rangle+ (-0.001640966902 - 0.001822478378 i) |00000001\\rangle+ (0.001640966902 + 0.001822478378 i) |00000010\\rangle+ (-0.001640966902 - 0.001822478378 i) |00000011\\rangle+ (0.001640966902 + 0.001822478378 i) |00000100\\rangle+ (-0.001640966902 - 0.001822478378 i) |00000101\\rangle + \\ldots + (0.001640966902 + 0.001822478378 i) |11111011\\rangle+ (-0.001640966902 - 0.001822478378 i) |11111100\\rangle+ (-0.004922900706 - 0.005467435134 i) |11111101\\rangle+ (-0.001640966902 - 0.001822478378 i) |11111110\\rangle+ (0.001640966902 + 0.001822478378 i) |11111111\\rangle$$"
      ],
      "text/plain": [
       "<IPython.core.display.Latex object>"
      ]
     },
     "metadata": {},
     "output_type": "display_data"
    },
    {
     "name": "stdout",
     "output_type": "stream",
     "text": [
      "coherence of |ψ1⟩ =  2.732911014661934\n"
     ]
    },
    {
     "data": {
      "text/plain": [
       "'applied P operator to |ψ4⟩'"
      ]
     },
     "metadata": {},
     "output_type": "display_data"
    },
    {
     "data": {
      "text/latex": [
       "$$(0.996213500296 - 0.054716397643 i) |00000000\\rangle+ (0.001640966902 + 0.001822478378 i) |00000001\\rangle+ (-0.001640966902 - 0.001822478378 i) |00000010\\rangle+ (0.001640966902 + 0.001822478378 i) |00000011\\rangle+ (-0.001640966902 - 0.001822478378 i) |00000100\\rangle+ (0.001640966902 + 0.001822478378 i) |00000101\\rangle + \\ldots + (-0.001640966902 - 0.001822478378 i) |11111011\\rangle+ (0.001640966902 + 0.001822478378 i) |11111100\\rangle+ (0.004922900706 + 0.005467435134 i) |11111101\\rangle+ (0.001640966902 + 0.001822478378 i) |11111110\\rangle+ (-0.001640966902 - 0.001822478378 i) |11111111\\rangle$$"
      ],
      "text/plain": [
       "<IPython.core.display.Latex object>"
      ]
     },
     "metadata": {},
     "output_type": "display_data"
    },
    {
     "name": "stdout",
     "output_type": "stream",
     "text": [
      "coherence of |ψ4⟩ =  2.732911014661934\n"
     ]
    },
    {
     "data": {
      "text/plain": [
       "'applied Hadamard to all |ψ5⟩'"
      ]
     },
     "metadata": {},
     "output_type": "display_data"
    },
    {
     "data": {
      "text/latex": [
       "$$(0.061955662474 - 0.003761489549 i) |00000000\\rangle+ (0.061955662474 - 0.003761489549 i) |00000001\\rangle+ (0.061955662474 - 0.003761489549 i) |00000010\\rangle+ (0.061955662474 - 0.003761489549 i) |00000011\\rangle+ (0.061955662474 - 0.003761489549 i) |00000100\\rangle+ (0.061955662474 - 0.003761489549 i) |00000101\\rangle + \\ldots + (0.061955662474 - 0.003761489549 i) |11111011\\rangle+ (0.088211132907 + 0.025398164497 i) |11111100\\rangle+ (0.061955662474 - 0.003761489549 i) |11111101\\rangle+ (0.061955662474 - 0.003761489549 i) |11111110\\rangle+ (0.061955662474 - 0.003761489549 i) |11111111\\rangle$$"
      ],
      "text/plain": [
       "<IPython.core.display.Latex object>"
      ]
     },
     "metadata": {},
     "output_type": "display_data"
    },
    {
     "name": "stdout",
     "output_type": "stream",
     "text": [
      "coherence of |ψ5⟩ =  254.32936708288096\n",
      "-------- 7  ITERATION--------\n"
     ]
    },
    {
     "data": {
      "text/plain": [
       "'applied O operator to |ψ2⟩'"
      ]
     },
     "metadata": {},
     "output_type": "display_data"
    },
    {
     "data": {
      "text/latex": [
       "$$(0.061955662474 - 0.003761489549 i) |00000000\\rangle+ (0.061955662474 - 0.003761489549 i) |00000001\\rangle+ (0.061955662474 - 0.003761489549 i) |00000010\\rangle+ (0.061955662474 - 0.003761489549 i) |00000011\\rangle+ (0.061955662474 - 0.003761489549 i) |00000100\\rangle+ (0.061955662474 - 0.003761489549 i) |00000101\\rangle + \\ldots + (0.061955662474 - 0.003761489549 i) |11111011\\rangle+ (0.081096826296 - 0.043006691263 i) |11111100\\rangle+ (0.061955662474 - 0.003761489549 i) |11111101\\rangle+ (0.061955662474 - 0.003761489549 i) |11111110\\rangle+ (0.061955662474 - 0.003761489549 i) |11111111\\rangle$$"
      ],
      "text/plain": [
       "<IPython.core.display.Latex object>"
      ]
     },
     "metadata": {},
     "output_type": "display_data"
    },
    {
     "name": "stdout",
     "output_type": "stream",
     "text": [
      "coherence of |ψ2⟩ =  254.32936708288096\n"
     ]
    },
    {
     "data": {
      "text/plain": [
       "'applied Hadamard to all |ψ1⟩'"
      ]
     },
     "metadata": {},
     "output_type": "display_data"
    },
    {
     "data": {
      "text/latex": [
       "$$(0.994879567806 - 0.067542308099 i) |00000000\\rangle+ (0.001196322739 - 0.002452825107 i) |00000001\\rangle+ (-0.001196322739 + 0.002452825107 i) |00000010\\rangle+ (0.001196322739 - 0.002452825107 i) |00000011\\rangle+ (-0.001196322739 + 0.002452825107 i) |00000100\\rangle+ (0.001196322739 - 0.002452825107 i) |00000101\\rangle + \\ldots + (-0.001196322739 + 0.002452825107 i) |11111011\\rangle+ (0.001196322739 - 0.002452825107 i) |11111100\\rangle+ (0.003588968216 - 0.007358475322 i) |11111101\\rangle+ (0.001196322739 - 0.002452825107 i) |11111110\\rangle+ (-0.001196322739 + 0.002452825107 i) |11111111\\rangle$$"
      ],
      "text/plain": [
       "<IPython.core.display.Latex object>"
      ]
     },
     "metadata": {},
     "output_type": "display_data"
    },
    {
     "name": "stdout",
     "output_type": "stream",
     "text": [
      "coherence of |ψ1⟩ =  3.1490654988051268\n"
     ]
    },
    {
     "data": {
      "text/plain": [
       "'applied P operator to |ψ4⟩'"
      ]
     },
     "metadata": {},
     "output_type": "display_data"
    },
    {
     "data": {
      "text/latex": [
       "$$(0.994879567806 - 0.067542308099 i) |00000000\\rangle+ (-0.001196322739 + 0.002452825107 i) |00000001\\rangle+ (0.001196322739 - 0.002452825107 i) |00000010\\rangle+ (-0.001196322739 + 0.002452825107 i) |00000011\\rangle+ (0.001196322739 - 0.002452825107 i) |00000100\\rangle+ (-0.001196322739 + 0.002452825107 i) |00000101\\rangle + \\ldots + (0.001196322739 - 0.002452825107 i) |11111011\\rangle+ (-0.001196322739 + 0.002452825107 i) |11111100\\rangle+ (-0.003588968216 + 0.007358475322 i) |11111101\\rangle+ (-0.001196322739 + 0.002452825107 i) |11111110\\rangle+ (0.001196322739 - 0.002452825107 i) |11111111\\rangle$$"
      ],
      "text/plain": [
       "<IPython.core.display.Latex object>"
      ]
     },
     "metadata": {},
     "output_type": "display_data"
    },
    {
     "name": "stdout",
     "output_type": "stream",
     "text": [
      "coherence of |ψ4⟩ =  3.1490654988051268\n"
     ]
    },
    {
     "data": {
      "text/plain": [
       "'applied Hadamard to all |ψ5⟩'"
      ]
     },
     "metadata": {},
     "output_type": "display_data"
    },
    {
     "data": {
      "text/latex": [
       "$$(0.062404283501 - 0.004681298964 i) |00000000\\rangle+ (0.062404283501 - 0.004681298964 i) |00000001\\rangle+ (0.062404283501 - 0.004681298964 i) |00000010\\rangle+ (0.062404283501 - 0.004681298964 i) |00000011\\rangle+ (0.062404283501 - 0.004681298964 i) |00000100\\rangle+ (0.062404283501 - 0.004681298964 i) |00000101\\rangle + \\ldots + (0.062404283501 - 0.004681298964 i) |11111011\\rangle+ (0.04326311968 + 0.034563902751 i) |11111100\\rangle+ (0.062404283501 - 0.004681298964 i) |11111101\\rangle+ (0.062404283501 - 0.004681298964 i) |11111110\\rangle+ (0.062404283501 - 0.004681298964 i) |11111111\\rangle$$"
      ],
      "text/plain": [
       "<IPython.core.display.Latex object>"
      ]
     },
     "metadata": {},
     "output_type": "display_data"
    },
    {
     "name": "stdout",
     "output_type": "stream",
     "text": [
      "coherence of |ψ5⟩ =  254.96059996545543\n",
      "======================================== FOR ϕ =  331.0 ========================================\n"
     ]
    },
    {
     "data": {
      "text/plain": [
       "'initialised |ψ0⟩'"
      ]
     },
     "metadata": {},
     "output_type": "display_data"
    },
    {
     "data": {
      "text/latex": [
       "$$ |00000000\\rangle$$"
      ],
      "text/plain": [
       "<IPython.core.display.Latex object>"
      ]
     },
     "metadata": {},
     "output_type": "display_data"
    },
    {
     "name": "stdout",
     "output_type": "stream",
     "text": [
      "coherence of |ψ0⟩ =  0.0\n"
     ]
    },
    {
     "data": {
      "text/plain": [
       "'applied Hadamard to all |ψ1⟩'"
      ]
     },
     "metadata": {},
     "output_type": "display_data"
    },
    {
     "data": {
      "text/latex": [
       "$$\\frac{1}{16} |00000000\\rangle+\\frac{1}{16} |00000001\\rangle+\\frac{1}{16} |00000010\\rangle+\\frac{1}{16} |00000011\\rangle+\\frac{1}{16} |00000100\\rangle+\\frac{1}{16} |00000101\\rangle + \\ldots +\\frac{1}{16} |11111011\\rangle+\\frac{1}{16} |11111100\\rangle+\\frac{1}{16} |11111101\\rangle+\\frac{1}{16} |11111110\\rangle+\\frac{1}{16} |11111111\\rangle$$"
      ],
      "text/plain": [
       "<IPython.core.display.Latex object>"
      ]
     },
     "metadata": {},
     "output_type": "display_data"
    },
    {
     "name": "stdout",
     "output_type": "stream",
     "text": [
      "coherence of |ψ1⟩ =  255.00000000000003\n",
      "-------- 1  ITERATION--------\n"
     ]
    },
    {
     "data": {
      "text/plain": [
       "'applied O operator to |ψ2⟩'"
      ]
     },
     "metadata": {},
     "output_type": "display_data"
    },
    {
     "data": {
      "text/latex": [
       "$$\\frac{1}{16} |00000000\\rangle+\\frac{1}{16} |00000001\\rangle+\\frac{1}{16} |00000010\\rangle+\\frac{1}{16} |00000011\\rangle+\\frac{1}{16} |00000100\\rangle+\\frac{1}{16} |00000101\\rangle + \\ldots +\\frac{1}{16} |11111011\\rangle+ (0.054663731696 - 0.030300601265 i) |11111100\\rangle+\\frac{1}{16} |11111101\\rangle+\\frac{1}{16} |11111110\\rangle+\\frac{1}{16} |11111111\\rangle$$"
      ],
      "text/plain": [
       "<IPython.core.display.Latex object>"
      ]
     },
     "metadata": {},
     "output_type": "display_data"
    },
    {
     "name": "stdout",
     "output_type": "stream",
     "text": [
      "coherence of |ψ2⟩ =  255.00000000000003\n"
     ]
    },
    {
     "data": {
      "text/plain": [
       "'applied Hadamard to all |ψ1⟩'"
      ]
     },
     "metadata": {},
     "output_type": "display_data"
    },
    {
     "data": {
      "text/latex": [
       "$$(0.998530699693 - 0.005681362737 i) |00000000\\rangle+ (-0.000489766769 - 0.001893787579 i) |00000001\\rangle+ (0.000489766769 + 0.001893787579 i) |00000010\\rangle+ (-0.000489766769 - 0.001893787579 i) |00000011\\rangle+ (0.000489766769 + 0.001893787579 i) |00000100\\rangle+ (-0.000489766769 - 0.001893787579 i) |00000101\\rangle + \\ldots + (0.000489766769 + 0.001893787579 i) |11111011\\rangle+ (-0.000489766769 - 0.001893787579 i) |11111100\\rangle+ (-0.001469300307 - 0.005681362737 i) |11111101\\rangle+ (-0.000489766769 - 0.001893787579 i) |11111110\\rangle+ (0.000489766769 + 0.001893787579 i) |11111111\\rangle$$"
      ],
      "text/plain": [
       "<IPython.core.display.Latex object>"
      ]
     },
     "metadata": {},
     "output_type": "display_data"
    },
    {
     "name": "stdout",
     "output_type": "stream",
     "text": [
      "coherence of |ψ1⟩ =  2.040903285535788\n"
     ]
    },
    {
     "data": {
      "text/plain": [
       "'applied P operator to |ψ4⟩'"
      ]
     },
     "metadata": {},
     "output_type": "display_data"
    },
    {
     "data": {
      "text/latex": [
       "$$(0.998530699693 - 0.005681362737 i) |00000000\\rangle+ (0.000489766769 + 0.001893787579 i) |00000001\\rangle+ (-0.000489766769 - 0.001893787579 i) |00000010\\rangle+ (0.000489766769 + 0.001893787579 i) |00000011\\rangle+ (-0.000489766769 - 0.001893787579 i) |00000100\\rangle+ (0.000489766769 + 0.001893787579 i) |00000101\\rangle + \\ldots + (-0.000489766769 - 0.001893787579 i) |11111011\\rangle+ (0.000489766769 + 0.001893787579 i) |11111100\\rangle+ (0.001469300307 + 0.005681362737 i) |11111101\\rangle+ (0.000489766769 + 0.001893787579 i) |11111110\\rangle+ (-0.000489766769 - 0.001893787579 i) |11111111\\rangle$$"
      ],
      "text/plain": [
       "<IPython.core.display.Latex object>"
      ]
     },
     "metadata": {},
     "output_type": "display_data"
    },
    {
     "name": "stdout",
     "output_type": "stream",
     "text": [
      "coherence of |ψ4⟩ =  2.040903285535788\n"
     ]
    },
    {
     "data": {
      "text/plain": [
       "'applied Hadamard to all |ψ5⟩'"
      ]
     },
     "metadata": {},
     "output_type": "display_data"
    },
    {
     "data": {
      "text/latex": [
       "$$(0.062316337462 - 0.000710170342 i) |00000000\\rangle+ (0.062316337462 - 0.000710170342 i) |00000001\\rangle+ (0.062316337462 - 0.000710170342 i) |00000010\\rangle+ (0.062316337462 - 0.000710170342 i) |00000011\\rangle+ (0.062316337462 - 0.000710170342 i) |00000100\\rangle+ (0.062316337462 - 0.000710170342 i) |00000101\\rangle + \\ldots + (0.062316337462 - 0.000710170342 i) |11111011\\rangle+ (0.070152605765 + 0.029590430923 i) |11111100\\rangle+ (0.062316337462 - 0.000710170342 i) |11111101\\rangle+ (0.062316337462 - 0.000710170342 i) |11111110\\rangle+ (0.062316337462 - 0.000710170342 i) |11111111\\rangle$$"
      ],
      "text/plain": [
       "<IPython.core.display.Latex object>"
      ]
     },
     "metadata": {},
     "output_type": "display_data"
    },
    {
     "name": "stdout",
     "output_type": "stream",
     "text": [
      "coherence of |ψ5⟩ =  254.8550886146222\n",
      "-------- 2  ITERATION--------\n"
     ]
    },
    {
     "data": {
      "text/plain": [
       "'applied O operator to |ψ2⟩'"
      ]
     },
     "metadata": {},
     "output_type": "display_data"
    },
    {
     "data": {
      "text/latex": [
       "$$(0.062316337462 - 0.000710170342 i) |00000000\\rangle+ (0.062316337462 - 0.000710170342 i) |00000001\\rangle+ (0.062316337462 - 0.000710170342 i) |00000010\\rangle+ (0.062316337462 - 0.000710170342 i) |00000011\\rangle+ (0.062316337462 - 0.000710170342 i) |00000100\\rangle+ (0.062316337462 - 0.000710170342 i) |00000101\\rangle + \\ldots + (0.062316337462 - 0.000710170342 i) |11111011\\rangle+ (0.075702577088 - 0.008130284132 i) |11111100\\rangle+ (0.062316337462 - 0.000710170342 i) |11111101\\rangle+ (0.062316337462 - 0.000710170342 i) |11111110\\rangle+ (0.062316337462 - 0.000710170342 i) |11111111\\rangle$$"
      ],
      "text/plain": [
       "<IPython.core.display.Latex object>"
      ]
     },
     "metadata": {},
     "output_type": "display_data"
    },
    {
     "name": "stdout",
     "output_type": "stream",
     "text": [
      "coherence of |ψ2⟩ =  254.8550886146222\n"
     ]
    },
    {
     "data": {
      "text/plain": [
       "'applied Hadamard to all |ψ1⟩'"
      ]
     },
     "metadata": {},
     "output_type": "display_data"
    },
    {
     "data": {
      "text/latex": [
       "$$(0.999571319316 - 0.01275399681 i) |00000000\\rangle+ (0.000836639977 - 0.000463757112 i) |00000001\\rangle+ (-0.000836639977 + 0.000463757112 i) |00000010\\rangle+ (0.000836639977 - 0.000463757112 i) |00000011\\rangle+ (-0.000836639977 + 0.000463757112 i) |00000100\\rangle+ (0.000836639977 - 0.000463757112 i) |00000101\\rangle + \\ldots + (-0.000836639977 + 0.000463757112 i) |11111011\\rangle+ (0.000836639977 - 0.000463757112 i) |11111100\\rangle+ (0.00250991993 - 0.001391271336 i) |11111101\\rangle+ (0.000836639977 - 0.000463757112 i) |11111110\\rangle+ (-0.000836639977 + 0.000463757112 i) |11111111\\rangle$$"
      ],
      "text/plain": [
       "<IPython.core.display.Latex object>"
      ]
     },
     "metadata": {},
     "output_type": "display_data"
    },
    {
     "name": "stdout",
     "output_type": "stream",
     "text": [
      "coherence of |ψ1⟩ =  0.8607907248242185\n"
     ]
    },
    {
     "data": {
      "text/plain": [
       "'applied P operator to |ψ4⟩'"
      ]
     },
     "metadata": {},
     "output_type": "display_data"
    },
    {
     "data": {
      "text/latex": [
       "$$(0.999571319316 - 0.01275399681 i) |00000000\\rangle+ (-0.000836639977 + 0.000463757112 i) |00000001\\rangle+ (0.000836639977 - 0.000463757112 i) |00000010\\rangle+ (-0.000836639977 + 0.000463757112 i) |00000011\\rangle+ (0.000836639977 - 0.000463757112 i) |00000100\\rangle+ (-0.000836639977 + 0.000463757112 i) |00000101\\rangle + \\ldots + (0.000836639977 - 0.000463757112 i) |11111011\\rangle+ (-0.000836639977 + 0.000463757112 i) |11111100\\rangle+ (-0.00250991993 + 0.001391271336 i) |11111101\\rangle+ (-0.000836639977 + 0.000463757112 i) |11111110\\rangle+ (0.000836639977 - 0.000463757112 i) |11111111\\rangle$$"
      ],
      "text/plain": [
       "<IPython.core.display.Latex object>"
      ]
     },
     "metadata": {},
     "output_type": "display_data"
    },
    {
     "name": "stdout",
     "output_type": "stream",
     "text": [
      "coherence of |ψ4⟩ =  0.8607907248242185\n"
     ]
    },
    {
     "data": {
      "text/plain": [
       "'applied Hadamard to all |ψ5⟩'"
      ]
     },
     "metadata": {},
     "output_type": "display_data"
    },
    {
     "data": {
      "text/latex": [
       "$$(0.062630077453 - 0.000884079259 i) |00000000\\rangle+ (0.062630077453 - 0.000884079259 i) |00000001\\rangle+ (0.062630077453 - 0.000884079259 i) |00000010\\rangle+ (0.062630077453 - 0.000884079259 i) |00000011\\rangle+ (0.062630077453 - 0.000884079259 i) |00000100\\rangle+ (0.062630077453 - 0.000884079259 i) |00000101\\rangle + \\ldots + (0.062630077453 - 0.000884079259 i) |11111011\\rangle+ (0.049243837826 + 0.006536034531 i) |11111100\\rangle+ (0.062630077453 - 0.000884079259 i) |11111101\\rangle+ (0.062630077453 - 0.000884079259 i) |11111110\\rangle+ (0.062630077453 - 0.000884079259 i) |11111111\\rangle$$"
      ],
      "text/plain": [
       "<IPython.core.display.Latex object>"
      ]
     },
     "metadata": {},
     "output_type": "display_data"
    },
    {
     "name": "stdout",
     "output_type": "stream",
     "text": [
      "coherence of |ψ5⟩ =  254.8725050363697\n",
      "-------- 3  ITERATION--------\n"
     ]
    },
    {
     "data": {
      "text/plain": [
       "'applied O operator to |ψ2⟩'"
      ]
     },
     "metadata": {},
     "output_type": "display_data"
    },
    {
     "data": {
      "text/latex": [
       "$$(0.062630077453 - 0.000884079259 i) |00000000\\rangle+ (0.062630077453 - 0.000884079259 i) |00000001\\rangle+ (0.062630077453 - 0.000884079259 i) |00000010\\rangle+ (0.062630077453 - 0.000884079259 i) |00000011\\rangle+ (0.062630077453 - 0.000884079259 i) |00000100\\rangle+ (0.062630077453 - 0.000884079259 i) |00000101\\rangle + \\ldots + (0.062630077453 - 0.000884079259 i) |11111011\\rangle+ (0.046238363437 - 0.018157341709 i) |11111100\\rangle+ (0.062630077453 - 0.000884079259 i) |11111101\\rangle+ (0.062630077453 - 0.000884079259 i) |11111110\\rangle+ (0.062630077453 - 0.000884079259 i) |11111111\\rangle$$"
      ],
      "text/plain": [
       "<IPython.core.display.Latex object>"
      ]
     },
     "metadata": {},
     "output_type": "display_data"
    },
    {
     "name": "stdout",
     "output_type": "stream",
     "text": [
      "coherence of |ψ2⟩ =  254.8725050363697\n"
     ]
    },
    {
     "data": {
      "text/plain": [
       "'applied Hadamard to all |ψ1⟩'"
      ]
     },
     "metadata": {},
     "output_type": "display_data"
    },
    {
     "data": {
      "text/latex": [
       "$$(0.999007792868 - 0.017384004855 i) |00000000\\rangle+ (-0.001024482126 - 0.001079578903 i) |00000001\\rangle+ (0.001024482126 + 0.001079578903 i) |00000010\\rangle+ (-0.001024482126 - 0.001079578903 i) |00000011\\rangle+ (0.001024482126 + 0.001079578903 i) |00000100\\rangle+ (-0.001024482126 - 0.001079578903 i) |00000101\\rangle + \\ldots + (0.001024482126 + 0.001079578903 i) |11111011\\rangle+ (-0.001024482126 - 0.001079578903 i) |11111100\\rangle+ (-0.003073446378 - 0.003238736709 i) |11111101\\rangle+ (-0.001024482126 - 0.001079578903 i) |11111110\\rangle+ (0.001024482126 + 0.001079578903 i) |11111111\\rangle$$"
      ],
      "text/plain": [
       "<IPython.core.display.Latex object>"
      ]
     },
     "metadata": {},
     "output_type": "display_data"
    },
    {
     "name": "stdout",
     "output_type": "stream",
     "text": [
      "coherence of |ψ1⟩ =  1.452993570593988\n"
     ]
    },
    {
     "data": {
      "text/plain": [
       "'applied P operator to |ψ4⟩'"
      ]
     },
     "metadata": {},
     "output_type": "display_data"
    },
    {
     "data": {
      "text/latex": [
       "$$(0.999007792868 - 0.017384004855 i) |00000000\\rangle+ (0.001024482126 + 0.001079578903 i) |00000001\\rangle+ (-0.001024482126 - 0.001079578903 i) |00000010\\rangle+ (0.001024482126 + 0.001079578903 i) |00000011\\rangle+ (-0.001024482126 - 0.001079578903 i) |00000100\\rangle+ (0.001024482126 + 0.001079578903 i) |00000101\\rangle + \\ldots + (-0.001024482126 - 0.001079578903 i) |11111011\\rangle+ (0.001024482126 + 0.001079578903 i) |11111100\\rangle+ (0.003073446378 + 0.003238736709 i) |11111101\\rangle+ (0.001024482126 + 0.001079578903 i) |11111110\\rangle+ (-0.001024482126 - 0.001079578903 i) |11111111\\rangle$$"
      ],
      "text/plain": [
       "<IPython.core.display.Latex object>"
      ]
     },
     "metadata": {},
     "output_type": "display_data"
    },
    {
     "name": "stdout",
     "output_type": "stream",
     "text": [
      "coherence of |ψ4⟩ =  1.452993570593988\n"
     ]
    },
    {
     "data": {
      "text/plain": [
       "'applied Hadamard to all |ψ5⟩'"
      ]
     },
     "metadata": {},
     "output_type": "display_data"
    },
    {
     "data": {
      "text/latex": [
       "$$(0.062245896656 - 0.001288921348 i) |00000000\\rangle+ (0.062245896656 - 0.001288921348 i) |00000001\\rangle+ (0.062245896656 - 0.001288921348 i) |00000010\\rangle+ (0.062245896656 - 0.001288921348 i) |00000011\\rangle+ (0.062245896656 - 0.001288921348 i) |00000100\\rangle+ (0.062245896656 - 0.001288921348 i) |00000101\\rangle + \\ldots + (0.062245896656 - 0.001288921348 i) |11111011\\rangle+ (0.078637610672 + 0.015984341102 i) |11111100\\rangle+ (0.062245896656 - 0.001288921348 i) |11111101\\rangle+ (0.062245896656 - 0.001288921348 i) |11111110\\rangle+ (0.062245896656 - 0.001288921348 i) |11111111\\rangle$$"
      ],
      "text/plain": [
       "<IPython.core.display.Latex object>"
      ]
     },
     "metadata": {},
     "output_type": "display_data"
    },
    {
     "name": "stdout",
     "output_type": "stream",
     "text": [
      "coherence of |ψ5⟩ =  254.75445372540983\n",
      "-------- 4  ITERATION--------\n"
     ]
    },
    {
     "data": {
      "text/plain": [
       "'applied O operator to |ψ2⟩'"
      ]
     },
     "metadata": {},
     "output_type": "display_data"
    },
    {
     "data": {
      "text/latex": [
       "$$(0.062245896656 - 0.001288921348 i) |00000000\\rangle+ (0.062245896656 - 0.001288921348 i) |00000001\\rangle+ (0.062245896656 - 0.001288921348 i) |00000010\\rangle+ (0.062245896656 - 0.001288921348 i) |00000011\\rangle+ (0.062245896656 - 0.001288921348 i) |00000100\\rangle+ (0.062245896656 - 0.001288921348 i) |00000101\\rangle + \\ldots + (0.062245896656 - 0.001288921348 i) |11111011\\rangle+ (0.076527366355 - 0.024144050434 i) |11111100\\rangle+ (0.062245896656 - 0.001288921348 i) |11111101\\rangle+ (0.062245896656 - 0.001288921348 i) |11111110\\rangle+ (0.062245896656 - 0.001288921348 i) |11111111\\rangle$$"
      ],
      "text/plain": [
       "<IPython.core.display.Latex object>"
      ]
     },
     "metadata": {},
     "output_type": "display_data"
    },
    {
     "name": "stdout",
     "output_type": "stream",
     "text": [
      "coherence of |ψ2⟩ =  254.75445372540983\n"
     ]
    },
    {
     "data": {
      "text/plain": [
       "'applied Hadamard to all |ψ1⟩'"
      ]
     },
     "metadata": {},
     "output_type": "display_data"
    },
    {
     "data": {
      "text/latex": [
       "$$(0.998612122059 - 0.024908078268 i) |00000000\\rangle+ (0.000892591856 - 0.001428445568 i) |00000001\\rangle+ (-0.000892591856 + 0.001428445568 i) |00000010\\rangle+ (0.000892591856 - 0.001428445568 i) |00000011\\rangle+ (-0.000892591856 + 0.001428445568 i) |00000100\\rangle+ (0.000892591856 - 0.001428445568 i) |00000101\\rangle + \\ldots + (-0.000892591856 + 0.001428445568 i) |11111011\\rangle+ (0.000892591856 - 0.001428445568 i) |11111100\\rangle+ (0.002677775569 - 0.004285336704 i) |11111101\\rangle+ (0.000892591856 - 0.001428445568 i) |11111110\\rangle+ (-0.000892591856 + 0.001428445568 i) |11111111\\rangle$$"
      ],
      "text/plain": [
       "<IPython.core.display.Latex object>"
      ]
     },
     "metadata": {},
     "output_type": "display_data"
    },
    {
     "name": "stdout",
     "output_type": "stream",
     "text": [
      "coherence of |ψ1⟩ =  1.6918181489649278\n"
     ]
    },
    {
     "data": {
      "text/plain": [
       "'applied P operator to |ψ4⟩'"
      ]
     },
     "metadata": {},
     "output_type": "display_data"
    },
    {
     "data": {
      "text/latex": [
       "$$(0.998612122059 - 0.024908078268 i) |00000000\\rangle+ (-0.000892591856 + 0.001428445568 i) |00000001\\rangle+ (0.000892591856 - 0.001428445568 i) |00000010\\rangle+ (-0.000892591856 + 0.001428445568 i) |00000011\\rangle+ (0.000892591856 - 0.001428445568 i) |00000100\\rangle+ (-0.000892591856 + 0.001428445568 i) |00000101\\rangle + \\ldots + (0.000892591856 - 0.001428445568 i) |11111011\\rangle+ (-0.000892591856 + 0.001428445568 i) |11111100\\rangle+ (-0.002677775569 + 0.004285336704 i) |11111101\\rangle+ (-0.000892591856 + 0.001428445568 i) |11111110\\rangle+ (0.000892591856 - 0.001428445568 i) |11111111\\rangle$$"
      ],
      "text/plain": [
       "<IPython.core.display.Latex object>"
      ]
     },
     "metadata": {},
     "output_type": "display_data"
    },
    {
     "name": "stdout",
     "output_type": "stream",
     "text": [
      "coherence of |ψ4⟩ =  1.6918181489649278\n"
     ]
    },
    {
     "data": {
      "text/plain": [
       "'applied Hadamard to all |ψ5⟩'"
      ]
     },
     "metadata": {},
     "output_type": "display_data"
    },
    {
     "data": {
      "text/latex": [
       "$$(0.062580618602 - 0.001824588436 i) |00000000\\rangle+ (0.062580618602 - 0.001824588436 i) |00000001\\rangle+ (0.062580618602 - 0.001824588436 i) |00000010\\rangle+ (0.062580618602 - 0.001824588436 i) |00000011\\rangle+ (0.062580618602 - 0.001824588436 i) |00000100\\rangle+ (0.062580618602 - 0.001824588436 i) |00000101\\rangle + \\ldots + (0.062580618602 - 0.001824588436 i) |11111011\\rangle+ (0.048299148902 + 0.02103054065 i) |11111100\\rangle+ (0.062580618602 - 0.001824588436 i) |11111101\\rangle+ (0.062580618602 - 0.001824588436 i) |11111110\\rangle+ (0.062580618602 - 0.001824588436 i) |11111111\\rangle$$"
      ],
      "text/plain": [
       "<IPython.core.display.Latex object>"
      ]
     },
     "metadata": {},
     "output_type": "display_data"
    },
    {
     "name": "stdout",
     "output_type": "stream",
     "text": [
      "coherence of |ψ5⟩ =  254.92518789371707\n",
      "-------- 5  ITERATION--------\n"
     ]
    },
    {
     "data": {
      "text/plain": [
       "'applied O operator to |ψ2⟩'"
      ]
     },
     "metadata": {},
     "output_type": "display_data"
    },
    {
     "data": {
      "text/latex": [
       "$$(0.062580618602 - 0.001824588436 i) |00000000\\rangle+ (0.062580618602 - 0.001824588436 i) |00000001\\rangle+ (0.062580618602 - 0.001824588436 i) |00000010\\rangle+ (0.062580618602 - 0.001824588436 i) |00000011\\rangle+ (0.062580618602 - 0.001824588436 i) |00000100\\rangle+ (0.062580618602 - 0.001824588436 i) |00000101\\rangle + \\ldots + (0.062580618602 - 0.001824588436 i) |11111011\\rangle+ (0.052439195894 - 0.005022166733 i) |11111100\\rangle+ (0.062580618602 - 0.001824588436 i) |11111101\\rangle+ (0.062580618602 - 0.001824588436 i) |11111110\\rangle+ (0.062580618602 - 0.001824588436 i) |11111111\\rangle$$"
      ],
      "text/plain": [
       "<IPython.core.display.Latex object>"
      ]
     },
     "metadata": {},
     "output_type": "display_data"
    },
    {
     "name": "stdout",
     "output_type": "stream",
     "text": [
      "coherence of |ψ2⟩ =  254.92518789371707\n"
     ]
    },
    {
     "data": {
      "text/plain": [
       "'applied Hadamard to all |ψ1⟩'"
      ]
     },
     "metadata": {},
     "output_type": "display_data"
    },
    {
     "data": {
      "text/latex": [
       "$$(0.99938838087 - 0.029792960902 i) |00000000\\rangle+ (-0.000633838919 - 0.000199848644 i) |00000001\\rangle+ (0.000633838919 + 0.000199848644 i) |00000010\\rangle+ (-0.000633838919 - 0.000199848644 i) |00000011\\rangle+ (0.000633838919 + 0.000199848644 i) |00000100\\rangle+ (-0.000633838919 - 0.000199848644 i) |00000101\\rangle + \\ldots + (0.000633838919 + 0.000199848644 i) |11111011\\rangle+ (-0.000633838919 - 0.000199848644 i) |11111100\\rangle+ (-0.001901516758 - 0.000599545931 i) |11111101\\rangle+ (-0.000633838919 - 0.000199848644 i) |11111110\\rangle+ (0.000633838919 + 0.000199848644 i) |11111111\\rangle$$"
      ],
      "text/plain": [
       "<IPython.core.display.Latex object>"
      ]
     },
     "metadata": {},
     "output_type": "display_data"
    },
    {
     "name": "stdout",
     "output_type": "stream",
     "text": [
      "coherence of |ψ1⟩ =  0.5701203142896141\n"
     ]
    },
    {
     "data": {
      "text/plain": [
       "'applied P operator to |ψ4⟩'"
      ]
     },
     "metadata": {},
     "output_type": "display_data"
    },
    {
     "data": {
      "text/latex": [
       "$$(0.99938838087 - 0.029792960902 i) |00000000\\rangle+ (0.000633838919 + 0.000199848644 i) |00000001\\rangle+ (-0.000633838919 - 0.000199848644 i) |00000010\\rangle+ (0.000633838919 + 0.000199848644 i) |00000011\\rangle+ (-0.000633838919 - 0.000199848644 i) |00000100\\rangle+ (0.000633838919 + 0.000199848644 i) |00000101\\rangle + \\ldots + (-0.000633838919 - 0.000199848644 i) |11111011\\rangle+ (0.000633838919 + 0.000199848644 i) |11111100\\rangle+ (0.001901516758 + 0.000599545931 i) |11111101\\rangle+ (0.000633838919 + 0.000199848644 i) |11111110\\rangle+ (-0.000633838919 - 0.000199848644 i) |11111111\\rangle$$"
      ],
      "text/plain": [
       "<IPython.core.display.Latex object>"
      ]
     },
     "metadata": {},
     "output_type": "display_data"
    },
    {
     "name": "stdout",
     "output_type": "stream",
     "text": [
      "coherence of |ψ4⟩ =  0.5701203142896141\n"
     ]
    },
    {
     "data": {
      "text/plain": [
       "'applied Hadamard to all |ψ5⟩'"
      ]
     },
     "metadata": {},
     "output_type": "display_data"
    },
    {
     "data": {
      "text/latex": [
       "$$(0.062342929007 - 0.001899531677 i) |00000000\\rangle+ (0.062342929007 - 0.001899531677 i) |00000001\\rangle+ (0.062342929007 - 0.001899531677 i) |00000010\\rangle+ (0.062342929007 - 0.001899531677 i) |00000011\\rangle+ (0.062342929007 - 0.001899531677 i) |00000100\\rangle+ (0.062342929007 - 0.001899531677 i) |00000101\\rangle + \\ldots + (0.062342929007 - 0.001899531677 i) |11111011\\rangle+ (0.072484351715 + 0.00129804662 i) |11111100\\rangle+ (0.062342929007 - 0.001899531677 i) |11111101\\rangle+ (0.062342929007 - 0.001899531677 i) |11111110\\rangle+ (0.062342929007 - 0.001899531677 i) |11111111\\rangle$$"
      ],
      "text/plain": [
       "<IPython.core.display.Latex object>"
      ]
     },
     "metadata": {},
     "output_type": "display_data"
    },
    {
     "name": "stdout",
     "output_type": "stream",
     "text": [
      "coherence of |ψ5⟩ =  254.9222042776037\n",
      "-------- 6  ITERATION--------\n"
     ]
    },
    {
     "data": {
      "text/plain": [
       "'applied O operator to |ψ2⟩'"
      ]
     },
     "metadata": {},
     "output_type": "display_data"
    },
    {
     "data": {
      "text/latex": [
       "$$(0.062342929007 - 0.001899531677 i) |00000000\\rangle+ (0.062342929007 - 0.001899531677 i) |00000001\\rangle+ (0.062342929007 - 0.001899531677 i) |00000010\\rangle+ (0.062342929007 - 0.001899531677 i) |00000011\\rangle+ (0.062342929007 - 0.001899531677 i) |00000100\\rangle+ (0.062342929007 - 0.001899531677 i) |00000101\\rangle + \\ldots + (0.062342929007 - 0.001899531677 i) |11111011\\rangle+ (0.064025547958 - 0.034005813874 i) |11111100\\rangle+ (0.062342929007 - 0.001899531677 i) |11111101\\rangle+ (0.062342929007 - 0.001899531677 i) |11111110\\rangle+ (0.062342929007 - 0.001899531677 i) |11111111\\rangle$$"
      ],
      "text/plain": [
       "<IPython.core.display.Latex object>"
      ]
     },
     "metadata": {},
     "output_type": "display_data"
    },
    {
     "name": "stdout",
     "output_type": "stream",
     "text": [
      "coherence of |ψ2⟩ =  254.9222042776037\n"
     ]
    },
    {
     "data": {
      "text/plain": [
       "'applied Hadamard to all |ψ1⟩'"
      ]
     },
     "metadata": {},
     "output_type": "display_data"
    },
    {
     "data": {
      "text/latex": [
       "$$(0.997802355165 - 0.036412434745 i) |00000000\\rangle+ (0.000105163684 - 0.002006642637 i) |00000001\\rangle+ (-0.000105163684 + 0.002006642637 i) |00000010\\rangle+ (0.000105163684 - 0.002006642637 i) |00000011\\rangle+ (-0.000105163684 + 0.002006642637 i) |00000100\\rangle+ (0.000105163684 - 0.002006642637 i) |00000101\\rangle + \\ldots + (-0.000105163684 + 0.002006642637 i) |11111011\\rangle+ (0.000105163684 - 0.002006642637 i) |11111100\\rangle+ (0.000315491053 - 0.006019927912 i) |11111101\\rangle+ (0.000105163684 - 0.002006642637 i) |11111110\\rangle+ (-0.000105163684 + 0.002006642637 i) |11111111\\rangle$$"
      ],
      "text/plain": [
       "<IPython.core.display.Latex object>"
      ]
     },
     "metadata": {},
     "output_type": "display_data"
    },
    {
     "name": "stdout",
     "output_type": "stream",
     "text": [
      "coherence of |ψ1⟩ =  2.11186031021317\n"
     ]
    },
    {
     "data": {
      "text/plain": [
       "'applied P operator to |ψ4⟩'"
      ]
     },
     "metadata": {},
     "output_type": "display_data"
    },
    {
     "data": {
      "text/latex": [
       "$$(0.997802355165 - 0.036412434745 i) |00000000\\rangle+ (-0.000105163684 + 0.002006642637 i) |00000001\\rangle+ (0.000105163684 - 0.002006642637 i) |00000010\\rangle+ (-0.000105163684 + 0.002006642637 i) |00000011\\rangle+ (0.000105163684 - 0.002006642637 i) |00000100\\rangle+ (-0.000105163684 + 0.002006642637 i) |00000101\\rangle + \\ldots + (0.000105163684 - 0.002006642637 i) |11111011\\rangle+ (-0.000105163684 + 0.002006642637 i) |11111100\\rangle+ (-0.000315491053 + 0.006019927912 i) |11111101\\rangle+ (-0.000105163684 + 0.002006642637 i) |11111110\\rangle+ (0.000105163684 - 0.002006642637 i) |11111111\\rangle$$"
      ],
      "text/plain": [
       "<IPython.core.display.Latex object>"
      ]
     },
     "metadata": {},
     "output_type": "display_data"
    },
    {
     "name": "stdout",
     "output_type": "stream",
     "text": [
      "coherence of |ψ4⟩ =  2.11186031021317\n"
     ]
    },
    {
     "data": {
      "text/plain": [
       "'applied Hadamard to all |ψ5⟩'"
      ]
     },
     "metadata": {},
     "output_type": "display_data"
    },
    {
     "data": {
      "text/latex": [
       "$$(0.062382365389 - 0.002652022666 i) |00000000\\rangle+ (0.062382365389 - 0.002652022666 i) |00000001\\rangle+ (0.062382365389 - 0.002652022666 i) |00000010\\rangle+ (0.062382365389 - 0.002652022666 i) |00000011\\rangle+ (0.062382365389 - 0.002652022666 i) |00000100\\rangle+ (0.062382365389 - 0.002652022666 i) |00000101\\rangle + \\ldots + (0.062382365389 - 0.002652022666 i) |11111011\\rangle+ (0.060699746438 + 0.029454259531 i) |11111100\\rangle+ (0.062382365389 - 0.002652022666 i) |11111101\\rangle+ (0.062382365389 - 0.002652022666 i) |11111110\\rangle+ (0.062382365389 - 0.002652022666 i) |11111111\\rangle$$"
      ],
      "text/plain": [
       "<IPython.core.display.Latex object>"
      ]
     },
     "metadata": {},
     "output_type": "display_data"
    },
    {
     "name": "stdout",
     "output_type": "stream",
     "text": [
      "coherence of |ψ5⟩ =  254.98079743495296\n",
      "-------- 7  ITERATION--------\n"
     ]
    },
    {
     "data": {
      "text/plain": [
       "'applied O operator to |ψ2⟩'"
      ]
     },
     "metadata": {},
     "output_type": "display_data"
    },
    {
     "data": {
      "text/latex": [
       "$$(0.062382365389 - 0.002652022666 i) |00000000\\rangle+ (0.062382365389 - 0.002652022666 i) |00000001\\rangle+ (0.062382365389 - 0.002652022666 i) |00000010\\rangle+ (0.062382365389 - 0.002652022666 i) |00000011\\rangle+ (0.062382365389 - 0.002652022666 i) |00000100\\rangle+ (0.062382365389 - 0.002652022666 i) |00000101\\rangle + \\ldots + (0.062382365389 - 0.002652022666 i) |11111011\\rangle+ (0.06736890283 - 0.003666545175 i) |11111100\\rangle+ (0.062382365389 - 0.002652022666 i) |11111101\\rangle+ (0.062382365389 - 0.002652022666 i) |11111110\\rangle+ (0.062382365389 - 0.002652022666 i) |11111111\\rangle$$"
      ],
      "text/plain": [
       "<IPython.core.display.Latex object>"
      ]
     },
     "metadata": {},
     "output_type": "display_data"
    },
    {
     "name": "stdout",
     "output_type": "stream",
     "text": [
      "coherence of |ψ2⟩ =  254.98079743495296\n"
     ]
    },
    {
     "data": {
      "text/plain": [
       "'applied Hadamard to all |ψ1⟩'"
      ]
     },
     "metadata": {},
     "output_type": "display_data"
    },
    {
     "data": {
      "text/latex": [
       "$$(0.999052821989 - 0.042622585627 i) |00000000\\rangle+ (0.00031165859 - 6.3407657 \\cdot 10^{-5} i) |00000001\\rangle+ (-0.00031165859 + 6.3407657 \\cdot 10^{-5} i) |00000010\\rangle+ (0.00031165859 - 6.3407657 \\cdot 10^{-5} i) |00000011\\rangle+ (-0.00031165859 + 6.3407657 \\cdot 10^{-5} i) |00000100\\rangle+ (0.00031165859 - 6.3407657 \\cdot 10^{-5} i) |00000101\\rangle + \\ldots + (-0.00031165859 + 6.3407657 \\cdot 10^{-5} i) |11111011\\rangle+ (0.00031165859 - 6.3407657 \\cdot 10^{-5} i) |11111100\\rangle+ (0.00093497577 - 0.00019022297 i) |11111101\\rangle+ (0.00031165859 - 6.3407657 \\cdot 10^{-5} i) |11111110\\rangle+ (-0.00031165859 + 6.3407657 \\cdot 10^{-5} i) |11111111\\rangle$$"
      ],
      "text/plain": [
       "<IPython.core.display.Latex object>"
      ]
     },
     "metadata": {},
     "output_type": "display_data"
    },
    {
     "name": "stdout",
     "output_type": "stream",
     "text": [
      "coherence of |ψ1⟩ =  0.2569462661496898\n"
     ]
    },
    {
     "data": {
      "text/plain": [
       "'applied P operator to |ψ4⟩'"
      ]
     },
     "metadata": {},
     "output_type": "display_data"
    },
    {
     "data": {
      "text/latex": [
       "$$(0.999052821989 - 0.042622585627 i) |00000000\\rangle+ (-0.00031165859 + 6.3407657 \\cdot 10^{-5} i) |00000001\\rangle+ (0.00031165859 - 6.3407657 \\cdot 10^{-5} i) |00000010\\rangle+ (-0.00031165859 + 6.3407657 \\cdot 10^{-5} i) |00000011\\rangle+ (0.00031165859 - 6.3407657 \\cdot 10^{-5} i) |00000100\\rangle+ (-0.00031165859 + 6.3407657 \\cdot 10^{-5} i) |00000101\\rangle + \\ldots + (0.00031165859 - 6.3407657 \\cdot 10^{-5} i) |11111011\\rangle+ (-0.00031165859 + 6.3407657 \\cdot 10^{-5} i) |11111100\\rangle+ (-0.00093497577 + 0.00019022297 i) |11111101\\rangle+ (-0.00031165859 + 6.3407657 \\cdot 10^{-5} i) |11111110\\rangle+ (0.00031165859 - 6.3407657 \\cdot 10^{-5} i) |11111111\\rangle$$"
      ],
      "text/plain": [
       "<IPython.core.display.Latex object>"
      ]
     },
     "metadata": {},
     "output_type": "display_data"
    },
    {
     "name": "stdout",
     "output_type": "stream",
     "text": [
      "coherence of |ψ4⟩ =  0.2569462661496898\n"
     ]
    },
    {
     "data": {
      "text/plain": [
       "'applied Hadamard to all |ψ5⟩'"
      ]
     },
     "metadata": {},
     "output_type": "display_data"
    },
    {
     "data": {
      "text/latex": [
       "$$(0.06249923736 - 0.002675800537 i) |00000000\\rangle+ (0.06249923736 - 0.002675800537 i) |00000001\\rangle+ (0.06249923736 - 0.002675800537 i) |00000010\\rangle+ (0.06249923736 - 0.002675800537 i) |00000011\\rangle+ (0.06249923736 - 0.002675800537 i) |00000100\\rangle+ (0.06249923736 - 0.002675800537 i) |00000101\\rangle + \\ldots + (0.06249923736 - 0.002675800537 i) |11111011\\rangle+ (0.057512699918 - 0.001661278029 i) |11111100\\rangle+ (0.06249923736 - 0.002675800537 i) |11111101\\rangle+ (0.06249923736 - 0.002675800537 i) |11111110\\rangle+ (0.06249923736 - 0.002675800537 i) |11111111\\rangle$$"
      ],
      "text/plain": [
       "<IPython.core.display.Latex object>"
      ]
     },
     "metadata": {},
     "output_type": "display_data"
    },
    {
     "name": "stdout",
     "output_type": "stream",
     "text": [
      "coherence of |ψ5⟩ =  254.9808743984809\n",
      "======================================== FOR ϕ =  346.0 ========================================\n"
     ]
    },
    {
     "data": {
      "text/plain": [
       "'initialised |ψ0⟩'"
      ]
     },
     "metadata": {},
     "output_type": "display_data"
    },
    {
     "data": {
      "text/latex": [
       "$$ |00000000\\rangle$$"
      ],
      "text/plain": [
       "<IPython.core.display.Latex object>"
      ]
     },
     "metadata": {},
     "output_type": "display_data"
    },
    {
     "name": "stdout",
     "output_type": "stream",
     "text": [
      "coherence of |ψ0⟩ =  0.0\n"
     ]
    },
    {
     "data": {
      "text/plain": [
       "'applied Hadamard to all |ψ1⟩'"
      ]
     },
     "metadata": {},
     "output_type": "display_data"
    },
    {
     "data": {
      "text/latex": [
       "$$\\frac{1}{16} |00000000\\rangle+\\frac{1}{16} |00000001\\rangle+\\frac{1}{16} |00000010\\rangle+\\frac{1}{16} |00000011\\rangle+\\frac{1}{16} |00000100\\rangle+\\frac{1}{16} |00000101\\rangle + \\ldots +\\frac{1}{16} |11111011\\rangle+\\frac{1}{16} |11111100\\rangle+\\frac{1}{16} |11111101\\rangle+\\frac{1}{16} |11111110\\rangle+\\frac{1}{16} |11111111\\rangle$$"
      ],
      "text/plain": [
       "<IPython.core.display.Latex object>"
      ]
     },
     "metadata": {},
     "output_type": "display_data"
    },
    {
     "name": "stdout",
     "output_type": "stream",
     "text": [
      "coherence of |ψ1⟩ =  255.00000000000003\n",
      "-------- 1  ITERATION--------\n"
     ]
    },
    {
     "data": {
      "text/plain": [
       "'applied O operator to |ψ2⟩'"
      ]
     },
     "metadata": {},
     "output_type": "display_data"
    },
    {
     "data": {
      "text/latex": [
       "$$\\frac{1}{16} |00000000\\rangle+\\frac{1}{16} |00000001\\rangle+\\frac{1}{16} |00000010\\rangle+\\frac{1}{16} |00000011\\rangle+\\frac{1}{16} |00000100\\rangle+\\frac{1}{16} |00000101\\rangle + \\ldots +\\frac{1}{16} |11111011\\rangle+ (0.060643482892 - 0.015120118475 i) |11111100\\rangle+\\frac{1}{16} |11111101\\rangle+\\frac{1}{16} |11111110\\rangle+\\frac{1}{16} |11111111\\rangle$$"
      ],
      "text/plain": [
       "<IPython.core.display.Latex object>"
      ]
     },
     "metadata": {},
     "output_type": "display_data"
    },
    {
     "name": "stdout",
     "output_type": "stream",
     "text": [
      "coherence of |ψ2⟩ =  255.00000000000003\n"
     ]
    },
    {
     "data": {
      "text/plain": [
       "'applied Hadamard to all |ψ1⟩'"
      ]
     },
     "metadata": {},
     "output_type": "display_data"
    },
    {
     "data": {
      "text/latex": [
       "$$(0.999651903042 - 0.002835022214 i) |00000000\\rangle+ (-0.000116032319 - 0.000945007405 i) |00000001\\rangle+ (0.000116032319 + 0.000945007405 i) |00000010\\rangle+ (-0.000116032319 - 0.000945007405 i) |00000011\\rangle+ (0.000116032319 + 0.000945007405 i) |00000100\\rangle+ (-0.000116032319 - 0.000945007405 i) |00000101\\rangle + \\ldots + (0.000116032319 + 0.000945007405 i) |11111011\\rangle+ (-0.000116032319 - 0.000945007405 i) |11111100\\rangle+ (-0.000348096958 - 0.002835022214 i) |11111101\\rangle+ (-0.000116032319 - 0.000945007405 i) |11111110\\rangle+ (0.000116032319 + 0.000945007405 i) |11111111\\rangle$$"
      ],
      "text/plain": [
       "<IPython.core.display.Latex object>"
      ]
     },
     "metadata": {},
     "output_type": "display_data"
    },
    {
     "name": "stdout",
     "output_type": "stream",
     "text": [
      "coherence of |ψ1⟩ =  0.8561545791357116\n"
     ]
    },
    {
     "data": {
      "text/plain": [
       "'applied P operator to |ψ4⟩'"
      ]
     },
     "metadata": {},
     "output_type": "display_data"
    },
    {
     "data": {
      "text/latex": [
       "$$(0.999651903042 - 0.002835022214 i) |00000000\\rangle+ (0.000116032319 + 0.000945007405 i) |00000001\\rangle+ (-0.000116032319 - 0.000945007405 i) |00000010\\rangle+ (0.000116032319 + 0.000945007405 i) |00000011\\rangle+ (-0.000116032319 - 0.000945007405 i) |00000100\\rangle+ (0.000116032319 + 0.000945007405 i) |00000101\\rangle + \\ldots + (-0.000116032319 - 0.000945007405 i) |11111011\\rangle+ (0.000116032319 + 0.000945007405 i) |11111100\\rangle+ (0.000348096958 + 0.002835022214 i) |11111101\\rangle+ (0.000116032319 + 0.000945007405 i) |11111110\\rangle+ (-0.000116032319 - 0.000945007405 i) |11111111\\rangle$$"
      ],
      "text/plain": [
       "<IPython.core.display.Latex object>"
      ]
     },
     "metadata": {},
     "output_type": "display_data"
    },
    {
     "name": "stdout",
     "output_type": "stream",
     "text": [
      "coherence of |ψ4⟩ =  0.8561545791357116\n"
     ]
    },
    {
     "data": {
      "text/plain": [
       "'applied Hadamard to all |ψ5⟩'"
      ]
     },
     "metadata": {},
     "output_type": "display_data"
    },
    {
     "data": {
      "text/latex": [
       "$$(0.06245648788 - 0.000354377777 i) |00000000\\rangle+ (0.06245648788 - 0.000354377777 i) |00000001\\rangle+ (0.06245648788 - 0.000354377777 i) |00000010\\rangle+ (0.06245648788 - 0.000354377777 i) |00000011\\rangle+ (0.06245648788 - 0.000354377777 i) |00000100\\rangle+ (0.06245648788 - 0.000354377777 i) |00000101\\rangle + \\ldots + (0.06245648788 - 0.000354377777 i) |11111011\\rangle+ (0.064313004988 + 0.014765740698 i) |11111100\\rangle+ (0.06245648788 - 0.000354377777 i) |11111101\\rangle+ (0.06245648788 - 0.000354377777 i) |11111110\\rangle+ (0.06245648788 - 0.000354377777 i) |11111111\\rangle$$"
      ],
      "text/plain": [
       "<IPython.core.display.Latex object>"
      ]
     },
     "metadata": {},
     "output_type": "display_data"
    },
    {
     "name": "stdout",
     "output_type": "stream",
     "text": [
      "coherence of |ψ5⟩ =  254.99054865439962\n",
      "-------- 2  ITERATION--------\n"
     ]
    },
    {
     "data": {
      "text/plain": [
       "'applied O operator to |ψ2⟩'"
      ]
     },
     "metadata": {},
     "output_type": "display_data"
    },
    {
     "data": {
      "text/latex": [
       "$$(0.06245648788 - 0.000354377777 i) |00000000\\rangle+ (0.06245648788 - 0.000354377777 i) |00000001\\rangle+ (0.06245648788 - 0.000354377777 i) |00000010\\rangle+ (0.06245648788 - 0.000354377777 i) |00000011\\rangle+ (0.06245648788 - 0.000354377777 i) |00000100\\rangle+ (0.06245648788 - 0.000354377777 i) |00000101\\rangle + \\ldots + (0.06245648788 - 0.000354377777 i) |11111011\\rangle+ (0.065974789864 - 0.001231588984 i) |11111100\\rangle+ (0.06245648788 - 0.000354377777 i) |11111101\\rangle+ (0.06245648788 - 0.000354377777 i) |11111110\\rangle+ (0.06245648788 - 0.000354377777 i) |11111111\\rangle$$"
      ],
      "text/plain": [
       "<IPython.core.display.Latex object>"
      ]
     },
     "metadata": {},
     "output_type": "display_data"
    },
    {
     "name": "stdout",
     "output_type": "stream",
     "text": [
      "coherence of |ψ2⟩ =  254.99054865439962\n"
     ]
    },
    {
     "data": {
      "text/plain": [
       "'applied Hadamard to all |ψ1⟩'"
      ]
     },
     "metadata": {},
     "output_type": "display_data"
    },
    {
     "data": {
      "text/latex": [
       "$$(0.999963487706 - 0.005834521529 i) |00000000\\rangle+ (0.000219893874 - 5.48257 \\cdot 10^{-5} i) |00000001\\rangle+ (-0.000219893874 + 5.48257 \\cdot 10^{-5} i) |00000010\\rangle+ (0.000219893874 - 5.48257 \\cdot 10^{-5} i) |00000011\\rangle+ (-0.000219893874 + 5.48257 \\cdot 10^{-5} i) |00000100\\rangle+ (0.000219893874 - 5.48257 \\cdot 10^{-5} i) |00000101\\rangle + \\ldots + (-0.000219893874 + 5.48257 \\cdot 10^{-5} i) |11111011\\rangle+ (0.000219893874 - 5.48257 \\cdot 10^{-5} i) |11111100\\rangle+ (0.000659681622 - 0.000164477101 i) |11111101\\rangle+ (0.000219893874 - 5.48257 \\cdot 10^{-5} i) |11111110\\rangle+ (-0.000219893874 + 5.48257 \\cdot 10^{-5} i) |11111111\\rangle$$"
      ],
      "text/plain": [
       "<IPython.core.display.Latex object>"
      ]
     },
     "metadata": {},
     "output_type": "display_data"
    },
    {
     "name": "stdout",
     "output_type": "stream",
     "text": [
      "coherence of |ψ1⟩ =  0.18010172656777823\n"
     ]
    },
    {
     "data": {
      "text/plain": [
       "'applied P operator to |ψ4⟩'"
      ]
     },
     "metadata": {},
     "output_type": "display_data"
    },
    {
     "data": {
      "text/latex": [
       "$$(0.999963487706 - 0.005834521529 i) |00000000\\rangle+ (-0.000219893874 + 5.48257 \\cdot 10^{-5} i) |00000001\\rangle+ (0.000219893874 - 5.48257 \\cdot 10^{-5} i) |00000010\\rangle+ (-0.000219893874 + 5.48257 \\cdot 10^{-5} i) |00000011\\rangle+ (0.000219893874 - 5.48257 \\cdot 10^{-5} i) |00000100\\rangle+ (-0.000219893874 + 5.48257 \\cdot 10^{-5} i) |00000101\\rangle + \\ldots + (0.000219893874 - 5.48257 \\cdot 10^{-5} i) |11111011\\rangle+ (-0.000219893874 + 5.48257 \\cdot 10^{-5} i) |11111100\\rangle+ (-0.000659681622 + 0.000164477101 i) |11111101\\rangle+ (-0.000219893874 + 5.48257 \\cdot 10^{-5} i) |11111110\\rangle+ (0.000219893874 - 5.48257 \\cdot 10^{-5} i) |11111111\\rangle$$"
      ],
      "text/plain": [
       "<IPython.core.display.Latex object>"
      ]
     },
     "metadata": {},
     "output_type": "display_data"
    },
    {
     "name": "stdout",
     "output_type": "stream",
     "text": [
      "coherence of |ψ4⟩ =  0.18010172656777823\n"
     ]
    },
    {
     "data": {
      "text/plain": [
       "'applied Hadamard to all |ψ5⟩'"
      ]
     },
     "metadata": {},
     "output_type": "display_data"
    },
    {
     "data": {
      "text/latex": [
       "$$(0.062538948083 - 0.000374937414 i) |00000000\\rangle+ (0.062538948083 - 0.000374937414 i) |00000001\\rangle+ (0.062538948083 - 0.000374937414 i) |00000010\\rangle+ (0.062538948083 - 0.000374937414 i) |00000011\\rangle+ (0.062538948083 - 0.000374937414 i) |00000100\\rangle+ (0.062538948083 - 0.000374937414 i) |00000101\\rangle + \\ldots + (0.062538948083 - 0.000374937414 i) |11111011\\rangle+ (0.0590206461 + 0.000502273792 i) |11111100\\rangle+ (0.062538948083 - 0.000374937414 i) |11111101\\rangle+ (0.062538948083 - 0.000374937414 i) |11111110\\rangle+ (0.062538948083 - 0.000374937414 i) |11111111\\rangle$$"
      ],
      "text/plain": [
       "<IPython.core.display.Latex object>"
      ]
     },
     "metadata": {},
     "output_type": "display_data"
    },
    {
     "name": "stdout",
     "output_type": "stream",
     "text": [
      "coherence of |ψ5⟩ =  254.99061016840187\n",
      "-------- 3  ITERATION--------\n"
     ]
    },
    {
     "data": {
      "text/plain": [
       "'applied O operator to |ψ2⟩'"
      ]
     },
     "metadata": {},
     "output_type": "display_data"
    },
    {
     "data": {
      "text/latex": [
       "$$(0.062538948083 - 0.000374937414 i) |00000000\\rangle+ (0.062538948083 - 0.000374937414 i) |00000001\\rangle+ (0.062538948083 - 0.000374937414 i) |00000010\\rangle+ (0.062538948083 - 0.000374937414 i) |00000011\\rangle+ (0.062538948083 - 0.000374937414 i) |00000100\\rangle+ (0.062538948083 - 0.000374937414 i) |00000101\\rangle + \\ldots + (0.062538948083 - 0.000374937414 i) |11111011\\rangle+ (0.057388991701 - 0.01379103247 i) |11111100\\rangle+ (0.062538948083 - 0.000374937414 i) |11111101\\rangle+ (0.062538948083 - 0.000374937414 i) |11111110\\rangle+ (0.062538948083 - 0.000374937414 i) |11111111\\rangle$$"
      ],
      "text/plain": [
       "<IPython.core.display.Latex object>"
      ]
     },
     "metadata": {},
     "output_type": "display_data"
    },
    {
     "name": "stdout",
     "output_type": "stream",
     "text": [
      "coherence of |ψ2⟩ =  254.99061016840187\n"
     ]
    },
    {
     "data": {
      "text/plain": [
       "'applied Hadamard to all |ψ1⟩'"
      ]
     },
     "metadata": {},
     "output_type": "display_data"
    },
    {
     "data": {
      "text/latex": [
       "$$(0.999657552507 - 0.008514516454 i) |00000000\\rangle+ (-0.000321872274 - 0.000838505941 i) |00000001\\rangle+ (0.000321872274 + 0.000838505941 i) |00000010\\rangle+ (-0.000321872274 - 0.000838505941 i) |00000011\\rangle+ (0.000321872274 + 0.000838505941 i) |00000100\\rangle+ (-0.000321872274 - 0.000838505941 i) |00000101\\rangle + \\ldots + (0.000321872274 + 0.000838505941 i) |11111011\\rangle+ (-0.000321872274 - 0.000838505941 i) |11111100\\rangle+ (-0.000965616822 - 0.002515517823 i) |11111101\\rangle+ (-0.000321872274 - 0.000838505941 i) |11111110\\rangle+ (0.000321872274 + 0.000838505941 i) |11111111\\rangle$$"
      ],
      "text/plain": [
       "<IPython.core.display.Latex object>"
      ]
     },
     "metadata": {},
     "output_type": "display_data"
    },
    {
     "name": "stdout",
     "output_type": "stream",
     "text": [
      "coherence of |ψ1⟩ =  0.8006776868324271\n"
     ]
    },
    {
     "data": {
      "text/plain": [
       "'applied P operator to |ψ4⟩'"
      ]
     },
     "metadata": {},
     "output_type": "display_data"
    },
    {
     "data": {
      "text/latex": [
       "$$(0.999657552507 - 0.008514516454 i) |00000000\\rangle+ (0.000321872274 + 0.000838505941 i) |00000001\\rangle+ (-0.000321872274 - 0.000838505941 i) |00000010\\rangle+ (0.000321872274 + 0.000838505941 i) |00000011\\rangle+ (-0.000321872274 - 0.000838505941 i) |00000100\\rangle+ (0.000321872274 + 0.000838505941 i) |00000101\\rangle + \\ldots + (-0.000321872274 - 0.000838505941 i) |11111011\\rangle+ (0.000321872274 + 0.000838505941 i) |11111100\\rangle+ (0.000965616822 + 0.002515517823 i) |11111101\\rangle+ (0.000321872274 + 0.000838505941 i) |11111110\\rangle+ (-0.000321872274 - 0.000838505941 i) |11111111\\rangle$$"
      ],
      "text/plain": [
       "<IPython.core.display.Latex object>"
      ]
     },
     "metadata": {},
     "output_type": "display_data"
    },
    {
     "name": "stdout",
     "output_type": "stream",
     "text": [
      "coherence of |ψ4⟩ =  0.8006776868324271\n"
     ]
    },
    {
     "data": {
      "text/plain": [
       "'applied Hadamard to all |ψ5⟩'"
      ]
     },
     "metadata": {},
     "output_type": "display_data"
    },
    {
     "data": {
      "text/latex": [
       "$$(0.06241824598 - 0.000689377142 i) |00000000\\rangle+ (0.06241824598 - 0.000689377142 i) |00000001\\rangle+ (0.06241824598 - 0.000689377142 i) |00000010\\rangle+ (0.06241824598 - 0.000689377142 i) |00000011\\rangle+ (0.06241824598 - 0.000689377142 i) |00000100\\rangle+ (0.06241824598 - 0.000689377142 i) |00000101\\rangle + \\ldots + (0.06241824598 - 0.000689377142 i) |11111011\\rangle+ (0.067568202363 + 0.012726717913 i) |11111100\\rangle+ (0.06241824598 - 0.000689377142 i) |11111101\\rangle+ (0.06241824598 - 0.000689377142 i) |11111110\\rangle+ (0.06241824598 - 0.000689377142 i) |11111111\\rangle$$"
      ],
      "text/plain": [
       "<IPython.core.display.Latex object>"
      ]
     },
     "metadata": {},
     "output_type": "display_data"
    },
    {
     "name": "stdout",
     "output_type": "stream",
     "text": [
      "coherence of |ψ5⟩ =  254.9695467027865\n",
      "-------- 4  ITERATION--------\n"
     ]
    },
    {
     "data": {
      "text/plain": [
       "'applied O operator to |ψ2⟩'"
      ]
     },
     "metadata": {},
     "output_type": "display_data"
    },
    {
     "data": {
      "text/latex": [
       "$$(0.06241824598 - 0.000689377142 i) |00000000\\rangle+ (0.06241824598 - 0.000689377142 i) |00000001\\rangle+ (0.06241824598 - 0.000689377142 i) |00000010\\rangle+ (0.06241824598 - 0.000689377142 i) |00000011\\rangle+ (0.06241824598 - 0.000689377142 i) |00000100\\rangle+ (0.06241824598 - 0.000689377142 i) |00000101\\rangle + \\ldots + (0.06241824598 - 0.000689377142 i) |11111011\\rangle+ (0.068640009707 - 0.003997547597 i) |11111100\\rangle+ (0.06241824598 - 0.000689377142 i) |11111101\\rangle+ (0.06241824598 - 0.000689377142 i) |11111110\\rangle+ (0.06241824598 - 0.000689377142 i) |11111111\\rangle$$"
      ],
      "text/plain": [
       "<IPython.core.display.Latex object>"
      ]
     },
     "metadata": {},
     "output_type": "display_data"
    },
    {
     "name": "stdout",
     "output_type": "stream",
     "text": [
      "coherence of |ψ2⟩ =  254.9695467027865\n"
     ]
    },
    {
     "data": {
      "text/plain": [
       "'applied Hadamard to all |ψ1⟩'"
      ]
     },
     "metadata": {},
     "output_type": "display_data"
    },
    {
     "data": {
      "text/latex": [
       "$$(0.999858516384 - 0.011650316237 i) |00000000\\rangle+ (0.000388860233 - 0.000206760653 i) |00000001\\rangle+ (-0.000388860233 + 0.000206760653 i) |00000010\\rangle+ (0.000388860233 - 0.000206760653 i) |00000011\\rangle+ (-0.000388860233 + 0.000206760653 i) |00000100\\rangle+ (0.000388860233 - 0.000206760653 i) |00000101\\rangle + \\ldots + (-0.000388860233 + 0.000206760653 i) |11111011\\rangle+ (0.000388860233 - 0.000206760653 i) |11111100\\rangle+ (0.001166580699 - 0.00062028196 i) |11111101\\rangle+ (0.000388860233 - 0.000206760653 i) |11111110\\rangle+ (-0.000388860233 + 0.000206760653 i) |11111111\\rangle$$"
      ],
      "text/plain": [
       "<IPython.core.display.Latex object>"
      ]
     },
     "metadata": {},
     "output_type": "display_data"
    },
    {
     "name": "stdout",
     "output_type": "stream",
     "text": [
      "coherence of |ψ1⟩ =  0.3635773608326416\n"
     ]
    },
    {
     "data": {
      "text/plain": [
       "'applied P operator to |ψ4⟩'"
      ]
     },
     "metadata": {},
     "output_type": "display_data"
    },
    {
     "data": {
      "text/latex": [
       "$$(0.999858516384 - 0.011650316237 i) |00000000\\rangle+ (-0.000388860233 + 0.000206760653 i) |00000001\\rangle+ (0.000388860233 - 0.000206760653 i) |00000010\\rangle+ (-0.000388860233 + 0.000206760653 i) |00000011\\rangle+ (0.000388860233 - 0.000206760653 i) |00000100\\rangle+ (-0.000388860233 + 0.000206760653 i) |00000101\\rangle + \\ldots + (0.000388860233 - 0.000206760653 i) |11111011\\rangle+ (-0.000388860233 + 0.000206760653 i) |11111100\\rangle+ (-0.001166580699 + 0.00062028196 i) |11111101\\rangle+ (-0.000388860233 + 0.000206760653 i) |11111110\\rangle+ (0.000388860233 - 0.000206760653 i) |11111111\\rangle$$"
      ],
      "text/plain": [
       "<IPython.core.display.Latex object>"
      ]
     },
     "metadata": {},
     "output_type": "display_data"
    },
    {
     "name": "stdout",
     "output_type": "stream",
     "text": [
      "coherence of |ψ4⟩ =  0.3635773608326416\n"
     ]
    },
    {
     "data": {
      "text/plain": [
       "'applied Hadamard to all |ψ5⟩'"
      ]
     },
     "metadata": {},
     "output_type": "display_data"
    },
    {
     "data": {
      "text/latex": [
       "$$(0.062564068568 - 0.000766912387 i) |00000000\\rangle+ (0.062564068568 - 0.000766912387 i) |00000001\\rangle+ (0.062564068568 - 0.000766912387 i) |00000010\\rangle+ (0.062564068568 - 0.000766912387 i) |00000011\\rangle+ (0.062564068568 - 0.000766912387 i) |00000100\\rangle+ (0.062564068568 - 0.000766912387 i) |00000101\\rangle + \\ldots + (0.062564068568 - 0.000766912387 i) |11111011\\rangle+ (0.056342304841 + 0.002541258068 i) |11111100\\rangle+ (0.062564068568 - 0.000766912387 i) |11111101\\rangle+ (0.062564068568 - 0.000766912387 i) |11111110\\rangle+ (0.062564068568 - 0.000766912387 i) |11111111\\rangle$$"
      ],
      "text/plain": [
       "<IPython.core.display.Latex object>"
      ]
     },
     "metadata": {},
     "output_type": "display_data"
    },
    {
     "name": "stdout",
     "output_type": "stream",
     "text": [
      "coherence of |ψ5⟩ =  254.97111335848942\n",
      "-------- 5  ITERATION--------\n"
     ]
    },
    {
     "data": {
      "text/plain": [
       "'applied O operator to |ψ2⟩'"
      ]
     },
     "metadata": {},
     "output_type": "display_data"
    },
    {
     "data": {
      "text/latex": [
       "$$(0.062564068568 - 0.000766912387 i) |00000000\\rangle+ (0.062564068568 - 0.000766912387 i) |00000001\\rangle+ (0.062564068568 - 0.000766912387 i) |00000010\\rangle+ (0.062564068568 - 0.000766912387 i) |00000011\\rangle+ (0.062564068568 - 0.000766912387 i) |00000100\\rangle+ (0.062564068568 - 0.000766912387 i) |00000101\\rangle + \\ldots + (0.062564068568 - 0.000766912387 i) |11111011\\rangle+ (0.055283483565 - 0.011164665347 i) |11111100\\rangle+ (0.062564068568 - 0.000766912387 i) |11111101\\rangle+ (0.062564068568 - 0.000766912387 i) |11111110\\rangle+ (0.062564068568 - 0.000766912387 i) |11111111\\rangle$$"
      ],
      "text/plain": [
       "<IPython.core.display.Latex object>"
      ]
     },
     "metadata": {},
     "output_type": "display_data"
    },
    {
     "name": "stdout",
     "output_type": "stream",
     "text": [
      "coherence of |ψ2⟩ =  254.97111335848942\n"
     ]
    },
    {
     "data": {
      "text/plain": [
       "'applied Hadamard to all |ψ1⟩'"
      ]
     },
     "metadata": {},
     "output_type": "display_data"
    },
    {
     "data": {
      "text/latex": [
       "$$(0.999659987394 - 0.014220176877 i) |00000000\\rangle+ (-0.000455036563 - 0.00064985956 i) |00000001\\rangle+ (0.000455036563 + 0.00064985956 i) |00000010\\rangle+ (-0.000455036563 - 0.00064985956 i) |00000011\\rangle+ (0.000455036563 + 0.00064985956 i) |00000100\\rangle+ (-0.000455036563 - 0.00064985956 i) |00000101\\rangle + \\ldots + (0.000455036563 + 0.00064985956 i) |11111011\\rangle+ (-0.000455036563 - 0.00064985956 i) |11111100\\rangle+ (-0.001365109688 - 0.00194957868 i) |11111101\\rangle+ (-0.000455036563 - 0.00064985956 i) |11111110\\rangle+ (0.000455036563 + 0.00064985956 i) |11111111\\rangle$$"
      ],
      "text/plain": [
       "<IPython.core.display.Latex object>"
      ]
     },
     "metadata": {},
     "output_type": "display_data"
    },
    {
     "name": "stdout",
     "output_type": "stream",
     "text": [
      "coherence of |ψ1⟩ =  0.6952577196897667\n"
     ]
    },
    {
     "data": {
      "text/plain": [
       "'applied P operator to |ψ4⟩'"
      ]
     },
     "metadata": {},
     "output_type": "display_data"
    },
    {
     "data": {
      "text/latex": [
       "$$(0.999659987394 - 0.014220176877 i) |00000000\\rangle+ (0.000455036563 + 0.00064985956 i) |00000001\\rangle+ (-0.000455036563 - 0.00064985956 i) |00000010\\rangle+ (0.000455036563 + 0.00064985956 i) |00000011\\rangle+ (-0.000455036563 - 0.00064985956 i) |00000100\\rangle+ (0.000455036563 + 0.00064985956 i) |00000101\\rangle + \\ldots + (-0.000455036563 - 0.00064985956 i) |11111011\\rangle+ (0.000455036563 + 0.00064985956 i) |11111100\\rangle+ (0.001365109688 + 0.00194957868 i) |11111101\\rangle+ (0.000455036563 + 0.00064985956 i) |11111110\\rangle+ (-0.000455036563 - 0.00064985956 i) |11111111\\rangle$$"
      ],
      "text/plain": [
       "<IPython.core.display.Latex object>"
      ]
     },
     "metadata": {},
     "output_type": "display_data"
    },
    {
     "name": "stdout",
     "output_type": "stream",
     "text": [
      "coherence of |ψ4⟩ =  0.6952577196897667\n"
     ]
    },
    {
     "data": {
      "text/plain": [
       "'applied Hadamard to all |ψ5⟩'"
      ]
     },
     "metadata": {},
     "output_type": "display_data"
    },
    {
     "data": {
      "text/latex": [
       "$$(0.062393429857 - 0.001010609722 i) |00000000\\rangle+ (0.062393429857 - 0.001010609722 i) |00000001\\rangle+ (0.062393429857 - 0.001010609722 i) |00000010\\rangle+ (0.062393429857 - 0.001010609722 i) |00000011\\rangle+ (0.062393429857 - 0.001010609722 i) |00000100\\rangle+ (0.062393429857 - 0.001010609722 i) |00000101\\rangle + \\ldots + (0.062393429857 - 0.001010609722 i) |11111011\\rangle+ (0.06967401486 + 0.009387143238 i) |11111100\\rangle+ (0.062393429857 - 0.001010609722 i) |11111101\\rangle+ (0.062393429857 - 0.001010609722 i) |11111110\\rangle+ (0.062393429857 - 0.001010609722 i) |11111111\\rangle$$"
      ],
      "text/plain": [
       "<IPython.core.display.Latex object>"
      ]
     },
     "metadata": {},
     "output_type": "display_data"
    },
    {
     "name": "stdout",
     "output_type": "stream",
     "text": [
      "coherence of |ψ5⟩ =  254.95260778870394\n",
      "-------- 6  ITERATION--------\n"
     ]
    },
    {
     "data": {
      "text/plain": [
       "'applied O operator to |ψ2⟩'"
      ]
     },
     "metadata": {},
     "output_type": "display_data"
    },
    {
     "data": {
      "text/latex": [
       "$$(0.062393429857 - 0.001010609722 i) |00000000\\rangle+ (0.062393429857 - 0.001010609722 i) |00000001\\rangle+ (0.062393429857 - 0.001010609722 i) |00000010\\rangle+ (0.062393429857 - 0.001010609722 i) |00000011\\rangle+ (0.062393429857 - 0.001010609722 i) |00000100\\rangle+ (0.062393429857 - 0.001010609722 i) |00000101\\rangle + \\ldots + (0.062393429857 - 0.001010609722 i) |11111011\\rangle+ (0.069875354337 - 0.007747364784 i) |11111100\\rangle+ (0.062393429857 - 0.001010609722 i) |11111101\\rangle+ (0.062393429857 - 0.001010609722 i) |11111110\\rangle+ (0.062393429857 - 0.001010609722 i) |11111111\\rangle$$"
      ],
      "text/plain": [
       "<IPython.core.display.Latex object>"
      ]
     },
     "metadata": {},
     "output_type": "display_data"
    },
    {
     "name": "stdout",
     "output_type": "stream",
     "text": [
      "coherence of |ψ2⟩ =  254.95260778870394\n"
     ]
    },
    {
     "data": {
      "text/plain": [
       "'applied Hadamard to all |ψ1⟩'"
      ]
     },
     "metadata": {},
     "output_type": "display_data"
    },
    {
     "data": {
      "text/latex": [
       "$$(0.999697738546 - 0.017432897131 i) |00000000\\rangle+ (0.00046762028 - 0.000421047191 i) |00000001\\rangle+ (-0.00046762028 + 0.000421047191 i) |00000010\\rangle+ (0.00046762028 - 0.000421047191 i) |00000011\\rangle+ (-0.00046762028 + 0.000421047191 i) |00000100\\rangle+ (0.00046762028 - 0.000421047191 i) |00000101\\rangle + \\ldots + (-0.00046762028 + 0.000421047191 i) |11111011\\rangle+ (0.00046762028 - 0.000421047191 i) |11111100\\rangle+ (0.00140286084 - 0.001263141574 i) |11111101\\rangle+ (0.00046762028 - 0.000421047191 i) |11111110\\rangle+ (-0.00046762028 + 0.000421047191 i) |11111111\\rangle$$"
      ],
      "text/plain": [
       "<IPython.core.display.Latex object>"
      ]
     },
     "metadata": {},
     "output_type": "display_data"
    },
    {
     "name": "stdout",
     "output_type": "stream",
     "text": [
      "coherence of |ψ1⟩ =  0.5365886475057684\n"
     ]
    },
    {
     "data": {
      "text/plain": [
       "'applied P operator to |ψ4⟩'"
      ]
     },
     "metadata": {},
     "output_type": "display_data"
    },
    {
     "data": {
      "text/latex": [
       "$$(0.999697738546 - 0.017432897131 i) |00000000\\rangle+ (-0.00046762028 + 0.000421047191 i) |00000001\\rangle+ (0.00046762028 - 0.000421047191 i) |00000010\\rangle+ (-0.00046762028 + 0.000421047191 i) |00000011\\rangle+ (0.00046762028 - 0.000421047191 i) |00000100\\rangle+ (-0.00046762028 + 0.000421047191 i) |00000101\\rangle + \\ldots + (0.00046762028 - 0.000421047191 i) |11111011\\rangle+ (-0.00046762028 + 0.000421047191 i) |11111100\\rangle+ (-0.00140286084 + 0.001263141574 i) |11111101\\rangle+ (-0.00046762028 + 0.000421047191 i) |11111110\\rangle+ (0.00046762028 - 0.000421047191 i) |11111111\\rangle$$"
      ],
      "text/plain": [
       "<IPython.core.display.Latex object>"
      ]
     },
     "metadata": {},
     "output_type": "display_data"
    },
    {
     "name": "stdout",
     "output_type": "stream",
     "text": [
      "coherence of |ψ4⟩ =  0.5365886475057684\n"
     ]
    },
    {
     "data": {
      "text/plain": [
       "'applied Hadamard to all |ψ5⟩'"
      ]
     },
     "metadata": {},
     "output_type": "display_data"
    },
    {
     "data": {
      "text/latex": [
       "$$(0.062568787462 - 0.001168502419 i) |00000000\\rangle+ (0.062568787462 - 0.001168502419 i) |00000001\\rangle+ (0.062568787462 - 0.001168502419 i) |00000010\\rangle+ (0.062568787462 - 0.001168502419 i) |00000011\\rangle+ (0.062568787462 - 0.001168502419 i) |00000100\\rangle+ (0.062568787462 - 0.001168502419 i) |00000101\\rangle + \\ldots + (0.062568787462 - 0.001168502419 i) |11111011\\rangle+ (0.055086862981 + 0.005568252642 i) |11111100\\rangle+ (0.062568787462 - 0.001168502419 i) |11111101\\rangle+ (0.062568787462 - 0.001168502419 i) |11111110\\rangle+ (0.062568787462 - 0.001168502419 i) |11111111\\rangle$$"
      ],
      "text/plain": [
       "<IPython.core.display.Latex object>"
      ]
     },
     "metadata": {},
     "output_type": "display_data"
    },
    {
     "name": "stdout",
     "output_type": "stream",
     "text": [
      "coherence of |ψ5⟩ =  254.96052078774338\n",
      "-------- 7  ITERATION--------\n"
     ]
    },
    {
     "data": {
      "text/plain": [
       "'applied O operator to |ψ2⟩'"
      ]
     },
     "metadata": {},
     "output_type": "display_data"
    },
    {
     "data": {
      "text/latex": [
       "$$(0.062568787462 - 0.001168502419 i) |00000000\\rangle+ (0.062568787462 - 0.001168502419 i) |00000001\\rangle+ (0.062568787462 - 0.001168502419 i) |00000010\\rangle+ (0.062568787462 - 0.001168502419 i) |00000011\\rangle+ (0.062568787462 - 0.001168502419 i) |00000100\\rangle+ (0.062568787462 - 0.001168502419 i) |00000101\\rangle + \\ldots + (0.062568787462 - 0.001168502419 i) |11111011\\rangle+ (0.054797629959 - 0.007923866574 i) |11111100\\rangle+ (0.062568787462 - 0.001168502419 i) |11111101\\rangle+ (0.062568787462 - 0.001168502419 i) |11111110\\rangle+ (0.062568787462 - 0.001168502419 i) |11111111\\rangle$$"
      ],
      "text/plain": [
       "<IPython.core.display.Latex object>"
      ]
     },
     "metadata": {},
     "output_type": "display_data"
    },
    {
     "name": "stdout",
     "output_type": "stream",
     "text": [
      "coherence of |ψ2⟩ =  254.96052078774338\n"
     ]
    },
    {
     "data": {
      "text/plain": [
       "'applied Hadamard to all |ψ1⟩'"
      ]
     },
     "metadata": {},
     "output_type": "display_data"
    },
    {
     "data": {
      "text/latex": [
       "$$(0.999643507355 - 0.019962669484 i) |00000000\\rangle+ (-0.000485697344 - 0.00042221026 i) |00000001\\rangle+ (0.000485697344 + 0.00042221026 i) |00000010\\rangle+ (-0.000485697344 - 0.00042221026 i) |00000011\\rangle+ (0.000485697344 + 0.00042221026 i) |00000100\\rangle+ (-0.000485697344 - 0.00042221026 i) |00000101\\rangle + \\ldots + (0.000485697344 + 0.00042221026 i) |11111011\\rangle+ (-0.000485697344 - 0.00042221026 i) |11111100\\rangle+ (-0.001457092032 - 0.001266630779 i) |11111101\\rangle+ (-0.000485697344 - 0.00042221026 i) |11111110\\rangle+ (0.000485697344 + 0.00042221026 i) |11111111\\rangle$$"
      ],
      "text/plain": [
       "<IPython.core.display.Latex object>"
      ]
     },
     "metadata": {},
     "output_type": "display_data"
    },
    {
     "name": "stdout",
     "output_type": "stream",
     "text": [
      "coherence of |ψ1⟩ =  0.5501180743563098\n"
     ]
    },
    {
     "data": {
      "text/plain": [
       "'applied P operator to |ψ4⟩'"
      ]
     },
     "metadata": {},
     "output_type": "display_data"
    },
    {
     "data": {
      "text/latex": [
       "$$(0.999643507355 - 0.019962669484 i) |00000000\\rangle+ (0.000485697344 + 0.00042221026 i) |00000001\\rangle+ (-0.000485697344 - 0.00042221026 i) |00000010\\rangle+ (0.000485697344 + 0.00042221026 i) |00000011\\rangle+ (-0.000485697344 - 0.00042221026 i) |00000100\\rangle+ (0.000485697344 + 0.00042221026 i) |00000101\\rangle + \\ldots + (-0.000485697344 - 0.00042221026 i) |11111011\\rangle+ (0.000485697344 + 0.00042221026 i) |11111100\\rangle+ (0.001457092032 + 0.001266630779 i) |11111101\\rangle+ (0.000485697344 + 0.00042221026 i) |11111110\\rangle+ (-0.000485697344 - 0.00042221026 i) |11111111\\rangle$$"
      ],
      "text/plain": [
       "<IPython.core.display.Latex object>"
      ]
     },
     "metadata": {},
     "output_type": "display_data"
    },
    {
     "name": "stdout",
     "output_type": "stream",
     "text": [
      "coherence of |ψ4⟩ =  0.5501180743563098\n"
     ]
    },
    {
     "data": {
      "text/plain": [
       "'applied Hadamard to all |ψ5⟩'"
      ]
     },
     "metadata": {},
     "output_type": "display_data"
    },
    {
     "data": {
      "text/latex": [
       "$$(0.062386650958 - 0.001326831266 i) |00000000\\rangle+ (0.062386650958 - 0.001326831266 i) |00000001\\rangle+ (0.062386650958 - 0.001326831266 i) |00000010\\rangle+ (0.062386650958 - 0.001326831266 i) |00000011\\rangle+ (0.062386650958 - 0.001326831266 i) |00000100\\rangle+ (0.062386650958 - 0.001326831266 i) |00000101\\rangle + \\ldots + (0.062386650958 - 0.001326831266 i) |11111011\\rangle+ (0.07015780846 + 0.005428532888 i) |11111100\\rangle+ (0.062386650958 - 0.001326831266 i) |11111101\\rangle+ (0.062386650958 - 0.001326831266 i) |11111110\\rangle+ (0.062386650958 - 0.001326831266 i) |11111111\\rangle$$"
      ],
      "text/plain": [
       "<IPython.core.display.Latex object>"
      ]
     },
     "metadata": {},
     "output_type": "display_data"
    },
    {
     "name": "stdout",
     "output_type": "stream",
     "text": [
      "coherence of |ψ5⟩ =  254.95182688354305\n"
     ]
    }
   ],
   "source": [
    "def iteration(i,a):\n",
    "    qc.barrier()\n",
    "    count = i*4\n",
    "    qc.append(O_operator,length)\n",
    "    result = execute(qc, backend).result()\n",
    "    state = result.get_statevector()\n",
    "    display(\"applied O operator to |ψ2⟩\", state.draw('latex'))\n",
    "    density_operator = state.to_operator()\n",
    "    coherence = 0\n",
    "    for i in range(N):\n",
    "        for j in range(N):\n",
    "            if(i != j):\n",
    "                coherence += abs(density_operator.data[i,j])\n",
    "    print(\"coherence of |ψ2⟩ = \",coherence)\n",
    "    data[a][count] = coherence\n",
    "\n",
    "    qc.h(length)\n",
    "    result = execute(qc, backend).result()\n",
    "    state = result.get_statevector()\n",
    "    display(\"applied Hadamard to all |ψ1⟩\", state.draw('latex'))\n",
    "    density_operator = state.to_operator()\n",
    "    coherence = 0\n",
    "    for i in range(N):\n",
    "        for j in range(N):\n",
    "            if(i != j):\n",
    "                coherence += abs(density_operator.data[i,j])\n",
    "    print(\"coherence of |ψ1⟩ = \",coherence)\n",
    "    data[a][count+1] = coherence\n",
    "\n",
    "    qc.append(P_operator,length)\n",
    "    result = execute(qc, backend).result()\n",
    "    state = result.get_statevector()\n",
    "    display(\"applied P operator to |ψ4⟩\", state.draw('latex'))\n",
    "    density_operator = state.to_operator()\n",
    "    coherence = 0\n",
    "    for i in range(N):\n",
    "        for j in range(N):\n",
    "            if(i != j):\n",
    "                coherence += abs(density_operator.data[i,j])\n",
    "    print(\"coherence of |ψ4⟩ = \",coherence)\n",
    "    data[a][count+2] = coherence\n",
    "\n",
    "    qc.h(length)\n",
    "    result = execute(qc, backend).result()\n",
    "    state = result.get_statevector()\n",
    "    display(\"applied Hadamard to all |ψ5⟩\", state.draw('latex'))\n",
    "    density_operator = state.to_operator()\n",
    "    coherence = 0\n",
    "    for i in range(N):\n",
    "        for j in range(N):\n",
    "            if(i != j):\n",
    "                coherence += abs(density_operator.data[i,j])\n",
    "    print(\"coherence of |ψ5⟩ = \",coherence)\n",
    "    data[a][count+3] = coherence\n",
    "\n",
    "for a in range(len(phi)):\n",
    "    print(\"======================================== FOR ϕ = \", phi[a]*180/np.pi,\"========================================\")\n",
    "    qc = QuantumCircuit(n)\n",
    "    backend = Aer.get_backend('statevector_simulator')\n",
    "    result = execute(qc, backend).result()\n",
    "    state = result.get_statevector()\n",
    "    display(\"initialised |ψ0⟩\", state.draw('latex'))\n",
    "    density_operator = state.to_operator()\n",
    "    #print(density_operator.data)\n",
    "    coherence = 0\n",
    "    for i in range(N):\n",
    "        for j in range(N):\n",
    "            if(i != j):\n",
    "                coherence += abs(density_operator.data[i,j])\n",
    "    print(\"coherence of |ψ0⟩ = \",coherence)\n",
    "\n",
    "    qc.h(length)\n",
    "    result = execute(qc, backend).result()\n",
    "    state = result.get_statevector()\n",
    "    display(\"applied Hadamard to all |ψ1⟩\", state.draw('latex'))\n",
    "    density_operator = state.to_operator()\n",
    "    #print(density_operator.data)\n",
    "    coherence = 0\n",
    "    for i in range(N):\n",
    "        for j in range(N):\n",
    "            if(i != j):\n",
    "                coherence += abs(density_operator.data[i,j])\n",
    "    print(\"coherence of |ψ1⟩ = \",coherence)\n",
    "\n",
    "    #defining generalised O Operator\n",
    "    count = 0\n",
    "    choice = a\n",
    "    O_operator = Operator(np.zeros((N,N)))\n",
    "    for i in range(N):\n",
    "        for j in range(N):\n",
    "            if(i != j):   #off diagonal elements\n",
    "                O_operator.data[i][j] = 0\n",
    "            else:    #diagonal elements\n",
    "                flag = 0\n",
    "                for k in range(t):\n",
    "                    if(i == target[k]):\n",
    "                        O_operator.data[i][j] = x[choice]\n",
    "                        count += 1\n",
    "                        flag = 1\n",
    "                        break\n",
    "                if(flag == 0):\n",
    "                    O_operator.data[i][j] = 1            \n",
    "\n",
    "    #defining P Operator\n",
    "    P_operator = Operator(np.zeros((N,N)))\n",
    "    for i in range(N):\n",
    "        for j in range(N):\n",
    "            if(i != j):    #off-diagonal elements\n",
    "                P_operator.data[i][j] = 0\n",
    "            else:\n",
    "                if(i==0 & j==0):   #for 1st element only\n",
    "                    P_operator.data[i][j] = 1\n",
    "                else:\n",
    "                    P_operator.data[i][j] = -1\n",
    "\n",
    "    #sending out for x iterations of grover's operator\n",
    "    for i in range(noi):\n",
    "        print(\"--------\",(i+1),\" ITERATION--------\")\n",
    "        iteration(i,a)"
   ]
  },
  {
   "cell_type": "code",
   "execution_count": 31,
   "id": "7355c7c2",
   "metadata": {},
   "outputs": [
    {
     "data": {
      "image/png": "[encoded data removed]",
      "text/plain": [
       "<Figure size 1000x1000 with 12 Axes>"
      ]
     },
     "metadata": {},
     "output_type": "display_data"
    }
   ],
   "source": [
    "data_N = [a/N for a in data]\n",
    "xa = [a/4 for a in x_axis]\n",
    "\n",
    "a = len(phi)//3\n",
    "b = len(phi)//a\n",
    "fig, axs = pl.subplots(a,b, figsize=(10,10))\n",
    "count = 0\n",
    "for i in range(a):\n",
    "    for j in range(b):\n",
    "        axs[i,j].scatter(xa[::4], data_N[count][::4], color='red', label='O')\n",
    "        axs[i,j].scatter(xa[1::4], data_N[count][1::4], color='blue', marker='<', label='H')\n",
    "        axs[i,j].scatter(xa[2::4], data_N[count][2::4], color='black', marker='>', label='P')\n",
    "        axs[i,j].scatter(xa[3::4], data_N[count][3::4], color='green', marker='d', label='H')\n",
    "        axs[i,j].plot(xa, data_N[count])\n",
    "        axs[i,j].set_title(\"φ = \" + str(phi[count]*180/np.pi))\n",
    "        count += 1\n",
    "        pl.subplots_adjust(top=1, right=1.5)\n",
    "pl.show()"
   ]
  },
  {
   "cell_type": "code",
   "execution_count": null,
   "id": "3e31b92d",
   "metadata": {},
   "outputs": [],
   "source": []
  }
 ],
 "metadata": {
  "kernelspec": {
   "display_name": "Python 3 (ipykernel)",
   "language": "python",
   "name": "python3"
  },
  "language_info": {
   "codemirror_mode": {
    "name": "ipython",
    "version": 3
   },
   "file_extension": ".py",
   "mimetype": "text/x-python",
   "name": "python",
   "nbconvert_exporter": "python",
   "pygments_lexer": "ipython3",
   "version": "3.9.13"
  }
 },
 "nbformat": 4,
 "nbformat_minor": 5
}
